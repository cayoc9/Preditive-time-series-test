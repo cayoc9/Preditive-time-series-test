{
  "cells": [
    {
      "cell_type": "markdown",
      "metadata": {
        "id": "view-in-github",
        "colab_type": "text"
      },
      "source": [
        "<a href=\"https://colab.research.google.com/github/cayoc9/Store-sales-predictive-Rossman-challenge/blob/main/Rossaman_Store_m06_v02_Boruta_Application_store_sales_prediction.ipynb\" target=\"_parent\"><img src=\"https://colab.research.google.com/assets/colab-badge.svg\" alt=\"Open In Colab\"/></a>"
      ]
    },
    {
      "cell_type": "markdown",
      "metadata": {
        "id": "0BbIfq3plgZq"
      },
      "source": [
        "## 0.0 imports"
      ]
    },
    {
      "cell_type": "code",
      "execution_count": 1,
      "metadata": {
        "colab": {
          "base_uri": "https://localhost:8080/"
        },
        "id": "PaUqi1dt2H8A",
        "outputId": "0b417490-cd56-4c95-8879-48ee62b4c2c6"
      },
      "outputs": [
        {
          "output_type": "stream",
          "name": "stdout",
          "text": [
            "Looking in indexes: https://pypi.org/simple, https://us-python.pkg.dev/colab-wheels/public/simple/\n",
            "Collecting inflection\n",
            "  Downloading inflection-0.5.1-py2.py3-none-any.whl (9.5 kB)\n",
            "Installing collected packages: inflection\n",
            "Successfully installed inflection-0.5.1\n",
            "Looking in indexes: https://pypi.org/simple, https://us-python.pkg.dev/colab-wheels/public/simple/\n",
            "Collecting Boruta\n",
            "  Downloading Boruta-0.3-py3-none-any.whl (56 kB)\n",
            "\u001b[2K     \u001b[90m━━━━━━━━━━━━━━━━━━━━━━━━━━━━━━━━━━━━━━━\u001b[0m \u001b[32m56.6/56.6 KB\u001b[0m \u001b[31m646.4 kB/s\u001b[0m eta \u001b[36m0:00:00\u001b[0m\n",
            "\u001b[?25hRequirement already satisfied: scipy>=0.17.0 in /usr/local/lib/python3.8/dist-packages (from Boruta) (1.7.3)\n",
            "Requirement already satisfied: scikit-learn>=0.17.1 in /usr/local/lib/python3.8/dist-packages (from Boruta) (1.0.2)\n",
            "Requirement already satisfied: numpy>=1.10.4 in /usr/local/lib/python3.8/dist-packages (from Boruta) (1.21.6)\n",
            "Requirement already satisfied: threadpoolctl>=2.0.0 in /usr/local/lib/python3.8/dist-packages (from scikit-learn>=0.17.1->Boruta) (3.1.0)\n",
            "Requirement already satisfied: joblib>=0.11 in /usr/local/lib/python3.8/dist-packages (from scikit-learn>=0.17.1->Boruta) (1.2.0)\n",
            "Installing collected packages: Boruta\n",
            "Successfully installed Boruta-0.3\n"
          ]
        }
      ],
      "source": [
        "! pip install inflection\n",
        "! pip install Boruta"
      ]
    },
    {
      "cell_type": "code",
      "execution_count": 2,
      "metadata": {
        "id": "sCTA-XJZnNW8"
      },
      "outputs": [],
      "source": [
        "import math\n",
        "import datetime\n",
        "import inflection\n",
        "import numpy as np\n",
        "import pandas as pd\n",
        "import seaborn as sns\n",
        "import matplotlib.pyplot as plt \n",
        "\n",
        "\n",
        "from scipy                 import stats \n",
        "from boruta                import BorutaPy\n",
        "from matplotlib            import style\n",
        "from tabulate              import tabulate\n",
        "from matplotlib            import gridspec\n",
        "from matplotlib.figure     import GridSpec\n",
        "from IPython.display       import Image\n",
        "from IPython.core.display  import HTML \n",
        "from sklearn.ensemble      import RandomForestRegressor\n",
        "from sklearn.preprocessing import RobustScaler, MinMaxScaler, LabelEncoder"
      ]
    },
    {
      "cell_type": "markdown",
      "metadata": {
        "id": "Aps3ZrBHlvu_"
      },
      "source": [
        "### 0.1 Helper Function"
      ]
    },
    {
      "cell_type": "code",
      "execution_count": 3,
      "metadata": {
        "id": "ihDlSzYnmWGv",
        "colab": {
          "base_uri": "https://localhost:8080/",
          "height": 89
        },
        "outputId": "1fcfdd50-b918-4111-8e0f-4ae18de2eff7"
      },
      "outputs": [
        {
          "output_type": "stream",
          "name": "stdout",
          "text": [
            "Populating the interactive namespace from numpy and matplotlib\n"
          ]
        },
        {
          "output_type": "display_data",
          "data": {
            "text/plain": [
              "<IPython.core.display.HTML object>"
            ],
            "text/html": [
              "<style>.container { width:100% !important; }</style>"
            ]
          },
          "metadata": {}
        },
        {
          "output_type": "stream",
          "name": "stderr",
          "text": [
            "<ipython-input-3-e4167321d618>:28: FutureWarning: Passing a negative integer is deprecated in version 1.0 and will not be supported in future version. Instead, use None to not limit the column width.\n",
            "  pd.options.display.max_colwidth = -1\n"
          ]
        }
      ],
      "source": [
        "# criando função de cramer pra gerar correlação entre as variaveis categoricas\n",
        "def cramer_v (x, y):\n",
        "  cm = pd.crosstab( x, y).values\n",
        "  n = cm.sum()  \n",
        "  r, k = cm.shape\n",
        "  chi2 = stats.chi2_contingency(cm)[0]\n",
        "  \n",
        "  # correção do Cramer para evitar overstimater (superestimar) as relações\n",
        "  chi2corr = max(0,chi2 - ((k-1) * (r-1)/(n-1)))\n",
        "  kcorr = k - (k-1)**2/(n-1)\n",
        "  rcorr = r - (r-1)**2/(n-1)\n",
        "\n",
        "\n",
        "  return np.sqrt( (chi2corr/n) / (min ( kcorr-1, rcorr-1 )) )\n",
        "\n",
        "#def jupyter_settings():\n",
        "from google.colab import output\n",
        "%matplotlib inline \n",
        "%pylab inline\n",
        "\n",
        "plt.style.use( 'bmh' )\n",
        "plt.rcParams['figure.figsize'] = [20, 10] \n",
        "plt.rcParams['font.size'] = 14\n",
        "\n",
        "display(HTML( '<style>.container { width:100% !important; }</style>' ))\n",
        "pd.options.display.max_columns = None\n",
        "pd.options.display.max_rows = None\n",
        "pd.options.display.max_colwidth = -1\n",
        "pd.set_option( 'display.expand_frame_repr', False )\n",
        "\n",
        "sns.set()\n",
        "output.eval_js('google.colab.output.setIframeHeight(0, true);')"
      ]
    },
    {
      "cell_type": "markdown",
      "metadata": {
        "id": "9qc8DcAgl4iN"
      },
      "source": [
        "### 0.2 Loading Data"
      ]
    },
    {
      "cell_type": "code",
      "execution_count": 4,
      "metadata": {
        "colab": {
          "base_uri": "https://localhost:8080/"
        },
        "id": "-s5Q9n4bkKo9",
        "outputId": "6ecbc555-d67e-4669-d21d-e7a49be0c9b8"
      },
      "outputs": [
        {
          "output_type": "stream",
          "name": "stdout",
          "text": [
            "Mounted at /content/drive\n"
          ]
        }
      ],
      "source": [
        "from google.colab import drive\n",
        "from google.colab import files\n",
        "drive.mount('/content/drive')\n",
        "# Caminho dos dados: \"/content/drive/Shareddrives/Drive Cayo.Edu/1 - PROJETOS/Profissional - Cientista de dados/Estudo Ciencia de Dados/Projeto Rossmann Store/rossmann-store-sales\"\n",
        "# Train : /content/drive/Shareddrives/Drive Cayo.Edu/1 - PROJETOS/Profissional - Cientista de dados/Estudo Ciencia de Dados/Projeto Rossmann Store/rossmann-store-sales/train.csv\n",
        "# store: /content/drive/Shareddrives/Drive Cayo.Edu/1 - PROJETOS/Profissional - Cientista de dados/Estudo Ciencia de Dados/Projeto Rossmann Store/rossmann-store-sales/store.csv\n",
        "#\n"
      ]
    },
    {
      "cell_type": "code",
      "execution_count": 5,
      "metadata": {
        "id": "HjfWITLumG9B"
      },
      "outputs": [],
      "source": [
        "df_sales_raw = pd.read_csv('/content/drive/MyDrive/1 - Projetos/Aprendizagem - DS Produção - Rossmann/Projeto Rossman Store/Data/train.csv', low_memory=False)\n",
        "df_store_raw = pd.read_csv('/content/drive/MyDrive/1 - Projetos/Aprendizagem - DS Produção - Rossmann/Projeto Rossman Store/Data/store.csv', low_memory=False)\n",
        "\n",
        "# merge\n",
        "df_raw = pd.merge(df_sales_raw, df_store_raw, how='left', on='Store')\n",
        "\n"
      ]
    },
    {
      "cell_type": "markdown",
      "metadata": {
        "id": "RB20BvQCvYyt"
      },
      "source": [
        "\n",
        "* Id - um Id que representa uma duplicata (Store, Date) dentro do conjunto de teste\n",
        "\n",
        "* Store - um ID exclusivo para cada loja\n",
        "\n",
        "* Sales  - o volume de negócios para um determinado dia (isto é o que você está prevendo)\n",
        "\n",
        "* Customers  - o número de clientes em um determinado dia\n",
        "\n",
        "* Open  - um indicador para saber se a loja estava aberta: 0 = fechado, 1 = aberto\n",
        "\n",
        "* StateHoliday - indica um feriado estadual. Normalmente todas as lojas, com poucas exceções, fecham nos feriados estaduais. Observe que todas as escolas fecham nos feriados e fins de semana. a = feriado, b = feriado da Páscoa, c = Natal, 0 = nenhum\n",
        "\n",
        "* SchoolHoliday - indica se o (Store, Date) foi afetado pelo fechamento das escolas públicas\n",
        "\n",
        "* StoreType  - diferencia entre 4 modelos de loja diferentes: a, b, c, d\n",
        "\n",
        "* Assortment  - descreve um nível de sortimento: a = básico, b = extra, c = estendido\n",
        "\n",
        "* CompetitionDistance - distância em metros até a loja concorrente mais próxima\n",
        "\n",
        "* CompetitionOpenSince[Month/Year] - fornece o ano e o mês aproximados da hora em que o concorrente mais próximo foi aberto\n",
        "\n",
        "* Promo - indica se uma loja está realizando uma promoção naquele dia\n",
        "\n",
        "* Promo2 - Promo2 é uma promoção contínua e consecutiva para algumas \n",
        "lojas: 0 = loja não está participando, 1 = loja está participando\n",
        "\n",
        "* Promo2Since[Year/Week] - descreve o ano e a semana do calendário em que a loja começou a participar do Promo2\n",
        "\n",
        "* PromoInterval - descreve os intervalos consecutivos em que o Promo2 é iniciado, nomeando os meses em que a promoção é reiniciada. Por exemplo, \"fevereiro, maio, agosto, novembro\" significa que cada rodada começa em fevereiro, maio, agosto, novembro de qualquer ano para essa loja"
      ]
    },
    {
      "cell_type": "markdown",
      "metadata": {
        "id": "pVm-UI5WmBd4"
      },
      "source": [
        "## 1.0 Descrição dos dados"
      ]
    },
    {
      "cell_type": "markdown",
      "metadata": {
        "id": "qyTNhrw8sdaJ"
      },
      "source": [
        "### 1.1 Rename Columns"
      ]
    },
    {
      "cell_type": "code",
      "execution_count": null,
      "metadata": {
        "id": "heTn6K1gC2eE"
      },
      "outputs": [],
      "source": [
        "# copiar tabela caso precise resetar ela no futuro\n",
        "df1 = df_raw.copy()"
      ]
    },
    {
      "cell_type": "code",
      "execution_count": null,
      "metadata": {
        "id": "gkliCT5Ji3Le"
      },
      "outputs": [],
      "source": [
        "#salvar todas as colunas em uma variavel\n",
        "cols_old = ['Store', 'DayOfWeek', 'Date', 'Sales', 'Customers', 'Open', 'Promo','StateHoliday', 'SchoolHoliday', \n",
        "           'StoreType', 'Assortment', 'CompetitionDistance', 'CompetitionOpenSinceMonth', 'CompetitionOpenSinceYear', \n",
        "           'Promo2', 'Promo2SinceWeek', 'Promo2SinceYear', 'PromoInterval']\n",
        "#criar uma função lambda com inflect\n",
        "snakecase = lambda x: inflection.underscore(x)\n",
        "\n",
        "#aplicar um mapeamento dessa função aplicada à todas as palavras do vertor cols_old e salvar como uma lista em outra variavel\n",
        "cols_new =  list(map( snakecase, cols_old))\n",
        "\n",
        "# rename colunas\n",
        "df1.columns = cols_new"
      ]
    },
    {
      "cell_type": "markdown",
      "metadata": {
        "id": "4zGmuQt0i3qX"
      },
      "source": [
        "### 1.2 Data Dimensions"
      ]
    },
    {
      "cell_type": "code",
      "execution_count": null,
      "metadata": {
        "id": "BT38JSTyi3Om",
        "colab": {
          "base_uri": "https://localhost:8080/"
        },
        "outputId": "1a64993b-25d0-407d-831d-160681523fa5"
      },
      "outputs": [
        {
          "output_type": "stream",
          "name": "stdout",
          "text": [
            "Numero de Linhas: 1017209 \n",
            "Numero de Colunas: 18 \n"
          ]
        }
      ],
      "source": [
        "# calcular quantidade de linhas e colunas da tabela\n",
        "print( f'Numero de Linhas: {df1.shape[0]} ')\n",
        "print( f'Numero de Colunas: {df1.shape[1]} ')"
      ]
    },
    {
      "cell_type": "markdown",
      "metadata": {
        "id": "sjLa9ct0mOME"
      },
      "source": [
        "### 1.3 Data Types"
      ]
    },
    {
      "cell_type": "code",
      "execution_count": null,
      "metadata": {
        "id": "sSN5eW3OmOMO"
      },
      "outputs": [],
      "source": [
        "#transforma data em tipo de dados datetime\n",
        "df1['date'] = pd.to_datetime(df1['date'])"
      ]
    },
    {
      "cell_type": "code",
      "execution_count": null,
      "metadata": {
        "id": "ucSFaZ2DmOMK",
        "colab": {
          "base_uri": "https://localhost:8080/"
        },
        "outputId": "d2913dd6-fdeb-47aa-9bc4-3911d0d39046"
      },
      "outputs": [
        {
          "output_type": "execute_result",
          "data": {
            "text/plain": [
              "store                                    int64\n",
              "day_of_week                              int64\n",
              "date                            datetime64[ns]\n",
              "sales                                    int64\n",
              "customers                                int64\n",
              "open                                     int64\n",
              "promo                                    int64\n",
              "state_holiday                           object\n",
              "school_holiday                           int64\n",
              "store_type                              object\n",
              "assortment                              object\n",
              "competition_distance                   float64\n",
              "competition_open_since_month           float64\n",
              "competition_open_since_year            float64\n",
              "promo2                                   int64\n",
              "promo2_since_week                      float64\n",
              "promo2_since_year                      float64\n",
              "promo_interval                          object\n",
              "dtype: object"
            ]
          },
          "metadata": {},
          "execution_count": 10
        }
      ],
      "source": [
        "# calcular tipos de dados\n",
        "df1.dtypes"
      ]
    },
    {
      "cell_type": "markdown",
      "metadata": {
        "id": "4G1do3YZmOMd"
      },
      "source": [
        "### 1.4 Check NA"
      ]
    },
    {
      "cell_type": "code",
      "execution_count": null,
      "metadata": {
        "id": "Fcpkr9z9mOMZ",
        "colab": {
          "base_uri": "https://localhost:8080/"
        },
        "outputId": "f245acf5-4222-4abf-e8c1-e982669f8362"
      },
      "outputs": [
        {
          "output_type": "execute_result",
          "data": {
            "text/plain": [
              "store                                0\n",
              "day_of_week                          0\n",
              "date                                 0\n",
              "sales                                0\n",
              "customers                            0\n",
              "open                                 0\n",
              "promo                                0\n",
              "state_holiday                        0\n",
              "school_holiday                       0\n",
              "store_type                           0\n",
              "assortment                           0\n",
              "competition_distance              2642\n",
              "competition_open_since_month    323348\n",
              "competition_open_since_year     323348\n",
              "promo2                               0\n",
              "promo2_since_week               508031\n",
              "promo2_since_year               508031\n",
              "promo_interval                  508031\n",
              "dtype: int64"
            ]
          },
          "metadata": {},
          "execution_count": 11
        }
      ],
      "source": [
        "# verificar todas as colunas que tem pelo menos uma linha NA\n",
        "df1.isna().sum()"
      ]
    },
    {
      "cell_type": "markdown",
      "metadata": {
        "id": "Oyz7_bbd8y5g"
      },
      "source": [
        "\n",
        "\n",
        "---\n",
        "\n",
        "\n",
        "Esse resultado influencia a proxima decisao sobre o que fazer, normalmente temos 3 Opçoes:\n",
        "\n",
        "1.   Apagar linhas que tem elementos NA\n",
        "\n",
        "*   Se o Conjunto de dados for pequena, isso afetará o resultado dos algoritimos\n",
        "*   Mais simples das soluçoes\n",
        "*   As linhas excluidas excluirá dados que podem revelar outros padroes\n",
        "\n",
        "\n",
        "2.   Recuperar esses dados atravez de um algoritmo de machine learning\n",
        "\n",
        "* Mais complicado de usar\n",
        "* Usada alritmos de machine learning para tertar tirar uma media ou prever qual seria a resposta com base em outros dados\n",
        "\n",
        "3.   Recuperar esses dados com o entendimento das regras do negocio\n",
        "\n",
        "* Gerar valores reais do porque aquele dado foi NA\n",
        "* Gera valores mais precisos pelo entendimento do negocios aprofundado\n",
        "\n",
        "\n",
        "\n"
      ]
    },
    {
      "cell_type": "markdown",
      "metadata": {
        "id": "tsnG80qgmOZB"
      },
      "source": [
        "### 1.5 Fillout NA"
      ]
    },
    {
      "cell_type": "code",
      "execution_count": null,
      "metadata": {
        "id": "37K0jrZimOZD"
      },
      "outputs": [],
      "source": [
        "# analisar dado por questoes de negocios\n",
        "\n",
        "\n",
        "# 1. Se a distancia é considerada NA, provavelmente nao tem ou está muito longe para ser considerado, logo vamos colocar uma distancia muito maior que a distancia maxima nos dados\n",
        "df1['competition_distance'] = df1['competition_distance'].apply( lambda x: 2000000.0 if math.isnan(x) else (x) )\n",
        "\n",
        "\n",
        "# 2. competition_open_since_month: Mes aproximado que o concorrente mais proximo foi abertor\n",
        "#    Existem duas possiblidades, ou a concorrente mais proxima nao existe, ou nao temos esse dado, tanto porque é muito antiga quanto porque esqueceram de anotar\n",
        "df1['competition_open_since_month'] = df1.apply( lambda x: x['date'].month if math.isnan( x['competition_open_since_month']) else x['competition_open_since_month'], axis=1 )\n",
        "\n",
        "# 3. competition_open_since_year: Ano aproximado que o concorrente mais proximo foi abertor\n",
        "df1['competition_open_since_year'] = df1.apply( lambda x: x['date'].year if math.isnan( x['competition_open_since_year']) else x['competition_open_since_year'], axis=1 )\n",
        "\n",
        "\n",
        "# 4. promo2_since_week:  Descreve qual semana do calendario a loja começou a participar da promo2        \n",
        "#     se a celula esta NA, significa que a loja nao participou daquela promoçao\n",
        "df1['promo2_since_week'] = df1.apply( lambda x: x['date'].week if math.isnan( x['promo2_since_week']) else x['promo2_since_week'], axis=1 )\n",
        "\n",
        "\n",
        "\n",
        "# 5. promo2_since_year:  Descreve qual ano a loja começou a participar da promo2\n",
        "df1['promo2_since_year'] = df1.apply( lambda x: x['date'].year if math.isnan( x['promo2_since_year']) else x['promo2_since_year'], axis=1 )\n",
        "\n",
        "# 6. promo_interval: Descreve os intervalos que a promoção ficou ativa em listas de meses (Ex: Feb. May, Jun, Aug)\n",
        "\n",
        "#Criei um dicionario para linkar o mes ao seu numero equivalente  \n",
        "month_map = {1: 'Jan', 2: 'Feb', 3: 'Mar', 4: 'Apr', 5: 'May', 6: 'Jun', 7: 'Jul', 8: 'Aug', 9: 'Sep', 10: 'Oct', 11: 'Nov', 12: 'Dez'}\n",
        "\n",
        "# aqui usamos o metodo fillna para substituir os elementos NA por 0 na tabela de data\n",
        "df1['promo_interval'].fillna(0, inplace=True)\n",
        "\n",
        "# Criar uma nova coluna \"month_map\" e atribuir pra ela o resultado de transforma a coluna 'date' em data, \n",
        "# depois separar apenas o mes e aplicar um mapeamento substituindo todos os numeros para as letras equivalentes do Dict \"mounth_map\"  \n",
        "df1['month_map'] = df1['date'].dt.month.map(month_map) \n",
        "\n",
        "# Aqui criamos uma nova coluna pra informar se a loja participou da promoção no mes referente \n",
        "df1['is_promo'] = df1[['promo_interval', 'month_map']].apply( lambda x: 0 if x['promo_interval'] == 0 else 1 if x['month_map'] in x['promo_interval'].split(',') else 0, axis=1) \n",
        "\n"
      ]
    },
    {
      "cell_type": "code",
      "execution_count": null,
      "metadata": {
        "id": "CRY2QoLqmOZE"
      },
      "outputs": [],
      "source": [
        "#df1.isna().sum()"
      ]
    },
    {
      "cell_type": "markdown",
      "metadata": {
        "id": "LjztZQwEmOZO"
      },
      "source": [
        "### 1.6 Change Types (Estatistica Descritiva) "
      ]
    },
    {
      "cell_type": "code",
      "execution_count": null,
      "metadata": {
        "id": "Mf_XbHE4mOZF",
        "colab": {
          "base_uri": "https://localhost:8080/"
        },
        "outputId": "3fdd5c38-51d6-4a59-f1c7-5eb33339e8a1"
      },
      "outputs": [
        {
          "output_type": "execute_result",
          "data": {
            "text/plain": [
              "store                                    int64\n",
              "day_of_week                              int64\n",
              "date                            datetime64[ns]\n",
              "sales                                    int64\n",
              "customers                                int64\n",
              "open                                     int64\n",
              "promo                                    int64\n",
              "state_holiday                           object\n",
              "school_holiday                           int64\n",
              "store_type                              object\n",
              "assortment                              object\n",
              "competition_distance                   float64\n",
              "competition_open_since_month           float64\n",
              "competition_open_since_year            float64\n",
              "promo2                                   int64\n",
              "promo2_since_week                      float64\n",
              "promo2_since_year                      float64\n",
              "promo_interval                          object\n",
              "month_map                               object\n",
              "is_promo                                 int64\n",
              "dtype: object"
            ]
          },
          "metadata": {},
          "execution_count": 14
        }
      ],
      "source": [
        "# Verificar os Tipos atuais dos dados, todas a operaçoes a tratamentos feitos podem ter alterado seus tipos\n",
        "df1.dtypes\n"
      ]
    },
    {
      "cell_type": "code",
      "execution_count": null,
      "metadata": {
        "id": "NqlfgDoDmOZN"
      },
      "outputs": [],
      "source": [
        "df1['competition_open_since_month'] = df1['competition_open_since_month'].astype(int)\n",
        "df1['competition_open_since_year'] = df1['competition_open_since_year'].astype(int)\n",
        "df1['promo2_since_week'] = df1['promo2_since_week'].astype(int)\n",
        "df1['promo2_since_year'] = df1['promo2_since_year'].astype(int)"
      ]
    },
    {
      "cell_type": "markdown",
      "metadata": {
        "id": "CSw0Je-nmOpM"
      },
      "source": [
        "### 1.7 Descriptive Statistical (Descrição Estatistica) "
      ]
    },
    {
      "cell_type": "code",
      "execution_count": null,
      "metadata": {
        "id": "X0Aw_F5WmOpP"
      },
      "outputs": [],
      "source": [
        "# Separando as Variaveis Categoricas e Numericas\n",
        "num_attributes = df1.select_dtypes( include= ['int64', 'float64'])\n",
        "cat_attributes = df1.select_dtypes( exclude= ['int64', 'float64'])"
      ]
    },
    {
      "cell_type": "markdown",
      "metadata": {
        "id": "x8TThNCIAPGI"
      },
      "source": [
        "#### 1.7.1 Numerical Attributes - Descriptive Statistical "
      ]
    },
    {
      "cell_type": "code",
      "execution_count": null,
      "metadata": {
        "id": "8ZSyBn-cAxZd"
      },
      "outputs": [],
      "source": [
        "# Central Tendency - mean, median\n",
        "ct1 = pd.DataFrame(num_attributes.apply(np.mean)).T\n",
        "ct2 = pd.DataFrame(num_attributes.apply(np.median)).T\n",
        "\n",
        "# Dispension - std, min, max, range, skew, kurtosis\n",
        "\n",
        "d1 = pd.DataFrame(num_attributes.apply( np.std )).T\n",
        "d2 = pd.DataFrame(num_attributes.apply( min )).T\n",
        "d3 = pd.DataFrame(num_attributes.apply( max )).T\n",
        "d4 = pd.DataFrame(num_attributes.apply( lambda x: x.max() - x.min() )).T\n",
        "d5 = pd.DataFrame(num_attributes.apply( lambda x: x.skew() )).T\n",
        "d6 = pd.DataFrame(num_attributes.apply( lambda x: x.kurtosis() )).T\n",
        "\n",
        "# contatenar as listas\n",
        "m = pd.concat([d2, d3, d4, ct1, ct2, d1, d5, d6]).T.reset_index()\n",
        "m.columns = ['attributes','min', 'max', 'range', 'mean', 'median', 'std', 'skew', 'kurtosis']\n"
      ]
    },
    {
      "cell_type": "code",
      "execution_count": null,
      "metadata": {
        "id": "QyVE6gPoAxPi",
        "colab": {
          "base_uri": "https://localhost:8080/"
        },
        "outputId": "3ee9af48-3546-4f11-b968-6be21038e09c"
      },
      "outputs": [
        {
          "output_type": "stream",
          "name": "stderr",
          "text": [
            "/usr/local/lib/python3.8/dist-packages/seaborn/distributions.py:2619: FutureWarning: `distplot` is a deprecated function and will be removed in a future version. Please adapt your code to use either `displot` (a figure-level function with similar flexibility) or `histplot` (an axes-level function for histograms).\n",
            "  warnings.warn(msg, FutureWarning)\n"
          ]
        },
        {
          "output_type": "execute_result",
          "data": {
            "text/plain": [
              "<matplotlib.axes._subplots.AxesSubplot at 0x7f34e4690940>"
            ]
          },
          "metadata": {},
          "execution_count": 18
        },
        {
          "output_type": "display_data",
          "data": {
            "text/plain": [
              "<Figure size 432x288 with 1 Axes>"
            ],
            "image/png": "[encoded data removed]"
          },
          "metadata": {
            "needs_background": "light"
          }
        }
      ],
      "source": [
        "sns.distplot(df1['competition_distance'])"
      ]
    },
    {
      "cell_type": "markdown",
      "metadata": {
        "id": "sjKoGVe_AdGL"
      },
      "source": [
        "#### 1.7.2 Categorical Attributes - Descriptive Statistical "
      ]
    },
    {
      "cell_type": "code",
      "execution_count": null,
      "metadata": {
        "id": "bMABFZ-VmOpQ",
        "colab": {
          "base_uri": "https://localhost:8080/"
        },
        "outputId": "e4d4f13e-4349-43c7-c177-27703da593e7"
      },
      "outputs": [
        {
          "output_type": "execute_result",
          "data": {
            "text/plain": [
              "date              942\n",
              "state_holiday       4\n",
              "store_type          4\n",
              "assortment          3\n",
              "promo_interval      4\n",
              "month_map          12\n",
              "dtype: int64"
            ]
          },
          "metadata": {},
          "execution_count": 19
        }
      ],
      "source": [
        "#visualizar quantas variaçoes de cada elemento categorico existem\n",
        "cat_attributes.apply(lambda x: x.unique().shape[0])"
      ]
    },
    {
      "cell_type": "code",
      "execution_count": null,
      "metadata": {
        "id": "yiabLUrNKL1c",
        "colab": {
          "base_uri": "https://localhost:8080/"
        },
        "outputId": "42f370b2-2d2d-4c8e-89a9-07e66d3b59a8"
      },
      "outputs": [
        {
          "output_type": "execute_result",
          "data": {
            "text/plain": [
              "<matplotlib.axes._subplots.AxesSubplot at 0x7f34be7a8070>"
            ]
          },
          "metadata": {},
          "execution_count": 20
        },
        {
          "output_type": "display_data",
          "data": {
            "text/plain": [
              "<Figure size 432x288 with 3 Axes>"
            ],
            "image/png": "[encoded data removed]"
          },
          "metadata": {
            "needs_background": "light"
          }
        }
      ],
      "source": [
        "# Aplicando um bloxplot pra entender a concentração dos dados de cada variavel\n",
        "aux1 = df1[(df1['state_holiday'] != '0') & (df1['sales'] > 0)]\n",
        "\n",
        "# state holiday\n",
        "plt.subplot(1, 3, 1)\n",
        "sns.boxplot( x='state_holiday', y='sales', data=aux1)\n",
        "\n",
        "# store type\n",
        "plt.subplot(1, 3, 2)\n",
        "sns.boxplot( x='store_type', y='sales', data=aux1)\n",
        "\n",
        "# assortment\n",
        "plt.subplot(1, 3, 3)\n",
        "sns.boxplot( x='assortment', y='sales', data=aux1)"
      ]
    },
    {
      "cell_type": "markdown",
      "metadata": {
        "id": "bRwMBmAkKrjX"
      },
      "source": [
        "## 2.0 Feature Engineering\n"
      ]
    },
    {
      "cell_type": "code",
      "execution_count": null,
      "metadata": {
        "id": "ELVMP_KWoH3w"
      },
      "outputs": [],
      "source": [
        "df2 = df1.copy()"
      ]
    },
    {
      "cell_type": "markdown",
      "metadata": {
        "id": "wB1Qn1-1ew9M"
      },
      "source": [
        "### 2.1 Mapa mental de Hipoteses"
      ]
    },
    {
      "cell_type": "code",
      "execution_count": null,
      "metadata": {
        "id": "o6qLdg-E_Cbm",
        "colab": {
          "base_uri": "https://localhost:8080/"
        },
        "outputId": "16effd42-040e-4bb9-879a-dd56c5bd3f11"
      },
      "outputs": [
        {
          "output_type": "execute_result",
          "data": {
            "image/png": "[encoded data removed]",
            "text/plain": [
              "<IPython.core.display.Image object>"
            ]
          },
          "metadata": {},
          "execution_count": 22
        }
      ],
      "source": [
        "Image('/content/drive/MyDrive/Colab Notebooks/Data Science Em Produção/Projeto Rossman Store/img/Mapa Mental de Hipoteses - Rossman Store.png')"
      ]
    },
    {
      "cell_type": "markdown",
      "metadata": {
        "id": "AW8e_D2je46A"
      },
      "source": [
        "### 2.2 Criação de Hipoteses"
      ]
    },
    {
      "cell_type": "markdown",
      "metadata": {
        "id": "6m1NjFkxfPUB"
      },
      "source": [
        "#### 2.2.1 Hipoteses da Loja"
      ]
    },
    {
      "cell_type": "markdown",
      "metadata": {
        "id": "ZzgwC-79gB0M"
      },
      "source": [
        "1. Lojas com maior quadro de funcionarios vendes mais  \n",
        "2. Lojas com maior estoque vendem mais\n",
        "3. Lojas com maior porte deveriam vender mais\n",
        "4. Lojas com menor porte deveriam vender menos\n",
        "5. Lojas com Maior Sortimento deverias vender mais"
      ]
    },
    {
      "cell_type": "markdown",
      "metadata": {
        "id": "yYRtWuu1fV9w"
      },
      "source": [
        "#### 2.2.2 Hipoteses do Produto"
      ]
    },
    {
      "cell_type": "markdown",
      "metadata": {
        "id": "1IEaDmLVgnjw"
      },
      "source": [
        "1. Lojas que investes em marketing deveriam vender mais\n",
        "2. Lojas que investes expoe mais produtos nas vitrines deveriam vender mais\n",
        "3. Lojas que tem menores preços deveriam vender mais\n",
        "4. Lojas que tem preços menores por mais tempo nos produtos deveriam vender mais"
      ]
    },
    {
      "cell_type": "markdown",
      "metadata": {
        "id": "p7pIm1_ufaaV"
      },
      "source": [
        "#### 2.2.3 Hipoteses do Tempo"
      ]
    },
    {
      "cell_type": "markdown",
      "metadata": {
        "id": "fZyNgJqEgoN0"
      },
      "source": [
        "1. Lojas que tem mais feriados deveriam vender menos\n",
        "2. Lojas que abrem nos primeiro 6 meses deveriam vender mais\n",
        "3. Lojas que abrem nos finais de semana deveriam vender mais\n",
        "4. Lojas Deveriam vender mais no segundo semestre do ano"
      ]
    },
    {
      "cell_type": "markdown",
      "metadata": {
        "id": "BZPRmR4xj8Uy"
      },
      "source": [
        "### 2.3 Lista de Hipoteses"
      ]
    },
    {
      "cell_type": "markdown",
      "metadata": {
        "id": "2-5OJysOkUuN"
      },
      "source": [
        "1. Lojas com Maior Sortimento deverias vender mais\n",
        "2. Lojas com competidores mais proximos deveriam vender menos\n",
        "3. Lojas com competidores à mais tempo deveriam vender mais\n"
      ]
    },
    {
      "cell_type": "markdown",
      "metadata": {
        "id": "BhSYNWnKk7Nq"
      },
      "source": [
        "1. Lojas com promoções ativas a mais tempo deveriam vender mais\n",
        "2. Lojas com mais dias de promoção deveriam vender mais\n",
        "3. Lojas com mais promoçoes consecutivas deveram vender mais."
      ]
    },
    {
      "cell_type": "markdown",
      "metadata": {
        "id": "oCbt1k6ulM3I"
      },
      "source": [
        "1. Lojas Abertas durante o feriado de natal deveriam vender mais\n",
        "1. Lojas deveriam vender mais ao longo do anos\n",
        "4. Lojas Deveriam vender mais no segundo semestre do ano\n",
        "1. Lojas deveriam vender mais depois do 10 dia util do mes\n",
        "1. Lojas deveriam vender menos aos finais de semana\n",
        "1. Lojas que tem mais feriados deveriam vender menos\n",
        "1. lojas deveriam vender menos durante os feriados escolares\n",
        "2. Lojas que abrem nos primeiro 6 meses deveriam vender mais\n",
        "3. Lojas que abrem nos finais de semana deveriam vender mais.\n"
      ]
    },
    {
      "cell_type": "markdown",
      "metadata": {
        "id": "C6rED5b2oVTz"
      },
      "source": [
        "### 2.4 Derivar Features (Feature Engineering)"
      ]
    },
    {
      "cell_type": "markdown",
      "metadata": {
        "id": "sNnGY2_Oopvf"
      },
      "source": []
    },
    {
      "cell_type": "code",
      "execution_count": null,
      "metadata": {
        "id": "nJlInnFb_CLm"
      },
      "outputs": [],
      "source": [
        "# Variaveis a Derivar:\n",
        "\n",
        "# year\n",
        "df2['year'] = df2['date'].dt.year\n",
        "\n",
        "# month\n",
        "df2['month'] = df2['date'].dt.month\n",
        "\n",
        "# week of year\n",
        "df2['week_of_year'] = df2['date'].dt.isocalendar().week\n",
        "\n",
        "# day\n",
        "df2['day'] = df2['date'].dt.day\n",
        "\n",
        "\n",
        "# year week\n",
        "df2['year_week'] = df2['date'].dt.strftime('%Y-%W')\n",
        "\n",
        "\n",
        "# competition sice\n",
        "df2['competition_since'] = df2.apply( lambda x: datetime.datetime( year=x['competition_open_since_year'], month=x['competition_open_since_month'], day=1 ), axis=1) #quando o tiver mais de uma colunas envolvida, o Axis precisa ser igual a 1, pra passar por todas as colunas\n",
        "df2['competition_time_month'] = ((df2['date'] - df2['competition_since'])/30).apply(lambda x: x.days).astype(int)\n",
        "\n",
        "\n",
        "# promo since\n",
        "df2['promo_since'] = df2['promo2_since_year'].astype(str) + '-' + df2['promo2_since_week'].astype(str)\n",
        "df2['promo_since'] = df2['promo_since'].apply(lambda x: datetime.datetime.strptime(x + '-1', '%Y-%W-%w') - datetime.timedelta(days=7))\n",
        "df2['promo_time_week'] = ((df2['date'] - df2['promo_since']) /7 ).apply(lambda x: x.days).astype(int)\n",
        "\n",
        "# assortment\n",
        "df2['assortment'] = df2['assortment'].apply(lambda x: 'basic' if x == \"a\" else 'extra' if x == \"b\" else 'extended')\n",
        "\n",
        "# state holiday\n",
        "\n",
        "df2['state_holiday'] = df2['state_holiday'].apply(lambda x: 'public_holiday' if x == 'a' else 'easter_holiday' if x == 'b' else 'christmas' if x == 'c' else 'regular_day')\n",
        "\n"
      ]
    },
    {
      "cell_type": "code",
      "execution_count": null,
      "metadata": {
        "id": "7S_2TRt-_CHW",
        "colab": {
          "base_uri": "https://localhost:8080/"
        },
        "outputId": "471f14b5-da09-461d-c119-6817d21ee11d"
      },
      "outputs": [
        {
          "output_type": "execute_result",
          "data": {
            "text/plain": [
              "                                                0                    1  \\\n",
              "store                                           1                    2   \n",
              "day_of_week                                     5                    5   \n",
              "date                          2015-07-31 00:00:00  2015-07-31 00:00:00   \n",
              "sales                                        5263                 6064   \n",
              "customers                                     555                  625   \n",
              "open                                            1                    1   \n",
              "promo                                           1                    1   \n",
              "state_holiday                         regular_day          regular_day   \n",
              "school_holiday                                  1                    1   \n",
              "store_type                                      c                    a   \n",
              "assortment                                  basic                basic   \n",
              "competition_distance                       1270.0                570.0   \n",
              "competition_open_since_month                    9                   11   \n",
              "competition_open_since_year                  2008                 2007   \n",
              "promo2                                          0                    1   \n",
              "promo2_since_week                              31                   13   \n",
              "promo2_since_year                            2015                 2010   \n",
              "promo_interval                                  0      Jan,Apr,Jul,Oct   \n",
              "month_map                                     Jul                  Jul   \n",
              "is_promo                                        0                    1   \n",
              "year                                         2015                 2015   \n",
              "month                                           7                    7   \n",
              "week_of_year                                   31                   31   \n",
              "day                                            31                   31   \n",
              "year_week                                 2015-30              2015-30   \n",
              "competition_since             2008-09-01 00:00:00  2007-11-01 00:00:00   \n",
              "competition_time_month                         84                   94   \n",
              "promo_since                   2015-07-27 00:00:00  2010-03-22 00:00:00   \n",
              "promo_time_week                                 0                  279   \n",
              "\n",
              "                                                2                    3  \\\n",
              "store                                           3                    4   \n",
              "day_of_week                                     5                    5   \n",
              "date                          2015-07-31 00:00:00  2015-07-31 00:00:00   \n",
              "sales                                        8314                13995   \n",
              "customers                                     821                 1498   \n",
              "open                                            1                    1   \n",
              "promo                                           1                    1   \n",
              "state_holiday                         regular_day          regular_day   \n",
              "school_holiday                                  1                    1   \n",
              "store_type                                      a                    c   \n",
              "assortment                                  basic             extended   \n",
              "competition_distance                      14130.0                620.0   \n",
              "competition_open_since_month                   12                    9   \n",
              "competition_open_since_year                  2006                 2009   \n",
              "promo2                                          1                    0   \n",
              "promo2_since_week                              14                   31   \n",
              "promo2_since_year                            2011                 2015   \n",
              "promo_interval                    Jan,Apr,Jul,Oct                    0   \n",
              "month_map                                     Jul                  Jul   \n",
              "is_promo                                        1                    0   \n",
              "year                                         2015                 2015   \n",
              "month                                           7                    7   \n",
              "week_of_year                                   31                   31   \n",
              "day                                            31                   31   \n",
              "year_week                                 2015-30              2015-30   \n",
              "competition_since             2006-12-01 00:00:00  2009-09-01 00:00:00   \n",
              "competition_time_month                        105                   71   \n",
              "promo_since                   2011-03-28 00:00:00  2015-07-27 00:00:00   \n",
              "promo_time_week                               226                    0   \n",
              "\n",
              "                                                4  \n",
              "store                                           5  \n",
              "day_of_week                                     5  \n",
              "date                          2015-07-31 00:00:00  \n",
              "sales                                        4822  \n",
              "customers                                     559  \n",
              "open                                            1  \n",
              "promo                                           1  \n",
              "state_holiday                         regular_day  \n",
              "school_holiday                                  1  \n",
              "store_type                                      a  \n",
              "assortment                                  basic  \n",
              "competition_distance                      29910.0  \n",
              "competition_open_since_month                    4  \n",
              "competition_open_since_year                  2015  \n",
              "promo2                                          0  \n",
              "promo2_since_week                              31  \n",
              "promo2_since_year                            2015  \n",
              "promo_interval                                  0  \n",
              "month_map                                     Jul  \n",
              "is_promo                                        0  \n",
              "year                                         2015  \n",
              "month                                           7  \n",
              "week_of_year                                   31  \n",
              "day                                            31  \n",
              "year_week                                 2015-30  \n",
              "competition_since             2015-04-01 00:00:00  \n",
              "competition_time_month                          4  \n",
              "promo_since                   2015-07-27 00:00:00  \n",
              "promo_time_week                                 0  "
            ],
            "text/html": [
              "\n",
              "  <div id=\"df-df56d683-3a8a-4f15-841c-ecadfeec8c51\">\n",
              "    <div class=\"colab-df-container\">\n",
              "      <div>\n",
              "<style scoped>\n",
              "    .dataframe tbody tr th:only-of-type {\n",
              "        vertical-align: middle;\n",
              "    }\n",
              "\n",
              "    .dataframe tbody tr th {\n",
              "        vertical-align: top;\n",
              "    }\n",
              "\n",
              "    .dataframe thead th {\n",
              "        text-align: right;\n",
              "    }\n",
              "</style>\n",
              "<table border=\"1\" class=\"dataframe\">\n",
              "  <thead>\n",
              "    <tr style=\"text-align: right;\">\n",
              "      <th></th>\n",
              "      <th>0</th>\n",
              "      <th>1</th>\n",
              "      <th>2</th>\n",
              "      <th>3</th>\n",
              "      <th>4</th>\n",
              "    </tr>\n",
              "  </thead>\n",
              "  <tbody>\n",
              "    <tr>\n",
              "      <th>store</th>\n",
              "      <td>1</td>\n",
              "      <td>2</td>\n",
              "      <td>3</td>\n",
              "      <td>4</td>\n",
              "      <td>5</td>\n",
              "    </tr>\n",
              "    <tr>\n",
              "      <th>day_of_week</th>\n",
              "      <td>5</td>\n",
              "      <td>5</td>\n",
              "      <td>5</td>\n",
              "      <td>5</td>\n",
              "      <td>5</td>\n",
              "    </tr>\n",
              "    <tr>\n",
              "      <th>date</th>\n",
              "      <td>2015-07-31 00:00:00</td>\n",
              "      <td>2015-07-31 00:00:00</td>\n",
              "      <td>2015-07-31 00:00:00</td>\n",
              "      <td>2015-07-31 00:00:00</td>\n",
              "      <td>2015-07-31 00:00:00</td>\n",
              "    </tr>\n",
              "    <tr>\n",
              "      <th>sales</th>\n",
              "      <td>5263</td>\n",
              "      <td>6064</td>\n",
              "      <td>8314</td>\n",
              "      <td>13995</td>\n",
              "      <td>4822</td>\n",
              "    </tr>\n",
              "    <tr>\n",
              "      <th>customers</th>\n",
              "      <td>555</td>\n",
              "      <td>625</td>\n",
              "      <td>821</td>\n",
              "      <td>1498</td>\n",
              "      <td>559</td>\n",
              "    </tr>\n",
              "    <tr>\n",
              "      <th>open</th>\n",
              "      <td>1</td>\n",
              "      <td>1</td>\n",
              "      <td>1</td>\n",
              "      <td>1</td>\n",
              "      <td>1</td>\n",
              "    </tr>\n",
              "    <tr>\n",
              "      <th>promo</th>\n",
              "      <td>1</td>\n",
              "      <td>1</td>\n",
              "      <td>1</td>\n",
              "      <td>1</td>\n",
              "      <td>1</td>\n",
              "    </tr>\n",
              "    <tr>\n",
              "      <th>state_holiday</th>\n",
              "      <td>regular_day</td>\n",
              "      <td>regular_day</td>\n",
              "      <td>regular_day</td>\n",
              "      <td>regular_day</td>\n",
              "      <td>regular_day</td>\n",
              "    </tr>\n",
              "    <tr>\n",
              "      <th>school_holiday</th>\n",
              "      <td>1</td>\n",
              "      <td>1</td>\n",
              "      <td>1</td>\n",
              "      <td>1</td>\n",
              "      <td>1</td>\n",
              "    </tr>\n",
              "    <tr>\n",
              "      <th>store_type</th>\n",
              "      <td>c</td>\n",
              "      <td>a</td>\n",
              "      <td>a</td>\n",
              "      <td>c</td>\n",
              "      <td>a</td>\n",
              "    </tr>\n",
              "    <tr>\n",
              "      <th>assortment</th>\n",
              "      <td>basic</td>\n",
              "      <td>basic</td>\n",
              "      <td>basic</td>\n",
              "      <td>extended</td>\n",
              "      <td>basic</td>\n",
              "    </tr>\n",
              "    <tr>\n",
              "      <th>competition_distance</th>\n",
              "      <td>1270.0</td>\n",
              "      <td>570.0</td>\n",
              "      <td>14130.0</td>\n",
              "      <td>620.0</td>\n",
              "      <td>29910.0</td>\n",
              "    </tr>\n",
              "    <tr>\n",
              "      <th>competition_open_since_month</th>\n",
              "      <td>9</td>\n",
              "      <td>11</td>\n",
              "      <td>12</td>\n",
              "      <td>9</td>\n",
              "      <td>4</td>\n",
              "    </tr>\n",
              "    <tr>\n",
              "      <th>competition_open_since_year</th>\n",
              "      <td>2008</td>\n",
              "      <td>2007</td>\n",
              "      <td>2006</td>\n",
              "      <td>2009</td>\n",
              "      <td>2015</td>\n",
              "    </tr>\n",
              "    <tr>\n",
              "      <th>promo2</th>\n",
              "      <td>0</td>\n",
              "      <td>1</td>\n",
              "      <td>1</td>\n",
              "      <td>0</td>\n",
              "      <td>0</td>\n",
              "    </tr>\n",
              "    <tr>\n",
              "      <th>promo2_since_week</th>\n",
              "      <td>31</td>\n",
              "      <td>13</td>\n",
              "      <td>14</td>\n",
              "      <td>31</td>\n",
              "      <td>31</td>\n",
              "    </tr>\n",
              "    <tr>\n",
              "      <th>promo2_since_year</th>\n",
              "      <td>2015</td>\n",
              "      <td>2010</td>\n",
              "      <td>2011</td>\n",
              "      <td>2015</td>\n",
              "      <td>2015</td>\n",
              "    </tr>\n",
              "    <tr>\n",
              "      <th>promo_interval</th>\n",
              "      <td>0</td>\n",
              "      <td>Jan,Apr,Jul,Oct</td>\n",
              "      <td>Jan,Apr,Jul,Oct</td>\n",
              "      <td>0</td>\n",
              "      <td>0</td>\n",
              "    </tr>\n",
              "    <tr>\n",
              "      <th>month_map</th>\n",
              "      <td>Jul</td>\n",
              "      <td>Jul</td>\n",
              "      <td>Jul</td>\n",
              "      <td>Jul</td>\n",
              "      <td>Jul</td>\n",
              "    </tr>\n",
              "    <tr>\n",
              "      <th>is_promo</th>\n",
              "      <td>0</td>\n",
              "      <td>1</td>\n",
              "      <td>1</td>\n",
              "      <td>0</td>\n",
              "      <td>0</td>\n",
              "    </tr>\n",
              "    <tr>\n",
              "      <th>year</th>\n",
              "      <td>2015</td>\n",
              "      <td>2015</td>\n",
              "      <td>2015</td>\n",
              "      <td>2015</td>\n",
              "      <td>2015</td>\n",
              "    </tr>\n",
              "    <tr>\n",
              "      <th>month</th>\n",
              "      <td>7</td>\n",
              "      <td>7</td>\n",
              "      <td>7</td>\n",
              "      <td>7</td>\n",
              "      <td>7</td>\n",
              "    </tr>\n",
              "    <tr>\n",
              "      <th>week_of_year</th>\n",
              "      <td>31</td>\n",
              "      <td>31</td>\n",
              "      <td>31</td>\n",
              "      <td>31</td>\n",
              "      <td>31</td>\n",
              "    </tr>\n",
              "    <tr>\n",
              "      <th>day</th>\n",
              "      <td>31</td>\n",
              "      <td>31</td>\n",
              "      <td>31</td>\n",
              "      <td>31</td>\n",
              "      <td>31</td>\n",
              "    </tr>\n",
              "    <tr>\n",
              "      <th>year_week</th>\n",
              "      <td>2015-30</td>\n",
              "      <td>2015-30</td>\n",
              "      <td>2015-30</td>\n",
              "      <td>2015-30</td>\n",
              "      <td>2015-30</td>\n",
              "    </tr>\n",
              "    <tr>\n",
              "      <th>competition_since</th>\n",
              "      <td>2008-09-01 00:00:00</td>\n",
              "      <td>2007-11-01 00:00:00</td>\n",
              "      <td>2006-12-01 00:00:00</td>\n",
              "      <td>2009-09-01 00:00:00</td>\n",
              "      <td>2015-04-01 00:00:00</td>\n",
              "    </tr>\n",
              "    <tr>\n",
              "      <th>competition_time_month</th>\n",
              "      <td>84</td>\n",
              "      <td>94</td>\n",
              "      <td>105</td>\n",
              "      <td>71</td>\n",
              "      <td>4</td>\n",
              "    </tr>\n",
              "    <tr>\n",
              "      <th>promo_since</th>\n",
              "      <td>2015-07-27 00:00:00</td>\n",
              "      <td>2010-03-22 00:00:00</td>\n",
              "      <td>2011-03-28 00:00:00</td>\n",
              "      <td>2015-07-27 00:00:00</td>\n",
              "      <td>2015-07-27 00:00:00</td>\n",
              "    </tr>\n",
              "    <tr>\n",
              "      <th>promo_time_week</th>\n",
              "      <td>0</td>\n",
              "      <td>279</td>\n",
              "      <td>226</td>\n",
              "      <td>0</td>\n",
              "      <td>0</td>\n",
              "    </tr>\n",
              "  </tbody>\n",
              "</table>\n",
              "</div>\n",
              "      <button class=\"colab-df-convert\" onclick=\"convertToInteractive('df-df56d683-3a8a-4f15-841c-ecadfeec8c51')\"\n",
              "              title=\"Convert this dataframe to an interactive table.\"\n",
              "              style=\"display:none;\">\n",
              "        \n",
              "  <svg xmlns=\"http://www.w3.org/2000/svg\" height=\"24px\"viewBox=\"0 0 24 24\"\n",
              "       width=\"24px\">\n",
              "    <path d=\"M0 0h24v24H0V0z\" fill=\"none\"/>\n",
              "    <path d=\"M18.56 5.44l.94 2.06.94-2.06 2.06-.94-2.06-.94-.94-2.06-.94 2.06-2.06.94zm-11 1L8.5 8.5l.94-2.06 2.06-.94-2.06-.94L8.5 2.5l-.94 2.06-2.06.94zm10 10l.94 2.06.94-2.06 2.06-.94-2.06-.94-.94-2.06-.94 2.06-2.06.94z\"/><path d=\"M17.41 7.96l-1.37-1.37c-.4-.4-.92-.59-1.43-.59-.52 0-1.04.2-1.43.59L10.3 9.45l-7.72 7.72c-.78.78-.78 2.05 0 2.83L4 21.41c.39.39.9.59 1.41.59.51 0 1.02-.2 1.41-.59l7.78-7.78 2.81-2.81c.8-.78.8-2.07 0-2.86zM5.41 20L4 18.59l7.72-7.72 1.47 1.35L5.41 20z\"/>\n",
              "  </svg>\n",
              "      </button>\n",
              "      \n",
              "  <style>\n",
              "    .colab-df-container {\n",
              "      display:flex;\n",
              "      flex-wrap:wrap;\n",
              "      gap: 12px;\n",
              "    }\n",
              "\n",
              "    .colab-df-convert {\n",
              "      background-color: #E8F0FE;\n",
              "      border: none;\n",
              "      border-radius: 50%;\n",
              "      cursor: pointer;\n",
              "      display: none;\n",
              "      fill: #1967D2;\n",
              "      height: 32px;\n",
              "      padding: 0 0 0 0;\n",
              "      width: 32px;\n",
              "    }\n",
              "\n",
              "    .colab-df-convert:hover {\n",
              "      background-color: #E2EBFA;\n",
              "      box-shadow: 0px 1px 2px rgba(60, 64, 67, 0.3), 0px 1px 3px 1px rgba(60, 64, 67, 0.15);\n",
              "      fill: #174EA6;\n",
              "    }\n",
              "\n",
              "    [theme=dark] .colab-df-convert {\n",
              "      background-color: #3B4455;\n",
              "      fill: #D2E3FC;\n",
              "    }\n",
              "\n",
              "    [theme=dark] .colab-df-convert:hover {\n",
              "      background-color: #434B5C;\n",
              "      box-shadow: 0px 1px 3px 1px rgba(0, 0, 0, 0.15);\n",
              "      filter: drop-shadow(0px 1px 2px rgba(0, 0, 0, 0.3));\n",
              "      fill: #FFFFFF;\n",
              "    }\n",
              "  </style>\n",
              "\n",
              "      <script>\n",
              "        const buttonEl =\n",
              "          document.querySelector('#df-df56d683-3a8a-4f15-841c-ecadfeec8c51 button.colab-df-convert');\n",
              "        buttonEl.style.display =\n",
              "          google.colab.kernel.accessAllowed ? 'block' : 'none';\n",
              "\n",
              "        async function convertToInteractive(key) {\n",
              "          const element = document.querySelector('#df-df56d683-3a8a-4f15-841c-ecadfeec8c51');\n",
              "          const dataTable =\n",
              "            await google.colab.kernel.invokeFunction('convertToInteractive',\n",
              "                                                     [key], {});\n",
              "          if (!dataTable) return;\n",
              "\n",
              "          const docLinkHtml = 'Like what you see? Visit the ' +\n",
              "            '<a target=\"_blank\" href=https://colab.research.google.com/notebooks/data_table.ipynb>data table notebook</a>'\n",
              "            + ' to learn more about interactive tables.';\n",
              "          element.innerHTML = '';\n",
              "          dataTable['output_type'] = 'display_data';\n",
              "          await google.colab.output.renderOutput(dataTable, element);\n",
              "          const docLink = document.createElement('div');\n",
              "          docLink.innerHTML = docLinkHtml;\n",
              "          element.appendChild(docLink);\n",
              "        }\n",
              "      </script>\n",
              "    </div>\n",
              "  </div>\n",
              "  "
            ]
          },
          "metadata": {},
          "execution_count": 24
        }
      ],
      "source": [
        "df2.head().T"
      ]
    },
    {
      "cell_type": "code",
      "execution_count": null,
      "metadata": {
        "id": "ZomEZ7xw_B0s",
        "colab": {
          "base_uri": "https://localhost:8080/"
        },
        "outputId": "259a3bdf-ee8c-401d-cb0c-0459082b461f"
      },
      "outputs": [
        {
          "output_type": "execute_result",
          "data": {
            "text/plain": [
              "store                                    int64\n",
              "day_of_week                              int64\n",
              "date                            datetime64[ns]\n",
              "sales                                    int64\n",
              "customers                                int64\n",
              "open                                     int64\n",
              "promo                                    int64\n",
              "state_holiday                           object\n",
              "school_holiday                           int64\n",
              "store_type                              object\n",
              "assortment                              object\n",
              "competition_distance                   float64\n",
              "competition_open_since_month             int64\n",
              "competition_open_since_year              int64\n",
              "promo2                                   int64\n",
              "promo2_since_week                        int64\n",
              "promo2_since_year                        int64\n",
              "promo_interval                          object\n",
              "month_map                               object\n",
              "is_promo                                 int64\n",
              "year                                     int64\n",
              "month                                    int64\n",
              "week_of_year                            UInt32\n",
              "day                                      int64\n",
              "year_week                               object\n",
              "competition_since               datetime64[ns]\n",
              "competition_time_month                   int64\n",
              "promo_since                     datetime64[ns]\n",
              "promo_time_week                          int64\n",
              "dtype: object"
            ]
          },
          "metadata": {},
          "execution_count": 25
        }
      ],
      "source": [
        "df2.dtypes"
      ]
    },
    {
      "cell_type": "markdown",
      "metadata": {
        "id": "NOnBQlChomPJ"
      },
      "source": [
        "## 3.0 Filtragem de Variaveis"
      ]
    },
    {
      "cell_type": "code",
      "execution_count": null,
      "metadata": {
        "id": "CZ24er1cosBA"
      },
      "outputs": [],
      "source": [
        "df3 = df2.copy()"
      ]
    },
    {
      "cell_type": "code",
      "execution_count": null,
      "metadata": {
        "id": "3zYsW0Skp5S3",
        "colab": {
          "base_uri": "https://localhost:8080/"
        },
        "outputId": "bade8fb9-8988-4b13-c508-fec0c7cd06ed"
      },
      "outputs": [
        {
          "output_type": "execute_result",
          "data": {
            "text/plain": [
              "   store  day_of_week       date  sales  customers  open  promo state_holiday  \\\n",
              "0      1            5 2015-07-31   5263        555     1      1   regular_day   \n",
              "1      2            5 2015-07-31   6064        625     1      1   regular_day   \n",
              "2      3            5 2015-07-31   8314        821     1      1   regular_day   \n",
              "3      4            5 2015-07-31  13995       1498     1      1   regular_day   \n",
              "4      5            5 2015-07-31   4822        559     1      1   regular_day   \n",
              "\n",
              "   school_holiday store_type  ... is_promo  year  month  week_of_year  day  \\\n",
              "0               1          c  ...        0  2015      7            31   31   \n",
              "1               1          a  ...        1  2015      7            31   31   \n",
              "2               1          a  ...        1  2015      7            31   31   \n",
              "3               1          c  ...        0  2015      7            31   31   \n",
              "4               1          a  ...        0  2015      7            31   31   \n",
              "\n",
              "   year_week  competition_since competition_time_month promo_since  \\\n",
              "0    2015-30         2008-09-01                     84  2015-07-27   \n",
              "1    2015-30         2007-11-01                     94  2010-03-22   \n",
              "2    2015-30         2006-12-01                    105  2011-03-28   \n",
              "3    2015-30         2009-09-01                     71  2015-07-27   \n",
              "4    2015-30         2015-04-01                      4  2015-07-27   \n",
              "\n",
              "   promo_time_week  \n",
              "0                0  \n",
              "1              279  \n",
              "2              226  \n",
              "3                0  \n",
              "4                0  \n",
              "\n",
              "[5 rows x 29 columns]"
            ],
            "text/html": [
              "\n",
              "  <div id=\"df-159bc016-f682-47d8-84f8-0c7b2dde4b28\">\n",
              "    <div class=\"colab-df-container\">\n",
              "      <div>\n",
              "<style scoped>\n",
              "    .dataframe tbody tr th:only-of-type {\n",
              "        vertical-align: middle;\n",
              "    }\n",
              "\n",
              "    .dataframe tbody tr th {\n",
              "        vertical-align: top;\n",
              "    }\n",
              "\n",
              "    .dataframe thead th {\n",
              "        text-align: right;\n",
              "    }\n",
              "</style>\n",
              "<table border=\"1\" class=\"dataframe\">\n",
              "  <thead>\n",
              "    <tr style=\"text-align: right;\">\n",
              "      <th></th>\n",
              "      <th>store</th>\n",
              "      <th>day_of_week</th>\n",
              "      <th>date</th>\n",
              "      <th>sales</th>\n",
              "      <th>customers</th>\n",
              "      <th>open</th>\n",
              "      <th>promo</th>\n",
              "      <th>state_holiday</th>\n",
              "      <th>school_holiday</th>\n",
              "      <th>store_type</th>\n",
              "      <th>...</th>\n",
              "      <th>is_promo</th>\n",
              "      <th>year</th>\n",
              "      <th>month</th>\n",
              "      <th>week_of_year</th>\n",
              "      <th>day</th>\n",
              "      <th>year_week</th>\n",
              "      <th>competition_since</th>\n",
              "      <th>competition_time_month</th>\n",
              "      <th>promo_since</th>\n",
              "      <th>promo_time_week</th>\n",
              "    </tr>\n",
              "  </thead>\n",
              "  <tbody>\n",
              "    <tr>\n",
              "      <th>0</th>\n",
              "      <td>1</td>\n",
              "      <td>5</td>\n",
              "      <td>2015-07-31</td>\n",
              "      <td>5263</td>\n",
              "      <td>555</td>\n",
              "      <td>1</td>\n",
              "      <td>1</td>\n",
              "      <td>regular_day</td>\n",
              "      <td>1</td>\n",
              "      <td>c</td>\n",
              "      <td>...</td>\n",
              "      <td>0</td>\n",
              "      <td>2015</td>\n",
              "      <td>7</td>\n",
              "      <td>31</td>\n",
              "      <td>31</td>\n",
              "      <td>2015-30</td>\n",
              "      <td>2008-09-01</td>\n",
              "      <td>84</td>\n",
              "      <td>2015-07-27</td>\n",
              "      <td>0</td>\n",
              "    </tr>\n",
              "    <tr>\n",
              "      <th>1</th>\n",
              "      <td>2</td>\n",
              "      <td>5</td>\n",
              "      <td>2015-07-31</td>\n",
              "      <td>6064</td>\n",
              "      <td>625</td>\n",
              "      <td>1</td>\n",
              "      <td>1</td>\n",
              "      <td>regular_day</td>\n",
              "      <td>1</td>\n",
              "      <td>a</td>\n",
              "      <td>...</td>\n",
              "      <td>1</td>\n",
              "      <td>2015</td>\n",
              "      <td>7</td>\n",
              "      <td>31</td>\n",
              "      <td>31</td>\n",
              "      <td>2015-30</td>\n",
              "      <td>2007-11-01</td>\n",
              "      <td>94</td>\n",
              "      <td>2010-03-22</td>\n",
              "      <td>279</td>\n",
              "    </tr>\n",
              "    <tr>\n",
              "      <th>2</th>\n",
              "      <td>3</td>\n",
              "      <td>5</td>\n",
              "      <td>2015-07-31</td>\n",
              "      <td>8314</td>\n",
              "      <td>821</td>\n",
              "      <td>1</td>\n",
              "      <td>1</td>\n",
              "      <td>regular_day</td>\n",
              "      <td>1</td>\n",
              "      <td>a</td>\n",
              "      <td>...</td>\n",
              "      <td>1</td>\n",
              "      <td>2015</td>\n",
              "      <td>7</td>\n",
              "      <td>31</td>\n",
              "      <td>31</td>\n",
              "      <td>2015-30</td>\n",
              "      <td>2006-12-01</td>\n",
              "      <td>105</td>\n",
              "      <td>2011-03-28</td>\n",
              "      <td>226</td>\n",
              "    </tr>\n",
              "    <tr>\n",
              "      <th>3</th>\n",
              "      <td>4</td>\n",
              "      <td>5</td>\n",
              "      <td>2015-07-31</td>\n",
              "      <td>13995</td>\n",
              "      <td>1498</td>\n",
              "      <td>1</td>\n",
              "      <td>1</td>\n",
              "      <td>regular_day</td>\n",
              "      <td>1</td>\n",
              "      <td>c</td>\n",
              "      <td>...</td>\n",
              "      <td>0</td>\n",
              "      <td>2015</td>\n",
              "      <td>7</td>\n",
              "      <td>31</td>\n",
              "      <td>31</td>\n",
              "      <td>2015-30</td>\n",
              "      <td>2009-09-01</td>\n",
              "      <td>71</td>\n",
              "      <td>2015-07-27</td>\n",
              "      <td>0</td>\n",
              "    </tr>\n",
              "    <tr>\n",
              "      <th>4</th>\n",
              "      <td>5</td>\n",
              "      <td>5</td>\n",
              "      <td>2015-07-31</td>\n",
              "      <td>4822</td>\n",
              "      <td>559</td>\n",
              "      <td>1</td>\n",
              "      <td>1</td>\n",
              "      <td>regular_day</td>\n",
              "      <td>1</td>\n",
              "      <td>a</td>\n",
              "      <td>...</td>\n",
              "      <td>0</td>\n",
              "      <td>2015</td>\n",
              "      <td>7</td>\n",
              "      <td>31</td>\n",
              "      <td>31</td>\n",
              "      <td>2015-30</td>\n",
              "      <td>2015-04-01</td>\n",
              "      <td>4</td>\n",
              "      <td>2015-07-27</td>\n",
              "      <td>0</td>\n",
              "    </tr>\n",
              "  </tbody>\n",
              "</table>\n",
              "<p>5 rows × 29 columns</p>\n",
              "</div>\n",
              "      <button class=\"colab-df-convert\" onclick=\"convertToInteractive('df-159bc016-f682-47d8-84f8-0c7b2dde4b28')\"\n",
              "              title=\"Convert this dataframe to an interactive table.\"\n",
              "              style=\"display:none;\">\n",
              "        \n",
              "  <svg xmlns=\"http://www.w3.org/2000/svg\" height=\"24px\"viewBox=\"0 0 24 24\"\n",
              "       width=\"24px\">\n",
              "    <path d=\"M0 0h24v24H0V0z\" fill=\"none\"/>\n",
              "    <path d=\"M18.56 5.44l.94 2.06.94-2.06 2.06-.94-2.06-.94-.94-2.06-.94 2.06-2.06.94zm-11 1L8.5 8.5l.94-2.06 2.06-.94-2.06-.94L8.5 2.5l-.94 2.06-2.06.94zm10 10l.94 2.06.94-2.06 2.06-.94-2.06-.94-.94-2.06-.94 2.06-2.06.94z\"/><path d=\"M17.41 7.96l-1.37-1.37c-.4-.4-.92-.59-1.43-.59-.52 0-1.04.2-1.43.59L10.3 9.45l-7.72 7.72c-.78.78-.78 2.05 0 2.83L4 21.41c.39.39.9.59 1.41.59.51 0 1.02-.2 1.41-.59l7.78-7.78 2.81-2.81c.8-.78.8-2.07 0-2.86zM5.41 20L4 18.59l7.72-7.72 1.47 1.35L5.41 20z\"/>\n",
              "  </svg>\n",
              "      </button>\n",
              "      \n",
              "  <style>\n",
              "    .colab-df-container {\n",
              "      display:flex;\n",
              "      flex-wrap:wrap;\n",
              "      gap: 12px;\n",
              "    }\n",
              "\n",
              "    .colab-df-convert {\n",
              "      background-color: #E8F0FE;\n",
              "      border: none;\n",
              "      border-radius: 50%;\n",
              "      cursor: pointer;\n",
              "      display: none;\n",
              "      fill: #1967D2;\n",
              "      height: 32px;\n",
              "      padding: 0 0 0 0;\n",
              "      width: 32px;\n",
              "    }\n",
              "\n",
              "    .colab-df-convert:hover {\n",
              "      background-color: #E2EBFA;\n",
              "      box-shadow: 0px 1px 2px rgba(60, 64, 67, 0.3), 0px 1px 3px 1px rgba(60, 64, 67, 0.15);\n",
              "      fill: #174EA6;\n",
              "    }\n",
              "\n",
              "    [theme=dark] .colab-df-convert {\n",
              "      background-color: #3B4455;\n",
              "      fill: #D2E3FC;\n",
              "    }\n",
              "\n",
              "    [theme=dark] .colab-df-convert:hover {\n",
              "      background-color: #434B5C;\n",
              "      box-shadow: 0px 1px 3px 1px rgba(0, 0, 0, 0.15);\n",
              "      filter: drop-shadow(0px 1px 2px rgba(0, 0, 0, 0.3));\n",
              "      fill: #FFFFFF;\n",
              "    }\n",
              "  </style>\n",
              "\n",
              "      <script>\n",
              "        const buttonEl =\n",
              "          document.querySelector('#df-159bc016-f682-47d8-84f8-0c7b2dde4b28 button.colab-df-convert');\n",
              "        buttonEl.style.display =\n",
              "          google.colab.kernel.accessAllowed ? 'block' : 'none';\n",
              "\n",
              "        async function convertToInteractive(key) {\n",
              "          const element = document.querySelector('#df-159bc016-f682-47d8-84f8-0c7b2dde4b28');\n",
              "          const dataTable =\n",
              "            await google.colab.kernel.invokeFunction('convertToInteractive',\n",
              "                                                     [key], {});\n",
              "          if (!dataTable) return;\n",
              "\n",
              "          const docLinkHtml = 'Like what you see? Visit the ' +\n",
              "            '<a target=\"_blank\" href=https://colab.research.google.com/notebooks/data_table.ipynb>data table notebook</a>'\n",
              "            + ' to learn more about interactive tables.';\n",
              "          element.innerHTML = '';\n",
              "          dataTable['output_type'] = 'display_data';\n",
              "          await google.colab.output.renderOutput(dataTable, element);\n",
              "          const docLink = document.createElement('div');\n",
              "          docLink.innerHTML = docLinkHtml;\n",
              "          element.appendChild(docLink);\n",
              "        }\n",
              "      </script>\n",
              "    </div>\n",
              "  </div>\n",
              "  "
            ]
          },
          "metadata": {},
          "execution_count": 27
        }
      ],
      "source": [
        "df3.head()"
      ]
    },
    {
      "cell_type": "markdown",
      "metadata": {
        "id": "3Huicvcmpt2j"
      },
      "source": [
        "### 3.1 Filtragem das linhas"
      ]
    },
    {
      "cell_type": "code",
      "execution_count": null,
      "metadata": {
        "id": "Z31ZpQp2or9w"
      },
      "outputs": [],
      "source": [
        "df3 = df3[(df3['open'] != 0) & (df3['sales'] > 0)] "
      ]
    },
    {
      "cell_type": "markdown",
      "metadata": {
        "id": "gPgnKm-OpxxB"
      },
      "source": [
        "### 3.2 Seleção das Colunas"
      ]
    },
    {
      "cell_type": "code",
      "execution_count": null,
      "metadata": {
        "id": "AuyUYauWorrg"
      },
      "outputs": [],
      "source": [
        "cols_drop = ['customers', 'open', 'month_map', 'promo_interval']\n",
        "df3 = df3.drop(cols_drop, axis=1)"
      ]
    },
    {
      "cell_type": "markdown",
      "metadata": {
        "id": "ukY58um4RAYb"
      },
      "source": [
        "# 4.0 Analise Exploratoria dos Dados (EDA)"
      ]
    },
    {
      "cell_type": "code",
      "execution_count": null,
      "metadata": {
        "id": "NzCvlrC_RILg"
      },
      "outputs": [],
      "source": [
        "df4 = df3.copy()"
      ]
    },
    {
      "cell_type": "markdown",
      "metadata": {
        "id": "MSx9eY0zSAOo"
      },
      "source": [
        "## 4.1 Analise Univaridada\n"
      ]
    },
    {
      "cell_type": "markdown",
      "metadata": {
        "id": "2eKFLjRVSgdZ"
      },
      "source": [
        "### 4.1.1 Response Variable"
      ]
    },
    {
      "cell_type": "code",
      "execution_count": null,
      "metadata": {
        "id": "tt7rJXj5S0zm",
        "colab": {
          "base_uri": "https://localhost:8080/",
          "height": 354
        },
        "outputId": "47e8be62-367f-41ac-dccd-bae86a40187f"
      },
      "outputs": [
        {
          "output_type": "stream",
          "name": "stderr",
          "text": [
            "/usr/local/lib/python3.8/dist-packages/seaborn/distributions.py:2619: FutureWarning: `distplot` is a deprecated function and will be removed in a future version. Please adapt your code to use either `displot` (a figure-level function with similar flexibility) or `histplot` (an axes-level function for histograms).\n",
            "  warnings.warn(msg, FutureWarning)\n"
          ]
        },
        {
          "output_type": "execute_result",
          "data": {
            "text/plain": [
              "<matplotlib.axes._subplots.AxesSubplot at 0x7f34b6d36ac0>"
            ]
          },
          "metadata": {},
          "execution_count": 31
        },
        {
          "output_type": "display_data",
          "data": {
            "text/plain": [
              "<Figure size 432x288 with 1 Axes>"
            ],
            "image/png": "[encoded data removed]"
          },
          "metadata": {
            "needs_background": "light"
          }
        }
      ],
      "source": [
        "sns.distplot(df4['sales'])\n",
        "\n",
        "# Analise do Grafico Resultante:\n",
        "## Tem formato de sino\n",
        "## Tem [Curtose]\n",
        "## Tem [Skew] pra esquerda, Logo é positiva\n",
        "## Pode Nao estar centrada, mas é um problema problemas\n",
        "## Está bem proxima à [Normal], mas nao é [Normal]"
      ]
    },
    {
      "cell_type": "markdown",
      "metadata": {
        "id": "fYABeU6QSghQ"
      },
      "source": [
        "### 4.1.2 Numerical Variable"
      ]
    },
    {
      "cell_type": "code",
      "execution_count": null,
      "metadata": {
        "id": "CvUATmj2aCT6",
        "colab": {
          "base_uri": "https://localhost:8080/",
          "height": 595
        },
        "outputId": "9414d18e-30a2-4f6a-e170-90a3f2ff92eb"
      },
      "outputs": [
        {
          "output_type": "execute_result",
          "data": {
            "text/plain": [
              "array([[<matplotlib.axes._subplots.AxesSubplot object at 0x7f34bfb11070>,\n",
              "        <matplotlib.axes._subplots.AxesSubplot object at 0x7f34bfae84f0>,\n",
              "        <matplotlib.axes._subplots.AxesSubplot object at 0x7f34a8b1d940>,\n",
              "        <matplotlib.axes._subplots.AxesSubplot object at 0x7f34a8489d30>],\n",
              "       [<matplotlib.axes._subplots.AxesSubplot object at 0x7f3497bbd160>,\n",
              "        <matplotlib.axes._subplots.AxesSubplot object at 0x7f3497be84c0>,\n",
              "        <matplotlib.axes._subplots.AxesSubplot object at 0x7f3497be85b0>,\n",
              "        <matplotlib.axes._subplots.AxesSubplot object at 0x7f3497b55a00>],\n",
              "       [<matplotlib.axes._subplots.AxesSubplot object at 0x7f3496ce6190>,\n",
              "        <matplotlib.axes._subplots.AxesSubplot object at 0x7f3496c285b0>,\n",
              "        <matplotlib.axes._subplots.AxesSubplot object at 0x7f3496818a00>,\n",
              "        <matplotlib.axes._subplots.AxesSubplot object at 0x7f34c02e6df0>],\n",
              "       [<matplotlib.axes._subplots.AxesSubplot object at 0x7f34a8fa8220>,\n",
              "        <matplotlib.axes._subplots.AxesSubplot object at 0x7f34a8f98610>,\n",
              "        <matplotlib.axes._subplots.AxesSubplot object at 0x7f349619e940>,\n",
              "        <matplotlib.axes._subplots.AxesSubplot object at 0x7f34b6d25340>]],\n",
              "      dtype=object)"
            ]
          },
          "metadata": {},
          "execution_count": 32
        },
        {
          "output_type": "display_data",
          "data": {
            "text/plain": [
              "<Figure size 432x288 with 16 Axes>"
            ],
            "image/png": "[encoded data removed]"
          },
          "metadata": {
            "needs_background": "light"
          }
        }
      ],
      "source": [
        "num_attributes.hist( bins=25)\n",
        "\n",
        "\n",
        "# Analise dos graficos das variaveis\n",
        "# o promo2_since_week te fica bem maior depois prox as semenas 0, 10, 20, 30 e 40\n",
        "# o competition distance fica muito maior perto do do zero, o que quer dizer que temos muitas lojas com competidores perto\n",
        "# o comptetitin open since month dica maior nos meses 4 e 9 e o primeiro quarter é totalmente crescente, enquanto o segundo é crescente ate o ultimo mes do quarter, ja o 3 quarter tem seu pico no primeiro mes\n",
        "# a lista is_promo fica maior no 0, por que a maioria das lojas nao fez a venda em promoçao\n",
        "# no atributo open loja tem mais dias abertos que fechados\n",
        "# no grafico de promo, o numero de lojas com promo é quase metade das que nao tem promo\n",
        "# "
      ]
    },
    {
      "cell_type": "markdown",
      "metadata": {
        "id": "vOFuY5xXSgZ4"
      },
      "source": [
        "### 4.1.3 Categorical Variable"
      ]
    },
    {
      "cell_type": "code",
      "execution_count": null,
      "metadata": {
        "id": "xZv7MWXeaIUZ",
        "colab": {
          "base_uri": "https://localhost:8080/",
          "height": 206
        },
        "outputId": "19b28324-78a1-486f-8ebb-12b8732596db"
      },
      "outputs": [
        {
          "output_type": "execute_result",
          "data": {
            "text/plain": [
              "        date state_holiday store_type assortment   promo_interval month_map\n",
              "0 2015-07-31             0          c          a                0       Jul\n",
              "1 2015-07-31             0          a          a  Jan,Apr,Jul,Oct       Jul\n",
              "2 2015-07-31             0          a          a  Jan,Apr,Jul,Oct       Jul\n",
              "3 2015-07-31             0          c          c                0       Jul\n",
              "4 2015-07-31             0          a          a                0       Jul"
            ],
            "text/html": [
              "\n",
              "  <div id=\"df-5a146713-ce06-4971-93dc-2a36a0c445ea\">\n",
              "    <div class=\"colab-df-container\">\n",
              "      <div>\n",
              "<style scoped>\n",
              "    .dataframe tbody tr th:only-of-type {\n",
              "        vertical-align: middle;\n",
              "    }\n",
              "\n",
              "    .dataframe tbody tr th {\n",
              "        vertical-align: top;\n",
              "    }\n",
              "\n",
              "    .dataframe thead th {\n",
              "        text-align: right;\n",
              "    }\n",
              "</style>\n",
              "<table border=\"1\" class=\"dataframe\">\n",
              "  <thead>\n",
              "    <tr style=\"text-align: right;\">\n",
              "      <th></th>\n",
              "      <th>date</th>\n",
              "      <th>state_holiday</th>\n",
              "      <th>store_type</th>\n",
              "      <th>assortment</th>\n",
              "      <th>promo_interval</th>\n",
              "      <th>month_map</th>\n",
              "    </tr>\n",
              "  </thead>\n",
              "  <tbody>\n",
              "    <tr>\n",
              "      <th>0</th>\n",
              "      <td>2015-07-31</td>\n",
              "      <td>0</td>\n",
              "      <td>c</td>\n",
              "      <td>a</td>\n",
              "      <td>0</td>\n",
              "      <td>Jul</td>\n",
              "    </tr>\n",
              "    <tr>\n",
              "      <th>1</th>\n",
              "      <td>2015-07-31</td>\n",
              "      <td>0</td>\n",
              "      <td>a</td>\n",
              "      <td>a</td>\n",
              "      <td>Jan,Apr,Jul,Oct</td>\n",
              "      <td>Jul</td>\n",
              "    </tr>\n",
              "    <tr>\n",
              "      <th>2</th>\n",
              "      <td>2015-07-31</td>\n",
              "      <td>0</td>\n",
              "      <td>a</td>\n",
              "      <td>a</td>\n",
              "      <td>Jan,Apr,Jul,Oct</td>\n",
              "      <td>Jul</td>\n",
              "    </tr>\n",
              "    <tr>\n",
              "      <th>3</th>\n",
              "      <td>2015-07-31</td>\n",
              "      <td>0</td>\n",
              "      <td>c</td>\n",
              "      <td>c</td>\n",
              "      <td>0</td>\n",
              "      <td>Jul</td>\n",
              "    </tr>\n",
              "    <tr>\n",
              "      <th>4</th>\n",
              "      <td>2015-07-31</td>\n",
              "      <td>0</td>\n",
              "      <td>a</td>\n",
              "      <td>a</td>\n",
              "      <td>0</td>\n",
              "      <td>Jul</td>\n",
              "    </tr>\n",
              "  </tbody>\n",
              "</table>\n",
              "</div>\n",
              "      <button class=\"colab-df-convert\" onclick=\"convertToInteractive('df-5a146713-ce06-4971-93dc-2a36a0c445ea')\"\n",
              "              title=\"Convert this dataframe to an interactive table.\"\n",
              "              style=\"display:none;\">\n",
              "        \n",
              "  <svg xmlns=\"http://www.w3.org/2000/svg\" height=\"24px\"viewBox=\"0 0 24 24\"\n",
              "       width=\"24px\">\n",
              "    <path d=\"M0 0h24v24H0V0z\" fill=\"none\"/>\n",
              "    <path d=\"M18.56 5.44l.94 2.06.94-2.06 2.06-.94-2.06-.94-.94-2.06-.94 2.06-2.06.94zm-11 1L8.5 8.5l.94-2.06 2.06-.94-2.06-.94L8.5 2.5l-.94 2.06-2.06.94zm10 10l.94 2.06.94-2.06 2.06-.94-2.06-.94-.94-2.06-.94 2.06-2.06.94z\"/><path d=\"M17.41 7.96l-1.37-1.37c-.4-.4-.92-.59-1.43-.59-.52 0-1.04.2-1.43.59L10.3 9.45l-7.72 7.72c-.78.78-.78 2.05 0 2.83L4 21.41c.39.39.9.59 1.41.59.51 0 1.02-.2 1.41-.59l7.78-7.78 2.81-2.81c.8-.78.8-2.07 0-2.86zM5.41 20L4 18.59l7.72-7.72 1.47 1.35L5.41 20z\"/>\n",
              "  </svg>\n",
              "      </button>\n",
              "      \n",
              "  <style>\n",
              "    .colab-df-container {\n",
              "      display:flex;\n",
              "      flex-wrap:wrap;\n",
              "      gap: 12px;\n",
              "    }\n",
              "\n",
              "    .colab-df-convert {\n",
              "      background-color: #E8F0FE;\n",
              "      border: none;\n",
              "      border-radius: 50%;\n",
              "      cursor: pointer;\n",
              "      display: none;\n",
              "      fill: #1967D2;\n",
              "      height: 32px;\n",
              "      padding: 0 0 0 0;\n",
              "      width: 32px;\n",
              "    }\n",
              "\n",
              "    .colab-df-convert:hover {\n",
              "      background-color: #E2EBFA;\n",
              "      box-shadow: 0px 1px 2px rgba(60, 64, 67, 0.3), 0px 1px 3px 1px rgba(60, 64, 67, 0.15);\n",
              "      fill: #174EA6;\n",
              "    }\n",
              "\n",
              "    [theme=dark] .colab-df-convert {\n",
              "      background-color: #3B4455;\n",
              "      fill: #D2E3FC;\n",
              "    }\n",
              "\n",
              "    [theme=dark] .colab-df-convert:hover {\n",
              "      background-color: #434B5C;\n",
              "      box-shadow: 0px 1px 3px 1px rgba(0, 0, 0, 0.15);\n",
              "      filter: drop-shadow(0px 1px 2px rgba(0, 0, 0, 0.3));\n",
              "      fill: #FFFFFF;\n",
              "    }\n",
              "  </style>\n",
              "\n",
              "      <script>\n",
              "        const buttonEl =\n",
              "          document.querySelector('#df-5a146713-ce06-4971-93dc-2a36a0c445ea button.colab-df-convert');\n",
              "        buttonEl.style.display =\n",
              "          google.colab.kernel.accessAllowed ? 'block' : 'none';\n",
              "\n",
              "        async function convertToInteractive(key) {\n",
              "          const element = document.querySelector('#df-5a146713-ce06-4971-93dc-2a36a0c445ea');\n",
              "          const dataTable =\n",
              "            await google.colab.kernel.invokeFunction('convertToInteractive',\n",
              "                                                     [key], {});\n",
              "          if (!dataTable) return;\n",
              "\n",
              "          const docLinkHtml = 'Like what you see? Visit the ' +\n",
              "            '<a target=\"_blank\" href=https://colab.research.google.com/notebooks/data_table.ipynb>data table notebook</a>'\n",
              "            + ' to learn more about interactive tables.';\n",
              "          element.innerHTML = '';\n",
              "          dataTable['output_type'] = 'display_data';\n",
              "          await google.colab.output.renderOutput(dataTable, element);\n",
              "          const docLink = document.createElement('div');\n",
              "          docLink.innerHTML = docLinkHtml;\n",
              "          element.appendChild(docLink);\n",
              "        }\n",
              "      </script>\n",
              "    </div>\n",
              "  </div>\n",
              "  "
            ]
          },
          "metadata": {},
          "execution_count": 33
        }
      ],
      "source": [
        "cat_attributes.head()"
      ]
    },
    {
      "cell_type": "code",
      "execution_count": null,
      "metadata": {
        "id": "5voLYk6J6jw8",
        "colab": {
          "base_uri": "https://localhost:8080/"
        },
        "outputId": "701f8b1d-75ee-4309-bd5f-a70bd0b4ea38"
      },
      "outputs": [
        {
          "output_type": "execute_result",
          "data": {
            "text/plain": [
              "0         basic\n",
              "3      extended\n",
              "258       extra\n",
              "Name: assortment, dtype: object"
            ]
          },
          "metadata": {},
          "execution_count": 34
        }
      ],
      "source": [
        "df4['assortment'].drop_duplicates()"
      ]
    },
    {
      "cell_type": "code",
      "execution_count": null,
      "metadata": {
        "id": "Et4A1D-FRHez",
        "colab": {
          "base_uri": "https://localhost:8080/",
          "height": 354
        },
        "outputId": "db5c0869-f580-4851-cfe0-9b39922137e8"
      },
      "outputs": [
        {
          "output_type": "stream",
          "name": "stderr",
          "text": [
            "/usr/local/lib/python3.8/dist-packages/seaborn/_decorators.py:36: FutureWarning: Pass the following variable as a keyword arg: x. From version 0.12, the only valid positional argument will be `data`, and passing other arguments without an explicit keyword will result in an error or misinterpretation.\n",
            "  warnings.warn(\n"
          ]
        },
        {
          "output_type": "execute_result",
          "data": {
            "text/plain": [
              "<matplotlib.axes._subplots.AxesSubplot at 0x7f34ca4a8f40>"
            ]
          },
          "metadata": {},
          "execution_count": 35
        },
        {
          "output_type": "display_data",
          "data": {
            "text/plain": [
              "<Figure size 432x288 with 1 Axes>"
            ],
            "image/png": "[encoded data removed]"
          },
          "metadata": {
            "needs_background": "light"
          }
        }
      ],
      "source": [
        "sns.countplot(df4['assortment'])"
      ]
    },
    {
      "cell_type": "code",
      "execution_count": null,
      "metadata": {
        "id": "y1ERI01zQ-5J"
      },
      "outputs": [],
      "source": []
    },
    {
      "cell_type": "code",
      "execution_count": null,
      "metadata": {
        "id": "WYiwORpt8ch3",
        "colab": {
          "base_uri": "https://localhost:8080/",
          "height": 698
        },
        "outputId": "9bf63eab-add6-42ea-997a-001504797c3f"
      },
      "outputs": [
        {
          "output_type": "stream",
          "name": "stderr",
          "text": [
            "/usr/local/lib/python3.8/dist-packages/seaborn/_decorators.py:36: FutureWarning: Pass the following variable as a keyword arg: x. From version 0.12, the only valid positional argument will be `data`, and passing other arguments without an explicit keyword will result in an error or misinterpretation.\n",
            "  warnings.warn(\n",
            "<ipython-input-36-92a3b0a4a640>:17: MatplotlibDeprecationWarning: Adding an axes using the same arguments as a previous axes currently reuses the earlier instance.  In a future version, a new instance will always be created and returned.  Meanwhile, this warning can be suppressed, and the future behavior ensured, by passing a unique label to each axes instance.\n",
            "  plt.subplot(3 ,2, 2)\n",
            "<ipython-input-36-92a3b0a4a640>:19: MatplotlibDeprecationWarning: Adding an axes using the same arguments as a previous axes currently reuses the earlier instance.  In a future version, a new instance will always be created and returned.  Meanwhile, this warning can be suppressed, and the future behavior ensured, by passing a unique label to each axes instance.\n",
            "  plt.subplot(3 ,2, 2)\n",
            "/usr/local/lib/python3.8/dist-packages/seaborn/_decorators.py:36: FutureWarning: Pass the following variable as a keyword arg: x. From version 0.12, the only valid positional argument will be `data`, and passing other arguments without an explicit keyword will result in an error or misinterpretation.\n",
            "  warnings.warn(\n",
            "<ipython-input-36-92a3b0a4a640>:34: MatplotlibDeprecationWarning: Adding an axes using the same arguments as a previous axes currently reuses the earlier instance.  In a future version, a new instance will always be created and returned.  Meanwhile, this warning can be suppressed, and the future behavior ensured, by passing a unique label to each axes instance.\n",
            "  plt.subplot(3 ,2, 4)\n",
            "<ipython-input-36-92a3b0a4a640>:36: MatplotlibDeprecationWarning: Adding an axes using the same arguments as a previous axes currently reuses the earlier instance.  In a future version, a new instance will always be created and returned.  Meanwhile, this warning can be suppressed, and the future behavior ensured, by passing a unique label to each axes instance.\n",
            "  plt.subplot(3 ,2, 4)\n",
            "<ipython-input-36-92a3b0a4a640>:38: MatplotlibDeprecationWarning: Adding an axes using the same arguments as a previous axes currently reuses the earlier instance.  In a future version, a new instance will always be created and returned.  Meanwhile, this warning can be suppressed, and the future behavior ensured, by passing a unique label to each axes instance.\n",
            "  plt.subplot(3 ,2, 4)\n",
            "/usr/local/lib/python3.8/dist-packages/seaborn/_decorators.py:36: FutureWarning: Pass the following variable as a keyword arg: x. From version 0.12, the only valid positional argument will be `data`, and passing other arguments without an explicit keyword will result in an error or misinterpretation.\n",
            "  warnings.warn(\n",
            "<ipython-input-36-92a3b0a4a640>:53: MatplotlibDeprecationWarning: Adding an axes using the same arguments as a previous axes currently reuses the earlier instance.  In a future version, a new instance will always be created and returned.  Meanwhile, this warning can be suppressed, and the future behavior ensured, by passing a unique label to each axes instance.\n",
            "  plt.subplot(3 ,2, 6)\n",
            "<ipython-input-36-92a3b0a4a640>:55: MatplotlibDeprecationWarning: Adding an axes using the same arguments as a previous axes currently reuses the earlier instance.  In a future version, a new instance will always be created and returned.  Meanwhile, this warning can be suppressed, and the future behavior ensured, by passing a unique label to each axes instance.\n",
            "  plt.subplot(3 ,2, 6)\n"
          ]
        },
        {
          "output_type": "execute_result",
          "data": {
            "text/plain": [
              "<matplotlib.axes._subplots.AxesSubplot at 0x7f34ca26e7c0>"
            ]
          },
          "metadata": {},
          "execution_count": 36
        },
        {
          "output_type": "display_data",
          "data": {
            "text/plain": [
              "<Figure size 432x288 with 6 Axes>"
            ],
            "image/png": "[encoded data removed]"
          },
          "metadata": {
            "needs_background": "light"
          }
        }
      ],
      "source": [
        "# 'state_holiday'\n",
        "\n",
        "# criar um grid com subplot pra mostar os dois graficos sobrepostos\n",
        "# configurando a matriz com 1 linhas, duas colunas e plotando na primeira posição o primeiro grafico\n",
        "plt.subplot(3 ,2, 1)\n",
        "\n",
        "## aplicar um count para entender de volume de cada variavel \n",
        "a = df4[df4['state_holiday'] != 'regular_day'] # filtrando a variavel state+holiday por que ela se destaca mito em relação as outas, isso atrapalha a comparação das demais\n",
        "sns.countplot(a['state_holiday']) # aplicando um countplot pra mostrar um grafico da contagem de elementos\n",
        "# aplos essa analise, vemos que os feirados vem em ordem decrescente como: Feriados publicos, feriados estaduais e natal\n",
        "\n",
        "\n",
        "# aqui plotar o segundo grafico na segunda posição\n",
        "plt.subplot(3 ,2, 2)\n",
        "# usando o kdeplot pra filtrar o numero de vendas dos #feriados publicos, estaduais e natal respectivamente\n",
        "sns.kdeplot( df4[df4['state_holiday'] == 'public_holiday']['sales'], label = 'public_holiday', shade = True)\n",
        "plt.subplot(3 ,2, 2)\n",
        "sns.kdeplot( df4[df4['state_holiday'] == 'easter_holiday']['sales'], label = 'easter_holiday', shade = True)\n",
        "plt.subplot(3 ,2, 2)\n",
        "sns.kdeplot( df4[df4['state_holiday'] == 'christmas']['sales'], label = 'christmas', shade = True)\n",
        "\n",
        "\n",
        "\n",
        "# 'store_type'\n",
        "# vamos aplicar a mesma logica descrita na variavel state_holiday, contar quanto de cada um tem e mostrar a relaçao com vendas de cada 1\n",
        "plt.subplot(3 ,2, 3)\n",
        "sns.countplot(df4['store_type']) # aplicando um countplot pra mostrar um grafico da contagem de elementos\n",
        "\n",
        "\n",
        "# aqui plotar o segundo grafico na segunda posição\n",
        "plt.subplot(3 ,2, 4)\n",
        "# usando o kdeplot pra filtrar o numero de vendas dos tipos de loja: publicos, estaduais e natal respectivamente\n",
        "sns.kdeplot( df4[df4['store_type'] == 'a']['sales'], label = 'a', shade = True)\n",
        "plt.subplot(3 ,2, 4)\n",
        "sns.kdeplot( df4[df4['store_type'] == 'b']['sales'], label = 'b', shade = True)\n",
        "plt.subplot(3 ,2, 4)\n",
        "sns.kdeplot( df4[df4['store_type'] == 'c']['sales'], label = 'c', shade = True)\n",
        "plt.subplot(3 ,2, 4)\n",
        "sns.kdeplot( df4[df4['store_type'] == 'd']['sales'], label = 'd', shade = True)\n",
        "\n",
        "\n",
        "# 'assortment'\n",
        "# vamos aplicar a mesma logica descrita na variavel state_holiday, contar quanto de cada um tem e mostrar a relaçao com vendas de cada 1\n",
        "plt.subplot(3 ,2, 5)\n",
        "#a = df4[df4['store_type'] != 'regular_day'] # filtrando a variavel state+holiday por que ela se destaca mito em relação as outas, isso atrapalha a comparação das demais\n",
        "sns.countplot(df4['assortment']) # aplicando um countplot pra mostrar um grafico da contagem de elementos\n",
        "\n",
        "\n",
        "# aqui plotar o segundo grafico na segunda posição\n",
        "plt.subplot(3 ,2, 6)\n",
        "# usando o kdeplot pra filtrar o numero de vendas dos tipos de loja: publicos, estaduais e natal respectivamente\n",
        "sns.kdeplot( df4[df4['assortment'] == 'basic']['sales'], label = 'basic', shade = True)\n",
        "plt.subplot(3 ,2, 6)\n",
        "sns.kdeplot( df4[df4['assortment'] == 'extended']['sales'], label = 'extended', shade = True)\n",
        "plt.subplot(3 ,2, 6)\n",
        "sns.kdeplot( df4[df4['assortment'] == 'extra']['sales'], label = 'extra', shade = True)\n"
      ]
    },
    {
      "cell_type": "markdown",
      "metadata": {
        "id": "2dp8h-zKSS2j"
      },
      "source": [
        "## 4.2 Analise Bivariada"
      ]
    },
    {
      "cell_type": "markdown",
      "metadata": {
        "id": "LB-a5oLUER8W"
      },
      "source": [
        "####H1. Lojas com Maior Sortimento deverias vender mais\n",
        "\n",
        "RESULTADO: **Falso** \n",
        "\n",
        "- Lojas com Sortimento maior, <u>vendem menos \n"
      ]
    },
    {
      "cell_type": "code",
      "execution_count": null,
      "metadata": {
        "id": "LuI1afssaI-y",
        "colab": {
          "base_uri": "https://localhost:8080/"
        },
        "outputId": "54f82503-af20-400e-f162-730f15f3360e"
      },
      "outputs": [
        {
          "output_type": "display_data",
          "data": {
            "text/plain": [
              "<Figure size 432x288 with 1 Axes>"
            ],
            "image/png": "[encoded data removed]"
          },
          "metadata": {
            "needs_background": "light"
          }
        },
        {
          "output_type": "display_data",
          "data": {
            "text/plain": [
              "<Figure size 432x288 with 1 Axes>"
            ],
            "image/png": "[encoded data removed]"
          },
          "metadata": {
            "needs_background": "light"
          }
        },
        {
          "output_type": "display_data",
          "data": {
            "text/plain": [
              "<Figure size 432x288 with 1 Axes>"
            ],
            "image/png": "[encoded data removed]"
          },
          "metadata": {
            "needs_background": "light"
          }
        }
      ],
      "source": [
        "aux1 = df4[['assortment', 'sales']].groupby('assortment').sum().reset_index()\n",
        "sns.barplot(x='assortment', y='sales', data=aux1);\n",
        "\n",
        "# Resultados:\n",
        "## os assortments basic e extended tem praticamente o mesmo volume de vendas\n",
        "## o assortment extra na verdade tem menos vendas do que os outras duas categorias\n",
        "\n",
        "# nova hipotese: vamos analisar se a baixa venda do assortment seja na verdade uma variação pelo tempo\n",
        "aux2 = df4[['year_week','assortment', 'sales']].groupby(['year_week', 'assortment']).sum().reset_index()\n",
        "aux2.pivot(index='year_week', columns='assortment', values='sales').plot();\n",
        "\n",
        "aux3 = aux2[aux2['assortment'] == 'extra']\n",
        "aux3.pivot(index='year_week', columns='assortment', values='sales').plot();\n",
        "\n",
        "# RESULTADO DA HIPOTESE: Lojas com Sortimento maior, vendem menos (DESVALIDADO)"
      ]
    },
    {
      "cell_type": "markdown",
      "metadata": {
        "id": "jo84KxwFEYB2"
      },
      "source": [
        "####H2. Lojas com competidores mais proximos deveriam vender menos\n",
        "RESULTADO: **Falso**\n",
        "\n",
        "- Lojas com competidores mais proximos <u>vendem MUITO mais"
      ]
    },
    {
      "cell_type": "code",
      "execution_count": null,
      "metadata": {
        "id": "Gnv8KXo0Mvj_",
        "colab": {
          "base_uri": "https://localhost:8080/"
        },
        "outputId": "e5ba23af-bd78-4a72-f35e-86a7db548134"
      },
      "outputs": [
        {
          "output_type": "display_data",
          "data": {
            "text/plain": [
              "<Figure size 432x288 with 4 Axes>"
            ],
            "image/png": "[encoded data removed]"
          },
          "metadata": {
            "needs_background": "light"
          }
        }
      ],
      "source": [
        "# df auxiliar onde vamos agrupar as vendas pela distancia do competidor de cada loja\n",
        "aux1 = df4[['competition_distance', 'sales']].groupby('competition_distance').sum().reset_index()\n",
        "\n",
        "# Grafico de pontos: pra ter uma visao melhor dos dados muitos granulares\n",
        "plt.subplot(1, 3, 1)\n",
        "sns.scatterplot(x='competition_distance', y='sales', data=aux1)\n",
        "\n",
        "\n",
        "# Grafico de Barras para entender a distribuição das vendas em grupos de distancias\n",
        "plt.subplot(1, 3, 2)\n",
        "bins = list(np.arange(0, 20000, 1000)) # criando grupos de arrays que vao de 0 ate 20000 e agrupa os elementos de 1000 em 1000\n",
        "aux1['competition_distance_binned'] = pd.cut(aux1['competition_distance'], bins=bins )\n",
        "aux2 = aux1[['competition_distance_binned', 'sales']].groupby('competition_distance_binned').sum().reset_index()\n",
        "sns.barplot(x='competition_distance_binned', y='sales', data=aux2);\n",
        "plt.xticks( rotation = 90)\n",
        "\n",
        "# Calcular a força da correlação:\n",
        "plt.subplot(1, 3, 3)\n",
        "sns.heatmap( aux1.corr( method='pearson'), annot=True);\n",
        "\n",
        "\n",
        "\n",
        "# Resultado da analise:\n",
        "## lojas com competidores proximos vendem, em disparado, mais que lojas sem competidores muito proximo\n",
        "## isso gera uma insigth contra intuitivo onde achavamos que vendiamos mais quando nao tinha concorrente proximo\n",
        "## Talvez por que o comercio local sendo forte, estimula a compra, quando uma pessoa compra, independente de onda, outra tambem vao querer comprar\n",
        "### isso explicar por que sempre temos farmacias perto uma das outras, tambem se aplicar pra supermercados e fastfood\n"
      ]
    },
    {
      "cell_type": "markdown",
      "metadata": {
        "id": "o6ll_6hxEclm"
      },
      "source": [
        "#### H3. Lojas com competidores à mais tempo deveriam vender mais\n",
        " RESULTADO: **Falso**\n",
        "\n",
        "- Lojas com competidores recem abertos <u>vendem muito mais</u> que lojas com competidores a mais tempo\n"
      ]
    },
    {
      "cell_type": "code",
      "execution_count": null,
      "metadata": {
        "id": "RndssqNKEjcn",
        "colab": {
          "base_uri": "https://localhost:8080/"
        },
        "outputId": "ef837ad2-da43-407d-d2c4-22a006464967"
      },
      "outputs": [
        {
          "output_type": "display_data",
          "data": {
            "text/plain": [
              "<Figure size 432x288 with 4 Axes>"
            ],
            "image/png": "[encoded data removed]"
          },
          "metadata": {
            "needs_background": "light"
          }
        }
      ],
      "source": [
        "plt.subplot(1,3,1)\n",
        "aux1 = df4[['competition_time_month', 'sales']].groupby('competition_time_month').sum().reset_index()\n",
        "aux2 = aux1[(aux1['competition_time_month'] < 120) & (aux1['competition_time_month'] != 0)]\n",
        "sns.barplot(x='competition_time_month', y='sales', data=aux2);\n",
        "plt.xticks(rotation =90);\n",
        "\n",
        "# aplicar uma segunda visualização pra reafirmar o desvio\n",
        "plt.subplot(1,3,2)\n",
        "sns.regplot(x='competition_time_month', y='sales', data=aux2);\n",
        "\n",
        "#medir a força da correlação\n",
        "plt.subplot(1,3,3)\n",
        "sns.heatmap(aux2.corr(method='pearson'), annot=True);\n",
        "# RESULTADO DA HIPOTESE: DESVALIDADO\n",
        "## Lojas com competidores recem abertos vendem muito mais que lojas com competidores a mais tempo\n"
      ]
    },
    {
      "cell_type": "markdown",
      "metadata": {
        "id": "NG5ib4I946id"
      },
      "source": [
        "####H4. Lojas com Promoções ativas por mais tempo deveriam vender mais\n",
        "Resultado: **Falso**\n",
        "- Lojas com promoção extendida por muito tempo <u>vendem menos"
      ]
    },
    {
      "cell_type": "code",
      "execution_count": null,
      "metadata": {
        "id": "DdC3P0i65kRB",
        "colab": {
          "base_uri": "https://localhost:8080/"
        },
        "outputId": "4df10dc0-7a28-4575-f5d2-cbc4b1477d0b"
      },
      "outputs": [
        {
          "output_type": "display_data",
          "data": {
            "text/plain": [
              "<Figure size 432x288 with 6 Axes>"
            ],
            "image/png": "[encoded data removed]"
          },
          "metadata": {
            "needs_background": "light"
          }
        }
      ],
      "source": [
        "\n",
        "aux1 = df4[['promo_time_week', 'sales']].groupby('promo_time_week').sum().reset_index()\n",
        "\n",
        "grid = GridSpec( 2, 3 )\n",
        "plt.subplot(grid[0, 0])\n",
        "aux2 = aux1[aux1['promo_time_week'] > 0 ] # promoção extendida\n",
        "sns.barplot(x ='promo_time_week', y='sales', data=aux2);\n",
        "plt.xticks(rotation=90);\n",
        "\n",
        "plt.subplot(grid[0, 1])\n",
        "sns.regplot(x ='promo_time_week', y='sales', data=aux2);\n",
        "\n",
        "plt.subplot(grid[1, 0])\n",
        "aux3 = aux1[aux1['promo_time_week'] < 0 ] # promoção Regular\n",
        "sns.barplot(x ='promo_time_week', y='sales', data=aux3);\n",
        "\n",
        "plt.subplot(grid[1, 1])\n",
        "sns.regplot(x ='promo_time_week', y='sales', data=aux3);\n",
        "\n",
        "plt.subplot(grid[:, 2])\n",
        "sns.heatmap(aux1.corr(method='pearson'), annot=True);\n",
        "\n",
        "# Usamos o regplot pra tentar confirmar se a tendencia da promoção era crescente de fato \n",
        "\n",
        "### ANALISE DO RESUTALDO\n",
        "# Lojas que tem promoção extendida, ao passar do tempo tem um decaimento nas vendas\n",
        "## isso pode significar que as depois de uma tempo o efeito \"promoção\" perder a eficacia\n",
        "\n",
        "# por outro lado, durante a promoção regular, as lojas vao tendo um aumento nas vendas ate chegar em um pico\n",
        "## isso deve ser resultado de um conjunto de fatores, atrelados ao marketing e ao evento \n"
      ]
    },
    {
      "cell_type": "markdown",
      "metadata": {
        "id": "iiWVpUcu46cS"
      },
      "source": [
        "####<s>H5. Lojas com mais dias de promoção deveriam vender mais</s>\n"
      ]
    },
    {
      "cell_type": "code",
      "execution_count": null,
      "metadata": {
        "id": "6qrmdYH85kmA"
      },
      "outputs": [],
      "source": [
        "# vamos analisar essa hipotese na segunda variavel do Crispy, porque ainda seria necessario criar outras coluna pra analisar isso\n"
      ]
    },
    {
      "cell_type": "markdown",
      "metadata": {
        "id": "UxRDx7JB46Ud"
      },
      "source": [
        "####H6. Lojas com Mais promoções consecutivas deveriam vender mais\n",
        "Resultado: **Falso**\n",
        "- As lojas com Mais promoções consecutivas <u>vendem menos"
      ]
    },
    {
      "cell_type": "code",
      "execution_count": null,
      "metadata": {
        "id": "SuLmghn85k-Y",
        "colab": {
          "base_uri": "https://localhost:8080/"
        },
        "outputId": "b8778af1-03bc-4034-c9e1-27a9385bdc07"
      },
      "outputs": [
        {
          "output_type": "execute_result",
          "data": {
            "text/plain": [
              "   promo  promo2       sales\n",
              "0      0       0  1482612096\n",
              "1      0       1  1289362241\n",
              "2      1       0  1628930532\n",
              "3      1       1  1472275754"
            ],
            "text/html": [
              "\n",
              "  <div id=\"df-8647a565-932b-434b-bb2b-69012e9ec178\">\n",
              "    <div class=\"colab-df-container\">\n",
              "      <div>\n",
              "<style scoped>\n",
              "    .dataframe tbody tr th:only-of-type {\n",
              "        vertical-align: middle;\n",
              "    }\n",
              "\n",
              "    .dataframe tbody tr th {\n",
              "        vertical-align: top;\n",
              "    }\n",
              "\n",
              "    .dataframe thead th {\n",
              "        text-align: right;\n",
              "    }\n",
              "</style>\n",
              "<table border=\"1\" class=\"dataframe\">\n",
              "  <thead>\n",
              "    <tr style=\"text-align: right;\">\n",
              "      <th></th>\n",
              "      <th>promo</th>\n",
              "      <th>promo2</th>\n",
              "      <th>sales</th>\n",
              "    </tr>\n",
              "  </thead>\n",
              "  <tbody>\n",
              "    <tr>\n",
              "      <th>0</th>\n",
              "      <td>0</td>\n",
              "      <td>0</td>\n",
              "      <td>1482612096</td>\n",
              "    </tr>\n",
              "    <tr>\n",
              "      <th>1</th>\n",
              "      <td>0</td>\n",
              "      <td>1</td>\n",
              "      <td>1289362241</td>\n",
              "    </tr>\n",
              "    <tr>\n",
              "      <th>2</th>\n",
              "      <td>1</td>\n",
              "      <td>0</td>\n",
              "      <td>1628930532</td>\n",
              "    </tr>\n",
              "    <tr>\n",
              "      <th>3</th>\n",
              "      <td>1</td>\n",
              "      <td>1</td>\n",
              "      <td>1472275754</td>\n",
              "    </tr>\n",
              "  </tbody>\n",
              "</table>\n",
              "</div>\n",
              "      <button class=\"colab-df-convert\" onclick=\"convertToInteractive('df-8647a565-932b-434b-bb2b-69012e9ec178')\"\n",
              "              title=\"Convert this dataframe to an interactive table.\"\n",
              "              style=\"display:none;\">\n",
              "        \n",
              "  <svg xmlns=\"http://www.w3.org/2000/svg\" height=\"24px\"viewBox=\"0 0 24 24\"\n",
              "       width=\"24px\">\n",
              "    <path d=\"M0 0h24v24H0V0z\" fill=\"none\"/>\n",
              "    <path d=\"M18.56 5.44l.94 2.06.94-2.06 2.06-.94-2.06-.94-.94-2.06-.94 2.06-2.06.94zm-11 1L8.5 8.5l.94-2.06 2.06-.94-2.06-.94L8.5 2.5l-.94 2.06-2.06.94zm10 10l.94 2.06.94-2.06 2.06-.94-2.06-.94-.94-2.06-.94 2.06-2.06.94z\"/><path d=\"M17.41 7.96l-1.37-1.37c-.4-.4-.92-.59-1.43-.59-.52 0-1.04.2-1.43.59L10.3 9.45l-7.72 7.72c-.78.78-.78 2.05 0 2.83L4 21.41c.39.39.9.59 1.41.59.51 0 1.02-.2 1.41-.59l7.78-7.78 2.81-2.81c.8-.78.8-2.07 0-2.86zM5.41 20L4 18.59l7.72-7.72 1.47 1.35L5.41 20z\"/>\n",
              "  </svg>\n",
              "      </button>\n",
              "      \n",
              "  <style>\n",
              "    .colab-df-container {\n",
              "      display:flex;\n",
              "      flex-wrap:wrap;\n",
              "      gap: 12px;\n",
              "    }\n",
              "\n",
              "    .colab-df-convert {\n",
              "      background-color: #E8F0FE;\n",
              "      border: none;\n",
              "      border-radius: 50%;\n",
              "      cursor: pointer;\n",
              "      display: none;\n",
              "      fill: #1967D2;\n",
              "      height: 32px;\n",
              "      padding: 0 0 0 0;\n",
              "      width: 32px;\n",
              "    }\n",
              "\n",
              "    .colab-df-convert:hover {\n",
              "      background-color: #E2EBFA;\n",
              "      box-shadow: 0px 1px 2px rgba(60, 64, 67, 0.3), 0px 1px 3px 1px rgba(60, 64, 67, 0.15);\n",
              "      fill: #174EA6;\n",
              "    }\n",
              "\n",
              "    [theme=dark] .colab-df-convert {\n",
              "      background-color: #3B4455;\n",
              "      fill: #D2E3FC;\n",
              "    }\n",
              "\n",
              "    [theme=dark] .colab-df-convert:hover {\n",
              "      background-color: #434B5C;\n",
              "      box-shadow: 0px 1px 3px 1px rgba(0, 0, 0, 0.15);\n",
              "      filter: drop-shadow(0px 1px 2px rgba(0, 0, 0, 0.3));\n",
              "      fill: #FFFFFF;\n",
              "    }\n",
              "  </style>\n",
              "\n",
              "      <script>\n",
              "        const buttonEl =\n",
              "          document.querySelector('#df-8647a565-932b-434b-bb2b-69012e9ec178 button.colab-df-convert');\n",
              "        buttonEl.style.display =\n",
              "          google.colab.kernel.accessAllowed ? 'block' : 'none';\n",
              "\n",
              "        async function convertToInteractive(key) {\n",
              "          const element = document.querySelector('#df-8647a565-932b-434b-bb2b-69012e9ec178');\n",
              "          const dataTable =\n",
              "            await google.colab.kernel.invokeFunction('convertToInteractive',\n",
              "                                                     [key], {});\n",
              "          if (!dataTable) return;\n",
              "\n",
              "          const docLinkHtml = 'Like what you see? Visit the ' +\n",
              "            '<a target=\"_blank\" href=https://colab.research.google.com/notebooks/data_table.ipynb>data table notebook</a>'\n",
              "            + ' to learn more about interactive tables.';\n",
              "          element.innerHTML = '';\n",
              "          dataTable['output_type'] = 'display_data';\n",
              "          await google.colab.output.renderOutput(dataTable, element);\n",
              "          const docLink = document.createElement('div');\n",
              "          docLink.innerHTML = docLinkHtml;\n",
              "          element.appendChild(docLink);\n",
              "        }\n",
              "      </script>\n",
              "    </div>\n",
              "  </div>\n",
              "  "
            ]
          },
          "metadata": {},
          "execution_count": 48
        }
      ],
      "source": [
        "df4[['promo', 'promo2', 'sales']].groupby(['promo', 'promo2']).sum().reset_index()\n",
        "\n",
        "# aqui temos que as lojas que se sairam melhor foram que as entrarem apenas na promo regula\n",
        "# em compensação as que entraram qpenas na promo2 foram as que menos venderam"
      ]
    },
    {
      "cell_type": "code",
      "execution_count": null,
      "metadata": {
        "id": "b5ToiO2sB4ky",
        "colab": {
          "base_uri": "https://localhost:8080/"
        },
        "outputId": "bf322ddf-c4b7-481e-ce6f-ecd218c2fc95"
      },
      "outputs": [
        {
          "output_type": "display_data",
          "data": {
            "text/plain": [
              "<Figure size 432x288 with 1 Axes>"
            ],
            "image/png": "[encoded data removed]"
          },
          "metadata": {
            "needs_background": "light"
          }
        }
      ],
      "source": [
        "aux1 = df4[(df4['promo'] == 1) & (df4['promo2'] == 1)][['year_week', 'sales']].groupby('year_week').sum().reset_index()\n",
        "ax = aux1.plot();\n",
        "\n",
        "\n",
        "aux2 = df4[(df4['promo'] == 1) & (df4['promo2'] == 0)][['year_week', 'sales']].groupby('year_week').sum().reset_index()\n",
        "aux2.plot( ax=ax );\n",
        "\n",
        "ax.legend(labels=['Tradicional e Extendida', 'Extendida']);\n",
        "\n",
        "\n",
        "# Resultado da validação: Desvalidado\n",
        "## Lojas com mais promoçõe consecutivas nao vendem mais, o volume é similar na maior parte do tempo, e ate menor em um intervalo especifico"
      ]
    },
    {
      "cell_type": "markdown",
      "metadata": {
        "id": "mddHMsTcGC7W"
      },
      "source": [
        "####H7. Lojas Abertas durante o feriado de natal deveriam vender mais\n",
        "RESULTADO: **Falso**\n",
        "- os feriados publicos tem muitos mais vendas que o natal\n"
      ]
    },
    {
      "cell_type": "code",
      "execution_count": null,
      "metadata": {
        "id": "tFvfLcL5Gna-",
        "colab": {
          "base_uri": "https://localhost:8080/"
        },
        "outputId": "cd3eaca2-e6fc-4662-ed2f-c2ec7616e7c8"
      },
      "outputs": [
        {
          "output_type": "display_data",
          "data": {
            "text/plain": [
              "<Figure size 432x288 with 2 Axes>"
            ],
            "image/png": "[encoded data removed]"
          },
          "metadata": {
            "needs_background": "light"
          }
        }
      ],
      "source": [
        "aux = df4[df4['state_holiday'] != 'regular_day']\n",
        "aux1 = aux[['state_holiday','sales']].groupby('state_holiday').sum().reset_index()\n",
        "plt.subplot(1,2,1)\n",
        "sns.barplot(x='state_holiday', y='sales', data=aux1);\n",
        "# essa seção ja desvalida a hipotese, os feriados publicos tem muitos mais vendas que o natal\n",
        "\n",
        "\n",
        "plt.subplot(1,2,2)\n",
        "aux2 = aux[['year', 'state_holiday', 'sales']].groupby(['year', 'state_holiday']).sum().reset_index()\n",
        "sns.barplot(x='year', y='sales', hue='state_holiday',data=aux2);\n",
        "# mesmo com o passar dos anos, as lojas vendem bem mais nos feriados publicos"
      ]
    },
    {
      "cell_type": "code",
      "execution_count": null,
      "metadata": {
        "id": "zksul-jRiEmA"
      },
      "outputs": [],
      "source": []
    },
    {
      "cell_type": "markdown",
      "metadata": {
        "id": "BBJPVc3oGFl3"
      },
      "source": [
        "####H8. Lojas deveriam vender mais ao longo do anos\n",
        "Validação: **Falsa**\n",
        "- as lojas estao vendendo <u>menos com o passar dos anos"
      ]
    },
    {
      "cell_type": "code",
      "execution_count": null,
      "metadata": {
        "id": "OtTHJAp2GnwO",
        "colab": {
          "base_uri": "https://localhost:8080/"
        },
        "outputId": "dbd9cc0a-63f5-476e-c4e1-ceb3bc5ff760"
      },
      "outputs": [
        {
          "output_type": "display_data",
          "data": {
            "text/plain": [
              "<Figure size 432x288 with 4 Axes>"
            ],
            "image/png": "[encoded data removed]"
          },
          "metadata": {
            "needs_background": "light"
          }
        }
      ],
      "source": [
        "aux1 = df4[['year','sales']].groupby('year').sum().reset_index()\n",
        "plt.subplot(1,3,1)\n",
        "sns.barplot(x='year', y='sales', data=aux1);\n",
        "\n",
        "# analisar a tendencia\n",
        "plt.subplot(1,3,2)\n",
        "sns.regplot(x='year', y='sales', data=aux1); # tendencia decrescente\n",
        "\n",
        "# Calcular a força da correlação\n",
        "plt.subplot(1,3,3)\n",
        "sns.heatmap(aux1.corr(method='pearson'), annot=True); # correlação muito forte de decrescimento, decorrente do ano ainda nao ter terminado "
      ]
    },
    {
      "cell_type": "markdown",
      "metadata": {
        "id": "Fea1W_ASGFhj"
      },
      "source": [
        "####H9. Lojas Deveriam vender mais no segundo semestre do ano\n",
        "Validação: *Falsa*\n",
        "- as lojas estao <u>vendendo menos</u> no segundo semestre do ano"
      ]
    },
    {
      "cell_type": "code",
      "execution_count": null,
      "metadata": {
        "id": "Z4G2uSQBGoc_",
        "colab": {
          "base_uri": "https://localhost:8080/"
        },
        "outputId": "6dae89c7-6c34-423f-dcc4-d3564ce7ccb6"
      },
      "outputs": [
        {
          "output_type": "display_data",
          "data": {
            "text/plain": [
              "<Figure size 432x288 with 4 Axes>"
            ],
            "image/png": "[encoded data removed]"
          },
          "metadata": {
            "needs_background": "light"
          }
        }
      ],
      "source": [
        "aux1 = df4[['month','sales']].groupby('month').sum().reset_index()\n",
        "plt.subplot(1,3,1)\n",
        "sns.barplot(x='month', y='sales', data=aux1);\n",
        "\n",
        "# analisar a tendencia\n",
        "plt.subplot(1,3,2)\n",
        "sns.regplot(x='month', y='sales', data=aux1); # tendencia decrescente, vendem menos durante primeiro semestre\n",
        "\n",
        "# Calcular a força da correlação\n",
        "plt.subplot(1,3,3)\n",
        "sns.heatmap(aux1.corr(method='pearson'), annot=True); # correlação muito forte de decrescimento, decorrente do ano ainda nao ter terminado "
      ]
    },
    {
      "cell_type": "markdown",
      "metadata": {
        "id": "KyFvMmx7GFGG"
      },
      "source": [
        "####H10. Lojas deveriam vender mais depois do 10 dia util do mes\n",
        "Validação: **Verdadeira**\n",
        "- as lojas estao <u>vendem mais</u> depois do dia 10"
      ]
    },
    {
      "cell_type": "code",
      "execution_count": null,
      "metadata": {
        "id": "PRXIYxfHKfWs",
        "colab": {
          "base_uri": "https://localhost:8080/"
        },
        "outputId": "8cd4fa79-b034-4867-b23f-1819de579613"
      },
      "outputs": [
        {
          "output_type": "execute_result",
          "data": {
            "text/plain": [
              "<matplotlib.axes._subplots.AxesSubplot at 0x7f34c1d4a280>"
            ]
          },
          "metadata": {},
          "execution_count": 53
        },
        {
          "output_type": "display_data",
          "data": {
            "text/plain": [
              "<Figure size 432x288 with 5 Axes>"
            ],
            "image/png": "[encoded data removed]"
          },
          "metadata": {
            "needs_background": "light"
          }
        }
      ],
      "source": [
        "aux1 = df4[['day','sales']].groupby('day').sum().reset_index()\n",
        "plt.subplot(2,2,1)\n",
        "sns.barplot(x='day', y='sales', data=aux1);\n",
        "\n",
        "# analisar a tendencia\n",
        "plt.subplot(2,2,2)\n",
        "sns.regplot(x='day', y='sales', data=aux1); \n",
        "# Calcular a força da correlação\n",
        "plt.subplot(2,2,3)\n",
        "sns.heatmap(aux1.corr(method='pearson'), annot=True); # correlação media\n",
        "\n",
        "plt.subplot(2,2,4)\n",
        "aux1['before_after'] = aux1['day'].apply(lambda x: \"before_10_days\" if x <= 10 else 'after_10_day')\n",
        "aux2 = aux1[['before_after', 'sales']].groupby('before_after').sum().reset_index()\n",
        "sns.barplot(x='before_after', y='sales', data=aux2)"
      ]
    },
    {
      "cell_type": "markdown",
      "metadata": {
        "id": "HC9cPJtHGKAu"
      },
      "source": [
        "####H11. Lojas deveriam vender menos aos finais de semana\n",
        "Validação: **Verdadeira**\n",
        "- as lojas estao <u>vendendo menos</u> durane o fim de semana"
      ]
    },
    {
      "cell_type": "code",
      "execution_count": null,
      "metadata": {
        "id": "IqfMWUqxKfni",
        "colab": {
          "base_uri": "https://localhost:8080/"
        },
        "outputId": "c81a9c1d-7177-4019-ae0b-52e124ce8f49"
      },
      "outputs": [
        {
          "output_type": "display_data",
          "data": {
            "text/plain": [
              "<Figure size 432x288 with 4 Axes>"
            ],
            "image/png": "[encoded data removed]"
          },
          "metadata": {
            "needs_background": "light"
          }
        }
      ],
      "source": [
        "aux1 = df4[['day_of_week','sales']].groupby('day_of_week').sum().reset_index()\n",
        "plt.subplot(2,2,1)\n",
        "sns.barplot(x='day_of_week', y='sales', data=aux1);\n",
        "\n",
        "# analisar a tendencia\n",
        "plt.subplot(2,2,2)\n",
        "sns.regplot(x='day_of_week', y='sales', data=aux1); \n",
        "# Calcular a força da correlação\n",
        "plt.subplot(2,2,3)\n",
        "sns.heatmap(aux1.corr(method='pearson'), annot=True);"
      ]
    },
    {
      "cell_type": "markdown",
      "metadata": {
        "id": "UpQ6vntvGL7W"
      },
      "source": [
        "####H12. Lojas deveriam vender menos durante feriados escolares\n",
        "Resultado: **Verdadeiro**\n",
        "- Lojas <u>vendem menos</u> durante os feriados, com a *resalva de julho e agosto*, onde a logica inverte"
      ]
    },
    {
      "cell_type": "code",
      "execution_count": null,
      "metadata": {
        "id": "kTHdReI_NvyI",
        "colab": {
          "base_uri": "https://localhost:8080/"
        },
        "outputId": "2d4b4191-fd37-479e-f82c-5aa656dcb99c"
      },
      "outputs": [
        {
          "output_type": "display_data",
          "data": {
            "text/plain": [
              "<Figure size 432x288 with 2 Axes>"
            ],
            "image/png": "[encoded data removed]"
          },
          "metadata": {
            "needs_background": "light"
          }
        }
      ],
      "source": [
        "aux1 = df4[['school_holiday','sales']].groupby('school_holiday').sum().reset_index()\n",
        "plt.subplot(2,1,1)\n",
        "sns.barplot(x='school_holiday', y='sales', data=aux1);\n",
        "# as vendas durante o feriado escolar sao bem menores\n",
        "\n",
        "\n",
        "aux2 = df4[['month','school_holiday', 'sales']].groupby(['month', 'school_holiday']).sum().reset_index()\n",
        "plt.subplot(2,1,2)\n",
        "sns.barplot(x='month', y='sales', hue='school_holiday', data=aux2);\n",
        "# durante o periodo de ferias de julho, as vendas se equipara, como os alunos estao de ferias, os feiados nao se aplicam\n",
        "\n",
        "\n"
      ]
    },
    {
      "cell_type": "markdown",
      "metadata": {
        "id": "5Q8h6dEjaq8N"
      },
      "source": [
        "### Resumo das Hipoteses"
      ]
    },
    {
      "cell_type": "code",
      "execution_count": null,
      "metadata": {
        "id": "_K-ygHewLzJ1",
        "colab": {
          "base_uri": "https://localhost:8080/"
        },
        "outputId": "d42555eb-674b-48e3-b389-6bde218aa5d6"
      },
      "outputs": [
        {
          "output_type": "stream",
          "name": "stdout",
          "text": [
            "Hipotese    Conclusão    Relevancia\n",
            "----------  -----------  ------------\n",
            "h1          falso        baixa\n",
            "h2          falso        media\n",
            "h3          falso        media\n",
            "h4          falso        baixa\n",
            "h5          -            -\n",
            "h6          falso        baixa\n",
            "h7          falso        media\n",
            "h8          falso        alta\n",
            "h9          falso        alta\n",
            "h10         verdadeiro   alta\n",
            "h11         verdadeiro   alta\n",
            "h12         verdadeiro   baixa\n"
          ]
        }
      ],
      "source": [
        "tab = [['Hipotese','Conclusão','Relevancia'],\n",
        "       ['h1','falso','baixa',],\n",
        "       ['h2','falso','media',],\n",
        "       ['h3','falso','media',],\n",
        "       ['h4','falso','baixa',],\n",
        "       ['h5','-','-',],\n",
        "       ['h6','falso','baixa',],\n",
        "       ['h7','falso','media',],\n",
        "       ['h8','falso','alta',],\n",
        "       ['h9','falso','alta',],\n",
        "       ['h10','verdadeiro','alta',],\n",
        "       ['h11','verdadeiro','alta',],\n",
        "       ['h12','verdadeiro','baixa',],\n",
        "       ]\n",
        "\n",
        "print(tabulate(tab, headers='firstrow'))"
      ]
    },
    {
      "cell_type": "markdown",
      "metadata": {
        "id": "6hFRz57lSUWj"
      },
      "source": [
        "## 4.3 Analise Multivariada"
      ]
    },
    {
      "cell_type": "markdown",
      "metadata": {
        "id": "22UCDthQ0npJ"
      },
      "source": [
        "#### 4.3.1. Numerical Attributes"
      ]
    },
    {
      "cell_type": "code",
      "execution_count": null,
      "metadata": {
        "id": "UqQepAzz06iU",
        "colab": {
          "base_uri": "https://localhost:8080/"
        },
        "outputId": "ff8c19aa-fbed-45b8-c20f-501b4308fd5b"
      },
      "outputs": [
        {
          "output_type": "execute_result",
          "data": {
            "text/plain": [
              "<matplotlib.axes._subplots.AxesSubplot at 0x7f34c1b78760>"
            ]
          },
          "metadata": {},
          "execution_count": 57
        },
        {
          "output_type": "display_data",
          "data": {
            "text/plain": [
              "<Figure size 432x288 with 2 Axes>"
            ],
            "image/png": "[encoded data removed]"
          },
          "metadata": {
            "needs_background": "light"
          }
        }
      ],
      "source": [
        "correlation = num_attributes.corr(method='pearson')\n",
        "sns.heatmap(correlation, annot=True)"
      ]
    },
    {
      "cell_type": "markdown",
      "metadata": {
        "id": "UtbmxWvu0neQ"
      },
      "source": [
        "#### 4.3.2. Categorical Attributes"
      ]
    },
    {
      "cell_type": "code",
      "execution_count": null,
      "metadata": {
        "id": "RMNNtCvN8Lz-",
        "colab": {
          "base_uri": "https://localhost:8080/"
        },
        "outputId": "ea28ab91-fb46-46b1-ea4f-a3524da7957e"
      },
      "outputs": [
        {
          "output_type": "execute_result",
          "data": {
            "text/plain": [
              "<matplotlib.axes._subplots.AxesSubplot at 0x7f34c8c97eb0>"
            ]
          },
          "metadata": {},
          "execution_count": 58
        },
        {
          "output_type": "display_data",
          "data": {
            "text/plain": [
              "<Figure size 432x288 with 2 Axes>"
            ],
            "image/png": "[encoded data removed]"
          },
          "metadata": {
            "needs_background": "light"
          }
        }
      ],
      "source": [
        "# seleção das variavies categoricas\n",
        "a = df4.select_dtypes(include='object')\n",
        "\n",
        "# Aplicação do Cramer_V \n",
        "a1 = cramer_v( a['state_holiday'], a['state_holiday'] )\n",
        "a2 = cramer_v( a['state_holiday'], a['store_type'] )\n",
        "a3 = cramer_v( a['state_holiday'], a['assortment'] )\n",
        "\n",
        "a4 = cramer_v( a['store_type'], a['state_holiday'] )\n",
        "a5 = cramer_v( a['store_type'], a['store_type'] )\n",
        "a6 = cramer_v( a['store_type'], a['assortment'] )\n",
        "\n",
        "a7 = cramer_v( a['assortment'], a['state_holiday'] )\n",
        "a8 = cramer_v( a['assortment'], a['store_type'] )\n",
        "a9= cramer_v( a['assortment'], a['assortment'] )\n",
        "\n",
        "# DataSet Final\n",
        "d = pd.DataFrame({\"state_holiday\": [a1, a2, a3],\n",
        "                  \"store_type\": [a4, a5, a6],\n",
        "                  \"assortment\": [a7, a8, a9] })\n",
        "\n",
        "d = d.set_index(d.columns)\n",
        "\n",
        "sns.heatmap(d, annot=True)"
      ]
    },
    {
      "cell_type": "markdown",
      "metadata": {
        "id": "GxKf6bnb7i6Y"
      },
      "source": []
    },
    {
      "cell_type": "markdown",
      "metadata": {
        "id": "JYc4efN_QYJA"
      },
      "source": [
        "# 5.0 Preparação dos dados"
      ]
    },
    {
      "cell_type": "code",
      "execution_count": null,
      "metadata": {
        "id": "7-F_wuleQpsI"
      },
      "outputs": [],
      "source": [
        "df5 = df4.copy()"
      ]
    },
    {
      "cell_type": "markdown",
      "metadata": {
        "id": "6c7MbPVKQwvn"
      },
      "source": [
        "## 5.1. Normalização"
      ]
    },
    {
      "cell_type": "code",
      "execution_count": null,
      "metadata": {
        "id": "RavH6p_bRUG0"
      },
      "outputs": [],
      "source": [
        "## Como nenhuma tabela numerica tem Normal, optei por nao fazer a normalização e pular para o Rescaling"
      ]
    },
    {
      "cell_type": "markdown",
      "metadata": {
        "id": "_xcDLnS1Q1dh"
      },
      "source": [
        "## 5.2. Rescaling"
      ]
    },
    {
      "cell_type": "code",
      "execution_count": null,
      "metadata": {
        "id": "3XoPoDiORm9v"
      },
      "outputs": [],
      "source": [
        "#Seleção das Variaveis numericas\n",
        "a = df5.select_dtypes(include=['int64', 'float64'])"
      ]
    },
    {
      "cell_type": "code",
      "execution_count": null,
      "metadata": {
        "id": "O2V50sjTYdlH",
        "colab": {
          "base_uri": "https://localhost:8080/"
        },
        "outputId": "e4309fb1-e544-400c-a60d-4f86e131c047"
      },
      "outputs": [
        {
          "output_type": "stream",
          "name": "stderr",
          "text": [
            "/usr/local/lib/python3.8/dist-packages/seaborn/_decorators.py:36: FutureWarning: Pass the following variable as a keyword arg: x. From version 0.12, the only valid positional argument will be `data`, and passing other arguments without an explicit keyword will result in an error or misinterpretation.\n",
            "  warnings.warn(\n"
          ]
        },
        {
          "output_type": "display_data",
          "data": {
            "text/plain": [
              "<Figure size 432x288 with 1 Axes>"
            ],
            "image/png": "[encoded data removed]"
          },
          "metadata": {
            "needs_background": "light"
          }
        }
      ],
      "source": [
        "sns.boxplot( df5['year'] );"
      ]
    },
    {
      "cell_type": "code",
      "execution_count": null,
      "metadata": {
        "id": "u24RvVIFXlqA"
      },
      "outputs": [],
      "source": [
        "rs = RobustScaler()\n",
        "mms = MinMaxScaler()\n",
        "\n",
        "# Competition_distance\n",
        "df5['competition_distance']  = rs.fit_transform(df5[['competition_distance']].values )\n",
        "\n",
        "# competition_time_month\n",
        "df5['competition_time_month']  = rs.fit_transform(df5[['competition_time_month']].values )\n",
        "\n",
        "# promo_time_week\n",
        "df5['promo_time_week']  = mms.fit_transform(df5[['promo_time_week']].values )\n",
        "\n",
        "# year\n",
        "df5['year']  = mms.fit_transform(df5[['year']].values )"
      ]
    },
    {
      "cell_type": "code",
      "execution_count": null,
      "metadata": {
        "colab": {
          "base_uri": "https://localhost:8080/"
        },
        "id": "BhLSmDxhhnTP",
        "outputId": "10335529-c5d5-4e02-afc1-7cdd3a274b24"
      },
      "outputs": [
        {
          "output_type": "display_data",
          "data": {
            "text/plain": [
              "<Figure size 432x288 with 1 Axes>"
            ],
            "image/png": "[encoded data removed]"
          },
          "metadata": {
            "needs_background": "light"
          }
        }
      ],
      "source": [
        "sns.histplot(df5['competition_distance']);"
      ]
    },
    {
      "cell_type": "markdown",
      "metadata": {
        "id": "FYVODqCjQ13F"
      },
      "source": [
        "## 5.3. Transformation"
      ]
    },
    {
      "cell_type": "markdown",
      "metadata": {
        "id": "5prtJ77WHWC6"
      },
      "source": [
        "### 5.3.1 Encoding\n"
      ]
    },
    {
      "cell_type": "code",
      "execution_count": null,
      "metadata": {
        "id": "jpvtrMqAHUJ2"
      },
      "outputs": [],
      "source": [
        "# State Holiday: Variavel de Estado\n",
        "# One Hot Encode\n",
        "df5 = pd.get_dummies( df5, prefix=['state_holiday'], columns=['state_holiday'])\n",
        "\n",
        "# Store_type: Variavel de sem ordem especifica \n",
        "# Label Encode\n",
        "le = LabelEncoder()\n",
        "df5['store_type'] = le.fit_transform(df5['store_type'])\n",
        "\n",
        "# Assortiment:Variaveis com uma ordem de grandeza especifica\n",
        "# Ordinal Encoder\n",
        "assortment_dict = {'basic': 1, 'extra': 2, 'extended': 3}\n",
        "df5['assortment'] = df5['assortment'].map( assortment_dict )"
      ]
    },
    {
      "cell_type": "markdown",
      "metadata": {
        "id": "t-0n1i3oUWNu"
      },
      "source": [
        "### 5.3.2 Response Variable Transformation\n"
      ]
    },
    {
      "cell_type": "code",
      "execution_count": null,
      "metadata": {
        "id": "_rKu0iMSUs_J"
      },
      "outputs": [],
      "source": [
        "df5['sales'] = np.log1p( df5['sales'])"
      ]
    },
    {
      "cell_type": "code",
      "execution_count": null,
      "metadata": {
        "colab": {
          "base_uri": "https://localhost:8080/"
        },
        "id": "HPUz4O-fU-5g",
        "outputId": "8167d9e1-21d6-4501-aef0-8ccb95d46b34"
      },
      "outputs": [
        {
          "output_type": "stream",
          "name": "stderr",
          "text": [
            "/usr/local/lib/python3.8/dist-packages/seaborn/distributions.py:2619: FutureWarning: `distplot` is a deprecated function and will be removed in a future version. Please adapt your code to use either `displot` (a figure-level function with similar flexibility) or `histplot` (an axes-level function for histograms).\n",
            "  warnings.warn(msg, FutureWarning)\n"
          ]
        },
        {
          "output_type": "execute_result",
          "data": {
            "text/plain": [
              "<matplotlib.axes._subplots.AxesSubplot at 0x7f34b6106940>"
            ]
          },
          "metadata": {},
          "execution_count": 67
        },
        {
          "output_type": "display_data",
          "data": {
            "text/plain": [
              "<Figure size 432x288 with 1 Axes>"
            ],
            "image/png": "[encoded data removed]"
          },
          "metadata": {
            "needs_background": "light"
          }
        }
      ],
      "source": [
        "sns.distplot(df5['sales'])"
      ]
    },
    {
      "cell_type": "markdown",
      "metadata": {
        "id": "0Kg9e8IMVRBu"
      },
      "source": [
        "### 5.3.3 Natural Transformation"
      ]
    },
    {
      "cell_type": "code",
      "execution_count": null,
      "metadata": {
        "id": "GOC-CAZxRnUG"
      },
      "outputs": [],
      "source": [
        "# Variaveis Numericas ciclicas\n",
        "\n",
        "# mont1\n",
        "df5['month_sin'] = df5['month'].apply(lambda x: np.sin( x * (2. * np.pi/12) ) )\n",
        "df5['month_cos'] = df5['month'].apply(lambda x: np.cos( x * (2. * np.pi/12) ) )\n",
        "\n",
        "# day\n",
        "df5['day_sin'] = df5['day'].apply(lambda x: np.sin( x * (2. * np.pi/30) ) )\n",
        "df5['day_cos'] = df5['day'].apply(lambda x: np.cos( x * (2. * np.pi/30) ) )\n",
        "\n",
        "# week_of_year\n",
        "df5['week_of_year_sin'] = df5['week_of_year'].apply(lambda x: np.sin( x * (2. * np.pi/52) ) )\n",
        "df5['week_of_year_cos'] = df5['week_of_year'].apply(lambda x: np.cos( x * (2. * np.pi/52) ) )\n",
        "\n",
        "# day_of_week\n",
        "df5['day_of_week_sin'] = df5['day_of_week'].apply(lambda x: np.sin( x * (2. * np.pi/7) ) )\n",
        "df5['day_of_week_cos'] = df5['day_of_week'].apply(lambda x: np.cos( x * (2. * np.pi/7) ) )"
      ]
    },
    {
      "cell_type": "code",
      "execution_count": null,
      "metadata": {
        "colab": {
          "base_uri": "https://localhost:8080/"
        },
        "id": "NKr1Kg9JVVa-",
        "outputId": "f515e883-95a0-48ad-bb84-acaaec1c2ac9"
      },
      "outputs": [
        {
          "output_type": "execute_result",
          "data": {
            "text/plain": [
              "   store  day_of_week       date     sales  promo  school_holiday  store_type  \\\n",
              "0      1            5 2015-07-31  8.568646      1               1           2   \n",
              "1      2            5 2015-07-31  8.710290      1               1           0   \n",
              "2      3            5 2015-07-31  9.025816      1               1           0   \n",
              "3      4            5 2015-07-31  9.546527      1               1           2   \n",
              "4      5            5 2015-07-31  8.481151      1               1           0   \n",
              "\n",
              "   assortment  competition_distance  competition_open_since_month  ...  \\\n",
              "0           1             -0.170968                             9  ...   \n",
              "1           1             -0.283871                            11  ...   \n",
              "2           1              1.903226                            12  ...   \n",
              "3           3             -0.275806                             9  ...   \n",
              "4           1              4.448387                             4  ...   \n",
              "\n",
              "   state_holiday_public_holiday  state_holiday_regular_day  month_sin  \\\n",
              "0                             0                          1       -0.5   \n",
              "1                             0                          1       -0.5   \n",
              "2                             0                          1       -0.5   \n",
              "3                             0                          1       -0.5   \n",
              "4                             0                          1       -0.5   \n",
              "\n",
              "   month_cos   day_sin   day_cos  week_of_year_sin  week_of_year_cos  \\\n",
              "0  -0.866025  0.207912  0.978148         -0.568065         -0.822984   \n",
              "1  -0.866025  0.207912  0.978148         -0.568065         -0.822984   \n",
              "2  -0.866025  0.207912  0.978148         -0.568065         -0.822984   \n",
              "3  -0.866025  0.207912  0.978148         -0.568065         -0.822984   \n",
              "4  -0.866025  0.207912  0.978148         -0.568065         -0.822984   \n",
              "\n",
              "   day_of_week_sin day_of_week_cos  \n",
              "0        -0.974928       -0.222521  \n",
              "1        -0.974928       -0.222521  \n",
              "2        -0.974928       -0.222521  \n",
              "3        -0.974928       -0.222521  \n",
              "4        -0.974928       -0.222521  \n",
              "\n",
              "[5 rows x 36 columns]"
            ],
            "text/html": [
              "\n",
              "  <div id=\"df-5fcbc78e-1265-4294-a2ac-9cc8ea1dda5f\">\n",
              "    <div class=\"colab-df-container\">\n",
              "      <div>\n",
              "<style scoped>\n",
              "    .dataframe tbody tr th:only-of-type {\n",
              "        vertical-align: middle;\n",
              "    }\n",
              "\n",
              "    .dataframe tbody tr th {\n",
              "        vertical-align: top;\n",
              "    }\n",
              "\n",
              "    .dataframe thead th {\n",
              "        text-align: right;\n",
              "    }\n",
              "</style>\n",
              "<table border=\"1\" class=\"dataframe\">\n",
              "  <thead>\n",
              "    <tr style=\"text-align: right;\">\n",
              "      <th></th>\n",
              "      <th>store</th>\n",
              "      <th>day_of_week</th>\n",
              "      <th>date</th>\n",
              "      <th>sales</th>\n",
              "      <th>promo</th>\n",
              "      <th>school_holiday</th>\n",
              "      <th>store_type</th>\n",
              "      <th>assortment</th>\n",
              "      <th>competition_distance</th>\n",
              "      <th>competition_open_since_month</th>\n",
              "      <th>...</th>\n",
              "      <th>state_holiday_public_holiday</th>\n",
              "      <th>state_holiday_regular_day</th>\n",
              "      <th>month_sin</th>\n",
              "      <th>month_cos</th>\n",
              "      <th>day_sin</th>\n",
              "      <th>day_cos</th>\n",
              "      <th>week_of_year_sin</th>\n",
              "      <th>week_of_year_cos</th>\n",
              "      <th>day_of_week_sin</th>\n",
              "      <th>day_of_week_cos</th>\n",
              "    </tr>\n",
              "  </thead>\n",
              "  <tbody>\n",
              "    <tr>\n",
              "      <th>0</th>\n",
              "      <td>1</td>\n",
              "      <td>5</td>\n",
              "      <td>2015-07-31</td>\n",
              "      <td>8.568646</td>\n",
              "      <td>1</td>\n",
              "      <td>1</td>\n",
              "      <td>2</td>\n",
              "      <td>1</td>\n",
              "      <td>-0.170968</td>\n",
              "      <td>9</td>\n",
              "      <td>...</td>\n",
              "      <td>0</td>\n",
              "      <td>1</td>\n",
              "      <td>-0.5</td>\n",
              "      <td>-0.866025</td>\n",
              "      <td>0.207912</td>\n",
              "      <td>0.978148</td>\n",
              "      <td>-0.568065</td>\n",
              "      <td>-0.822984</td>\n",
              "      <td>-0.974928</td>\n",
              "      <td>-0.222521</td>\n",
              "    </tr>\n",
              "    <tr>\n",
              "      <th>1</th>\n",
              "      <td>2</td>\n",
              "      <td>5</td>\n",
              "      <td>2015-07-31</td>\n",
              "      <td>8.710290</td>\n",
              "      <td>1</td>\n",
              "      <td>1</td>\n",
              "      <td>0</td>\n",
              "      <td>1</td>\n",
              "      <td>-0.283871</td>\n",
              "      <td>11</td>\n",
              "      <td>...</td>\n",
              "      <td>0</td>\n",
              "      <td>1</td>\n",
              "      <td>-0.5</td>\n",
              "      <td>-0.866025</td>\n",
              "      <td>0.207912</td>\n",
              "      <td>0.978148</td>\n",
              "      <td>-0.568065</td>\n",
              "      <td>-0.822984</td>\n",
              "      <td>-0.974928</td>\n",
              "      <td>-0.222521</td>\n",
              "    </tr>\n",
              "    <tr>\n",
              "      <th>2</th>\n",
              "      <td>3</td>\n",
              "      <td>5</td>\n",
              "      <td>2015-07-31</td>\n",
              "      <td>9.025816</td>\n",
              "      <td>1</td>\n",
              "      <td>1</td>\n",
              "      <td>0</td>\n",
              "      <td>1</td>\n",
              "      <td>1.903226</td>\n",
              "      <td>12</td>\n",
              "      <td>...</td>\n",
              "      <td>0</td>\n",
              "      <td>1</td>\n",
              "      <td>-0.5</td>\n",
              "      <td>-0.866025</td>\n",
              "      <td>0.207912</td>\n",
              "      <td>0.978148</td>\n",
              "      <td>-0.568065</td>\n",
              "      <td>-0.822984</td>\n",
              "      <td>-0.974928</td>\n",
              "      <td>-0.222521</td>\n",
              "    </tr>\n",
              "    <tr>\n",
              "      <th>3</th>\n",
              "      <td>4</td>\n",
              "      <td>5</td>\n",
              "      <td>2015-07-31</td>\n",
              "      <td>9.546527</td>\n",
              "      <td>1</td>\n",
              "      <td>1</td>\n",
              "      <td>2</td>\n",
              "      <td>3</td>\n",
              "      <td>-0.275806</td>\n",
              "      <td>9</td>\n",
              "      <td>...</td>\n",
              "      <td>0</td>\n",
              "      <td>1</td>\n",
              "      <td>-0.5</td>\n",
              "      <td>-0.866025</td>\n",
              "      <td>0.207912</td>\n",
              "      <td>0.978148</td>\n",
              "      <td>-0.568065</td>\n",
              "      <td>-0.822984</td>\n",
              "      <td>-0.974928</td>\n",
              "      <td>-0.222521</td>\n",
              "    </tr>\n",
              "    <tr>\n",
              "      <th>4</th>\n",
              "      <td>5</td>\n",
              "      <td>5</td>\n",
              "      <td>2015-07-31</td>\n",
              "      <td>8.481151</td>\n",
              "      <td>1</td>\n",
              "      <td>1</td>\n",
              "      <td>0</td>\n",
              "      <td>1</td>\n",
              "      <td>4.448387</td>\n",
              "      <td>4</td>\n",
              "      <td>...</td>\n",
              "      <td>0</td>\n",
              "      <td>1</td>\n",
              "      <td>-0.5</td>\n",
              "      <td>-0.866025</td>\n",
              "      <td>0.207912</td>\n",
              "      <td>0.978148</td>\n",
              "      <td>-0.568065</td>\n",
              "      <td>-0.822984</td>\n",
              "      <td>-0.974928</td>\n",
              "      <td>-0.222521</td>\n",
              "    </tr>\n",
              "  </tbody>\n",
              "</table>\n",
              "<p>5 rows × 36 columns</p>\n",
              "</div>\n",
              "      <button class=\"colab-df-convert\" onclick=\"convertToInteractive('df-5fcbc78e-1265-4294-a2ac-9cc8ea1dda5f')\"\n",
              "              title=\"Convert this dataframe to an interactive table.\"\n",
              "              style=\"display:none;\">\n",
              "        \n",
              "  <svg xmlns=\"http://www.w3.org/2000/svg\" height=\"24px\"viewBox=\"0 0 24 24\"\n",
              "       width=\"24px\">\n",
              "    <path d=\"M0 0h24v24H0V0z\" fill=\"none\"/>\n",
              "    <path d=\"M18.56 5.44l.94 2.06.94-2.06 2.06-.94-2.06-.94-.94-2.06-.94 2.06-2.06.94zm-11 1L8.5 8.5l.94-2.06 2.06-.94-2.06-.94L8.5 2.5l-.94 2.06-2.06.94zm10 10l.94 2.06.94-2.06 2.06-.94-2.06-.94-.94-2.06-.94 2.06-2.06.94z\"/><path d=\"M17.41 7.96l-1.37-1.37c-.4-.4-.92-.59-1.43-.59-.52 0-1.04.2-1.43.59L10.3 9.45l-7.72 7.72c-.78.78-.78 2.05 0 2.83L4 21.41c.39.39.9.59 1.41.59.51 0 1.02-.2 1.41-.59l7.78-7.78 2.81-2.81c.8-.78.8-2.07 0-2.86zM5.41 20L4 18.59l7.72-7.72 1.47 1.35L5.41 20z\"/>\n",
              "  </svg>\n",
              "      </button>\n",
              "      \n",
              "  <style>\n",
              "    .colab-df-container {\n",
              "      display:flex;\n",
              "      flex-wrap:wrap;\n",
              "      gap: 12px;\n",
              "    }\n",
              "\n",
              "    .colab-df-convert {\n",
              "      background-color: #E8F0FE;\n",
              "      border: none;\n",
              "      border-radius: 50%;\n",
              "      cursor: pointer;\n",
              "      display: none;\n",
              "      fill: #1967D2;\n",
              "      height: 32px;\n",
              "      padding: 0 0 0 0;\n",
              "      width: 32px;\n",
              "    }\n",
              "\n",
              "    .colab-df-convert:hover {\n",
              "      background-color: #E2EBFA;\n",
              "      box-shadow: 0px 1px 2px rgba(60, 64, 67, 0.3), 0px 1px 3px 1px rgba(60, 64, 67, 0.15);\n",
              "      fill: #174EA6;\n",
              "    }\n",
              "\n",
              "    [theme=dark] .colab-df-convert {\n",
              "      background-color: #3B4455;\n",
              "      fill: #D2E3FC;\n",
              "    }\n",
              "\n",
              "    [theme=dark] .colab-df-convert:hover {\n",
              "      background-color: #434B5C;\n",
              "      box-shadow: 0px 1px 3px 1px rgba(0, 0, 0, 0.15);\n",
              "      filter: drop-shadow(0px 1px 2px rgba(0, 0, 0, 0.3));\n",
              "      fill: #FFFFFF;\n",
              "    }\n",
              "  </style>\n",
              "\n",
              "      <script>\n",
              "        const buttonEl =\n",
              "          document.querySelector('#df-5fcbc78e-1265-4294-a2ac-9cc8ea1dda5f button.colab-df-convert');\n",
              "        buttonEl.style.display =\n",
              "          google.colab.kernel.accessAllowed ? 'block' : 'none';\n",
              "\n",
              "        async function convertToInteractive(key) {\n",
              "          const element = document.querySelector('#df-5fcbc78e-1265-4294-a2ac-9cc8ea1dda5f');\n",
              "          const dataTable =\n",
              "            await google.colab.kernel.invokeFunction('convertToInteractive',\n",
              "                                                     [key], {});\n",
              "          if (!dataTable) return;\n",
              "\n",
              "          const docLinkHtml = 'Like what you see? Visit the ' +\n",
              "            '<a target=\"_blank\" href=https://colab.research.google.com/notebooks/data_table.ipynb>data table notebook</a>'\n",
              "            + ' to learn more about interactive tables.';\n",
              "          element.innerHTML = '';\n",
              "          dataTable['output_type'] = 'display_data';\n",
              "          await google.colab.output.renderOutput(dataTable, element);\n",
              "          const docLink = document.createElement('div');\n",
              "          docLink.innerHTML = docLinkHtml;\n",
              "          element.appendChild(docLink);\n",
              "        }\n",
              "      </script>\n",
              "    </div>\n",
              "  </div>\n",
              "  "
            ]
          },
          "metadata": {},
          "execution_count": 69
        }
      ],
      "source": [
        "df5.head()"
      ]
    },
    {
      "cell_type": "markdown",
      "metadata": {
        "id": "f9r2AC1dRocQ"
      },
      "source": [
        "# 6.0 Feature Selection"
      ]
    },
    {
      "cell_type": "code",
      "execution_count": null,
      "metadata": {
        "id": "Ta3KOYT9duo1"
      },
      "outputs": [],
      "source": [
        "df6 = df5.copy()\n"
      ]
    },
    {
      "cell_type": "code",
      "source": [
        "# exportando DF para tratamento em ambiente local\n",
        "# vamou utilizar o boruta em ambiente separado para nao sobrecarregar a RAM do Colab\n",
        "\n",
        "# df6.to_csv('df6.csv')\n",
        "# files.download('df6.csv')"
      ],
      "metadata": {
        "colab": {
          "base_uri": "https://localhost:8080/",
          "height": 17
        },
        "id": "6y0d8XK5vkpL",
        "outputId": "b19cb6ed-b117-4f79-d029-ef6c3204bc59"
      },
      "execution_count": null,
      "outputs": [
        {
          "output_type": "display_data",
          "data": {
            "text/plain": [
              "<IPython.core.display.Javascript object>"
            ],
            "application/javascript": [
              "\n",
              "    async function download(id, filename, size) {\n",
              "      if (!google.colab.kernel.accessAllowed) {\n",
              "        return;\n",
              "      }\n",
              "      const div = document.createElement('div');\n",
              "      const label = document.createElement('label');\n",
              "      label.textContent = `Downloading \"${filename}\": `;\n",
              "      div.appendChild(label);\n",
              "      const progress = document.createElement('progress');\n",
              "      progress.max = size;\n",
              "      div.appendChild(progress);\n",
              "      document.body.appendChild(div);\n",
              "\n",
              "      const buffers = [];\n",
              "      let downloaded = 0;\n",
              "\n",
              "      const channel = await google.colab.kernel.comms.open(id);\n",
              "      // Send a message to notify the kernel that we're ready.\n",
              "      channel.send({})\n",
              "\n",
              "      for await (const message of channel.messages) {\n",
              "        // Send a message to notify the kernel that we're ready.\n",
              "        channel.send({})\n",
              "        if (message.buffers) {\n",
              "          for (const buffer of message.buffers) {\n",
              "            buffers.push(buffer);\n",
              "            downloaded += buffer.byteLength;\n",
              "            progress.value = downloaded;\n",
              "          }\n",
              "        }\n",
              "      }\n",
              "      const blob = new Blob(buffers, {type: 'application/binary'});\n",
              "      const a = document.createElement('a');\n",
              "      a.href = window.URL.createObjectURL(blob);\n",
              "      a.download = filename;\n",
              "      div.appendChild(a);\n",
              "      a.click();\n",
              "      div.remove();\n",
              "    }\n",
              "  "
            ]
          },
          "metadata": {}
        },
        {
          "output_type": "display_data",
          "data": {
            "text/plain": [
              "<IPython.core.display.Javascript object>"
            ],
            "application/javascript": [
              "download(\"download_d927ae72-6596-4388-8538-5f27c42c6ed2\", \"df6.csv\", 243491885)"
            ]
          },
          "metadata": {}
        }
      ]
    },
    {
      "cell_type": "markdown",
      "metadata": {
        "id": "YLrm5Ch0eHFX"
      },
      "source": [
        "## 6.1 Split dataframe into training and test dataset"
      ]
    },
    {
      "cell_type": "code",
      "source": [
        "# Apos abrir um ambientre exclusivo para rodar o boruta, importamos devolta os dados\n",
        "# df6 = pd.read_csv('/content/drive/MyDrive/Colab Notebooks/Data Science Em Produção/Projeto Rossman Store/Data/df6.csv')"
      ],
      "metadata": {
        "id": "acYFUnpjIeso"
      },
      "execution_count": 6,
      "outputs": []
    },
    {
      "cell_type": "code",
      "execution_count": null,
      "metadata": {
        "id": "eCrHmLxseazB"
      },
      "outputs": [],
      "source": [
        "# removendo variaveis que ja foram preparadas\n",
        "cols_drop = ['week_of_year', 'day', 'year_week', 'month', 'day_of_week', 'promo_since', 'competition_since']\n",
        "df6 = df6.drop(cols_drop, axis = 1)"
      ]
    },
    {
      "cell_type": "code",
      "execution_count": null,
      "metadata": {
        "id": "zuQkMSUBed0l"
      },
      "outputs": [],
      "source": [
        "# Extraindo data 6 meses antes da ultima vendas para usar no teste\n",
        "# Só precisa ser feito uma vez\n",
        "df6[['store', 'date']].groupby('store').max().reset_index()['date'][0] - datetime.timedelta(days=7*6)\n",
        "#incio: 2013-01-02 \n",
        "#final: 2015-07-31"
      ]
    },
    {
      "cell_type": "code",
      "execution_count": 11,
      "metadata": {
        "colab": {
          "base_uri": "https://localhost:8080/"
        },
        "id": "_TjKTTwN70N-",
        "outputId": "e729fd6c-3131-483f-c9e9-f8f3630f4565"
      },
      "outputs": [
        {
          "output_type": "stream",
          "name": "stdout",
          "text": [
            "Training Min Date: 2013-01-01\n",
            "Training Max Date: 2015-06-08\n",
            "\n",
            "Test Min Date: 2015-06-09\n",
            "Test Max Date: 2015-07-31\n"
          ]
        }
      ],
      "source": [
        "# Training DataSet\n",
        "x_train = df6[ df6['date'] < '2015-06-09']\n",
        "y_train = x_train['sales']\n",
        "\n",
        "# Test DataSet\n",
        "x_test = df6[ df6['date'] >= '2015-06-09']\n",
        "y_test = x_test['sales']\n",
        "\n",
        "print(f\"Training Min Date: {x_train['date'].min()}\") \n",
        "print(f\"Training Max Date: {x_train['date'].max()}\") \n",
        "\n",
        "print(f\"\\nTest Min Date: {x_test['date'].min()}\") \n",
        "print(f\"Test Max Date: {x_test['date'].max()}\") "
      ]
    },
    {
      "cell_type": "markdown",
      "metadata": {
        "id": "mMN9FvexdlxE"
      },
      "source": [
        "## 6.2 Boruta as Freature Selector "
      ]
    },
    {
      "cell_type": "code",
      "execution_count": 12,
      "metadata": {
        "id": "Prl1fCpoPxfD",
        "colab": {
          "base_uri": "https://localhost:8080/"
        },
        "outputId": "5f906af2-3e25-4f7c-b770-e2ccaaf6c79a"
      },
      "outputs": [
        {
          "output_type": "stream",
          "name": "stdout",
          "text": [
            "Iteration: \t1 / 100\n",
            "Confirmed: \t0\n",
            "Tentative: \t28\n",
            "Rejected: \t0\n",
            "Iteration: \t2 / 100\n",
            "Confirmed: \t0\n",
            "Tentative: \t28\n",
            "Rejected: \t0\n",
            "Iteration: \t3 / 100\n",
            "Confirmed: \t0\n",
            "Tentative: \t28\n",
            "Rejected: \t0\n",
            "Iteration: \t4 / 100\n",
            "Confirmed: \t0\n",
            "Tentative: \t28\n",
            "Rejected: \t0\n",
            "Iteration: \t5 / 100\n",
            "Confirmed: \t0\n",
            "Tentative: \t28\n",
            "Rejected: \t0\n",
            "Iteration: \t6 / 100\n",
            "Confirmed: \t0\n",
            "Tentative: \t28\n",
            "Rejected: \t0\n",
            "Iteration: \t7 / 100\n",
            "Confirmed: \t0\n",
            "Tentative: \t28\n",
            "Rejected: \t0\n",
            "Iteration: \t8 / 100\n",
            "Confirmed: \t19\n",
            "Tentative: \t0\n",
            "Rejected: \t9\n",
            "\n",
            "\n",
            "BorutaPy finished running.\n",
            "\n",
            "Iteration: \t9 / 100\n",
            "Confirmed: \t19\n",
            "Tentative: \t0\n",
            "Rejected: \t9\n"
          ]
        }
      ],
      "source": [
        "# training and test dataset for Boruta\n",
        "x_train_n = x_train.drop(['date', 'sales'], axis=1).values\n",
        "y_train_n = y_train.values.ravel()\n",
        "\n",
        "# define RadomForestRegressor\n",
        "rf = RandomForestRegressor(n_jobs=-1,)\n",
        "\n",
        "# define boruta\n",
        "# boruta = BorutaPy( rf, n_estimators='auto', verbose=2, random_state=42 ).fit(x_train_n, y_train_n)"
      ]
    },
    {
      "cell_type": "code",
      "execution_count": 15,
      "metadata": {
        "id": "yuG83xFGQjpp"
      },
      "outputs": [],
      "source": [
        "cols_selected = boruta.support_.tolist()\n",
        "\n",
        "# best features\n",
        "x_train_fs = x_train.drop(['date', 'sales'], axis=1)\n",
        "cols_selected_boruta = x_train_fs.iloc[:, cols_selected].columns.to_list()\n",
        "\n",
        "# not selected_boruta\n",
        "cols_not_selected_boruta = list(np.setdiff1d(x_train_fs.columns, cols_selected_boruta))"
      ]
    },
    {
      "cell_type": "markdown",
      "source": [
        "## 6.2 Manual Freature Selector "
      ],
      "metadata": {
        "id": "o-P2CodmIqqB"
      }
    },
    {
      "cell_type": "code",
      "execution_count": 22,
      "metadata": {
        "id": "jrVL9-BUQjmA"
      },
      "outputs": [],
      "source": [
        "# vamos salvar o resultado do boruta em uma lista para nao precisar rodar sempre que iniciar o notebook\n",
        "#colunas selecionadas pelo boruta\n",
        "cols_selected_boruta = [\n",
        " 'store',\n",
        " 'promo',\n",
        " 'store_type',\n",
        " 'assortment',\n",
        " 'competition_distance',\n",
        " 'competition_open_since_month',\n",
        " 'competition_open_since_year',\n",
        " 'promo2',\n",
        " 'promo2_since_week',\n",
        " 'promo2_since_year',\n",
        " 'competition_time_month',\n",
        " 'promo_time_week',\n",
        " 'month_sin',\n",
        " 'month_cos',\n",
        " 'day_sin',\n",
        " 'day_cos',\n",
        " 'week_of_year_sin',\n",
        " 'week_of_year_cos',\n",
        " 'day_of_week_sin',\n",
        " 'day_of_week_cos']\n",
        "\n",
        "# columns to add\n",
        "feet_to_add = ['date', 'sales']\n",
        "\n",
        "# final features\n",
        "cols_selected_boruta.extend(feet_to_add)\n",
        "\n",
        "# Colunas rejeitadas pelo boruta \n",
        "cols_not_selected_boruta = [\n",
        " 'is_promo',\n",
        " 'school_holiday',\n",
        " 'state_holiday_christmas',\n",
        " 'state_holiday_easter_holiday',\n",
        " 'state_holiday_public_holiday',\n",
        " 'state_holiday_regular_day',\n",
        " 'year']"
      ]
    }
  ],
  "metadata": {
    "colab": {
      "collapsed_sections": [
        "Aps3ZrBHlvu_",
        "9qc8DcAgl4iN",
        "pVm-UI5WmBd4",
        "qyTNhrw8sdaJ",
        "4zGmuQt0i3qX",
        "sjLa9ct0mOME",
        "4G1do3YZmOMd",
        "tsnG80qgmOZB",
        "LjztZQwEmOZO",
        "CSw0Je-nmOpM",
        "x8TThNCIAPGI",
        "sjKoGVe_AdGL",
        "bRwMBmAkKrjX",
        "wB1Qn1-1ew9M",
        "AW8e_D2je46A",
        "6m1NjFkxfPUB",
        "yYRtWuu1fV9w",
        "p7pIm1_ufaaV",
        "BZPRmR4xj8Uy",
        "C6rED5b2oVTz",
        "NOnBQlChomPJ",
        "3Huicvcmpt2j",
        "gPgnKm-OpxxB",
        "MSx9eY0zSAOo",
        "2eKFLjRVSgdZ",
        "fYABeU6QSghQ",
        "vOFuY5xXSgZ4",
        "LB-a5oLUER8W",
        "jo84KxwFEYB2",
        "o6ll_6hxEclm",
        "NG5ib4I946id",
        "iiWVpUcu46cS",
        "UxRDx7JB46Ud",
        "mddHMsTcGC7W",
        "BBJPVc3oGFl3",
        "Fea1W_ASGFhj",
        "KyFvMmx7GFGG",
        "HC9cPJtHGKAu",
        "UpQ6vntvGL7W",
        "6hFRz57lSUWj",
        "22UCDthQ0npJ",
        "UtbmxWvu0neQ",
        "JYc4efN_QYJA",
        "6c7MbPVKQwvn",
        "_xcDLnS1Q1dh",
        "FYVODqCjQ13F",
        "5prtJ77WHWC6",
        "t-0n1i3oUWNu",
        "0Kg9e8IMVRBu",
        "YLrm5Ch0eHFX"
      ],
      "provenance": [],
      "authorship_tag": "ABX9TyPgmwqGLrluaCvMadQn2Wpv",
      "include_colab_link": true
    },
    "kernelspec": {
      "display_name": "Python 3",
      "name": "python3"
    },
    "language_info": {
      "name": "python"
    }
  },
  "nbformat": 4,
  "nbformat_minor": 0
}