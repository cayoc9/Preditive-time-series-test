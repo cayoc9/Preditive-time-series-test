{
  "cells": [
    {
      "cell_type": "markdown",
      "metadata": {
        "id": "view-in-github",
        "colab_type": "text"
      },
      "source": [
        "<a href=\"https://colab.research.google.com/github/cayoc9/Store-sales-predictive-Rossman-challenge/blob/main/Rossaman_Store_m04_v01_store_sales_prediction.ipynb\" target=\"_parent\"><img src=\"https://colab.research.google.com/assets/colab-badge.svg\" alt=\"Open In Colab\"/></a>"
      ]
    },
    {
      "cell_type": "markdown",
      "metadata": {
        "id": "0BbIfq3plgZq"
      },
      "source": [
        "## 0.0 imports"
      ]
    },
    {
      "cell_type": "code",
      "execution_count": 1,
      "metadata": {
        "colab": {
          "base_uri": "https://localhost:8080/"
        },
        "id": "PaUqi1dt2H8A",
        "outputId": "bdaedba5-fb7f-45f8-b71d-81b1ce0ba7be"
      },
      "outputs": [
        {
          "output_type": "stream",
          "name": "stdout",
          "text": [
            "Looking in indexes: https://pypi.org/simple, https://us-python.pkg.dev/colab-wheels/public/simple/\n",
            "Collecting inflection\n",
            "  Downloading inflection-0.5.1-py2.py3-none-any.whl (9.5 kB)\n",
            "Installing collected packages: inflection\n",
            "Successfully installed inflection-0.5.1\n"
          ]
        }
      ],
      "source": [
        "! pip install inflection"
      ]
    },
    {
      "cell_type": "code",
      "execution_count": 2,
      "metadata": {
        "id": "sCTA-XJZnNW8"
      },
      "outputs": [],
      "source": [
        "import pandas as pd\n",
        "import inflection\n",
        "import math\n",
        "import numpy as np\n",
        "import seaborn as sns\n",
        "import datetime\n",
        "import matplotlib.pyplot as plt\n",
        "from IPython.core.display import HTML \n",
        "from IPython.display import Image"
      ]
    },
    {
      "cell_type": "markdown",
      "metadata": {
        "id": "Aps3ZrBHlvu_"
      },
      "source": [
        "### 0.1 Helper Function"
      ]
    },
    {
      "cell_type": "code",
      "execution_count": 2,
      "metadata": {
        "id": "ihDlSzYnmWGv"
      },
      "outputs": [],
      "source": []
    },
    {
      "cell_type": "markdown",
      "metadata": {
        "id": "9qc8DcAgl4iN"
      },
      "source": [
        "### 0.2 Loading Data"
      ]
    },
    {
      "cell_type": "code",
      "execution_count": 3,
      "metadata": {
        "id": "-s5Q9n4bkKo9",
        "colab": {
          "base_uri": "https://localhost:8080/"
        },
        "outputId": "e0d066f7-9447-49cf-8066-1643e37327e2"
      },
      "outputs": [
        {
          "output_type": "stream",
          "name": "stdout",
          "text": [
            "Mounted at /content/drive\n"
          ]
        }
      ],
      "source": [
        "from google.colab import drive\n",
        "drive.mount('/content/drive')\n",
        "# Caminho dos dados: \"/content/drive/Shareddrives/Drive Cayo.Edu/1 - PROJETOS/Profissional - Cientista de dados/Estudo Ciencia de Dados/Projeto Rossmann Store/rossmann-store-sales\"\n",
        "# Train : /content/drive/Shareddrives/Drive Cayo.Edu/1 - PROJETOS/Profissional - Cientista de dados/Estudo Ciencia de Dados/Projeto Rossmann Store/rossmann-store-sales/train.csv\n",
        "# store: /content/drive/Shareddrives/Drive Cayo.Edu/1 - PROJETOS/Profissional - Cientista de dados/Estudo Ciencia de Dados/Projeto Rossmann Store/rossmann-store-sales/store.csv\n",
        "#\n"
      ]
    },
    {
      "cell_type": "code",
      "execution_count": 4,
      "metadata": {
        "id": "HjfWITLumG9B"
      },
      "outputs": [],
      "source": [
        "df_sales_raw = pd.read_csv('/content/drive/Shareddrives/Drive Cayo.Edu/1 - PROJETOS/Profissional - Cientista de dados/Estudo Ciencia de Dados/Projeto Rossmann Store/rossmann-store-sales/train.csv', low_memory=False)\n",
        "df_store_raw = pd.read_csv('/content/drive/Shareddrives/Drive Cayo.Edu/1 - PROJETOS/Profissional - Cientista de dados/Estudo Ciencia de Dados/Projeto Rossmann Store/rossmann-store-sales/store.csv', low_memory=False)\n",
        "\n",
        "# merge\n",
        "df_raw = pd.merge(df_sales_raw, df_store_raw, how='left', on='Store')\n",
        "\n"
      ]
    },
    {
      "cell_type": "markdown",
      "metadata": {
        "id": "RB20BvQCvYyt"
      },
      "source": [
        "\n",
        "* Id - um Id que representa uma duplicata (Store, Date) dentro do conjunto de teste\n",
        "\n",
        "* Store - um ID exclusivo para cada loja\n",
        "\n",
        "* Sales  - o volume de negócios para um determinado dia (isto é o que você está prevendo)\n",
        "\n",
        "* Customers  - o número de clientes em um determinado dia\n",
        "\n",
        "* Open  - um indicador para saber se a loja estava aberta: 0 = fechado, 1 = aberto\n",
        "\n",
        "* StateHoliday - indica um feriado estadual. Normalmente todas as lojas, com poucas exceções, fecham nos feriados estaduais. Observe que todas as escolas fecham nos feriados e fins de semana. a = feriado, b = feriado da Páscoa, c = Natal, 0 = nenhum\n",
        "\n",
        "* SchoolHoliday - indica se o (Store, Date) foi afetado pelo fechamento das escolas públicas\n",
        "\n",
        "* StoreType  - diferencia entre 4 modelos de loja diferentes: a, b, c, d\n",
        "\n",
        "* Assortment  - descreve um nível de sortimento: a = básico, b = extra, c = estendido\n",
        "\n",
        "* CompetitionDistance - distância em metros até a loja concorrente mais próxima\n",
        "\n",
        "* CompetitionOpenSince[Month/Year] - fornece o ano e o mês aproximados da hora em que o concorrente mais próximo foi aberto\n",
        "\n",
        "* Promo - indica se uma loja está realizando uma promoção naquele dia\n",
        "\n",
        "* Promo2 - Promo2 é uma promoção contínua e consecutiva para algumas \n",
        "lojas: 0 = loja não está participando, 1 = loja está participando\n",
        "\n",
        "* Promo2Since[Year/Week] - descreve o ano e a semana do calendário em que a loja começou a participar do Promo2\n",
        "\n",
        "* PromoInterval - descreve os intervalos consecutivos em que o Promo2 é iniciado, nomeando os meses em que a promoção é reiniciada. Por exemplo, \"fevereiro, maio, agosto, novembro\" significa que cada rodada começa em fevereiro, maio, agosto, novembro de qualquer ano para essa loja"
      ]
    },
    {
      "cell_type": "markdown",
      "metadata": {
        "id": "pVm-UI5WmBd4"
      },
      "source": [
        "## 1.0 Descrição dos dados"
      ]
    },
    {
      "cell_type": "markdown",
      "metadata": {
        "id": "qyTNhrw8sdaJ"
      },
      "source": [
        "### 1.1 Rename Columns"
      ]
    },
    {
      "cell_type": "code",
      "execution_count": 5,
      "metadata": {
        "id": "heTn6K1gC2eE"
      },
      "outputs": [],
      "source": [
        "# copiar tabela caso precise resetar ela no futuro\n",
        "df1 = df_raw.copy()"
      ]
    },
    {
      "cell_type": "code",
      "execution_count": 6,
      "metadata": {
        "id": "gkliCT5Ji3Le"
      },
      "outputs": [],
      "source": [
        "#salvar todas as colunas em uma variavel\n",
        "cols_old = ['Store', 'DayOfWeek', 'Date', 'Sales', 'Customers', 'Open', 'Promo','StateHoliday', 'SchoolHoliday', \n",
        "           'StoreType', 'Assortment', 'CompetitionDistance', 'CompetitionOpenSinceMonth', 'CompetitionOpenSinceYear', \n",
        "           'Promo2', 'Promo2SinceWeek', 'Promo2SinceYear', 'PromoInterval']\n",
        "#criar uma função lambda com inflect\n",
        "snakecase = lambda x: inflection.underscore(x)\n",
        "\n",
        "#aplicar um mapeamento dessa função aplicada à todas as palavras do vertor cols_old e salvar como uma lista em outra variavel\n",
        "cols_new =  list(map( snakecase, cols_old))\n",
        "\n",
        "# rename colunas\n",
        "df1.columns = cols_new"
      ]
    },
    {
      "cell_type": "markdown",
      "metadata": {
        "id": "4zGmuQt0i3qX"
      },
      "source": [
        "### 1.2 Data Dimensions"
      ]
    },
    {
      "cell_type": "code",
      "execution_count": 7,
      "metadata": {
        "colab": {
          "base_uri": "https://localhost:8080/"
        },
        "id": "BT38JSTyi3Om",
        "outputId": "0c005adb-8a06-4e45-9ca3-7f511de35022"
      },
      "outputs": [
        {
          "output_type": "stream",
          "name": "stdout",
          "text": [
            "Numero de Linhas: 1017209 \n",
            "Numero de Colunas: 18 \n"
          ]
        }
      ],
      "source": [
        "# calcular quantidade de linhas e colunas da tabela\n",
        "print( f'Numero de Linhas: {df1.shape[0]} ')\n",
        "print( f'Numero de Colunas: {df1.shape[1]} ')"
      ]
    },
    {
      "cell_type": "markdown",
      "metadata": {
        "id": "sjLa9ct0mOME"
      },
      "source": [
        "### 1.3 Data Types"
      ]
    },
    {
      "cell_type": "code",
      "execution_count": 8,
      "metadata": {
        "id": "sSN5eW3OmOMO"
      },
      "outputs": [],
      "source": [
        "#transforma data em tipo d dados datetime\n",
        "df1['date'] = pd.to_datetime(df1['date'])"
      ]
    },
    {
      "cell_type": "code",
      "execution_count": 9,
      "metadata": {
        "colab": {
          "base_uri": "https://localhost:8080/"
        },
        "id": "ucSFaZ2DmOMK",
        "outputId": "b445b089-5cbb-4fd6-8184-4c85bf8e1a6b"
      },
      "outputs": [
        {
          "output_type": "execute_result",
          "data": {
            "text/plain": [
              "store                                    int64\n",
              "day_of_week                              int64\n",
              "date                            datetime64[ns]\n",
              "sales                                    int64\n",
              "customers                                int64\n",
              "open                                     int64\n",
              "promo                                    int64\n",
              "state_holiday                           object\n",
              "school_holiday                           int64\n",
              "store_type                              object\n",
              "assortment                              object\n",
              "competition_distance                   float64\n",
              "competition_open_since_month           float64\n",
              "competition_open_since_year            float64\n",
              "promo2                                   int64\n",
              "promo2_since_week                      float64\n",
              "promo2_since_year                      float64\n",
              "promo_interval                          object\n",
              "dtype: object"
            ]
          },
          "metadata": {},
          "execution_count": 9
        }
      ],
      "source": [
        "# calcular tipos de dados\n",
        "df1.dtypes"
      ]
    },
    {
      "cell_type": "markdown",
      "metadata": {
        "id": "4G1do3YZmOMd"
      },
      "source": [
        "### 1.4 Check NA"
      ]
    },
    {
      "cell_type": "code",
      "execution_count": 10,
      "metadata": {
        "colab": {
          "base_uri": "https://localhost:8080/"
        },
        "id": "Fcpkr9z9mOMZ",
        "outputId": "53661b9c-53dd-4da7-a3c2-fd6b1c3d9843"
      },
      "outputs": [
        {
          "output_type": "execute_result",
          "data": {
            "text/plain": [
              "store                                0\n",
              "day_of_week                          0\n",
              "date                                 0\n",
              "sales                                0\n",
              "customers                            0\n",
              "open                                 0\n",
              "promo                                0\n",
              "state_holiday                        0\n",
              "school_holiday                       0\n",
              "store_type                           0\n",
              "assortment                           0\n",
              "competition_distance              2642\n",
              "competition_open_since_month    323348\n",
              "competition_open_since_year     323348\n",
              "promo2                               0\n",
              "promo2_since_week               508031\n",
              "promo2_since_year               508031\n",
              "promo_interval                  508031\n",
              "dtype: int64"
            ]
          },
          "metadata": {},
          "execution_count": 10
        }
      ],
      "source": [
        "# verificar todas as colunas que tem pelo menos uma linha NA\n",
        "df1.isna().sum()"
      ]
    },
    {
      "cell_type": "markdown",
      "metadata": {
        "id": "Oyz7_bbd8y5g"
      },
      "source": [
        "\n",
        "\n",
        "---\n",
        "\n",
        "\n",
        "Esse resultado influencia a proxima decisao sobre o que fazer, normalmente temos 3 Opçoes:\n",
        "\n",
        "1.   Apagar linhas que tem elementos NA\n",
        "\n",
        "*   Se o Conjunto de dados for pequena, isso afetará o resultado dos algoritimos\n",
        "*   Mais simples das soluçoes\n",
        "*   As linhas excluidas excluirá dados que podem revelar outros padroes\n",
        "\n",
        "\n",
        "2.   Recuperar esses dados atravez de um algoritmo de machine learning\n",
        "\n",
        "* Mais complicado de usar\n",
        "* Usada alritmos de machine learning para tertar tirar uma media ou prever qual seria a resposta com base em outros dados\n",
        "\n",
        "3.   Recuperar esses dados com o entendimento das regras do negocio\n",
        "\n",
        "* Gerar valores reais do porque aquele dado foi NA\n",
        "* Gera valores mais precisos pelo entendimento do negocios aprofundado\n",
        "\n",
        "\n",
        "\n"
      ]
    },
    {
      "cell_type": "markdown",
      "metadata": {
        "id": "tsnG80qgmOZB"
      },
      "source": [
        "### 1.5 Fillout NA"
      ]
    },
    {
      "cell_type": "code",
      "execution_count": 11,
      "metadata": {
        "id": "37K0jrZimOZD"
      },
      "outputs": [],
      "source": [
        "# analisar dado por questoes de negocios\n",
        "\n",
        "\n",
        "# 1. Se a distancia é considerada NA, provavelmente nao tem ou está muito longe para ser considerado, logo vamos colocar uma distancia muito maior que a distancia maxima nos dados\n",
        "df1['competition_distance'] = df1['competition_distance'].apply( lambda x: 2000000.0 if math.isnan(x) else (x) )\n",
        "\n",
        "\n",
        "# 2. competition_open_since_month: Mes aproximado que o concorrente mais proximo foi abertor\n",
        "#    Existem duas possiblidades, ou a concorrente mais proxima nao existe, ou nao temos esse dado, tanto porque é muito antiga quanto porque esqueceram de anotar\n",
        "df1['competition_open_since_month'] = df1.apply( lambda x: x['date'].month if math.isnan( x['competition_open_since_month']) else x['competition_open_since_month'], axis=1 )\n",
        "\n",
        "# 3. competition_open_since_year: Ano aproximado que o concorrente mais proximo foi abertor\n",
        "df1['competition_open_since_year'] = df1.apply( lambda x: x['date'].year if math.isnan( x['competition_open_since_year']) else x['competition_open_since_year'], axis=1 )\n",
        "\n",
        "\n",
        "# 4. promo2_since_week:  Descreve qual semana do calendario a loja começou a participar da promo2        \n",
        "#     se a celula esta NA, significa que a loja nao participou daquela promoçao\n",
        "df1['promo2_since_week'] = df1.apply( lambda x: x['date'].week if math.isnan( x['promo2_since_week']) else x['promo2_since_week'], axis=1 )\n",
        "\n",
        "\n",
        "\n",
        "# 5. promo2_since_year:  Descreve qual ano a loja começou a participar da promo2\n",
        "df1['promo2_since_year'] = df1.apply( lambda x: x['date'].year if math.isnan( x['promo2_since_year']) else x['promo2_since_year'], axis=1 )\n",
        "\n",
        "# 6. promo_interval: Descreve os intervalos que a promoção ficou ativa em listas de meses (Ex: Feb. May, Jun, Aug)\n",
        "\n",
        "#Criei um dicionario para linkar o mes ao seu numero equivalente  \n",
        "month_map = {1: 'Jan', 2: 'Feb', 3: 'Mar', 4: 'Apr', 5: 'May', 6: 'Jun', 7: 'Jul', 8: 'Aug', 9: 'Sep', 10: 'Oct', 11: 'Nov', 12: 'Dez'}\n",
        "\n",
        "# aqui usamos o metodo fillna para substituir os elementos NA por 0 na tabela de data\n",
        "df1['promo_interval'].fillna(0, inplace=True)\n",
        "\n",
        "# Criar uma nova coluna \"month_map\" e atribuir pra ela o resultado de transforma a coluna 'date' em data, \n",
        "# depois separar apenas o mes e aplicar um mapeamento substituindo todos os numeros para as letras equivalentes do Dict \"mounth_map\"  \n",
        "df1['month_map'] = df1['date'].dt.month.map(month_map) \n",
        "\n",
        "# Aqui criamos uma nova coluna pra informar se a loja participou da promoção no mes referente \n",
        "df1['is_promo'] = df1[['promo_interval', 'month_map']].apply( lambda x: 0 if x['promo_interval'] == 0 else 1 if x['month_map'] in x['promo_interval'].split(',') else 0, axis=1) \n",
        "\n"
      ]
    },
    {
      "cell_type": "code",
      "execution_count": 12,
      "metadata": {
        "id": "CRY2QoLqmOZE"
      },
      "outputs": [],
      "source": [
        "#df1.isna().sum()"
      ]
    },
    {
      "cell_type": "markdown",
      "metadata": {
        "id": "LjztZQwEmOZO"
      },
      "source": [
        "### 1.6 Change Types (Estatistica Descritiva) "
      ]
    },
    {
      "cell_type": "code",
      "execution_count": 13,
      "metadata": {
        "colab": {
          "base_uri": "https://localhost:8080/"
        },
        "id": "Mf_XbHE4mOZF",
        "outputId": "f6c20736-883f-42f7-9281-1ab66ccaeb5d"
      },
      "outputs": [
        {
          "output_type": "execute_result",
          "data": {
            "text/plain": [
              "store                                    int64\n",
              "day_of_week                              int64\n",
              "date                            datetime64[ns]\n",
              "sales                                    int64\n",
              "customers                                int64\n",
              "open                                     int64\n",
              "promo                                    int64\n",
              "state_holiday                           object\n",
              "school_holiday                           int64\n",
              "store_type                              object\n",
              "assortment                              object\n",
              "competition_distance                   float64\n",
              "competition_open_since_month           float64\n",
              "competition_open_since_year            float64\n",
              "promo2                                   int64\n",
              "promo2_since_week                      float64\n",
              "promo2_since_year                      float64\n",
              "promo_interval                          object\n",
              "month_map                               object\n",
              "is_promo                                 int64\n",
              "dtype: object"
            ]
          },
          "metadata": {},
          "execution_count": 13
        }
      ],
      "source": [
        "# Verificar os Tipos atuais dos dados, todas a operaçoes a tratamentos feitos podem ter alterado seus tipos\n",
        "df1.dtypes\n"
      ]
    },
    {
      "cell_type": "code",
      "execution_count": 14,
      "metadata": {
        "id": "NqlfgDoDmOZN"
      },
      "outputs": [],
      "source": [
        "df1['competition_open_since_month'] = df1['competition_open_since_month'].astype(int)\n",
        "df1['competition_open_since_year'] = df1['competition_open_since_year'].astype(int)\n",
        "df1['promo2_since_week'] = df1['promo2_since_week'].astype(int)\n",
        "df1['promo2_since_year'] = df1['promo2_since_year'].astype(int)"
      ]
    },
    {
      "cell_type": "markdown",
      "metadata": {
        "id": "CSw0Je-nmOpM"
      },
      "source": [
        "### 1.7 Descriptive Statistical (Descrição Estatistica) "
      ]
    },
    {
      "cell_type": "code",
      "execution_count": 14,
      "metadata": {
        "id": "JRtIFVHp-dBs"
      },
      "outputs": [],
      "source": []
    },
    {
      "cell_type": "code",
      "execution_count": 15,
      "metadata": {
        "id": "-f82QoFVmOpO"
      },
      "outputs": [],
      "source": [
        "# Central Tendency - mean, median\n",
        "\n",
        "# Dispension - std, min, max, range, skew, kurtosis"
      ]
    },
    {
      "cell_type": "code",
      "execution_count": 16,
      "metadata": {
        "id": "X0Aw_F5WmOpP"
      },
      "outputs": [],
      "source": [
        "num_atributes = df1.select_dtypes( include= ['int64', 'float64'])\n",
        "cat_atributes = df1.select_dtypes( exclude= ['int64', 'float64'])"
      ]
    },
    {
      "cell_type": "markdown",
      "metadata": {
        "id": "ZMFje_Uh8SG-"
      },
      "source": [
        "#### Utilidade da estatistica descritiva:\n",
        "\n",
        "\n",
        "1.  Entender sobre o negocios\n",
        "2.  Detectar erros \n",
        "\n",
        "* Metricas de Estatistica descritiva\n",
        "  * Metricas de Dispersão (1° ordem)\n",
        "     * Desvio Padrão (std)\n",
        "     * Min\n",
        "     * Max\n",
        "     * Range (Valor Entre Min e Max)\n",
        "     * Skew (Distribuição da Deformação em Relação a Normal)\n",
        "     * Kurtosis (Nivel de Concentração dos dados)\n",
        "  * Metricas de Tendencia Central (1° ordem)\n",
        "     * Media\n",
        "     * Mediana"
      ]
    },
    {
      "cell_type": "markdown",
      "metadata": {
        "id": "x8TThNCIAPGI"
      },
      "source": [
        "#### 1.7.1 Numerical Attributes - Descriptive Statistical "
      ]
    },
    {
      "cell_type": "code",
      "execution_count": 17,
      "metadata": {
        "colab": {
          "base_uri": "https://localhost:8080/",
          "height": 0
        },
        "id": "lny89CpjmOpP",
        "outputId": "66f98716-5641-4672-c4f1-653182c59cfe"
      },
      "outputs": [
        {
          "output_type": "execute_result",
          "data": {
            "text/plain": [
              "        store  day_of_week  sales  customers  open  promo  school_holiday  \\\n",
              "438878    354            2   9505        727     1      1               0   \n",
              "462410    471            2   5015        472     1      0               0   \n",
              "236618    293            3   3861        504     1      0               1   \n",
              "\n",
              "        competition_distance  competition_open_since_month  \\\n",
              "438878                1500.0                            10   \n",
              "462410                5300.0                             5   \n",
              "236618                 140.0                            11   \n",
              "\n",
              "        competition_open_since_year  promo2  promo2_since_week  \\\n",
              "438878                         2005       0                 23   \n",
              "462410                         2014       1                 45   \n",
              "236618                         2007       0                  1   \n",
              "\n",
              "        promo2_since_year  is_promo  \n",
              "438878               2014         0  \n",
              "462410               2009         1  \n",
              "236618               2014         0  "
            ],
            "text/html": [
              "\n",
              "  <div id=\"df-1063c932-26de-4328-9555-4663429d8fd6\">\n",
              "    <div class=\"colab-df-container\">\n",
              "      <div>\n",
              "<style scoped>\n",
              "    .dataframe tbody tr th:only-of-type {\n",
              "        vertical-align: middle;\n",
              "    }\n",
              "\n",
              "    .dataframe tbody tr th {\n",
              "        vertical-align: top;\n",
              "    }\n",
              "\n",
              "    .dataframe thead th {\n",
              "        text-align: right;\n",
              "    }\n",
              "</style>\n",
              "<table border=\"1\" class=\"dataframe\">\n",
              "  <thead>\n",
              "    <tr style=\"text-align: right;\">\n",
              "      <th></th>\n",
              "      <th>store</th>\n",
              "      <th>day_of_week</th>\n",
              "      <th>sales</th>\n",
              "      <th>customers</th>\n",
              "      <th>open</th>\n",
              "      <th>promo</th>\n",
              "      <th>school_holiday</th>\n",
              "      <th>competition_distance</th>\n",
              "      <th>competition_open_since_month</th>\n",
              "      <th>competition_open_since_year</th>\n",
              "      <th>promo2</th>\n",
              "      <th>promo2_since_week</th>\n",
              "      <th>promo2_since_year</th>\n",
              "      <th>is_promo</th>\n",
              "    </tr>\n",
              "  </thead>\n",
              "  <tbody>\n",
              "    <tr>\n",
              "      <th>438878</th>\n",
              "      <td>354</td>\n",
              "      <td>2</td>\n",
              "      <td>9505</td>\n",
              "      <td>727</td>\n",
              "      <td>1</td>\n",
              "      <td>1</td>\n",
              "      <td>0</td>\n",
              "      <td>1500.0</td>\n",
              "      <td>10</td>\n",
              "      <td>2005</td>\n",
              "      <td>0</td>\n",
              "      <td>23</td>\n",
              "      <td>2014</td>\n",
              "      <td>0</td>\n",
              "    </tr>\n",
              "    <tr>\n",
              "      <th>462410</th>\n",
              "      <td>471</td>\n",
              "      <td>2</td>\n",
              "      <td>5015</td>\n",
              "      <td>472</td>\n",
              "      <td>1</td>\n",
              "      <td>0</td>\n",
              "      <td>0</td>\n",
              "      <td>5300.0</td>\n",
              "      <td>5</td>\n",
              "      <td>2014</td>\n",
              "      <td>1</td>\n",
              "      <td>45</td>\n",
              "      <td>2009</td>\n",
              "      <td>1</td>\n",
              "    </tr>\n",
              "    <tr>\n",
              "      <th>236618</th>\n",
              "      <td>293</td>\n",
              "      <td>3</td>\n",
              "      <td>3861</td>\n",
              "      <td>504</td>\n",
              "      <td>1</td>\n",
              "      <td>0</td>\n",
              "      <td>1</td>\n",
              "      <td>140.0</td>\n",
              "      <td>11</td>\n",
              "      <td>2007</td>\n",
              "      <td>0</td>\n",
              "      <td>1</td>\n",
              "      <td>2014</td>\n",
              "      <td>0</td>\n",
              "    </tr>\n",
              "  </tbody>\n",
              "</table>\n",
              "</div>\n",
              "      <button class=\"colab-df-convert\" onclick=\"convertToInteractive('df-1063c932-26de-4328-9555-4663429d8fd6')\"\n",
              "              title=\"Convert this dataframe to an interactive table.\"\n",
              "              style=\"display:none;\">\n",
              "        \n",
              "  <svg xmlns=\"http://www.w3.org/2000/svg\" height=\"24px\"viewBox=\"0 0 24 24\"\n",
              "       width=\"24px\">\n",
              "    <path d=\"M0 0h24v24H0V0z\" fill=\"none\"/>\n",
              "    <path d=\"M18.56 5.44l.94 2.06.94-2.06 2.06-.94-2.06-.94-.94-2.06-.94 2.06-2.06.94zm-11 1L8.5 8.5l.94-2.06 2.06-.94-2.06-.94L8.5 2.5l-.94 2.06-2.06.94zm10 10l.94 2.06.94-2.06 2.06-.94-2.06-.94-.94-2.06-.94 2.06-2.06.94z\"/><path d=\"M17.41 7.96l-1.37-1.37c-.4-.4-.92-.59-1.43-.59-.52 0-1.04.2-1.43.59L10.3 9.45l-7.72 7.72c-.78.78-.78 2.05 0 2.83L4 21.41c.39.39.9.59 1.41.59.51 0 1.02-.2 1.41-.59l7.78-7.78 2.81-2.81c.8-.78.8-2.07 0-2.86zM5.41 20L4 18.59l7.72-7.72 1.47 1.35L5.41 20z\"/>\n",
              "  </svg>\n",
              "      </button>\n",
              "      \n",
              "  <style>\n",
              "    .colab-df-container {\n",
              "      display:flex;\n",
              "      flex-wrap:wrap;\n",
              "      gap: 12px;\n",
              "    }\n",
              "\n",
              "    .colab-df-convert {\n",
              "      background-color: #E8F0FE;\n",
              "      border: none;\n",
              "      border-radius: 50%;\n",
              "      cursor: pointer;\n",
              "      display: none;\n",
              "      fill: #1967D2;\n",
              "      height: 32px;\n",
              "      padding: 0 0 0 0;\n",
              "      width: 32px;\n",
              "    }\n",
              "\n",
              "    .colab-df-convert:hover {\n",
              "      background-color: #E2EBFA;\n",
              "      box-shadow: 0px 1px 2px rgba(60, 64, 67, 0.3), 0px 1px 3px 1px rgba(60, 64, 67, 0.15);\n",
              "      fill: #174EA6;\n",
              "    }\n",
              "\n",
              "    [theme=dark] .colab-df-convert {\n",
              "      background-color: #3B4455;\n",
              "      fill: #D2E3FC;\n",
              "    }\n",
              "\n",
              "    [theme=dark] .colab-df-convert:hover {\n",
              "      background-color: #434B5C;\n",
              "      box-shadow: 0px 1px 3px 1px rgba(0, 0, 0, 0.15);\n",
              "      filter: drop-shadow(0px 1px 2px rgba(0, 0, 0, 0.3));\n",
              "      fill: #FFFFFF;\n",
              "    }\n",
              "  </style>\n",
              "\n",
              "      <script>\n",
              "        const buttonEl =\n",
              "          document.querySelector('#df-1063c932-26de-4328-9555-4663429d8fd6 button.colab-df-convert');\n",
              "        buttonEl.style.display =\n",
              "          google.colab.kernel.accessAllowed ? 'block' : 'none';\n",
              "\n",
              "        async function convertToInteractive(key) {\n",
              "          const element = document.querySelector('#df-1063c932-26de-4328-9555-4663429d8fd6');\n",
              "          const dataTable =\n",
              "            await google.colab.kernel.invokeFunction('convertToInteractive',\n",
              "                                                     [key], {});\n",
              "          if (!dataTable) return;\n",
              "\n",
              "          const docLinkHtml = 'Like what you see? Visit the ' +\n",
              "            '<a target=\"_blank\" href=https://colab.research.google.com/notebooks/data_table.ipynb>data table notebook</a>'\n",
              "            + ' to learn more about interactive tables.';\n",
              "          element.innerHTML = '';\n",
              "          dataTable['output_type'] = 'display_data';\n",
              "          await google.colab.output.renderOutput(dataTable, element);\n",
              "          const docLink = document.createElement('div');\n",
              "          docLink.innerHTML = docLinkHtml;\n",
              "          element.appendChild(docLink);\n",
              "        }\n",
              "      </script>\n",
              "    </div>\n",
              "  </div>\n",
              "  "
            ]
          },
          "metadata": {},
          "execution_count": 17
        }
      ],
      "source": [
        "num_atributes.sample(3)"
      ]
    },
    {
      "cell_type": "code",
      "execution_count": 18,
      "metadata": {
        "id": "8ZSyBn-cAxZd"
      },
      "outputs": [],
      "source": [
        "\n",
        "# Central Tendency - mean, median\n",
        "ct1 = pd.DataFrame(num_atributes.apply(np.mean)).T\n",
        "ct2 = pd.DataFrame(num_atributes.apply(np.median)).T\n",
        "\n",
        "# Dispension - std, min, max, range, skew, kurtosis\n",
        "\n",
        "d1 = pd.DataFrame(num_atributes.apply( np.std )).T\n",
        "d2 = pd.DataFrame(num_atributes.apply( min )).T\n",
        "d3 = pd.DataFrame(num_atributes.apply( max )).T\n",
        "d4 = pd.DataFrame(num_atributes.apply( lambda x: x.max() - x.min() )).T\n",
        "d5 = pd.DataFrame(num_atributes.apply( lambda x: x.skew() )).T\n",
        "d6 = pd.DataFrame(num_atributes.apply( lambda x: x.kurtosis() )).T\n",
        "\n",
        "# contatenar as listas\n",
        "m = pd.concat([d2, d3, d4, ct1, ct2, d1, d5, d6]).T.reset_index()\n",
        "m.columns = ['attributes','min', 'max', 'range', 'mean', 'median', 'std', 'skew', 'kurtosis']\n"
      ]
    },
    {
      "cell_type": "code",
      "execution_count": 19,
      "metadata": {
        "colab": {
          "base_uri": "https://localhost:8080/",
          "height": 0
        },
        "id": "7VuHwCTqAxWJ",
        "outputId": "6ffee12c-0b42-4db8-96e7-afb955c2f329"
      },
      "outputs": [
        {
          "output_type": "execute_result",
          "data": {
            "text/plain": [
              "                      attributes     min        max      range          mean  \\\n",
              "0                          store     1.0     1115.0     1114.0    558.429727   \n",
              "1                    day_of_week     1.0        7.0        6.0      3.998341   \n",
              "2                          sales     0.0    41551.0    41551.0   5773.818972   \n",
              "3                      customers     0.0     7388.0     7388.0    633.145946   \n",
              "4                           open     0.0        1.0        1.0      0.830107   \n",
              "5                          promo     0.0        1.0        1.0      0.381515   \n",
              "6                 school_holiday     0.0        1.0        1.0      0.178647   \n",
              "7           competition_distance    20.0  2000000.0  1999980.0  10610.588099   \n",
              "8   competition_open_since_month     1.0       12.0       11.0      6.786849   \n",
              "9    competition_open_since_year  1900.0     2015.0      115.0   2010.324840   \n",
              "10                        promo2     0.0        1.0        1.0      0.500564   \n",
              "11             promo2_since_week     1.0       52.0       51.0     23.619033   \n",
              "12             promo2_since_year  2009.0     2015.0        6.0   2012.793297   \n",
              "13                      is_promo     0.0        1.0        1.0      0.159901   \n",
              "\n",
              "    median            std       skew    kurtosis  \n",
              "0    558.0     321.908493  -0.000955   -1.200524  \n",
              "1      4.0       1.997390   0.001593   -1.246873  \n",
              "2   5744.0    3849.924283   0.641460    1.778375  \n",
              "3    609.0     464.411506   1.598650    7.091773  \n",
              "4      1.0       0.375539  -1.758045    1.090723  \n",
              "5      0.0       0.485758   0.487838   -1.762018  \n",
              "6      0.0       0.383056   1.677842    0.815154  \n",
              "7   2330.0  101810.649100  19.378002  375.644405  \n",
              "8      7.0       3.311085  -0.042076   -1.232607  \n",
              "9   2012.0       5.515591  -7.235657  124.071304  \n",
              "10     1.0       0.500000  -0.002255   -1.999999  \n",
              "11    22.0      14.310057   0.178723   -1.184046  \n",
              "12  2013.0       1.662657  -0.784436   -0.210075  \n",
              "13     0.0       0.366514   1.855857    1.444209  "
            ],
            "text/html": [
              "\n",
              "  <div id=\"df-dd22b765-1c19-41d3-a16d-2823bfca2517\">\n",
              "    <div class=\"colab-df-container\">\n",
              "      <div>\n",
              "<style scoped>\n",
              "    .dataframe tbody tr th:only-of-type {\n",
              "        vertical-align: middle;\n",
              "    }\n",
              "\n",
              "    .dataframe tbody tr th {\n",
              "        vertical-align: top;\n",
              "    }\n",
              "\n",
              "    .dataframe thead th {\n",
              "        text-align: right;\n",
              "    }\n",
              "</style>\n",
              "<table border=\"1\" class=\"dataframe\">\n",
              "  <thead>\n",
              "    <tr style=\"text-align: right;\">\n",
              "      <th></th>\n",
              "      <th>attributes</th>\n",
              "      <th>min</th>\n",
              "      <th>max</th>\n",
              "      <th>range</th>\n",
              "      <th>mean</th>\n",
              "      <th>median</th>\n",
              "      <th>std</th>\n",
              "      <th>skew</th>\n",
              "      <th>kurtosis</th>\n",
              "    </tr>\n",
              "  </thead>\n",
              "  <tbody>\n",
              "    <tr>\n",
              "      <th>0</th>\n",
              "      <td>store</td>\n",
              "      <td>1.0</td>\n",
              "      <td>1115.0</td>\n",
              "      <td>1114.0</td>\n",
              "      <td>558.429727</td>\n",
              "      <td>558.0</td>\n",
              "      <td>321.908493</td>\n",
              "      <td>-0.000955</td>\n",
              "      <td>-1.200524</td>\n",
              "    </tr>\n",
              "    <tr>\n",
              "      <th>1</th>\n",
              "      <td>day_of_week</td>\n",
              "      <td>1.0</td>\n",
              "      <td>7.0</td>\n",
              "      <td>6.0</td>\n",
              "      <td>3.998341</td>\n",
              "      <td>4.0</td>\n",
              "      <td>1.997390</td>\n",
              "      <td>0.001593</td>\n",
              "      <td>-1.246873</td>\n",
              "    </tr>\n",
              "    <tr>\n",
              "      <th>2</th>\n",
              "      <td>sales</td>\n",
              "      <td>0.0</td>\n",
              "      <td>41551.0</td>\n",
              "      <td>41551.0</td>\n",
              "      <td>5773.818972</td>\n",
              "      <td>5744.0</td>\n",
              "      <td>3849.924283</td>\n",
              "      <td>0.641460</td>\n",
              "      <td>1.778375</td>\n",
              "    </tr>\n",
              "    <tr>\n",
              "      <th>3</th>\n",
              "      <td>customers</td>\n",
              "      <td>0.0</td>\n",
              "      <td>7388.0</td>\n",
              "      <td>7388.0</td>\n",
              "      <td>633.145946</td>\n",
              "      <td>609.0</td>\n",
              "      <td>464.411506</td>\n",
              "      <td>1.598650</td>\n",
              "      <td>7.091773</td>\n",
              "    </tr>\n",
              "    <tr>\n",
              "      <th>4</th>\n",
              "      <td>open</td>\n",
              "      <td>0.0</td>\n",
              "      <td>1.0</td>\n",
              "      <td>1.0</td>\n",
              "      <td>0.830107</td>\n",
              "      <td>1.0</td>\n",
              "      <td>0.375539</td>\n",
              "      <td>-1.758045</td>\n",
              "      <td>1.090723</td>\n",
              "    </tr>\n",
              "    <tr>\n",
              "      <th>5</th>\n",
              "      <td>promo</td>\n",
              "      <td>0.0</td>\n",
              "      <td>1.0</td>\n",
              "      <td>1.0</td>\n",
              "      <td>0.381515</td>\n",
              "      <td>0.0</td>\n",
              "      <td>0.485758</td>\n",
              "      <td>0.487838</td>\n",
              "      <td>-1.762018</td>\n",
              "    </tr>\n",
              "    <tr>\n",
              "      <th>6</th>\n",
              "      <td>school_holiday</td>\n",
              "      <td>0.0</td>\n",
              "      <td>1.0</td>\n",
              "      <td>1.0</td>\n",
              "      <td>0.178647</td>\n",
              "      <td>0.0</td>\n",
              "      <td>0.383056</td>\n",
              "      <td>1.677842</td>\n",
              "      <td>0.815154</td>\n",
              "    </tr>\n",
              "    <tr>\n",
              "      <th>7</th>\n",
              "      <td>competition_distance</td>\n",
              "      <td>20.0</td>\n",
              "      <td>2000000.0</td>\n",
              "      <td>1999980.0</td>\n",
              "      <td>10610.588099</td>\n",
              "      <td>2330.0</td>\n",
              "      <td>101810.649100</td>\n",
              "      <td>19.378002</td>\n",
              "      <td>375.644405</td>\n",
              "    </tr>\n",
              "    <tr>\n",
              "      <th>8</th>\n",
              "      <td>competition_open_since_month</td>\n",
              "      <td>1.0</td>\n",
              "      <td>12.0</td>\n",
              "      <td>11.0</td>\n",
              "      <td>6.786849</td>\n",
              "      <td>7.0</td>\n",
              "      <td>3.311085</td>\n",
              "      <td>-0.042076</td>\n",
              "      <td>-1.232607</td>\n",
              "    </tr>\n",
              "    <tr>\n",
              "      <th>9</th>\n",
              "      <td>competition_open_since_year</td>\n",
              "      <td>1900.0</td>\n",
              "      <td>2015.0</td>\n",
              "      <td>115.0</td>\n",
              "      <td>2010.324840</td>\n",
              "      <td>2012.0</td>\n",
              "      <td>5.515591</td>\n",
              "      <td>-7.235657</td>\n",
              "      <td>124.071304</td>\n",
              "    </tr>\n",
              "    <tr>\n",
              "      <th>10</th>\n",
              "      <td>promo2</td>\n",
              "      <td>0.0</td>\n",
              "      <td>1.0</td>\n",
              "      <td>1.0</td>\n",
              "      <td>0.500564</td>\n",
              "      <td>1.0</td>\n",
              "      <td>0.500000</td>\n",
              "      <td>-0.002255</td>\n",
              "      <td>-1.999999</td>\n",
              "    </tr>\n",
              "    <tr>\n",
              "      <th>11</th>\n",
              "      <td>promo2_since_week</td>\n",
              "      <td>1.0</td>\n",
              "      <td>52.0</td>\n",
              "      <td>51.0</td>\n",
              "      <td>23.619033</td>\n",
              "      <td>22.0</td>\n",
              "      <td>14.310057</td>\n",
              "      <td>0.178723</td>\n",
              "      <td>-1.184046</td>\n",
              "    </tr>\n",
              "    <tr>\n",
              "      <th>12</th>\n",
              "      <td>promo2_since_year</td>\n",
              "      <td>2009.0</td>\n",
              "      <td>2015.0</td>\n",
              "      <td>6.0</td>\n",
              "      <td>2012.793297</td>\n",
              "      <td>2013.0</td>\n",
              "      <td>1.662657</td>\n",
              "      <td>-0.784436</td>\n",
              "      <td>-0.210075</td>\n",
              "    </tr>\n",
              "    <tr>\n",
              "      <th>13</th>\n",
              "      <td>is_promo</td>\n",
              "      <td>0.0</td>\n",
              "      <td>1.0</td>\n",
              "      <td>1.0</td>\n",
              "      <td>0.159901</td>\n",
              "      <td>0.0</td>\n",
              "      <td>0.366514</td>\n",
              "      <td>1.855857</td>\n",
              "      <td>1.444209</td>\n",
              "    </tr>\n",
              "  </tbody>\n",
              "</table>\n",
              "</div>\n",
              "      <button class=\"colab-df-convert\" onclick=\"convertToInteractive('df-dd22b765-1c19-41d3-a16d-2823bfca2517')\"\n",
              "              title=\"Convert this dataframe to an interactive table.\"\n",
              "              style=\"display:none;\">\n",
              "        \n",
              "  <svg xmlns=\"http://www.w3.org/2000/svg\" height=\"24px\"viewBox=\"0 0 24 24\"\n",
              "       width=\"24px\">\n",
              "    <path d=\"M0 0h24v24H0V0z\" fill=\"none\"/>\n",
              "    <path d=\"M18.56 5.44l.94 2.06.94-2.06 2.06-.94-2.06-.94-.94-2.06-.94 2.06-2.06.94zm-11 1L8.5 8.5l.94-2.06 2.06-.94-2.06-.94L8.5 2.5l-.94 2.06-2.06.94zm10 10l.94 2.06.94-2.06 2.06-.94-2.06-.94-.94-2.06-.94 2.06-2.06.94z\"/><path d=\"M17.41 7.96l-1.37-1.37c-.4-.4-.92-.59-1.43-.59-.52 0-1.04.2-1.43.59L10.3 9.45l-7.72 7.72c-.78.78-.78 2.05 0 2.83L4 21.41c.39.39.9.59 1.41.59.51 0 1.02-.2 1.41-.59l7.78-7.78 2.81-2.81c.8-.78.8-2.07 0-2.86zM5.41 20L4 18.59l7.72-7.72 1.47 1.35L5.41 20z\"/>\n",
              "  </svg>\n",
              "      </button>\n",
              "      \n",
              "  <style>\n",
              "    .colab-df-container {\n",
              "      display:flex;\n",
              "      flex-wrap:wrap;\n",
              "      gap: 12px;\n",
              "    }\n",
              "\n",
              "    .colab-df-convert {\n",
              "      background-color: #E8F0FE;\n",
              "      border: none;\n",
              "      border-radius: 50%;\n",
              "      cursor: pointer;\n",
              "      display: none;\n",
              "      fill: #1967D2;\n",
              "      height: 32px;\n",
              "      padding: 0 0 0 0;\n",
              "      width: 32px;\n",
              "    }\n",
              "\n",
              "    .colab-df-convert:hover {\n",
              "      background-color: #E2EBFA;\n",
              "      box-shadow: 0px 1px 2px rgba(60, 64, 67, 0.3), 0px 1px 3px 1px rgba(60, 64, 67, 0.15);\n",
              "      fill: #174EA6;\n",
              "    }\n",
              "\n",
              "    [theme=dark] .colab-df-convert {\n",
              "      background-color: #3B4455;\n",
              "      fill: #D2E3FC;\n",
              "    }\n",
              "\n",
              "    [theme=dark] .colab-df-convert:hover {\n",
              "      background-color: #434B5C;\n",
              "      box-shadow: 0px 1px 3px 1px rgba(0, 0, 0, 0.15);\n",
              "      filter: drop-shadow(0px 1px 2px rgba(0, 0, 0, 0.3));\n",
              "      fill: #FFFFFF;\n",
              "    }\n",
              "  </style>\n",
              "\n",
              "      <script>\n",
              "        const buttonEl =\n",
              "          document.querySelector('#df-dd22b765-1c19-41d3-a16d-2823bfca2517 button.colab-df-convert');\n",
              "        buttonEl.style.display =\n",
              "          google.colab.kernel.accessAllowed ? 'block' : 'none';\n",
              "\n",
              "        async function convertToInteractive(key) {\n",
              "          const element = document.querySelector('#df-dd22b765-1c19-41d3-a16d-2823bfca2517');\n",
              "          const dataTable =\n",
              "            await google.colab.kernel.invokeFunction('convertToInteractive',\n",
              "                                                     [key], {});\n",
              "          if (!dataTable) return;\n",
              "\n",
              "          const docLinkHtml = 'Like what you see? Visit the ' +\n",
              "            '<a target=\"_blank\" href=https://colab.research.google.com/notebooks/data_table.ipynb>data table notebook</a>'\n",
              "            + ' to learn more about interactive tables.';\n",
              "          element.innerHTML = '';\n",
              "          dataTable['output_type'] = 'display_data';\n",
              "          await google.colab.output.renderOutput(dataTable, element);\n",
              "          const docLink = document.createElement('div');\n",
              "          docLink.innerHTML = docLinkHtml;\n",
              "          element.appendChild(docLink);\n",
              "        }\n",
              "      </script>\n",
              "    </div>\n",
              "  </div>\n",
              "  "
            ]
          },
          "metadata": {},
          "execution_count": 19
        }
      ],
      "source": [
        "m"
      ]
    },
    {
      "cell_type": "code",
      "execution_count": 20,
      "metadata": {
        "colab": {
          "base_uri": "https://localhost:8080/",
          "height": 0
        },
        "id": "QyVE6gPoAxPi",
        "outputId": "bff6896d-8810-4f9c-84da-4db1d1b01be0"
      },
      "outputs": [
        {
          "output_type": "stream",
          "name": "stderr",
          "text": [
            "/usr/local/lib/python3.8/dist-packages/seaborn/distributions.py:2619: FutureWarning: `distplot` is a deprecated function and will be removed in a future version. Please adapt your code to use either `displot` (a figure-level function with similar flexibility) or `histplot` (an axes-level function for histograms).\n",
            "  warnings.warn(msg, FutureWarning)\n"
          ]
        },
        {
          "output_type": "execute_result",
          "data": {
            "text/plain": [
              "<matplotlib.axes._subplots.AxesSubplot at 0x7fc23b36bbe0>"
            ]
          },
          "metadata": {},
          "execution_count": 20
        },
        {
          "output_type": "display_data",
          "data": {
            "text/plain": [
              "<Figure size 432x288 with 1 Axes>"
            ],
            "image/png": "[encoded data removed]"
          },
          "metadata": {
            "needs_background": "light"
          }
        }
      ],
      "source": [
        "sns.distplot(df1['competition_distance'])"
      ]
    },
    {
      "cell_type": "code",
      "execution_count": 20,
      "metadata": {
        "id": "QSAndfLyIoH6"
      },
      "outputs": [],
      "source": []
    },
    {
      "cell_type": "markdown",
      "metadata": {
        "id": "sjKoGVe_AdGL"
      },
      "source": [
        "#### 1.7.2 Categorical Attributes - Descriptive Statistical "
      ]
    },
    {
      "cell_type": "code",
      "execution_count": 21,
      "metadata": {
        "colab": {
          "base_uri": "https://localhost:8080/"
        },
        "id": "bMABFZ-VmOpQ",
        "outputId": "98d9bf23-0871-422e-d430-f718038c5671"
      },
      "outputs": [
        {
          "output_type": "execute_result",
          "data": {
            "text/plain": [
              "date              942\n",
              "state_holiday       4\n",
              "store_type          4\n",
              "assortment          3\n",
              "promo_interval      4\n",
              "month_map          12\n",
              "dtype: int64"
            ]
          },
          "metadata": {},
          "execution_count": 21
        }
      ],
      "source": [
        "#visualizar quantas variaçoes de cada elemento categorico existem\n",
        "cat_atributes.apply(lambda x: x.unique().shape[0])\n"
      ]
    },
    {
      "cell_type": "code",
      "execution_count": 22,
      "metadata": {
        "colab": {
          "base_uri": "https://localhost:8080/",
          "height": 0
        },
        "id": "yiabLUrNKL1c",
        "outputId": "f1036eee-fd6f-4343-f5b3-c6931d17fd2a"
      },
      "outputs": [
        {
          "output_type": "execute_result",
          "data": {
            "text/plain": [
              "<matplotlib.axes._subplots.AxesSubplot at 0x7fc25f899760>"
            ]
          },
          "metadata": {},
          "execution_count": 22
        },
        {
          "output_type": "display_data",
          "data": {
            "text/plain": [
              "<Figure size 432x288 with 3 Axes>"
            ],
            "image/png": "[encoded data removed]"
          },
          "metadata": {
            "needs_background": "light"
          }
        }
      ],
      "source": [
        "aux1 = df1[(df1['state_holiday'] != '0') & (df1['sales'] > 0)]\n",
        "\n",
        "plt.subplot(1, 3, 1)\n",
        "sns.boxplot( x='state_holiday', y='sales', data=aux1)\n",
        "\n",
        "plt.subplot(1, 3, 2)\n",
        "sns.boxplot( x='store_type', y='sales', data=aux1)\n",
        "plt.subplot(1, 3, 3)\n",
        "sns.boxplot( x='assortment', y='sales', data=aux1)"
      ]
    },
    {
      "cell_type": "markdown",
      "metadata": {
        "id": "bRwMBmAkKrjX"
      },
      "source": [
        "## 2.0 Feature Engineering\n"
      ]
    },
    {
      "cell_type": "code",
      "source": [
        "df2 = df1.copy()"
      ],
      "metadata": {
        "id": "ELVMP_KWoH3w"
      },
      "execution_count": 23,
      "outputs": []
    },
    {
      "cell_type": "markdown",
      "source": [
        "### 2.1 Mapa mental de Hipoteses"
      ],
      "metadata": {
        "id": "wB1Qn1-1ew9M"
      }
    },
    {
      "cell_type": "code",
      "execution_count": 24,
      "metadata": {
        "id": "o6qLdg-E_Cbm",
        "colab": {
          "base_uri": "https://localhost:8080/",
          "height": 0
        },
        "outputId": "8a46a639-6747-4924-f9a3-335d3d6c5faf"
      },
      "outputs": [
        {
          "output_type": "execute_result",
          "data": {
            "image/png": "[encoded data removed]",
            "text/plain": [
              "<IPython.core.display.Image object>"
            ]
          },
          "metadata": {},
          "execution_count": 24
        }
      ],
      "source": [
        "Image('/content/drive/MyDrive/Colab Notebooks/Data Science Em Produção/Projeto Rossman Store/img/Mapa Mental de Hipoteses - Rossman Store.png')"
      ]
    },
    {
      "cell_type": "markdown",
      "source": [
        "### 2.2 Criação de Hipoteses"
      ],
      "metadata": {
        "id": "AW8e_D2je46A"
      }
    },
    {
      "cell_type": "markdown",
      "source": [
        "#### 2.2.1 Hipoteses da Loja"
      ],
      "metadata": {
        "id": "6m1NjFkxfPUB"
      }
    },
    {
      "cell_type": "markdown",
      "source": [
        "1. Lojas com maior quadro de funcionarios vendes mais  \n",
        "2. Lojas com maior estoque vendem mais\n",
        "3. Lojas com maior porte deveriam vender mais\n",
        "4. Lojas com menor porte deveriam vender menos\n",
        "5. Lojas com Maior Sortimento deverias vender mais"
      ],
      "metadata": {
        "id": "ZzgwC-79gB0M"
      }
    },
    {
      "cell_type": "markdown",
      "source": [
        "#### 2.2.2 Hipoteses do Produto"
      ],
      "metadata": {
        "id": "yYRtWuu1fV9w"
      }
    },
    {
      "cell_type": "markdown",
      "source": [
        "1. Lojas que investes em marketing deveriam vender mais\n",
        "2. Lojas que investes expoe mais produtos nas vitrines deveriam vender mais\n",
        "3. Lojas que tem menores preços deveriam vender mais\n",
        "4. Lojas que tem preços menores por mais tempo nos produtos deveriam vender mais"
      ],
      "metadata": {
        "id": "1IEaDmLVgnjw"
      }
    },
    {
      "cell_type": "markdown",
      "source": [
        "#### 2.2.3 Hipoteses do Tempo"
      ],
      "metadata": {
        "id": "p7pIm1_ufaaV"
      }
    },
    {
      "cell_type": "markdown",
      "source": [
        "1. Lojas que tem mais feriados deveriam vender menos\n",
        "2. Lojas que abrem nos primeiro 6 meses deveriam vender mais\n",
        "3. Lojas que abrem nos finais de semana deveriam vender mais\n",
        "4. Lojas Deveriam vender mais no segundo semestre do ano"
      ],
      "metadata": {
        "id": "fZyNgJqEgoN0"
      }
    },
    {
      "cell_type": "markdown",
      "source": [
        "### 2.3 Lista de Hipoteses"
      ],
      "metadata": {
        "id": "BZPRmR4xj8Uy"
      }
    },
    {
      "cell_type": "markdown",
      "source": [
        "1. Lojas com Maior Sortimento deverias vender mais\n",
        "2. Lojas com competidores mais proximos deveriam vender menos\n",
        "3. Lojas com competidores à mais tempo deveriam vender mais\n"
      ],
      "metadata": {
        "id": "2-5OJysOkUuN"
      }
    },
    {
      "cell_type": "markdown",
      "source": [
        "1. Lojas com promoções ativas a mais tempo deveriam vender mais\n",
        "2. Lojas com mais dias de promoção deveriam vender mais\n",
        "3. Lojas com mais promoçoes consecutivas deveram vender mais."
      ],
      "metadata": {
        "id": "BhSYNWnKk7Nq"
      }
    },
    {
      "cell_type": "markdown",
      "source": [
        "1. Lojas Abertas durante o feriado de natal deveriam vender mais\n",
        "1. Lojas deveriam vender mais ao longo do anos\n",
        "4. Lojas Deveriam vender mais no segundo semestre do ano\n",
        "1. Lojas deveriam vender mais depois do 10 dia util do mes\n",
        "1. Lojas deveriam vender menos aos finais de semana\n",
        "1. Lojas que tem mais feriados deveriam vender menos\n",
        "1. lojas deveriam vender menos durante os feriados escolares\n",
        "2. Lojas que abrem nos primeiro 6 meses deveriam vender mais\n",
        "3. Lojas que abrem nos finais de semana deveriam vender mais.\n"
      ],
      "metadata": {
        "id": "oCbt1k6ulM3I"
      }
    },
    {
      "cell_type": "markdown",
      "source": [
        "### 2.4 Derivar Features (Feature Engineering)"
      ],
      "metadata": {
        "id": "C6rED5b2oVTz"
      }
    },
    {
      "cell_type": "markdown",
      "source": [],
      "metadata": {
        "id": "sNnGY2_Oopvf"
      }
    },
    {
      "cell_type": "code",
      "execution_count": 32,
      "metadata": {
        "id": "nJlInnFb_CLm"
      },
      "outputs": [],
      "source": [
        "# Variaveis a Derivar:\n",
        "\n",
        "# year\n",
        "df2['year'] = df2['date'].dt.year\n",
        "\n",
        "# month\n",
        "df2['month'] = df2['date'].dt.month\n",
        "\n",
        "# week of year\n",
        "df2['week_of_year'] = df2['date'].dt.isocalendar().week\n",
        "\n",
        "# day\n",
        "df2['day'] = df2['date'].dt.day\n",
        "\n",
        "\n",
        "# year week\n",
        "df2['year_week'] = df2['date'].dt.strftime('%Y-%W')\n",
        "\n",
        "\n",
        "# competition sice\n",
        "df2['competition_since'] = df2.apply( lambda x: datetime.datetime( year=x['competition_open_since_year'], month=x['competition_open_since_month'], day=1 ), axis=1) #quando o tiver mais de uma colunas envolvida, o Axis precisa ser igual a 1, pra passar por todas as colunas\n",
        "df2['competition_time_month'] = ((df2['date'] - df2['competition_since'])/30).apply(lambda x: x.days).astype(int)\n",
        "\n",
        "\n",
        "# promo since\n",
        "df2['promo_since'] = df2['promo2_since_year'].astype(str) + '-' + df2['promo2_since_week'].astype(str)\n",
        "df2['promo_since'] = df2['promo_since'].apply(lambda x: datetime.datetime.strptime(x + '-1', '%Y-%W-%w') - datetime.timedelta(days=7))\n",
        "df2['promo_time_week'] = ((df2['date'] - df2['promo_since']) /7 ).apply(lambda x: x.days).astype(int)\n",
        "\n",
        "# assortment\n",
        "df2['assortment'] = df2['assortment'].apply(lambda x: 'basic' if x == \"a\" else 'extra' if x == \"b\" else 'extended')\n",
        "\n",
        "# state holiday\n",
        "\n",
        "df2['state_holiday'] = df2['state_holiday'].apply(lambda x: 'public_holiday' if x == 'a' else 'easter_holiday' if x == 'b' else 'christmas' if x == 'c' else 'regular_day')\n",
        "\n"
      ]
    },
    {
      "cell_type": "code",
      "execution_count": 33,
      "metadata": {
        "id": "7S_2TRt-_CHW",
        "colab": {
          "base_uri": "https://localhost:8080/",
          "height": 0
        },
        "outputId": "ad1e2459-c7a0-4c56-abfa-83649b78dd09"
      },
      "outputs": [
        {
          "output_type": "execute_result",
          "data": {
            "text/plain": [
              "                                                0                    1  \\\n",
              "store                                           1                    2   \n",
              "day_of_week                                     5                    5   \n",
              "date                          2015-07-31 00:00:00  2015-07-31 00:00:00   \n",
              "sales                                        5263                 6064   \n",
              "customers                                     555                  625   \n",
              "open                                            1                    1   \n",
              "promo                                           1                    1   \n",
              "state_holiday                         regular_day          regular_day   \n",
              "school_holiday                                  1                    1   \n",
              "store_type                                      c                    a   \n",
              "assortment                               extended             extended   \n",
              "competition_distance                       1270.0                570.0   \n",
              "competition_open_since_month                    9                   11   \n",
              "competition_open_since_year                  2008                 2007   \n",
              "promo2                                          0                    1   \n",
              "promo2_since_week                              31                   13   \n",
              "promo2_since_year                            2015                 2010   \n",
              "promo_interval                                  0      Jan,Apr,Jul,Oct   \n",
              "month_map                                     Jul                  Jul   \n",
              "is_promo                                        0                    1   \n",
              "year                                         2015                 2015   \n",
              "month                                           7                    7   \n",
              "week_of_year                                   31                   31   \n",
              "day                                            31                   31   \n",
              "year_week                                 2015-30              2015-30   \n",
              "competition_since             2008-09-01 00:00:00  2007-11-01 00:00:00   \n",
              "competition_time_month                         84                   94   \n",
              "promo_since                   2015-07-27 00:00:00  2010-03-22 00:00:00   \n",
              "promo_time_week                                 0                  279   \n",
              "\n",
              "                                                2                    3  \\\n",
              "store                                           3                    4   \n",
              "day_of_week                                     5                    5   \n",
              "date                          2015-07-31 00:00:00  2015-07-31 00:00:00   \n",
              "sales                                        8314                13995   \n",
              "customers                                     821                 1498   \n",
              "open                                            1                    1   \n",
              "promo                                           1                    1   \n",
              "state_holiday                         regular_day          regular_day   \n",
              "school_holiday                                  1                    1   \n",
              "store_type                                      a                    c   \n",
              "assortment                               extended             extended   \n",
              "competition_distance                      14130.0                620.0   \n",
              "competition_open_since_month                   12                    9   \n",
              "competition_open_since_year                  2006                 2009   \n",
              "promo2                                          1                    0   \n",
              "promo2_since_week                              14                   31   \n",
              "promo2_since_year                            2011                 2015   \n",
              "promo_interval                    Jan,Apr,Jul,Oct                    0   \n",
              "month_map                                     Jul                  Jul   \n",
              "is_promo                                        1                    0   \n",
              "year                                         2015                 2015   \n",
              "month                                           7                    7   \n",
              "week_of_year                                   31                   31   \n",
              "day                                            31                   31   \n",
              "year_week                                 2015-30              2015-30   \n",
              "competition_since             2006-12-01 00:00:00  2009-09-01 00:00:00   \n",
              "competition_time_month                        105                   71   \n",
              "promo_since                   2011-03-28 00:00:00  2015-07-27 00:00:00   \n",
              "promo_time_week                               226                    0   \n",
              "\n",
              "                                                4  \n",
              "store                                           5  \n",
              "day_of_week                                     5  \n",
              "date                          2015-07-31 00:00:00  \n",
              "sales                                        4822  \n",
              "customers                                     559  \n",
              "open                                            1  \n",
              "promo                                           1  \n",
              "state_holiday                         regular_day  \n",
              "school_holiday                                  1  \n",
              "store_type                                      a  \n",
              "assortment                               extended  \n",
              "competition_distance                      29910.0  \n",
              "competition_open_since_month                    4  \n",
              "competition_open_since_year                  2015  \n",
              "promo2                                          0  \n",
              "promo2_since_week                              31  \n",
              "promo2_since_year                            2015  \n",
              "promo_interval                                  0  \n",
              "month_map                                     Jul  \n",
              "is_promo                                        0  \n",
              "year                                         2015  \n",
              "month                                           7  \n",
              "week_of_year                                   31  \n",
              "day                                            31  \n",
              "year_week                                 2015-30  \n",
              "competition_since             2015-04-01 00:00:00  \n",
              "competition_time_month                          4  \n",
              "promo_since                   2015-07-27 00:00:00  \n",
              "promo_time_week                                 0  "
            ],
            "text/html": [
              "\n",
              "  <div id=\"df-cc32a268-033a-4a6c-9706-f0d7738aa053\">\n",
              "    <div class=\"colab-df-container\">\n",
              "      <div>\n",
              "<style scoped>\n",
              "    .dataframe tbody tr th:only-of-type {\n",
              "        vertical-align: middle;\n",
              "    }\n",
              "\n",
              "    .dataframe tbody tr th {\n",
              "        vertical-align: top;\n",
              "    }\n",
              "\n",
              "    .dataframe thead th {\n",
              "        text-align: right;\n",
              "    }\n",
              "</style>\n",
              "<table border=\"1\" class=\"dataframe\">\n",
              "  <thead>\n",
              "    <tr style=\"text-align: right;\">\n",
              "      <th></th>\n",
              "      <th>0</th>\n",
              "      <th>1</th>\n",
              "      <th>2</th>\n",
              "      <th>3</th>\n",
              "      <th>4</th>\n",
              "    </tr>\n",
              "  </thead>\n",
              "  <tbody>\n",
              "    <tr>\n",
              "      <th>store</th>\n",
              "      <td>1</td>\n",
              "      <td>2</td>\n",
              "      <td>3</td>\n",
              "      <td>4</td>\n",
              "      <td>5</td>\n",
              "    </tr>\n",
              "    <tr>\n",
              "      <th>day_of_week</th>\n",
              "      <td>5</td>\n",
              "      <td>5</td>\n",
              "      <td>5</td>\n",
              "      <td>5</td>\n",
              "      <td>5</td>\n",
              "    </tr>\n",
              "    <tr>\n",
              "      <th>date</th>\n",
              "      <td>2015-07-31 00:00:00</td>\n",
              "      <td>2015-07-31 00:00:00</td>\n",
              "      <td>2015-07-31 00:00:00</td>\n",
              "      <td>2015-07-31 00:00:00</td>\n",
              "      <td>2015-07-31 00:00:00</td>\n",
              "    </tr>\n",
              "    <tr>\n",
              "      <th>sales</th>\n",
              "      <td>5263</td>\n",
              "      <td>6064</td>\n",
              "      <td>8314</td>\n",
              "      <td>13995</td>\n",
              "      <td>4822</td>\n",
              "    </tr>\n",
              "    <tr>\n",
              "      <th>customers</th>\n",
              "      <td>555</td>\n",
              "      <td>625</td>\n",
              "      <td>821</td>\n",
              "      <td>1498</td>\n",
              "      <td>559</td>\n",
              "    </tr>\n",
              "    <tr>\n",
              "      <th>open</th>\n",
              "      <td>1</td>\n",
              "      <td>1</td>\n",
              "      <td>1</td>\n",
              "      <td>1</td>\n",
              "      <td>1</td>\n",
              "    </tr>\n",
              "    <tr>\n",
              "      <th>promo</th>\n",
              "      <td>1</td>\n",
              "      <td>1</td>\n",
              "      <td>1</td>\n",
              "      <td>1</td>\n",
              "      <td>1</td>\n",
              "    </tr>\n",
              "    <tr>\n",
              "      <th>state_holiday</th>\n",
              "      <td>regular_day</td>\n",
              "      <td>regular_day</td>\n",
              "      <td>regular_day</td>\n",
              "      <td>regular_day</td>\n",
              "      <td>regular_day</td>\n",
              "    </tr>\n",
              "    <tr>\n",
              "      <th>school_holiday</th>\n",
              "      <td>1</td>\n",
              "      <td>1</td>\n",
              "      <td>1</td>\n",
              "      <td>1</td>\n",
              "      <td>1</td>\n",
              "    </tr>\n",
              "    <tr>\n",
              "      <th>store_type</th>\n",
              "      <td>c</td>\n",
              "      <td>a</td>\n",
              "      <td>a</td>\n",
              "      <td>c</td>\n",
              "      <td>a</td>\n",
              "    </tr>\n",
              "    <tr>\n",
              "      <th>assortment</th>\n",
              "      <td>extended</td>\n",
              "      <td>extended</td>\n",
              "      <td>extended</td>\n",
              "      <td>extended</td>\n",
              "      <td>extended</td>\n",
              "    </tr>\n",
              "    <tr>\n",
              "      <th>competition_distance</th>\n",
              "      <td>1270.0</td>\n",
              "      <td>570.0</td>\n",
              "      <td>14130.0</td>\n",
              "      <td>620.0</td>\n",
              "      <td>29910.0</td>\n",
              "    </tr>\n",
              "    <tr>\n",
              "      <th>competition_open_since_month</th>\n",
              "      <td>9</td>\n",
              "      <td>11</td>\n",
              "      <td>12</td>\n",
              "      <td>9</td>\n",
              "      <td>4</td>\n",
              "    </tr>\n",
              "    <tr>\n",
              "      <th>competition_open_since_year</th>\n",
              "      <td>2008</td>\n",
              "      <td>2007</td>\n",
              "      <td>2006</td>\n",
              "      <td>2009</td>\n",
              "      <td>2015</td>\n",
              "    </tr>\n",
              "    <tr>\n",
              "      <th>promo2</th>\n",
              "      <td>0</td>\n",
              "      <td>1</td>\n",
              "      <td>1</td>\n",
              "      <td>0</td>\n",
              "      <td>0</td>\n",
              "    </tr>\n",
              "    <tr>\n",
              "      <th>promo2_since_week</th>\n",
              "      <td>31</td>\n",
              "      <td>13</td>\n",
              "      <td>14</td>\n",
              "      <td>31</td>\n",
              "      <td>31</td>\n",
              "    </tr>\n",
              "    <tr>\n",
              "      <th>promo2_since_year</th>\n",
              "      <td>2015</td>\n",
              "      <td>2010</td>\n",
              "      <td>2011</td>\n",
              "      <td>2015</td>\n",
              "      <td>2015</td>\n",
              "    </tr>\n",
              "    <tr>\n",
              "      <th>promo_interval</th>\n",
              "      <td>0</td>\n",
              "      <td>Jan,Apr,Jul,Oct</td>\n",
              "      <td>Jan,Apr,Jul,Oct</td>\n",
              "      <td>0</td>\n",
              "      <td>0</td>\n",
              "    </tr>\n",
              "    <tr>\n",
              "      <th>month_map</th>\n",
              "      <td>Jul</td>\n",
              "      <td>Jul</td>\n",
              "      <td>Jul</td>\n",
              "      <td>Jul</td>\n",
              "      <td>Jul</td>\n",
              "    </tr>\n",
              "    <tr>\n",
              "      <th>is_promo</th>\n",
              "      <td>0</td>\n",
              "      <td>1</td>\n",
              "      <td>1</td>\n",
              "      <td>0</td>\n",
              "      <td>0</td>\n",
              "    </tr>\n",
              "    <tr>\n",
              "      <th>year</th>\n",
              "      <td>2015</td>\n",
              "      <td>2015</td>\n",
              "      <td>2015</td>\n",
              "      <td>2015</td>\n",
              "      <td>2015</td>\n",
              "    </tr>\n",
              "    <tr>\n",
              "      <th>month</th>\n",
              "      <td>7</td>\n",
              "      <td>7</td>\n",
              "      <td>7</td>\n",
              "      <td>7</td>\n",
              "      <td>7</td>\n",
              "    </tr>\n",
              "    <tr>\n",
              "      <th>week_of_year</th>\n",
              "      <td>31</td>\n",
              "      <td>31</td>\n",
              "      <td>31</td>\n",
              "      <td>31</td>\n",
              "      <td>31</td>\n",
              "    </tr>\n",
              "    <tr>\n",
              "      <th>day</th>\n",
              "      <td>31</td>\n",
              "      <td>31</td>\n",
              "      <td>31</td>\n",
              "      <td>31</td>\n",
              "      <td>31</td>\n",
              "    </tr>\n",
              "    <tr>\n",
              "      <th>year_week</th>\n",
              "      <td>2015-30</td>\n",
              "      <td>2015-30</td>\n",
              "      <td>2015-30</td>\n",
              "      <td>2015-30</td>\n",
              "      <td>2015-30</td>\n",
              "    </tr>\n",
              "    <tr>\n",
              "      <th>competition_since</th>\n",
              "      <td>2008-09-01 00:00:00</td>\n",
              "      <td>2007-11-01 00:00:00</td>\n",
              "      <td>2006-12-01 00:00:00</td>\n",
              "      <td>2009-09-01 00:00:00</td>\n",
              "      <td>2015-04-01 00:00:00</td>\n",
              "    </tr>\n",
              "    <tr>\n",
              "      <th>competition_time_month</th>\n",
              "      <td>84</td>\n",
              "      <td>94</td>\n",
              "      <td>105</td>\n",
              "      <td>71</td>\n",
              "      <td>4</td>\n",
              "    </tr>\n",
              "    <tr>\n",
              "      <th>promo_since</th>\n",
              "      <td>2015-07-27 00:00:00</td>\n",
              "      <td>2010-03-22 00:00:00</td>\n",
              "      <td>2011-03-28 00:00:00</td>\n",
              "      <td>2015-07-27 00:00:00</td>\n",
              "      <td>2015-07-27 00:00:00</td>\n",
              "    </tr>\n",
              "    <tr>\n",
              "      <th>promo_time_week</th>\n",
              "      <td>0</td>\n",
              "      <td>279</td>\n",
              "      <td>226</td>\n",
              "      <td>0</td>\n",
              "      <td>0</td>\n",
              "    </tr>\n",
              "  </tbody>\n",
              "</table>\n",
              "</div>\n",
              "      <button class=\"colab-df-convert\" onclick=\"convertToInteractive('df-cc32a268-033a-4a6c-9706-f0d7738aa053')\"\n",
              "              title=\"Convert this dataframe to an interactive table.\"\n",
              "              style=\"display:none;\">\n",
              "        \n",
              "  <svg xmlns=\"http://www.w3.org/2000/svg\" height=\"24px\"viewBox=\"0 0 24 24\"\n",
              "       width=\"24px\">\n",
              "    <path d=\"M0 0h24v24H0V0z\" fill=\"none\"/>\n",
              "    <path d=\"M18.56 5.44l.94 2.06.94-2.06 2.06-.94-2.06-.94-.94-2.06-.94 2.06-2.06.94zm-11 1L8.5 8.5l.94-2.06 2.06-.94-2.06-.94L8.5 2.5l-.94 2.06-2.06.94zm10 10l.94 2.06.94-2.06 2.06-.94-2.06-.94-.94-2.06-.94 2.06-2.06.94z\"/><path d=\"M17.41 7.96l-1.37-1.37c-.4-.4-.92-.59-1.43-.59-.52 0-1.04.2-1.43.59L10.3 9.45l-7.72 7.72c-.78.78-.78 2.05 0 2.83L4 21.41c.39.39.9.59 1.41.59.51 0 1.02-.2 1.41-.59l7.78-7.78 2.81-2.81c.8-.78.8-2.07 0-2.86zM5.41 20L4 18.59l7.72-7.72 1.47 1.35L5.41 20z\"/>\n",
              "  </svg>\n",
              "      </button>\n",
              "      \n",
              "  <style>\n",
              "    .colab-df-container {\n",
              "      display:flex;\n",
              "      flex-wrap:wrap;\n",
              "      gap: 12px;\n",
              "    }\n",
              "\n",
              "    .colab-df-convert {\n",
              "      background-color: #E8F0FE;\n",
              "      border: none;\n",
              "      border-radius: 50%;\n",
              "      cursor: pointer;\n",
              "      display: none;\n",
              "      fill: #1967D2;\n",
              "      height: 32px;\n",
              "      padding: 0 0 0 0;\n",
              "      width: 32px;\n",
              "    }\n",
              "\n",
              "    .colab-df-convert:hover {\n",
              "      background-color: #E2EBFA;\n",
              "      box-shadow: 0px 1px 2px rgba(60, 64, 67, 0.3), 0px 1px 3px 1px rgba(60, 64, 67, 0.15);\n",
              "      fill: #174EA6;\n",
              "    }\n",
              "\n",
              "    [theme=dark] .colab-df-convert {\n",
              "      background-color: #3B4455;\n",
              "      fill: #D2E3FC;\n",
              "    }\n",
              "\n",
              "    [theme=dark] .colab-df-convert:hover {\n",
              "      background-color: #434B5C;\n",
              "      box-shadow: 0px 1px 3px 1px rgba(0, 0, 0, 0.15);\n",
              "      filter: drop-shadow(0px 1px 2px rgba(0, 0, 0, 0.3));\n",
              "      fill: #FFFFFF;\n",
              "    }\n",
              "  </style>\n",
              "\n",
              "      <script>\n",
              "        const buttonEl =\n",
              "          document.querySelector('#df-cc32a268-033a-4a6c-9706-f0d7738aa053 button.colab-df-convert');\n",
              "        buttonEl.style.display =\n",
              "          google.colab.kernel.accessAllowed ? 'block' : 'none';\n",
              "\n",
              "        async function convertToInteractive(key) {\n",
              "          const element = document.querySelector('#df-cc32a268-033a-4a6c-9706-f0d7738aa053');\n",
              "          const dataTable =\n",
              "            await google.colab.kernel.invokeFunction('convertToInteractive',\n",
              "                                                     [key], {});\n",
              "          if (!dataTable) return;\n",
              "\n",
              "          const docLinkHtml = 'Like what you see? Visit the ' +\n",
              "            '<a target=\"_blank\" href=https://colab.research.google.com/notebooks/data_table.ipynb>data table notebook</a>'\n",
              "            + ' to learn more about interactive tables.';\n",
              "          element.innerHTML = '';\n",
              "          dataTable['output_type'] = 'display_data';\n",
              "          await google.colab.output.renderOutput(dataTable, element);\n",
              "          const docLink = document.createElement('div');\n",
              "          docLink.innerHTML = docLinkHtml;\n",
              "          element.appendChild(docLink);\n",
              "        }\n",
              "      </script>\n",
              "    </div>\n",
              "  </div>\n",
              "  "
            ]
          },
          "metadata": {},
          "execution_count": 33
        }
      ],
      "source": [
        "df2.head().T"
      ]
    },
    {
      "cell_type": "code",
      "execution_count": 34,
      "metadata": {
        "id": "ZomEZ7xw_B0s",
        "colab": {
          "base_uri": "https://localhost:8080/"
        },
        "outputId": "4154078f-b8a8-45e1-9971-5fcf62a89d16"
      },
      "outputs": [
        {
          "output_type": "execute_result",
          "data": {
            "text/plain": [
              "store                                    int64\n",
              "day_of_week                              int64\n",
              "date                            datetime64[ns]\n",
              "sales                                    int64\n",
              "customers                                int64\n",
              "open                                     int64\n",
              "promo                                    int64\n",
              "state_holiday                           object\n",
              "school_holiday                           int64\n",
              "store_type                              object\n",
              "assortment                              object\n",
              "competition_distance                   float64\n",
              "competition_open_since_month             int64\n",
              "competition_open_since_year              int64\n",
              "promo2                                   int64\n",
              "promo2_since_week                        int64\n",
              "promo2_since_year                        int64\n",
              "promo_interval                          object\n",
              "month_map                               object\n",
              "is_promo                                 int64\n",
              "year                                     int64\n",
              "month                                    int64\n",
              "week_of_year                            UInt32\n",
              "day                                      int64\n",
              "year_week                               object\n",
              "competition_since               datetime64[ns]\n",
              "competition_time_month                   int64\n",
              "promo_since                     datetime64[ns]\n",
              "promo_time_week                          int64\n",
              "dtype: object"
            ]
          },
          "metadata": {},
          "execution_count": 34
        }
      ],
      "source": [
        "df2.dtypes"
      ]
    },
    {
      "cell_type": "code",
      "execution_count": 34,
      "metadata": {
        "id": "XDNW3OgC_Bwh"
      },
      "outputs": [],
      "source": []
    },
    {
      "cell_type": "code",
      "execution_count": 34,
      "metadata": {
        "id": "PFuZW2f7_BV-"
      },
      "outputs": [],
      "source": []
    },
    {
      "cell_type": "markdown",
      "source": [],
      "metadata": {
        "id": "lcTyCCdNojx8"
      }
    },
    {
      "cell_type": "markdown",
      "source": [
        "## 3.0 Filtragem de Variaveis"
      ],
      "metadata": {
        "id": "NOnBQlChomPJ"
      }
    },
    {
      "cell_type": "code",
      "source": [
        "df3 = df2.copy()"
      ],
      "metadata": {
        "id": "CZ24er1cosBA"
      },
      "execution_count": 28,
      "outputs": []
    },
    {
      "cell_type": "code",
      "source": [
        "df3.head()"
      ],
      "metadata": {
        "colab": {
          "base_uri": "https://localhost:8080/",
          "height": 0
        },
        "id": "3zYsW0Skp5S3",
        "outputId": "76111867-084f-4413-c36f-fe3599d44df2"
      },
      "execution_count": 29,
      "outputs": [
        {
          "output_type": "execute_result",
          "data": {
            "text/plain": [
              "   store  day_of_week       date  sales  customers  open  promo state_holiday  \\\n",
              "0      1            5 2015-07-31   5263        555     1      1   regular_day   \n",
              "1      2            5 2015-07-31   6064        625     1      1   regular_day   \n",
              "2      3            5 2015-07-31   8314        821     1      1   regular_day   \n",
              "3      4            5 2015-07-31  13995       1498     1      1   regular_day   \n",
              "4      5            5 2015-07-31   4822        559     1      1   regular_day   \n",
              "\n",
              "   school_holiday store_type  ... is_promo  year  month  week_of_year  day  \\\n",
              "0               1          c  ...        0  2015      7            31   31   \n",
              "1               1          a  ...        1  2015      7            31   31   \n",
              "2               1          a  ...        1  2015      7            31   31   \n",
              "3               1          c  ...        0  2015      7            31   31   \n",
              "4               1          a  ...        0  2015      7            31   31   \n",
              "\n",
              "   year_week  competition_since competition_time_month promo_since  \\\n",
              "0    2015-30         2008-09-01                     84  2015-07-27   \n",
              "1    2015-30         2007-11-01                     94  2010-03-22   \n",
              "2    2015-30         2006-12-01                    105  2011-03-28   \n",
              "3    2015-30         2009-09-01                     71  2015-07-27   \n",
              "4    2015-30         2015-04-01                      4  2015-07-27   \n",
              "\n",
              "   promo_time_week  \n",
              "0                0  \n",
              "1              279  \n",
              "2              226  \n",
              "3                0  \n",
              "4                0  \n",
              "\n",
              "[5 rows x 29 columns]"
            ],
            "text/html": [
              "\n",
              "  <div id=\"df-11c85212-f9e3-4a18-a528-8545f6fd64e2\">\n",
              "    <div class=\"colab-df-container\">\n",
              "      <div>\n",
              "<style scoped>\n",
              "    .dataframe tbody tr th:only-of-type {\n",
              "        vertical-align: middle;\n",
              "    }\n",
              "\n",
              "    .dataframe tbody tr th {\n",
              "        vertical-align: top;\n",
              "    }\n",
              "\n",
              "    .dataframe thead th {\n",
              "        text-align: right;\n",
              "    }\n",
              "</style>\n",
              "<table border=\"1\" class=\"dataframe\">\n",
              "  <thead>\n",
              "    <tr style=\"text-align: right;\">\n",
              "      <th></th>\n",
              "      <th>store</th>\n",
              "      <th>day_of_week</th>\n",
              "      <th>date</th>\n",
              "      <th>sales</th>\n",
              "      <th>customers</th>\n",
              "      <th>open</th>\n",
              "      <th>promo</th>\n",
              "      <th>state_holiday</th>\n",
              "      <th>school_holiday</th>\n",
              "      <th>store_type</th>\n",
              "      <th>...</th>\n",
              "      <th>is_promo</th>\n",
              "      <th>year</th>\n",
              "      <th>month</th>\n",
              "      <th>week_of_year</th>\n",
              "      <th>day</th>\n",
              "      <th>year_week</th>\n",
              "      <th>competition_since</th>\n",
              "      <th>competition_time_month</th>\n",
              "      <th>promo_since</th>\n",
              "      <th>promo_time_week</th>\n",
              "    </tr>\n",
              "  </thead>\n",
              "  <tbody>\n",
              "    <tr>\n",
              "      <th>0</th>\n",
              "      <td>1</td>\n",
              "      <td>5</td>\n",
              "      <td>2015-07-31</td>\n",
              "      <td>5263</td>\n",
              "      <td>555</td>\n",
              "      <td>1</td>\n",
              "      <td>1</td>\n",
              "      <td>regular_day</td>\n",
              "      <td>1</td>\n",
              "      <td>c</td>\n",
              "      <td>...</td>\n",
              "      <td>0</td>\n",
              "      <td>2015</td>\n",
              "      <td>7</td>\n",
              "      <td>31</td>\n",
              "      <td>31</td>\n",
              "      <td>2015-30</td>\n",
              "      <td>2008-09-01</td>\n",
              "      <td>84</td>\n",
              "      <td>2015-07-27</td>\n",
              "      <td>0</td>\n",
              "    </tr>\n",
              "    <tr>\n",
              "      <th>1</th>\n",
              "      <td>2</td>\n",
              "      <td>5</td>\n",
              "      <td>2015-07-31</td>\n",
              "      <td>6064</td>\n",
              "      <td>625</td>\n",
              "      <td>1</td>\n",
              "      <td>1</td>\n",
              "      <td>regular_day</td>\n",
              "      <td>1</td>\n",
              "      <td>a</td>\n",
              "      <td>...</td>\n",
              "      <td>1</td>\n",
              "      <td>2015</td>\n",
              "      <td>7</td>\n",
              "      <td>31</td>\n",
              "      <td>31</td>\n",
              "      <td>2015-30</td>\n",
              "      <td>2007-11-01</td>\n",
              "      <td>94</td>\n",
              "      <td>2010-03-22</td>\n",
              "      <td>279</td>\n",
              "    </tr>\n",
              "    <tr>\n",
              "      <th>2</th>\n",
              "      <td>3</td>\n",
              "      <td>5</td>\n",
              "      <td>2015-07-31</td>\n",
              "      <td>8314</td>\n",
              "      <td>821</td>\n",
              "      <td>1</td>\n",
              "      <td>1</td>\n",
              "      <td>regular_day</td>\n",
              "      <td>1</td>\n",
              "      <td>a</td>\n",
              "      <td>...</td>\n",
              "      <td>1</td>\n",
              "      <td>2015</td>\n",
              "      <td>7</td>\n",
              "      <td>31</td>\n",
              "      <td>31</td>\n",
              "      <td>2015-30</td>\n",
              "      <td>2006-12-01</td>\n",
              "      <td>105</td>\n",
              "      <td>2011-03-28</td>\n",
              "      <td>226</td>\n",
              "    </tr>\n",
              "    <tr>\n",
              "      <th>3</th>\n",
              "      <td>4</td>\n",
              "      <td>5</td>\n",
              "      <td>2015-07-31</td>\n",
              "      <td>13995</td>\n",
              "      <td>1498</td>\n",
              "      <td>1</td>\n",
              "      <td>1</td>\n",
              "      <td>regular_day</td>\n",
              "      <td>1</td>\n",
              "      <td>c</td>\n",
              "      <td>...</td>\n",
              "      <td>0</td>\n",
              "      <td>2015</td>\n",
              "      <td>7</td>\n",
              "      <td>31</td>\n",
              "      <td>31</td>\n",
              "      <td>2015-30</td>\n",
              "      <td>2009-09-01</td>\n",
              "      <td>71</td>\n",
              "      <td>2015-07-27</td>\n",
              "      <td>0</td>\n",
              "    </tr>\n",
              "    <tr>\n",
              "      <th>4</th>\n",
              "      <td>5</td>\n",
              "      <td>5</td>\n",
              "      <td>2015-07-31</td>\n",
              "      <td>4822</td>\n",
              "      <td>559</td>\n",
              "      <td>1</td>\n",
              "      <td>1</td>\n",
              "      <td>regular_day</td>\n",
              "      <td>1</td>\n",
              "      <td>a</td>\n",
              "      <td>...</td>\n",
              "      <td>0</td>\n",
              "      <td>2015</td>\n",
              "      <td>7</td>\n",
              "      <td>31</td>\n",
              "      <td>31</td>\n",
              "      <td>2015-30</td>\n",
              "      <td>2015-04-01</td>\n",
              "      <td>4</td>\n",
              "      <td>2015-07-27</td>\n",
              "      <td>0</td>\n",
              "    </tr>\n",
              "  </tbody>\n",
              "</table>\n",
              "<p>5 rows × 29 columns</p>\n",
              "</div>\n",
              "      <button class=\"colab-df-convert\" onclick=\"convertToInteractive('df-11c85212-f9e3-4a18-a528-8545f6fd64e2')\"\n",
              "              title=\"Convert this dataframe to an interactive table.\"\n",
              "              style=\"display:none;\">\n",
              "        \n",
              "  <svg xmlns=\"http://www.w3.org/2000/svg\" height=\"24px\"viewBox=\"0 0 24 24\"\n",
              "       width=\"24px\">\n",
              "    <path d=\"M0 0h24v24H0V0z\" fill=\"none\"/>\n",
              "    <path d=\"M18.56 5.44l.94 2.06.94-2.06 2.06-.94-2.06-.94-.94-2.06-.94 2.06-2.06.94zm-11 1L8.5 8.5l.94-2.06 2.06-.94-2.06-.94L8.5 2.5l-.94 2.06-2.06.94zm10 10l.94 2.06.94-2.06 2.06-.94-2.06-.94-.94-2.06-.94 2.06-2.06.94z\"/><path d=\"M17.41 7.96l-1.37-1.37c-.4-.4-.92-.59-1.43-.59-.52 0-1.04.2-1.43.59L10.3 9.45l-7.72 7.72c-.78.78-.78 2.05 0 2.83L4 21.41c.39.39.9.59 1.41.59.51 0 1.02-.2 1.41-.59l7.78-7.78 2.81-2.81c.8-.78.8-2.07 0-2.86zM5.41 20L4 18.59l7.72-7.72 1.47 1.35L5.41 20z\"/>\n",
              "  </svg>\n",
              "      </button>\n",
              "      \n",
              "  <style>\n",
              "    .colab-df-container {\n",
              "      display:flex;\n",
              "      flex-wrap:wrap;\n",
              "      gap: 12px;\n",
              "    }\n",
              "\n",
              "    .colab-df-convert {\n",
              "      background-color: #E8F0FE;\n",
              "      border: none;\n",
              "      border-radius: 50%;\n",
              "      cursor: pointer;\n",
              "      display: none;\n",
              "      fill: #1967D2;\n",
              "      height: 32px;\n",
              "      padding: 0 0 0 0;\n",
              "      width: 32px;\n",
              "    }\n",
              "\n",
              "    .colab-df-convert:hover {\n",
              "      background-color: #E2EBFA;\n",
              "      box-shadow: 0px 1px 2px rgba(60, 64, 67, 0.3), 0px 1px 3px 1px rgba(60, 64, 67, 0.15);\n",
              "      fill: #174EA6;\n",
              "    }\n",
              "\n",
              "    [theme=dark] .colab-df-convert {\n",
              "      background-color: #3B4455;\n",
              "      fill: #D2E3FC;\n",
              "    }\n",
              "\n",
              "    [theme=dark] .colab-df-convert:hover {\n",
              "      background-color: #434B5C;\n",
              "      box-shadow: 0px 1px 3px 1px rgba(0, 0, 0, 0.15);\n",
              "      filter: drop-shadow(0px 1px 2px rgba(0, 0, 0, 0.3));\n",
              "      fill: #FFFFFF;\n",
              "    }\n",
              "  </style>\n",
              "\n",
              "      <script>\n",
              "        const buttonEl =\n",
              "          document.querySelector('#df-11c85212-f9e3-4a18-a528-8545f6fd64e2 button.colab-df-convert');\n",
              "        buttonEl.style.display =\n",
              "          google.colab.kernel.accessAllowed ? 'block' : 'none';\n",
              "\n",
              "        async function convertToInteractive(key) {\n",
              "          const element = document.querySelector('#df-11c85212-f9e3-4a18-a528-8545f6fd64e2');\n",
              "          const dataTable =\n",
              "            await google.colab.kernel.invokeFunction('convertToInteractive',\n",
              "                                                     [key], {});\n",
              "          if (!dataTable) return;\n",
              "\n",
              "          const docLinkHtml = 'Like what you see? Visit the ' +\n",
              "            '<a target=\"_blank\" href=https://colab.research.google.com/notebooks/data_table.ipynb>data table notebook</a>'\n",
              "            + ' to learn more about interactive tables.';\n",
              "          element.innerHTML = '';\n",
              "          dataTable['output_type'] = 'display_data';\n",
              "          await google.colab.output.renderOutput(dataTable, element);\n",
              "          const docLink = document.createElement('div');\n",
              "          docLink.innerHTML = docLinkHtml;\n",
              "          element.appendChild(docLink);\n",
              "        }\n",
              "      </script>\n",
              "    </div>\n",
              "  </div>\n",
              "  "
            ]
          },
          "metadata": {},
          "execution_count": 29
        }
      ]
    },
    {
      "cell_type": "markdown",
      "source": [
        "### 3.1 Filtragem das linhas"
      ],
      "metadata": {
        "id": "3Huicvcmpt2j"
      }
    },
    {
      "cell_type": "code",
      "source": [
        "df3 = df3[(df3['open'] != 0) & (df3['sales'] > 0)] \n"
      ],
      "metadata": {
        "id": "Z31ZpQp2or9w"
      },
      "execution_count": 30,
      "outputs": []
    },
    {
      "cell_type": "markdown",
      "source": [
        "### 3.2 Seleção das Colunas"
      ],
      "metadata": {
        "id": "gPgnKm-OpxxB"
      }
    },
    {
      "cell_type": "code",
      "source": [
        "cols_drop = ['customers', 'open', 'month_map', 'promo_interval']\n",
        "df3 = df3.drop(cols_drop, axis=1)\n"
      ],
      "metadata": {
        "id": "AuyUYauWorrg"
      },
      "execution_count": 31,
      "outputs": []
    },
    {
      "cell_type": "markdown",
      "source": [
        "# 4.0 Analise Exploratoria dos Dados (EDA)"
      ],
      "metadata": {
        "id": "ukY58um4RAYb"
      }
    },
    {
      "cell_type": "code",
      "source": [
        "df4 = df3.copy()"
      ],
      "metadata": {
        "id": "NzCvlrC_RILg"
      },
      "execution_count": 35,
      "outputs": []
    },
    {
      "cell_type": "markdown",
      "source": [
        "## 4.1 Analise Univaridada\n"
      ],
      "metadata": {
        "id": "MSx9eY0zSAOo"
      }
    },
    {
      "cell_type": "markdown",
      "source": [
        "### 4.1.1 Response Variable"
      ],
      "metadata": {
        "id": "2eKFLjRVSgdZ"
      }
    },
    {
      "cell_type": "code",
      "source": [
        "sns.distplot(df4['sales'])\n",
        "\n",
        "# Analise do Grafico Resultante:\n",
        "## Tem formato de sino\n",
        "## Tem [Curtose]\n",
        "## Tem [Skew] pra esquerda, Logo é positiva\n",
        "## Pode Nao estar centrada, mas é um problema problemas\n",
        "## Está bem proxima à [Normal], mas nao é [Normal]"
      ],
      "metadata": {
        "colab": {
          "base_uri": "https://localhost:8080/",
          "height": 354
        },
        "id": "tt7rJXj5S0zm",
        "outputId": "b81da2b1-c131-4701-ca3c-4a384418b88e"
      },
      "execution_count": 36,
      "outputs": [
        {
          "output_type": "stream",
          "name": "stderr",
          "text": [
            "/usr/local/lib/python3.8/dist-packages/seaborn/distributions.py:2619: FutureWarning: `distplot` is a deprecated function and will be removed in a future version. Please adapt your code to use either `displot` (a figure-level function with similar flexibility) or `histplot` (an axes-level function for histograms).\n",
            "  warnings.warn(msg, FutureWarning)\n"
          ]
        },
        {
          "output_type": "execute_result",
          "data": {
            "text/plain": [
              "<matplotlib.axes._subplots.AxesSubplot at 0x7fc25f8c2040>"
            ]
          },
          "metadata": {},
          "execution_count": 36
        },
        {
          "output_type": "display_data",
          "data": {
            "text/plain": [
              "<Figure size 432x288 with 1 Axes>"
            ],
            "image/png": "[encoded data removed]"
          },
          "metadata": {
            "needs_background": "light"
          }
        }
      ]
    },
    {
      "cell_type": "markdown",
      "source": [
        "### 4.1.2 Numerical Variable"
      ],
      "metadata": {
        "id": "fYABeU6QSghQ"
      }
    },
    {
      "cell_type": "code",
      "source": [
        "num_atributes.hist( bins=25)\n",
        "\n",
        "\n",
        "# Analise dos graficos das variaveis\n",
        "# o promo2_since_week te fica bem maior depois prox as semenas 0, 10, 20, 30 e 40\n",
        "# o competition distance fica muito maior perto do do zero, o que quer dizer que temos muitas lojas com competidores perto\n",
        "# o comptetitin open since month dica maior nos meses 4 e 9 e o primeiro quarter é totalmente crescente, enquanto o segundo é crescente ate o ultimo mes do quarter, ja o 3 quarter tem seu pico no primeiro mes\n",
        "# a lista is_promo fica maior no 0, por que a maioria das lojas nao fez a venda em promoçao\n",
        "# no atributo open loja tem mais dias abertos que fechados\n",
        "# no grafico de promo, o numero de lojas com promo é quase metade das que nao tem promo\n",
        "# "
      ],
      "metadata": {
        "colab": {
          "base_uri": "https://localhost:8080/",
          "height": 595
        },
        "id": "CvUATmj2aCT6",
        "outputId": "d118a228-3035-4559-a495-ea2a82951428"
      },
      "execution_count": 37,
      "outputs": [
        {
          "output_type": "execute_result",
          "data": {
            "text/plain": [
              "array([[<matplotlib.axes._subplots.AxesSubplot object at 0x7fc21e83c430>,\n",
              "        <matplotlib.axes._subplots.AxesSubplot object at 0x7fc21e2628e0>,\n",
              "        <matplotlib.axes._subplots.AxesSubplot object at 0x7fc21e28ed30>,\n",
              "        <matplotlib.axes._subplots.AxesSubplot object at 0x7fc2224ed160>],\n",
              "       [<matplotlib.axes._subplots.AxesSubplot object at 0x7fc21d673550>,\n",
              "        <matplotlib.axes._subplots.AxesSubplot object at 0x7fc22201d8b0>,\n",
              "        <matplotlib.axes._subplots.AxesSubplot object at 0x7fc22201d9a0>,\n",
              "        <matplotlib.axes._subplots.AxesSubplot object at 0x7fc222048df0>],\n",
              "       [<matplotlib.axes._subplots.AxesSubplot object at 0x7fc2219f0580>,\n",
              "        <matplotlib.axes._subplots.AxesSubplot object at 0x7fc221a199a0>,\n",
              "        <matplotlib.axes._subplots.AxesSubplot object at 0x7fc221a4bdf0>,\n",
              "        <matplotlib.axes._subplots.AxesSubplot object at 0x7fc220e55220>],\n",
              "       [<matplotlib.axes._subplots.AxesSubplot object at 0x7fc22149a610>,\n",
              "        <matplotlib.axes._subplots.AxesSubplot object at 0x7fc2214bba00>,\n",
              "        <matplotlib.axes._subplots.AxesSubplot object at 0x7fc21f4bcd30>,\n",
              "        <matplotlib.axes._subplots.AxesSubplot object at 0x7fc21ee69310>]],\n",
              "      dtype=object)"
            ]
          },
          "metadata": {},
          "execution_count": 37
        },
        {
          "output_type": "display_data",
          "data": {
            "text/plain": [
              "<Figure size 432x288 with 16 Axes>"
            ],
            "image/png": "[encoded data removed]"
          },
          "metadata": {
            "needs_background": "light"
          }
        }
      ]
    },
    {
      "cell_type": "markdown",
      "source": [
        "### 4.1.3 Categorical Variable"
      ],
      "metadata": {
        "id": "vOFuY5xXSgZ4"
      }
    },
    {
      "cell_type": "code",
      "source": [
        "cat_atributes.head()"
      ],
      "metadata": {
        "id": "xZv7MWXeaIUZ",
        "colab": {
          "base_uri": "https://localhost:8080/",
          "height": 206
        },
        "outputId": "fba56af7-059b-4bf2-a7d5-f1a0f59bf983"
      },
      "execution_count": 38,
      "outputs": [
        {
          "output_type": "execute_result",
          "data": {
            "text/plain": [
              "        date state_holiday store_type assortment   promo_interval month_map\n",
              "0 2015-07-31             0          c          a                0       Jul\n",
              "1 2015-07-31             0          a          a  Jan,Apr,Jul,Oct       Jul\n",
              "2 2015-07-31             0          a          a  Jan,Apr,Jul,Oct       Jul\n",
              "3 2015-07-31             0          c          c                0       Jul\n",
              "4 2015-07-31             0          a          a                0       Jul"
            ],
            "text/html": [
              "\n",
              "  <div id=\"df-c837f645-73bb-434d-9cb0-7b794a668dac\">\n",
              "    <div class=\"colab-df-container\">\n",
              "      <div>\n",
              "<style scoped>\n",
              "    .dataframe tbody tr th:only-of-type {\n",
              "        vertical-align: middle;\n",
              "    }\n",
              "\n",
              "    .dataframe tbody tr th {\n",
              "        vertical-align: top;\n",
              "    }\n",
              "\n",
              "    .dataframe thead th {\n",
              "        text-align: right;\n",
              "    }\n",
              "</style>\n",
              "<table border=\"1\" class=\"dataframe\">\n",
              "  <thead>\n",
              "    <tr style=\"text-align: right;\">\n",
              "      <th></th>\n",
              "      <th>date</th>\n",
              "      <th>state_holiday</th>\n",
              "      <th>store_type</th>\n",
              "      <th>assortment</th>\n",
              "      <th>promo_interval</th>\n",
              "      <th>month_map</th>\n",
              "    </tr>\n",
              "  </thead>\n",
              "  <tbody>\n",
              "    <tr>\n",
              "      <th>0</th>\n",
              "      <td>2015-07-31</td>\n",
              "      <td>0</td>\n",
              "      <td>c</td>\n",
              "      <td>a</td>\n",
              "      <td>0</td>\n",
              "      <td>Jul</td>\n",
              "    </tr>\n",
              "    <tr>\n",
              "      <th>1</th>\n",
              "      <td>2015-07-31</td>\n",
              "      <td>0</td>\n",
              "      <td>a</td>\n",
              "      <td>a</td>\n",
              "      <td>Jan,Apr,Jul,Oct</td>\n",
              "      <td>Jul</td>\n",
              "    </tr>\n",
              "    <tr>\n",
              "      <th>2</th>\n",
              "      <td>2015-07-31</td>\n",
              "      <td>0</td>\n",
              "      <td>a</td>\n",
              "      <td>a</td>\n",
              "      <td>Jan,Apr,Jul,Oct</td>\n",
              "      <td>Jul</td>\n",
              "    </tr>\n",
              "    <tr>\n",
              "      <th>3</th>\n",
              "      <td>2015-07-31</td>\n",
              "      <td>0</td>\n",
              "      <td>c</td>\n",
              "      <td>c</td>\n",
              "      <td>0</td>\n",
              "      <td>Jul</td>\n",
              "    </tr>\n",
              "    <tr>\n",
              "      <th>4</th>\n",
              "      <td>2015-07-31</td>\n",
              "      <td>0</td>\n",
              "      <td>a</td>\n",
              "      <td>a</td>\n",
              "      <td>0</td>\n",
              "      <td>Jul</td>\n",
              "    </tr>\n",
              "  </tbody>\n",
              "</table>\n",
              "</div>\n",
              "      <button class=\"colab-df-convert\" onclick=\"convertToInteractive('df-c837f645-73bb-434d-9cb0-7b794a668dac')\"\n",
              "              title=\"Convert this dataframe to an interactive table.\"\n",
              "              style=\"display:none;\">\n",
              "        \n",
              "  <svg xmlns=\"http://www.w3.org/2000/svg\" height=\"24px\"viewBox=\"0 0 24 24\"\n",
              "       width=\"24px\">\n",
              "    <path d=\"M0 0h24v24H0V0z\" fill=\"none\"/>\n",
              "    <path d=\"M18.56 5.44l.94 2.06.94-2.06 2.06-.94-2.06-.94-.94-2.06-.94 2.06-2.06.94zm-11 1L8.5 8.5l.94-2.06 2.06-.94-2.06-.94L8.5 2.5l-.94 2.06-2.06.94zm10 10l.94 2.06.94-2.06 2.06-.94-2.06-.94-.94-2.06-.94 2.06-2.06.94z\"/><path d=\"M17.41 7.96l-1.37-1.37c-.4-.4-.92-.59-1.43-.59-.52 0-1.04.2-1.43.59L10.3 9.45l-7.72 7.72c-.78.78-.78 2.05 0 2.83L4 21.41c.39.39.9.59 1.41.59.51 0 1.02-.2 1.41-.59l7.78-7.78 2.81-2.81c.8-.78.8-2.07 0-2.86zM5.41 20L4 18.59l7.72-7.72 1.47 1.35L5.41 20z\"/>\n",
              "  </svg>\n",
              "      </button>\n",
              "      \n",
              "  <style>\n",
              "    .colab-df-container {\n",
              "      display:flex;\n",
              "      flex-wrap:wrap;\n",
              "      gap: 12px;\n",
              "    }\n",
              "\n",
              "    .colab-df-convert {\n",
              "      background-color: #E8F0FE;\n",
              "      border: none;\n",
              "      border-radius: 50%;\n",
              "      cursor: pointer;\n",
              "      display: none;\n",
              "      fill: #1967D2;\n",
              "      height: 32px;\n",
              "      padding: 0 0 0 0;\n",
              "      width: 32px;\n",
              "    }\n",
              "\n",
              "    .colab-df-convert:hover {\n",
              "      background-color: #E2EBFA;\n",
              "      box-shadow: 0px 1px 2px rgba(60, 64, 67, 0.3), 0px 1px 3px 1px rgba(60, 64, 67, 0.15);\n",
              "      fill: #174EA6;\n",
              "    }\n",
              "\n",
              "    [theme=dark] .colab-df-convert {\n",
              "      background-color: #3B4455;\n",
              "      fill: #D2E3FC;\n",
              "    }\n",
              "\n",
              "    [theme=dark] .colab-df-convert:hover {\n",
              "      background-color: #434B5C;\n",
              "      box-shadow: 0px 1px 3px 1px rgba(0, 0, 0, 0.15);\n",
              "      filter: drop-shadow(0px 1px 2px rgba(0, 0, 0, 0.3));\n",
              "      fill: #FFFFFF;\n",
              "    }\n",
              "  </style>\n",
              "\n",
              "      <script>\n",
              "        const buttonEl =\n",
              "          document.querySelector('#df-c837f645-73bb-434d-9cb0-7b794a668dac button.colab-df-convert');\n",
              "        buttonEl.style.display =\n",
              "          google.colab.kernel.accessAllowed ? 'block' : 'none';\n",
              "\n",
              "        async function convertToInteractive(key) {\n",
              "          const element = document.querySelector('#df-c837f645-73bb-434d-9cb0-7b794a668dac');\n",
              "          const dataTable =\n",
              "            await google.colab.kernel.invokeFunction('convertToInteractive',\n",
              "                                                     [key], {});\n",
              "          if (!dataTable) return;\n",
              "\n",
              "          const docLinkHtml = 'Like what you see? Visit the ' +\n",
              "            '<a target=\"_blank\" href=https://colab.research.google.com/notebooks/data_table.ipynb>data table notebook</a>'\n",
              "            + ' to learn more about interactive tables.';\n",
              "          element.innerHTML = '';\n",
              "          dataTable['output_type'] = 'display_data';\n",
              "          await google.colab.output.renderOutput(dataTable, element);\n",
              "          const docLink = document.createElement('div');\n",
              "          docLink.innerHTML = docLinkHtml;\n",
              "          element.appendChild(docLink);\n",
              "        }\n",
              "      </script>\n",
              "    </div>\n",
              "  </div>\n",
              "  "
            ]
          },
          "metadata": {},
          "execution_count": 38
        }
      ]
    },
    {
      "cell_type": "code",
      "source": [
        "df4['assortment'].drop_duplicates()"
      ],
      "metadata": {
        "colab": {
          "base_uri": "https://localhost:8080/"
        },
        "id": "5voLYk6J6jw8",
        "outputId": "1258413f-c47c-4dbb-e099-aee55013d252"
      },
      "execution_count": 39,
      "outputs": [
        {
          "output_type": "execute_result",
          "data": {
            "text/plain": [
              "0         basic\n",
              "3      extended\n",
              "258       extra\n",
              "Name: assortment, dtype: object"
            ]
          },
          "metadata": {},
          "execution_count": 39
        }
      ]
    },
    {
      "cell_type": "code",
      "source": [
        "sns.countplot(df4['assortment'])"
      ],
      "metadata": {
        "colab": {
          "base_uri": "https://localhost:8080/",
          "height": 354
        },
        "id": "Et4A1D-FRHez",
        "outputId": "4d6f194f-8758-4257-abda-218baa4ca703"
      },
      "execution_count": 42,
      "outputs": [
        {
          "output_type": "stream",
          "name": "stderr",
          "text": [
            "/usr/local/lib/python3.8/dist-packages/seaborn/_decorators.py:36: FutureWarning: Pass the following variable as a keyword arg: x. From version 0.12, the only valid positional argument will be `data`, and passing other arguments without an explicit keyword will result in an error or misinterpretation.\n",
            "  warnings.warn(\n"
          ]
        },
        {
          "output_type": "execute_result",
          "data": {
            "text/plain": [
              "<matplotlib.axes._subplots.AxesSubplot at 0x7fc24539f820>"
            ]
          },
          "metadata": {},
          "execution_count": 42
        },
        {
          "output_type": "display_data",
          "data": {
            "text/plain": [
              "<Figure size 432x288 with 1 Axes>"
            ],
            "image/png": "[encoded data removed]"
          },
          "metadata": {
            "needs_background": "light"
          }
        }
      ]
    },
    {
      "cell_type": "code",
      "source": [],
      "metadata": {
        "id": "y1ERI01zQ-5J"
      },
      "execution_count": null,
      "outputs": []
    },
    {
      "cell_type": "code",
      "source": [
        "# 'state_holiday'\n",
        "\n",
        "# criar um grid com subplot pra mostar os dois graficos sobrepostos\n",
        "# configurando a matriz com 1 linhas, duas colunas e plotando na primeira posição o primeiro grafico\n",
        "plt.subplot(3 ,2, 1)\n",
        "\n",
        "## aplicar um count para entender de volume de cada variavel \n",
        "a = df4[df4['state_holiday'] != 'regular_day'] # filtrando a variavel state+holiday por que ela se destaca mito em relação as outas, isso atrapalha a comparação das demais\n",
        "sns.countplot(a['state_holiday']) # aplicando um countplot pra mostrar um grafico da contagem de elementos\n",
        "# aplos essa analise, vemos que os feirados vem em ordem decrescente como: Feriados publicos, feriados estaduais e natal\n",
        "\n",
        "\n",
        "# aqui plotar o segundo grafico na segunda posição\n",
        "plt.subplot(3 ,2, 2)\n",
        "# usando o kdeplot pra filtrar o numero de vendas dos #feriados publicos, estaduais e natal respectivamente\n",
        "sns.kdeplot( df4[df4['state_holiday'] == 'public_holiday']['sales'], label = 'public_holiday', shade = True)\n",
        "plt.subplot(3 ,2, 2)\n",
        "sns.kdeplot( df4[df4['state_holiday'] == 'easter_holiday']['sales'], label = 'easter_holiday', shade = True)\n",
        "plt.subplot(3 ,2, 2)\n",
        "sns.kdeplot( df4[df4['state_holiday'] == 'christmas']['sales'], label = 'christmas', shade = True)\n",
        "\n",
        "\n",
        "\n",
        "# 'store_type'\n",
        "# vamos aplicar a mesma logica descrita na variavel state_holiday, contar quanto de cada um tem e mostrar a relaçao com vendas de cada 1\n",
        "plt.subplot(3 ,2, 3)\n",
        "sns.countplot(df4['store_type']) # aplicando um countplot pra mostrar um grafico da contagem de elementos\n",
        "\n",
        "\n",
        "# aqui plotar o segundo grafico na segunda posição\n",
        "plt.subplot(3 ,2, 4)\n",
        "# usando o kdeplot pra filtrar o numero de vendas dos tipos de loja: publicos, estaduais e natal respectivamente\n",
        "sns.kdeplot( df4[df4['store_type'] == 'a']['sales'], label = 'a', shade = True)\n",
        "plt.subplot(3 ,2, 4)\n",
        "sns.kdeplot( df4[df4['store_type'] == 'b']['sales'], label = 'b', shade = True)\n",
        "plt.subplot(3 ,2, 4)\n",
        "sns.kdeplot( df4[df4['store_type'] == 'c']['sales'], label = 'c', shade = True)\n",
        "plt.subplot(3 ,2, 4)\n",
        "sns.kdeplot( df4[df4['store_type'] == 'd']['sales'], label = 'd', shade = True)\n",
        "\n",
        "\n",
        "# 'assortment'\n",
        "# vamos aplicar a mesma logica descrita na variavel state_holiday, contar quanto de cada um tem e mostrar a relaçao com vendas de cada 1\n",
        "plt.subplot(3 ,2, 5)\n",
        "#a = df4[df4['store_type'] != 'regular_day'] # filtrando a variavel state+holiday por que ela se destaca mito em relação as outas, isso atrapalha a comparação das demais\n",
        "sns.countplot(df4['assortment']) # aplicando um countplot pra mostrar um grafico da contagem de elementos\n",
        "\n",
        "\n",
        "# aqui plotar o segundo grafico na segunda posição\n",
        "plt.subplot(3 ,2, 6)\n",
        "# usando o kdeplot pra filtrar o numero de vendas dos tipos de loja: publicos, estaduais e natal respectivamente\n",
        "sns.kdeplot( df4[df4['assortment'] == 'basic']['sales'], label = 'basic', shade = True)\n",
        "plt.subplot(3 ,2, 6)\n",
        "sns.kdeplot( df4[df4['assortment'] == 'extended']['sales'], label = 'extended', shade = True)\n",
        "plt.subplot(3 ,2, 6)\n",
        "sns.kdeplot( df4[df4['assortment'] == 'extra']['sales'], label = 'extra', shade = True)\n"
      ],
      "metadata": {
        "colab": {
          "base_uri": "https://localhost:8080/",
          "height": 698
        },
        "id": "WYiwORpt8ch3",
        "outputId": "eda3620a-7ca5-427e-97c4-2d8b73134178"
      },
      "execution_count": 44,
      "outputs": [
        {
          "output_type": "stream",
          "name": "stderr",
          "text": [
            "/usr/local/lib/python3.8/dist-packages/seaborn/_decorators.py:36: FutureWarning: Pass the following variable as a keyword arg: x. From version 0.12, the only valid positional argument will be `data`, and passing other arguments without an explicit keyword will result in an error or misinterpretation.\n",
            "  warnings.warn(\n",
            "<ipython-input-44-92a3b0a4a640>:17: MatplotlibDeprecationWarning: Adding an axes using the same arguments as a previous axes currently reuses the earlier instance.  In a future version, a new instance will always be created and returned.  Meanwhile, this warning can be suppressed, and the future behavior ensured, by passing a unique label to each axes instance.\n",
            "  plt.subplot(3 ,2, 2)\n",
            "<ipython-input-44-92a3b0a4a640>:19: MatplotlibDeprecationWarning: Adding an axes using the same arguments as a previous axes currently reuses the earlier instance.  In a future version, a new instance will always be created and returned.  Meanwhile, this warning can be suppressed, and the future behavior ensured, by passing a unique label to each axes instance.\n",
            "  plt.subplot(3 ,2, 2)\n",
            "/usr/local/lib/python3.8/dist-packages/seaborn/_decorators.py:36: FutureWarning: Pass the following variable as a keyword arg: x. From version 0.12, the only valid positional argument will be `data`, and passing other arguments without an explicit keyword will result in an error or misinterpretation.\n",
            "  warnings.warn(\n",
            "<ipython-input-44-92a3b0a4a640>:34: MatplotlibDeprecationWarning: Adding an axes using the same arguments as a previous axes currently reuses the earlier instance.  In a future version, a new instance will always be created and returned.  Meanwhile, this warning can be suppressed, and the future behavior ensured, by passing a unique label to each axes instance.\n",
            "  plt.subplot(3 ,2, 4)\n",
            "<ipython-input-44-92a3b0a4a640>:36: MatplotlibDeprecationWarning: Adding an axes using the same arguments as a previous axes currently reuses the earlier instance.  In a future version, a new instance will always be created and returned.  Meanwhile, this warning can be suppressed, and the future behavior ensured, by passing a unique label to each axes instance.\n",
            "  plt.subplot(3 ,2, 4)\n",
            "<ipython-input-44-92a3b0a4a640>:38: MatplotlibDeprecationWarning: Adding an axes using the same arguments as a previous axes currently reuses the earlier instance.  In a future version, a new instance will always be created and returned.  Meanwhile, this warning can be suppressed, and the future behavior ensured, by passing a unique label to each axes instance.\n",
            "  plt.subplot(3 ,2, 4)\n",
            "/usr/local/lib/python3.8/dist-packages/seaborn/_decorators.py:36: FutureWarning: Pass the following variable as a keyword arg: x. From version 0.12, the only valid positional argument will be `data`, and passing other arguments without an explicit keyword will result in an error or misinterpretation.\n",
            "  warnings.warn(\n",
            "<ipython-input-44-92a3b0a4a640>:53: MatplotlibDeprecationWarning: Adding an axes using the same arguments as a previous axes currently reuses the earlier instance.  In a future version, a new instance will always be created and returned.  Meanwhile, this warning can be suppressed, and the future behavior ensured, by passing a unique label to each axes instance.\n",
            "  plt.subplot(3 ,2, 6)\n",
            "<ipython-input-44-92a3b0a4a640>:55: MatplotlibDeprecationWarning: Adding an axes using the same arguments as a previous axes currently reuses the earlier instance.  In a future version, a new instance will always be created and returned.  Meanwhile, this warning can be suppressed, and the future behavior ensured, by passing a unique label to each axes instance.\n",
            "  plt.subplot(3 ,2, 6)\n"
          ]
        },
        {
          "output_type": "execute_result",
          "data": {
            "text/plain": [
              "<matplotlib.axes._subplots.AxesSubplot at 0x7fc24455d160>"
            ]
          },
          "metadata": {},
          "execution_count": 44
        },
        {
          "output_type": "display_data",
          "data": {
            "text/plain": [
              "<Figure size 432x288 with 6 Axes>"
            ],
            "image/png": "[encoded data removed]"
          },
          "metadata": {
            "needs_background": "light"
          }
        }
      ]
    },
    {
      "cell_type": "markdown",
      "source": [
        "## 4.2 Analise Bivariada"
      ],
      "metadata": {
        "id": "2dp8h-zKSS2j"
      }
    },
    {
      "cell_type": "markdown",
      "source": [
        "####H1. Lojas com Maior Sortimento deverias vender mais\n",
        "\n",
        "RESULTADO DA HIPOTESE: **DESVALIDADO** \n",
        "\n",
        "    Lojas com Sortimento maior, vendem menos \n"
      ],
      "metadata": {
        "id": "LB-a5oLUER8W"
      }
    },
    {
      "cell_type": "code",
      "source": [
        "aux1 = df4[['assortment', 'sales']].groupby('assortment').sum().reset_index()\n",
        "sns.barplot(x='assortment', y='sales', data=aux1);\n",
        "\n",
        "# Resultados:\n",
        "## os assortments basic e extended tem praticamente o mesmo volume de vendas\n",
        "## o assortment extra na verdade tem menos vendas do que os outras duas categorias\n",
        "\n",
        "# nova hipotese: vamos analisar se a baixa venda do assortment seja na verdade uma variação pelo tempo\n",
        "aux2 = df4[['year_week','assortment', 'sales']].groupby(['year_week', 'assortment']).sum().reset_index()\n",
        "aux2.pivot(index='year_week', columns='assortment', values='sales').plot();\n",
        "\n",
        "aux3 = aux2[aux2['assortment'] == 'extra']\n",
        "aux3.pivot(index='year_week', columns='assortment', values='sales').plot();\n",
        "\n",
        "# RESULTADO DA HIPOTESE: Lojas com Sortimento maior, vendem menos (DESVALIDADO)"
      ],
      "metadata": {
        "id": "LuI1afssaI-y",
        "colab": {
          "base_uri": "https://localhost:8080/",
          "height": 827
        },
        "outputId": "653084c9-bd72-4b46-cfef-b18f3c288d62"
      },
      "execution_count": 51,
      "outputs": [
        {
          "output_type": "display_data",
          "data": {
            "text/plain": [
              "<Figure size 432x288 with 1 Axes>"
            ],
            "image/png": "[encoded data removed]"
          },
          "metadata": {
            "needs_background": "light"
          }
        },
        {
          "output_type": "display_data",
          "data": {
            "text/plain": [
              "<Figure size 432x288 with 1 Axes>"
            ],
            "image/png": "[encoded data removed]"
          },
          "metadata": {
            "needs_background": "light"
          }
        },
        {
          "output_type": "display_data",
          "data": {
            "text/plain": [
              "<Figure size 432x288 with 1 Axes>"
            ],
            "image/png": "[encoded data removed]"
          },
          "metadata": {
            "needs_background": "light"
          }
        }
      ]
    },
    {
      "cell_type": "markdown",
      "source": [
        "####H2. Lojas com competidores mais proximos deveriam vender menos\n",
        "RESULTADO DA HIPOTESE: **DESVALIDADO**\n",
        "\n",
        "    Lojas com competidores mais proximos vendem muito MAIS"
      ],
      "metadata": {
        "id": "jo84KxwFEYB2"
      }
    },
    {
      "cell_type": "code",
      "source": [
        "# df auxiliar onde vamos agrupar as vendas pela distancia do competidor de cada loja\n",
        "aux1 = df4[['competition_distance', 'sales']].groupby('competition_distance').sum().reset_index()\n",
        "\n",
        "# Grafico de pontos: pra ter uma visao melhor dos dados muitos granulares\n",
        "plt.subplot(1, 3, 1)\n",
        "sns.scatterplot(x='competition_distance', y='sales', data=aux1)\n",
        "\n",
        "\n",
        "# Grafico de Barras para entender a distribuição das vendas em grupos de distancias\n",
        "plt.subplot(1, 3, 2)\n",
        "bins = list(np.arange(0, 20000, 1000)) # criando grupos de arrays que vao de 0 ate 20000 e agrupa os elementos de 1000 em 1000\n",
        "aux1['competition_distance_binned'] = pd.cut(aux1['competition_distance'], bins=bins )\n",
        "aux2 = aux1[['competition_distance_binned', 'sales']].groupby('competition_distance_binned').sum().reset_index()\n",
        "sns.barplot(x='competition_distance_binned', y='sales', data=aux2);\n",
        "plt.xticks( rotation = 90)\n",
        "\n",
        "# Calcular a força da correlação:\n",
        "plt.subplot(1, 3, 3)\n",
        "sns.heatmap( aux1.corr( method='pearson'), annot=True);\n",
        "\n",
        "\n",
        "\n",
        "# Resultado da analise:\n",
        "## lojas com competidores proximos vendem, em disparado, mais que lojas sem competidores muito proximo\n",
        "## isso gera uma insigth contra intuitivo onde achavamos que vendiamos mais quando nao tinha concorrente proximo\n",
        "## Talvez por que o comercio local sendo forte, estimula a compra, quando uma pessoa compra, independente de onda, outra tambem vao querer comprar\n",
        "### isso explicar por que sempre temos farmacias perto uma das outras, tambem se aplicar pra supermercados e fastfood\n"
      ],
      "metadata": {
        "colab": {
          "base_uri": "https://localhost:8080/",
          "height": 373
        },
        "id": "Gnv8KXo0Mvj_",
        "outputId": "435abf14-5545-4ad4-a268-fcead20c4de7"
      },
      "execution_count": 66,
      "outputs": [
        {
          "output_type": "display_data",
          "data": {
            "text/plain": [
              "<Figure size 432x288 with 4 Axes>"
            ],
            "image/png": "[encoded data removed]"
          },
          "metadata": {
            "needs_background": "light"
          }
        }
      ]
    },
    {
      "cell_type": "code",
      "source": [],
      "metadata": {
        "id": "iakcT_V7EjCO"
      },
      "execution_count": null,
      "outputs": []
    },
    {
      "cell_type": "markdown",
      "source": [
        "#### H3. Lojas com competidores à mais tempo deveriam vender mais\n",
        " RESULTADO DA HIPOTESE: **DESVALIDADO**\n",
        "\n",
        "    Lojas com competidores recem abertos vendem muito mais que lojas com competidores a mais tempo\n"
      ],
      "metadata": {
        "id": "o6ll_6hxEclm"
      }
    },
    {
      "cell_type": "code",
      "source": [
        "plt.subplot(1,3,1)\n",
        "aux1 = df4[['competition_time_month', 'sales']].groupby('competition_time_month').sum().reset_index()\n",
        "aux2 = aux1[(aux1['competition_time_month'] < 120) & (aux1['competition_time_month'] != 0)]\n",
        "sns.barplot(x='competition_time_month', y='sales', data=aux2);\n",
        "plt.xticks(rotation =90);\n",
        "\n",
        "# aplicar uma segunda visualização pra reafirmar o desvio\n",
        "plt.subplot(1,3,2)\n",
        "sns.regplot(x='competition_time_month', y='sales', data=aux2);\n",
        "\n",
        "#medir a força da correlação\n",
        "plt.subplot(1,3,3)\n",
        "sns.heatmap(aux2.corr(method='pearson'), annot=True);\n",
        "# RESULTADO DA HIPOTESE: DESVALIDADO\n",
        "## Lojas com competidores recem abertos vendem muito mais que lojas com competidores a mais tempo\n"
      ],
      "metadata": {
        "colab": {
          "base_uri": "https://localhost:8080/",
          "height": 390
        },
        "id": "RndssqNKEjcn",
        "outputId": "7217ac5a-2b3c-45af-9821-5ffd3c70bb6f"
      },
      "execution_count": 77,
      "outputs": [
        {
          "output_type": "display_data",
          "data": {
            "text/plain": [
              "<Figure size 432x288 with 4 Axes>"
            ],
            "image/png": "[encoded data removed]"
          },
          "metadata": {
            "needs_background": "light"
          }
        }
      ]
    },
    {
      "cell_type": "markdown",
      "source": [
        "## 4.3 Analise Multivariada"
      ],
      "metadata": {
        "id": "6hFRz57lSUWj"
      }
    },
    {
      "cell_type": "markdown",
      "source": [],
      "metadata": {
        "id": "GxKf6bnb7i6Y"
      }
    }
  ],
  "metadata": {
    "colab": {
      "provenance": [],
      "authorship_tag": "ABX9TyMOrPBm5x1fsiLzRQ4mDGEH",
      "include_colab_link": true
    },
    "kernelspec": {
      "display_name": "Python 3",
      "name": "python3"
    },
    "language_info": {
      "name": "python"
    }
  },
  "nbformat": 4,
  "nbformat_minor": 0
}