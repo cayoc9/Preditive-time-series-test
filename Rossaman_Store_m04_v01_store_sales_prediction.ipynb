{
  "cells": [
    {
      "cell_type": "markdown",
      "metadata": {
        "id": "view-in-github",
        "colab_type": "text"
      },
      "source": [
        "<a href=\"https://colab.research.google.com/github/cayoc9/Store-sales-predictive-Rossman-challenge/blob/main/Rossaman_Store_m04_v01_store_sales_prediction.ipynb\" target=\"_parent\"><img src=\"https://colab.research.google.com/assets/colab-badge.svg\" alt=\"Open In Colab\"/></a>"
      ]
    },
    {
      "cell_type": "markdown",
      "metadata": {
        "id": "0BbIfq3plgZq"
      },
      "source": [
        "## 0.0 imports"
      ]
    },
    {
      "cell_type": "code",
      "execution_count": 6,
      "metadata": {
        "colab": {
          "base_uri": "https://localhost:8080/"
        },
        "id": "PaUqi1dt2H8A",
        "outputId": "e3998e08-0375-4bbc-e82e-6bd6a0be55a3"
      },
      "outputs": [
        {
          "output_type": "stream",
          "name": "stdout",
          "text": [
            "Looking in indexes: https://pypi.org/simple, https://us-python.pkg.dev/colab-wheels/public/simple/\n",
            "Requirement already satisfied: inflection in /usr/local/lib/python3.8/dist-packages (0.5.1)\n"
          ]
        }
      ],
      "source": [
        "! pip install inflection"
      ]
    },
    {
      "cell_type": "code",
      "execution_count": 53,
      "metadata": {
        "id": "sCTA-XJZnNW8"
      },
      "outputs": [],
      "source": [
        "import pandas as pd\n",
        "import inflection\n",
        "import math\n",
        "import numpy as np\n",
        "import seaborn as sns\n",
        "import datetime\n",
        "import matplotlib.pyplot as plt\n",
        "from IPython.core.display import HTML \n",
        "from IPython.display import Image\n",
        "from matplotlib.axes import GridSpec\n",
        "from matplotlib import gridspec"
      ]
    },
    {
      "cell_type": "markdown",
      "metadata": {
        "id": "Aps3ZrBHlvu_"
      },
      "source": [
        "### 0.1 Helper Function"
      ]
    },
    {
      "cell_type": "code",
      "execution_count": 7,
      "metadata": {
        "id": "ihDlSzYnmWGv"
      },
      "outputs": [],
      "source": []
    },
    {
      "cell_type": "markdown",
      "metadata": {
        "id": "9qc8DcAgl4iN"
      },
      "source": [
        "### 0.2 Loading Data"
      ]
    },
    {
      "cell_type": "code",
      "execution_count": 8,
      "metadata": {
        "id": "-s5Q9n4bkKo9",
        "colab": {
          "base_uri": "https://localhost:8080/"
        },
        "outputId": "d12eb478-5833-414a-cb89-267b9eb6664a"
      },
      "outputs": [
        {
          "output_type": "stream",
          "name": "stdout",
          "text": [
            "Drive already mounted at /content/drive; to attempt to forcibly remount, call drive.mount(\"/content/drive\", force_remount=True).\n"
          ]
        }
      ],
      "source": [
        "from google.colab import drive\n",
        "drive.mount('/content/drive')\n",
        "# Caminho dos dados: \"/content/drive/Shareddrives/Drive Cayo.Edu/1 - PROJETOS/Profissional - Cientista de dados/Estudo Ciencia de Dados/Projeto Rossmann Store/rossmann-store-sales\"\n",
        "# Train : /content/drive/Shareddrives/Drive Cayo.Edu/1 - PROJETOS/Profissional - Cientista de dados/Estudo Ciencia de Dados/Projeto Rossmann Store/rossmann-store-sales/train.csv\n",
        "# store: /content/drive/Shareddrives/Drive Cayo.Edu/1 - PROJETOS/Profissional - Cientista de dados/Estudo Ciencia de Dados/Projeto Rossmann Store/rossmann-store-sales/store.csv\n",
        "#\n"
      ]
    },
    {
      "cell_type": "code",
      "execution_count": 9,
      "metadata": {
        "id": "HjfWITLumG9B"
      },
      "outputs": [],
      "source": [
        "df_sales_raw = pd.read_csv('/content/drive/MyDrive/1 - Projetos/Aprendizagem - DS Produção - Rossmann/Projeto Rossman Store/Data/train.csv', low_memory=False)\n",
        "df_store_raw = pd.read_csv('/content/drive/MyDrive/1 - Projetos/Aprendizagem - DS Produção - Rossmann/Projeto Rossman Store/Data/store.csv', low_memory=False)\n",
        "\n",
        "# merge\n",
        "df_raw = pd.merge(df_sales_raw, df_store_raw, how='left', on='Store')\n",
        "\n"
      ]
    },
    {
      "cell_type": "markdown",
      "metadata": {
        "id": "RB20BvQCvYyt"
      },
      "source": [
        "\n",
        "* Id - um Id que representa uma duplicata (Store, Date) dentro do conjunto de teste\n",
        "\n",
        "* Store - um ID exclusivo para cada loja\n",
        "\n",
        "* Sales  - o volume de negócios para um determinado dia (isto é o que você está prevendo)\n",
        "\n",
        "* Customers  - o número de clientes em um determinado dia\n",
        "\n",
        "* Open  - um indicador para saber se a loja estava aberta: 0 = fechado, 1 = aberto\n",
        "\n",
        "* StateHoliday - indica um feriado estadual. Normalmente todas as lojas, com poucas exceções, fecham nos feriados estaduais. Observe que todas as escolas fecham nos feriados e fins de semana. a = feriado, b = feriado da Páscoa, c = Natal, 0 = nenhum\n",
        "\n",
        "* SchoolHoliday - indica se o (Store, Date) foi afetado pelo fechamento das escolas públicas\n",
        "\n",
        "* StoreType  - diferencia entre 4 modelos de loja diferentes: a, b, c, d\n",
        "\n",
        "* Assortment  - descreve um nível de sortimento: a = básico, b = extra, c = estendido\n",
        "\n",
        "* CompetitionDistance - distância em metros até a loja concorrente mais próxima\n",
        "\n",
        "* CompetitionOpenSince[Month/Year] - fornece o ano e o mês aproximados da hora em que o concorrente mais próximo foi aberto\n",
        "\n",
        "* Promo - indica se uma loja está realizando uma promoção naquele dia\n",
        "\n",
        "* Promo2 - Promo2 é uma promoção contínua e consecutiva para algumas \n",
        "lojas: 0 = loja não está participando, 1 = loja está participando\n",
        "\n",
        "* Promo2Since[Year/Week] - descreve o ano e a semana do calendário em que a loja começou a participar do Promo2\n",
        "\n",
        "* PromoInterval - descreve os intervalos consecutivos em que o Promo2 é iniciado, nomeando os meses em que a promoção é reiniciada. Por exemplo, \"fevereiro, maio, agosto, novembro\" significa que cada rodada começa em fevereiro, maio, agosto, novembro de qualquer ano para essa loja"
      ]
    },
    {
      "cell_type": "markdown",
      "metadata": {
        "id": "pVm-UI5WmBd4"
      },
      "source": [
        "## 1.0 Descrição dos dados"
      ]
    },
    {
      "cell_type": "markdown",
      "metadata": {
        "id": "qyTNhrw8sdaJ"
      },
      "source": [
        "### 1.1 Rename Columns"
      ]
    },
    {
      "cell_type": "code",
      "execution_count": 10,
      "metadata": {
        "id": "heTn6K1gC2eE"
      },
      "outputs": [],
      "source": [
        "# copiar tabela caso precise resetar ela no futuro\n",
        "df1 = df_raw.copy()"
      ]
    },
    {
      "cell_type": "code",
      "execution_count": 11,
      "metadata": {
        "id": "gkliCT5Ji3Le"
      },
      "outputs": [],
      "source": [
        "#salvar todas as colunas em uma variavel\n",
        "cols_old = ['Store', 'DayOfWeek', 'Date', 'Sales', 'Customers', 'Open', 'Promo','StateHoliday', 'SchoolHoliday', \n",
        "           'StoreType', 'Assortment', 'CompetitionDistance', 'CompetitionOpenSinceMonth', 'CompetitionOpenSinceYear', \n",
        "           'Promo2', 'Promo2SinceWeek', 'Promo2SinceYear', 'PromoInterval']\n",
        "#criar uma função lambda com inflect\n",
        "snakecase = lambda x: inflection.underscore(x)\n",
        "\n",
        "#aplicar um mapeamento dessa função aplicada à todas as palavras do vertor cols_old e salvar como uma lista em outra variavel\n",
        "cols_new =  list(map( snakecase, cols_old))\n",
        "\n",
        "# rename colunas\n",
        "df1.columns = cols_new"
      ]
    },
    {
      "cell_type": "markdown",
      "metadata": {
        "id": "4zGmuQt0i3qX"
      },
      "source": [
        "### 1.2 Data Dimensions"
      ]
    },
    {
      "cell_type": "code",
      "execution_count": 12,
      "metadata": {
        "colab": {
          "base_uri": "https://localhost:8080/"
        },
        "id": "BT38JSTyi3Om",
        "outputId": "40b2e38f-7cf0-42bf-c8fd-fd0bb19ffbea"
      },
      "outputs": [
        {
          "output_type": "stream",
          "name": "stdout",
          "text": [
            "Numero de Linhas: 1017209 \n",
            "Numero de Colunas: 18 \n"
          ]
        }
      ],
      "source": [
        "# calcular quantidade de linhas e colunas da tabela\n",
        "print( f'Numero de Linhas: {df1.shape[0]} ')\n",
        "print( f'Numero de Colunas: {df1.shape[1]} ')"
      ]
    },
    {
      "cell_type": "markdown",
      "metadata": {
        "id": "sjLa9ct0mOME"
      },
      "source": [
        "### 1.3 Data Types"
      ]
    },
    {
      "cell_type": "code",
      "execution_count": 13,
      "metadata": {
        "id": "sSN5eW3OmOMO"
      },
      "outputs": [],
      "source": [
        "#transforma data em tipo d dados datetime\n",
        "df1['date'] = pd.to_datetime(df1['date'])"
      ]
    },
    {
      "cell_type": "code",
      "execution_count": 14,
      "metadata": {
        "colab": {
          "base_uri": "https://localhost:8080/"
        },
        "id": "ucSFaZ2DmOMK",
        "outputId": "7f020540-d12b-48b6-a753-d2bb5a2ed7ab"
      },
      "outputs": [
        {
          "output_type": "execute_result",
          "data": {
            "text/plain": [
              "store                                    int64\n",
              "day_of_week                              int64\n",
              "date                            datetime64[ns]\n",
              "sales                                    int64\n",
              "customers                                int64\n",
              "open                                     int64\n",
              "promo                                    int64\n",
              "state_holiday                           object\n",
              "school_holiday                           int64\n",
              "store_type                              object\n",
              "assortment                              object\n",
              "competition_distance                   float64\n",
              "competition_open_since_month           float64\n",
              "competition_open_since_year            float64\n",
              "promo2                                   int64\n",
              "promo2_since_week                      float64\n",
              "promo2_since_year                      float64\n",
              "promo_interval                          object\n",
              "dtype: object"
            ]
          },
          "metadata": {},
          "execution_count": 14
        }
      ],
      "source": [
        "# calcular tipos de dados\n",
        "df1.dtypes"
      ]
    },
    {
      "cell_type": "markdown",
      "metadata": {
        "id": "4G1do3YZmOMd"
      },
      "source": [
        "### 1.4 Check NA"
      ]
    },
    {
      "cell_type": "code",
      "execution_count": 15,
      "metadata": {
        "colab": {
          "base_uri": "https://localhost:8080/"
        },
        "id": "Fcpkr9z9mOMZ",
        "outputId": "517b5063-b655-48a7-d5a5-9967ea07cb87"
      },
      "outputs": [
        {
          "output_type": "execute_result",
          "data": {
            "text/plain": [
              "store                                0\n",
              "day_of_week                          0\n",
              "date                                 0\n",
              "sales                                0\n",
              "customers                            0\n",
              "open                                 0\n",
              "promo                                0\n",
              "state_holiday                        0\n",
              "school_holiday                       0\n",
              "store_type                           0\n",
              "assortment                           0\n",
              "competition_distance              2642\n",
              "competition_open_since_month    323348\n",
              "competition_open_since_year     323348\n",
              "promo2                               0\n",
              "promo2_since_week               508031\n",
              "promo2_since_year               508031\n",
              "promo_interval                  508031\n",
              "dtype: int64"
            ]
          },
          "metadata": {},
          "execution_count": 15
        }
      ],
      "source": [
        "# verificar todas as colunas que tem pelo menos uma linha NA\n",
        "df1.isna().sum()"
      ]
    },
    {
      "cell_type": "markdown",
      "metadata": {
        "id": "Oyz7_bbd8y5g"
      },
      "source": [
        "\n",
        "\n",
        "---\n",
        "\n",
        "\n",
        "Esse resultado influencia a proxima decisao sobre o que fazer, normalmente temos 3 Opçoes:\n",
        "\n",
        "1.   Apagar linhas que tem elementos NA\n",
        "\n",
        "*   Se o Conjunto de dados for pequena, isso afetará o resultado dos algoritimos\n",
        "*   Mais simples das soluçoes\n",
        "*   As linhas excluidas excluirá dados que podem revelar outros padroes\n",
        "\n",
        "\n",
        "2.   Recuperar esses dados atravez de um algoritmo de machine learning\n",
        "\n",
        "* Mais complicado de usar\n",
        "* Usada alritmos de machine learning para tertar tirar uma media ou prever qual seria a resposta com base em outros dados\n",
        "\n",
        "3.   Recuperar esses dados com o entendimento das regras do negocio\n",
        "\n",
        "* Gerar valores reais do porque aquele dado foi NA\n",
        "* Gera valores mais precisos pelo entendimento do negocios aprofundado\n",
        "\n",
        "\n",
        "\n"
      ]
    },
    {
      "cell_type": "markdown",
      "metadata": {
        "id": "tsnG80qgmOZB"
      },
      "source": [
        "### 1.5 Fillout NA"
      ]
    },
    {
      "cell_type": "code",
      "execution_count": 16,
      "metadata": {
        "id": "37K0jrZimOZD"
      },
      "outputs": [],
      "source": [
        "# analisar dado por questoes de negocios\n",
        "\n",
        "\n",
        "# 1. Se a distancia é considerada NA, provavelmente nao tem ou está muito longe para ser considerado, logo vamos colocar uma distancia muito maior que a distancia maxima nos dados\n",
        "df1['competition_distance'] = df1['competition_distance'].apply( lambda x: 2000000.0 if math.isnan(x) else (x) )\n",
        "\n",
        "\n",
        "# 2. competition_open_since_month: Mes aproximado que o concorrente mais proximo foi abertor\n",
        "#    Existem duas possiblidades, ou a concorrente mais proxima nao existe, ou nao temos esse dado, tanto porque é muito antiga quanto porque esqueceram de anotar\n",
        "df1['competition_open_since_month'] = df1.apply( lambda x: x['date'].month if math.isnan( x['competition_open_since_month']) else x['competition_open_since_month'], axis=1 )\n",
        "\n",
        "# 3. competition_open_since_year: Ano aproximado que o concorrente mais proximo foi abertor\n",
        "df1['competition_open_since_year'] = df1.apply( lambda x: x['date'].year if math.isnan( x['competition_open_since_year']) else x['competition_open_since_year'], axis=1 )\n",
        "\n",
        "\n",
        "# 4. promo2_since_week:  Descreve qual semana do calendario a loja começou a participar da promo2        \n",
        "#     se a celula esta NA, significa que a loja nao participou daquela promoçao\n",
        "df1['promo2_since_week'] = df1.apply( lambda x: x['date'].week if math.isnan( x['promo2_since_week']) else x['promo2_since_week'], axis=1 )\n",
        "\n",
        "\n",
        "\n",
        "# 5. promo2_since_year:  Descreve qual ano a loja começou a participar da promo2\n",
        "df1['promo2_since_year'] = df1.apply( lambda x: x['date'].year if math.isnan( x['promo2_since_year']) else x['promo2_since_year'], axis=1 )\n",
        "\n",
        "# 6. promo_interval: Descreve os intervalos que a promoção ficou ativa em listas de meses (Ex: Feb. May, Jun, Aug)\n",
        "\n",
        "#Criei um dicionario para linkar o mes ao seu numero equivalente  \n",
        "month_map = {1: 'Jan', 2: 'Feb', 3: 'Mar', 4: 'Apr', 5: 'May', 6: 'Jun', 7: 'Jul', 8: 'Aug', 9: 'Sep', 10: 'Oct', 11: 'Nov', 12: 'Dez'}\n",
        "\n",
        "# aqui usamos o metodo fillna para substituir os elementos NA por 0 na tabela de data\n",
        "df1['promo_interval'].fillna(0, inplace=True)\n",
        "\n",
        "# Criar uma nova coluna \"month_map\" e atribuir pra ela o resultado de transforma a coluna 'date' em data, \n",
        "# depois separar apenas o mes e aplicar um mapeamento substituindo todos os numeros para as letras equivalentes do Dict \"mounth_map\"  \n",
        "df1['month_map'] = df1['date'].dt.month.map(month_map) \n",
        "\n",
        "# Aqui criamos uma nova coluna pra informar se a loja participou da promoção no mes referente \n",
        "df1['is_promo'] = df1[['promo_interval', 'month_map']].apply( lambda x: 0 if x['promo_interval'] == 0 else 1 if x['month_map'] in x['promo_interval'].split(',') else 0, axis=1) \n",
        "\n"
      ]
    },
    {
      "cell_type": "code",
      "execution_count": 17,
      "metadata": {
        "id": "CRY2QoLqmOZE"
      },
      "outputs": [],
      "source": [
        "#df1.isna().sum()"
      ]
    },
    {
      "cell_type": "markdown",
      "metadata": {
        "id": "LjztZQwEmOZO"
      },
      "source": [
        "### 1.6 Change Types (Estatistica Descritiva) "
      ]
    },
    {
      "cell_type": "code",
      "execution_count": 18,
      "metadata": {
        "colab": {
          "base_uri": "https://localhost:8080/"
        },
        "id": "Mf_XbHE4mOZF",
        "outputId": "630bbf68-f1c3-4a5f-fb7a-3492b85a46ff"
      },
      "outputs": [
        {
          "output_type": "execute_result",
          "data": {
            "text/plain": [
              "store                                    int64\n",
              "day_of_week                              int64\n",
              "date                            datetime64[ns]\n",
              "sales                                    int64\n",
              "customers                                int64\n",
              "open                                     int64\n",
              "promo                                    int64\n",
              "state_holiday                           object\n",
              "school_holiday                           int64\n",
              "store_type                              object\n",
              "assortment                              object\n",
              "competition_distance                   float64\n",
              "competition_open_since_month           float64\n",
              "competition_open_since_year            float64\n",
              "promo2                                   int64\n",
              "promo2_since_week                      float64\n",
              "promo2_since_year                      float64\n",
              "promo_interval                          object\n",
              "month_map                               object\n",
              "is_promo                                 int64\n",
              "dtype: object"
            ]
          },
          "metadata": {},
          "execution_count": 18
        }
      ],
      "source": [
        "# Verificar os Tipos atuais dos dados, todas a operaçoes a tratamentos feitos podem ter alterado seus tipos\n",
        "df1.dtypes\n"
      ]
    },
    {
      "cell_type": "code",
      "execution_count": 19,
      "metadata": {
        "id": "NqlfgDoDmOZN"
      },
      "outputs": [],
      "source": [
        "df1['competition_open_since_month'] = df1['competition_open_since_month'].astype(int)\n",
        "df1['competition_open_since_year'] = df1['competition_open_since_year'].astype(int)\n",
        "df1['promo2_since_week'] = df1['promo2_since_week'].astype(int)\n",
        "df1['promo2_since_year'] = df1['promo2_since_year'].astype(int)"
      ]
    },
    {
      "cell_type": "markdown",
      "metadata": {
        "id": "CSw0Je-nmOpM"
      },
      "source": [
        "### 1.7 Descriptive Statistical (Descrição Estatistica) "
      ]
    },
    {
      "cell_type": "code",
      "execution_count": 19,
      "metadata": {
        "id": "JRtIFVHp-dBs"
      },
      "outputs": [],
      "source": []
    },
    {
      "cell_type": "code",
      "execution_count": 20,
      "metadata": {
        "id": "-f82QoFVmOpO"
      },
      "outputs": [],
      "source": [
        "# Central Tendency - mean, median\n",
        "\n",
        "# Dispension - std, min, max, range, skew, kurtosis"
      ]
    },
    {
      "cell_type": "code",
      "execution_count": 21,
      "metadata": {
        "id": "X0Aw_F5WmOpP"
      },
      "outputs": [],
      "source": [
        "num_atributes = df1.select_dtypes( include= ['int64', 'float64'])\n",
        "cat_atributes = df1.select_dtypes( exclude= ['int64', 'float64'])"
      ]
    },
    {
      "cell_type": "markdown",
      "metadata": {
        "id": "ZMFje_Uh8SG-"
      },
      "source": [
        "#### Utilidade da estatistica descritiva:\n",
        "\n",
        "\n",
        "1.  Entender sobre o negocios\n",
        "2.  Detectar erros \n",
        "\n",
        "* Metricas de Estatistica descritiva\n",
        "  * Metricas de Dispersão (1° ordem)\n",
        "     * Desvio Padrão (std)\n",
        "     * Min\n",
        "     * Max\n",
        "     * Range (Valor Entre Min e Max)\n",
        "     * Skew (Distribuição da Deformação em Relação a Normal)\n",
        "     * Kurtosis (Nivel de Concentração dos dados)\n",
        "  * Metricas de Tendencia Central (1° ordem)\n",
        "     * Media\n",
        "     * Mediana"
      ]
    },
    {
      "cell_type": "markdown",
      "metadata": {
        "id": "x8TThNCIAPGI"
      },
      "source": [
        "#### 1.7.1 Numerical Attributes - Descriptive Statistical "
      ]
    },
    {
      "cell_type": "code",
      "execution_count": 22,
      "metadata": {
        "colab": {
          "base_uri": "https://localhost:8080/",
          "height": 0
        },
        "id": "lny89CpjmOpP",
        "outputId": "7f49de4c-6877-4e3f-edf5-8b7b83fd8e25"
      },
      "outputs": [
        {
          "output_type": "execute_result",
          "data": {
            "text/plain": [
              "        store  day_of_week  sales  customers  open  promo  school_holiday  \\\n",
              "811310    376            4   9269       1022     1      1               1   \n",
              "81547     153            2   8082        705     1      1               0   \n",
              "491538    609            4   5663        676     1      1               1   \n",
              "\n",
              "        competition_distance  competition_open_since_month  \\\n",
              "811310                 160.0                             8   \n",
              "81547                16240.0                            10   \n",
              "491538                2070.0                             9   \n",
              "\n",
              "        competition_open_since_year  promo2  promo2_since_week  \\\n",
              "811310                         2012       0                 27   \n",
              "81547                          2000       1                 18   \n",
              "491538                         2007       0                 16   \n",
              "\n",
              "        promo2_since_year  is_promo  \n",
              "811310               2013         0  \n",
              "81547                2011         1  \n",
              "491538               2014         0  "
            ],
            "text/html": [
              "\n",
              "  <div id=\"df-de5ab78d-b85b-4ba3-814b-956d79e71d72\">\n",
              "    <div class=\"colab-df-container\">\n",
              "      <div>\n",
              "<style scoped>\n",
              "    .dataframe tbody tr th:only-of-type {\n",
              "        vertical-align: middle;\n",
              "    }\n",
              "\n",
              "    .dataframe tbody tr th {\n",
              "        vertical-align: top;\n",
              "    }\n",
              "\n",
              "    .dataframe thead th {\n",
              "        text-align: right;\n",
              "    }\n",
              "</style>\n",
              "<table border=\"1\" class=\"dataframe\">\n",
              "  <thead>\n",
              "    <tr style=\"text-align: right;\">\n",
              "      <th></th>\n",
              "      <th>store</th>\n",
              "      <th>day_of_week</th>\n",
              "      <th>sales</th>\n",
              "      <th>customers</th>\n",
              "      <th>open</th>\n",
              "      <th>promo</th>\n",
              "      <th>school_holiday</th>\n",
              "      <th>competition_distance</th>\n",
              "      <th>competition_open_since_month</th>\n",
              "      <th>competition_open_since_year</th>\n",
              "      <th>promo2</th>\n",
              "      <th>promo2_since_week</th>\n",
              "      <th>promo2_since_year</th>\n",
              "      <th>is_promo</th>\n",
              "    </tr>\n",
              "  </thead>\n",
              "  <tbody>\n",
              "    <tr>\n",
              "      <th>811310</th>\n",
              "      <td>376</td>\n",
              "      <td>4</td>\n",
              "      <td>9269</td>\n",
              "      <td>1022</td>\n",
              "      <td>1</td>\n",
              "      <td>1</td>\n",
              "      <td>1</td>\n",
              "      <td>160.0</td>\n",
              "      <td>8</td>\n",
              "      <td>2012</td>\n",
              "      <td>0</td>\n",
              "      <td>27</td>\n",
              "      <td>2013</td>\n",
              "      <td>0</td>\n",
              "    </tr>\n",
              "    <tr>\n",
              "      <th>81547</th>\n",
              "      <td>153</td>\n",
              "      <td>2</td>\n",
              "      <td>8082</td>\n",
              "      <td>705</td>\n",
              "      <td>1</td>\n",
              "      <td>1</td>\n",
              "      <td>0</td>\n",
              "      <td>16240.0</td>\n",
              "      <td>10</td>\n",
              "      <td>2000</td>\n",
              "      <td>1</td>\n",
              "      <td>18</td>\n",
              "      <td>2011</td>\n",
              "      <td>1</td>\n",
              "    </tr>\n",
              "    <tr>\n",
              "      <th>491538</th>\n",
              "      <td>609</td>\n",
              "      <td>4</td>\n",
              "      <td>5663</td>\n",
              "      <td>676</td>\n",
              "      <td>1</td>\n",
              "      <td>1</td>\n",
              "      <td>1</td>\n",
              "      <td>2070.0</td>\n",
              "      <td>9</td>\n",
              "      <td>2007</td>\n",
              "      <td>0</td>\n",
              "      <td>16</td>\n",
              "      <td>2014</td>\n",
              "      <td>0</td>\n",
              "    </tr>\n",
              "  </tbody>\n",
              "</table>\n",
              "</div>\n",
              "      <button class=\"colab-df-convert\" onclick=\"convertToInteractive('df-de5ab78d-b85b-4ba3-814b-956d79e71d72')\"\n",
              "              title=\"Convert this dataframe to an interactive table.\"\n",
              "              style=\"display:none;\">\n",
              "        \n",
              "  <svg xmlns=\"http://www.w3.org/2000/svg\" height=\"24px\"viewBox=\"0 0 24 24\"\n",
              "       width=\"24px\">\n",
              "    <path d=\"M0 0h24v24H0V0z\" fill=\"none\"/>\n",
              "    <path d=\"M18.56 5.44l.94 2.06.94-2.06 2.06-.94-2.06-.94-.94-2.06-.94 2.06-2.06.94zm-11 1L8.5 8.5l.94-2.06 2.06-.94-2.06-.94L8.5 2.5l-.94 2.06-2.06.94zm10 10l.94 2.06.94-2.06 2.06-.94-2.06-.94-.94-2.06-.94 2.06-2.06.94z\"/><path d=\"M17.41 7.96l-1.37-1.37c-.4-.4-.92-.59-1.43-.59-.52 0-1.04.2-1.43.59L10.3 9.45l-7.72 7.72c-.78.78-.78 2.05 0 2.83L4 21.41c.39.39.9.59 1.41.59.51 0 1.02-.2 1.41-.59l7.78-7.78 2.81-2.81c.8-.78.8-2.07 0-2.86zM5.41 20L4 18.59l7.72-7.72 1.47 1.35L5.41 20z\"/>\n",
              "  </svg>\n",
              "      </button>\n",
              "      \n",
              "  <style>\n",
              "    .colab-df-container {\n",
              "      display:flex;\n",
              "      flex-wrap:wrap;\n",
              "      gap: 12px;\n",
              "    }\n",
              "\n",
              "    .colab-df-convert {\n",
              "      background-color: #E8F0FE;\n",
              "      border: none;\n",
              "      border-radius: 50%;\n",
              "      cursor: pointer;\n",
              "      display: none;\n",
              "      fill: #1967D2;\n",
              "      height: 32px;\n",
              "      padding: 0 0 0 0;\n",
              "      width: 32px;\n",
              "    }\n",
              "\n",
              "    .colab-df-convert:hover {\n",
              "      background-color: #E2EBFA;\n",
              "      box-shadow: 0px 1px 2px rgba(60, 64, 67, 0.3), 0px 1px 3px 1px rgba(60, 64, 67, 0.15);\n",
              "      fill: #174EA6;\n",
              "    }\n",
              "\n",
              "    [theme=dark] .colab-df-convert {\n",
              "      background-color: #3B4455;\n",
              "      fill: #D2E3FC;\n",
              "    }\n",
              "\n",
              "    [theme=dark] .colab-df-convert:hover {\n",
              "      background-color: #434B5C;\n",
              "      box-shadow: 0px 1px 3px 1px rgba(0, 0, 0, 0.15);\n",
              "      filter: drop-shadow(0px 1px 2px rgba(0, 0, 0, 0.3));\n",
              "      fill: #FFFFFF;\n",
              "    }\n",
              "  </style>\n",
              "\n",
              "      <script>\n",
              "        const buttonEl =\n",
              "          document.querySelector('#df-de5ab78d-b85b-4ba3-814b-956d79e71d72 button.colab-df-convert');\n",
              "        buttonEl.style.display =\n",
              "          google.colab.kernel.accessAllowed ? 'block' : 'none';\n",
              "\n",
              "        async function convertToInteractive(key) {\n",
              "          const element = document.querySelector('#df-de5ab78d-b85b-4ba3-814b-956d79e71d72');\n",
              "          const dataTable =\n",
              "            await google.colab.kernel.invokeFunction('convertToInteractive',\n",
              "                                                     [key], {});\n",
              "          if (!dataTable) return;\n",
              "\n",
              "          const docLinkHtml = 'Like what you see? Visit the ' +\n",
              "            '<a target=\"_blank\" href=https://colab.research.google.com/notebooks/data_table.ipynb>data table notebook</a>'\n",
              "            + ' to learn more about interactive tables.';\n",
              "          element.innerHTML = '';\n",
              "          dataTable['output_type'] = 'display_data';\n",
              "          await google.colab.output.renderOutput(dataTable, element);\n",
              "          const docLink = document.createElement('div');\n",
              "          docLink.innerHTML = docLinkHtml;\n",
              "          element.appendChild(docLink);\n",
              "        }\n",
              "      </script>\n",
              "    </div>\n",
              "  </div>\n",
              "  "
            ]
          },
          "metadata": {},
          "execution_count": 22
        }
      ],
      "source": [
        "num_atributes.sample(3)"
      ]
    },
    {
      "cell_type": "code",
      "execution_count": 23,
      "metadata": {
        "id": "8ZSyBn-cAxZd"
      },
      "outputs": [],
      "source": [
        "\n",
        "# Central Tendency - mean, median\n",
        "ct1 = pd.DataFrame(num_atributes.apply(np.mean)).T\n",
        "ct2 = pd.DataFrame(num_atributes.apply(np.median)).T\n",
        "\n",
        "# Dispension - std, min, max, range, skew, kurtosis\n",
        "\n",
        "d1 = pd.DataFrame(num_atributes.apply( np.std )).T\n",
        "d2 = pd.DataFrame(num_atributes.apply( min )).T\n",
        "d3 = pd.DataFrame(num_atributes.apply( max )).T\n",
        "d4 = pd.DataFrame(num_atributes.apply( lambda x: x.max() - x.min() )).T\n",
        "d5 = pd.DataFrame(num_atributes.apply( lambda x: x.skew() )).T\n",
        "d6 = pd.DataFrame(num_atributes.apply( lambda x: x.kurtosis() )).T\n",
        "\n",
        "# contatenar as listas\n",
        "m = pd.concat([d2, d3, d4, ct1, ct2, d1, d5, d6]).T.reset_index()\n",
        "m.columns = ['attributes','min', 'max', 'range', 'mean', 'median', 'std', 'skew', 'kurtosis']\n"
      ]
    },
    {
      "cell_type": "code",
      "execution_count": 24,
      "metadata": {
        "colab": {
          "base_uri": "https://localhost:8080/",
          "height": 0
        },
        "id": "7VuHwCTqAxWJ",
        "outputId": "d2e212e3-bfdf-49b1-dd82-89bc5c494e97"
      },
      "outputs": [
        {
          "output_type": "execute_result",
          "data": {
            "text/plain": [
              "                      attributes     min        max      range          mean  \\\n",
              "0                          store     1.0     1115.0     1114.0    558.429727   \n",
              "1                    day_of_week     1.0        7.0        6.0      3.998341   \n",
              "2                          sales     0.0    41551.0    41551.0   5773.818972   \n",
              "3                      customers     0.0     7388.0     7388.0    633.145946   \n",
              "4                           open     0.0        1.0        1.0      0.830107   \n",
              "5                          promo     0.0        1.0        1.0      0.381515   \n",
              "6                 school_holiday     0.0        1.0        1.0      0.178647   \n",
              "7           competition_distance    20.0  2000000.0  1999980.0  10610.588099   \n",
              "8   competition_open_since_month     1.0       12.0       11.0      6.786849   \n",
              "9    competition_open_since_year  1900.0     2015.0      115.0   2010.324840   \n",
              "10                        promo2     0.0        1.0        1.0      0.500564   \n",
              "11             promo2_since_week     1.0       52.0       51.0     23.619033   \n",
              "12             promo2_since_year  2009.0     2015.0        6.0   2012.793297   \n",
              "13                      is_promo     0.0        1.0        1.0      0.159901   \n",
              "\n",
              "    median            std       skew    kurtosis  \n",
              "0    558.0     321.908493  -0.000955   -1.200524  \n",
              "1      4.0       1.997390   0.001593   -1.246873  \n",
              "2   5744.0    3849.924283   0.641460    1.778375  \n",
              "3    609.0     464.411506   1.598650    7.091773  \n",
              "4      1.0       0.375539  -1.758045    1.090723  \n",
              "5      0.0       0.485758   0.487838   -1.762018  \n",
              "6      0.0       0.383056   1.677842    0.815154  \n",
              "7   2330.0  101810.649100  19.378002  375.644405  \n",
              "8      7.0       3.311085  -0.042076   -1.232607  \n",
              "9   2012.0       5.515591  -7.235657  124.071304  \n",
              "10     1.0       0.500000  -0.002255   -1.999999  \n",
              "11    22.0      14.310057   0.178723   -1.184046  \n",
              "12  2013.0       1.662657  -0.784436   -0.210075  \n",
              "13     0.0       0.366514   1.855857    1.444209  "
            ],
            "text/html": [
              "\n",
              "  <div id=\"df-09f2afe8-4f93-44aa-9b79-0d9fe9da106f\">\n",
              "    <div class=\"colab-df-container\">\n",
              "      <div>\n",
              "<style scoped>\n",
              "    .dataframe tbody tr th:only-of-type {\n",
              "        vertical-align: middle;\n",
              "    }\n",
              "\n",
              "    .dataframe tbody tr th {\n",
              "        vertical-align: top;\n",
              "    }\n",
              "\n",
              "    .dataframe thead th {\n",
              "        text-align: right;\n",
              "    }\n",
              "</style>\n",
              "<table border=\"1\" class=\"dataframe\">\n",
              "  <thead>\n",
              "    <tr style=\"text-align: right;\">\n",
              "      <th></th>\n",
              "      <th>attributes</th>\n",
              "      <th>min</th>\n",
              "      <th>max</th>\n",
              "      <th>range</th>\n",
              "      <th>mean</th>\n",
              "      <th>median</th>\n",
              "      <th>std</th>\n",
              "      <th>skew</th>\n",
              "      <th>kurtosis</th>\n",
              "    </tr>\n",
              "  </thead>\n",
              "  <tbody>\n",
              "    <tr>\n",
              "      <th>0</th>\n",
              "      <td>store</td>\n",
              "      <td>1.0</td>\n",
              "      <td>1115.0</td>\n",
              "      <td>1114.0</td>\n",
              "      <td>558.429727</td>\n",
              "      <td>558.0</td>\n",
              "      <td>321.908493</td>\n",
              "      <td>-0.000955</td>\n",
              "      <td>-1.200524</td>\n",
              "    </tr>\n",
              "    <tr>\n",
              "      <th>1</th>\n",
              "      <td>day_of_week</td>\n",
              "      <td>1.0</td>\n",
              "      <td>7.0</td>\n",
              "      <td>6.0</td>\n",
              "      <td>3.998341</td>\n",
              "      <td>4.0</td>\n",
              "      <td>1.997390</td>\n",
              "      <td>0.001593</td>\n",
              "      <td>-1.246873</td>\n",
              "    </tr>\n",
              "    <tr>\n",
              "      <th>2</th>\n",
              "      <td>sales</td>\n",
              "      <td>0.0</td>\n",
              "      <td>41551.0</td>\n",
              "      <td>41551.0</td>\n",
              "      <td>5773.818972</td>\n",
              "      <td>5744.0</td>\n",
              "      <td>3849.924283</td>\n",
              "      <td>0.641460</td>\n",
              "      <td>1.778375</td>\n",
              "    </tr>\n",
              "    <tr>\n",
              "      <th>3</th>\n",
              "      <td>customers</td>\n",
              "      <td>0.0</td>\n",
              "      <td>7388.0</td>\n",
              "      <td>7388.0</td>\n",
              "      <td>633.145946</td>\n",
              "      <td>609.0</td>\n",
              "      <td>464.411506</td>\n",
              "      <td>1.598650</td>\n",
              "      <td>7.091773</td>\n",
              "    </tr>\n",
              "    <tr>\n",
              "      <th>4</th>\n",
              "      <td>open</td>\n",
              "      <td>0.0</td>\n",
              "      <td>1.0</td>\n",
              "      <td>1.0</td>\n",
              "      <td>0.830107</td>\n",
              "      <td>1.0</td>\n",
              "      <td>0.375539</td>\n",
              "      <td>-1.758045</td>\n",
              "      <td>1.090723</td>\n",
              "    </tr>\n",
              "    <tr>\n",
              "      <th>5</th>\n",
              "      <td>promo</td>\n",
              "      <td>0.0</td>\n",
              "      <td>1.0</td>\n",
              "      <td>1.0</td>\n",
              "      <td>0.381515</td>\n",
              "      <td>0.0</td>\n",
              "      <td>0.485758</td>\n",
              "      <td>0.487838</td>\n",
              "      <td>-1.762018</td>\n",
              "    </tr>\n",
              "    <tr>\n",
              "      <th>6</th>\n",
              "      <td>school_holiday</td>\n",
              "      <td>0.0</td>\n",
              "      <td>1.0</td>\n",
              "      <td>1.0</td>\n",
              "      <td>0.178647</td>\n",
              "      <td>0.0</td>\n",
              "      <td>0.383056</td>\n",
              "      <td>1.677842</td>\n",
              "      <td>0.815154</td>\n",
              "    </tr>\n",
              "    <tr>\n",
              "      <th>7</th>\n",
              "      <td>competition_distance</td>\n",
              "      <td>20.0</td>\n",
              "      <td>2000000.0</td>\n",
              "      <td>1999980.0</td>\n",
              "      <td>10610.588099</td>\n",
              "      <td>2330.0</td>\n",
              "      <td>101810.649100</td>\n",
              "      <td>19.378002</td>\n",
              "      <td>375.644405</td>\n",
              "    </tr>\n",
              "    <tr>\n",
              "      <th>8</th>\n",
              "      <td>competition_open_since_month</td>\n",
              "      <td>1.0</td>\n",
              "      <td>12.0</td>\n",
              "      <td>11.0</td>\n",
              "      <td>6.786849</td>\n",
              "      <td>7.0</td>\n",
              "      <td>3.311085</td>\n",
              "      <td>-0.042076</td>\n",
              "      <td>-1.232607</td>\n",
              "    </tr>\n",
              "    <tr>\n",
              "      <th>9</th>\n",
              "      <td>competition_open_since_year</td>\n",
              "      <td>1900.0</td>\n",
              "      <td>2015.0</td>\n",
              "      <td>115.0</td>\n",
              "      <td>2010.324840</td>\n",
              "      <td>2012.0</td>\n",
              "      <td>5.515591</td>\n",
              "      <td>-7.235657</td>\n",
              "      <td>124.071304</td>\n",
              "    </tr>\n",
              "    <tr>\n",
              "      <th>10</th>\n",
              "      <td>promo2</td>\n",
              "      <td>0.0</td>\n",
              "      <td>1.0</td>\n",
              "      <td>1.0</td>\n",
              "      <td>0.500564</td>\n",
              "      <td>1.0</td>\n",
              "      <td>0.500000</td>\n",
              "      <td>-0.002255</td>\n",
              "      <td>-1.999999</td>\n",
              "    </tr>\n",
              "    <tr>\n",
              "      <th>11</th>\n",
              "      <td>promo2_since_week</td>\n",
              "      <td>1.0</td>\n",
              "      <td>52.0</td>\n",
              "      <td>51.0</td>\n",
              "      <td>23.619033</td>\n",
              "      <td>22.0</td>\n",
              "      <td>14.310057</td>\n",
              "      <td>0.178723</td>\n",
              "      <td>-1.184046</td>\n",
              "    </tr>\n",
              "    <tr>\n",
              "      <th>12</th>\n",
              "      <td>promo2_since_year</td>\n",
              "      <td>2009.0</td>\n",
              "      <td>2015.0</td>\n",
              "      <td>6.0</td>\n",
              "      <td>2012.793297</td>\n",
              "      <td>2013.0</td>\n",
              "      <td>1.662657</td>\n",
              "      <td>-0.784436</td>\n",
              "      <td>-0.210075</td>\n",
              "    </tr>\n",
              "    <tr>\n",
              "      <th>13</th>\n",
              "      <td>is_promo</td>\n",
              "      <td>0.0</td>\n",
              "      <td>1.0</td>\n",
              "      <td>1.0</td>\n",
              "      <td>0.159901</td>\n",
              "      <td>0.0</td>\n",
              "      <td>0.366514</td>\n",
              "      <td>1.855857</td>\n",
              "      <td>1.444209</td>\n",
              "    </tr>\n",
              "  </tbody>\n",
              "</table>\n",
              "</div>\n",
              "      <button class=\"colab-df-convert\" onclick=\"convertToInteractive('df-09f2afe8-4f93-44aa-9b79-0d9fe9da106f')\"\n",
              "              title=\"Convert this dataframe to an interactive table.\"\n",
              "              style=\"display:none;\">\n",
              "        \n",
              "  <svg xmlns=\"http://www.w3.org/2000/svg\" height=\"24px\"viewBox=\"0 0 24 24\"\n",
              "       width=\"24px\">\n",
              "    <path d=\"M0 0h24v24H0V0z\" fill=\"none\"/>\n",
              "    <path d=\"M18.56 5.44l.94 2.06.94-2.06 2.06-.94-2.06-.94-.94-2.06-.94 2.06-2.06.94zm-11 1L8.5 8.5l.94-2.06 2.06-.94-2.06-.94L8.5 2.5l-.94 2.06-2.06.94zm10 10l.94 2.06.94-2.06 2.06-.94-2.06-.94-.94-2.06-.94 2.06-2.06.94z\"/><path d=\"M17.41 7.96l-1.37-1.37c-.4-.4-.92-.59-1.43-.59-.52 0-1.04.2-1.43.59L10.3 9.45l-7.72 7.72c-.78.78-.78 2.05 0 2.83L4 21.41c.39.39.9.59 1.41.59.51 0 1.02-.2 1.41-.59l7.78-7.78 2.81-2.81c.8-.78.8-2.07 0-2.86zM5.41 20L4 18.59l7.72-7.72 1.47 1.35L5.41 20z\"/>\n",
              "  </svg>\n",
              "      </button>\n",
              "      \n",
              "  <style>\n",
              "    .colab-df-container {\n",
              "      display:flex;\n",
              "      flex-wrap:wrap;\n",
              "      gap: 12px;\n",
              "    }\n",
              "\n",
              "    .colab-df-convert {\n",
              "      background-color: #E8F0FE;\n",
              "      border: none;\n",
              "      border-radius: 50%;\n",
              "      cursor: pointer;\n",
              "      display: none;\n",
              "      fill: #1967D2;\n",
              "      height: 32px;\n",
              "      padding: 0 0 0 0;\n",
              "      width: 32px;\n",
              "    }\n",
              "\n",
              "    .colab-df-convert:hover {\n",
              "      background-color: #E2EBFA;\n",
              "      box-shadow: 0px 1px 2px rgba(60, 64, 67, 0.3), 0px 1px 3px 1px rgba(60, 64, 67, 0.15);\n",
              "      fill: #174EA6;\n",
              "    }\n",
              "\n",
              "    [theme=dark] .colab-df-convert {\n",
              "      background-color: #3B4455;\n",
              "      fill: #D2E3FC;\n",
              "    }\n",
              "\n",
              "    [theme=dark] .colab-df-convert:hover {\n",
              "      background-color: #434B5C;\n",
              "      box-shadow: 0px 1px 3px 1px rgba(0, 0, 0, 0.15);\n",
              "      filter: drop-shadow(0px 1px 2px rgba(0, 0, 0, 0.3));\n",
              "      fill: #FFFFFF;\n",
              "    }\n",
              "  </style>\n",
              "\n",
              "      <script>\n",
              "        const buttonEl =\n",
              "          document.querySelector('#df-09f2afe8-4f93-44aa-9b79-0d9fe9da106f button.colab-df-convert');\n",
              "        buttonEl.style.display =\n",
              "          google.colab.kernel.accessAllowed ? 'block' : 'none';\n",
              "\n",
              "        async function convertToInteractive(key) {\n",
              "          const element = document.querySelector('#df-09f2afe8-4f93-44aa-9b79-0d9fe9da106f');\n",
              "          const dataTable =\n",
              "            await google.colab.kernel.invokeFunction('convertToInteractive',\n",
              "                                                     [key], {});\n",
              "          if (!dataTable) return;\n",
              "\n",
              "          const docLinkHtml = 'Like what you see? Visit the ' +\n",
              "            '<a target=\"_blank\" href=https://colab.research.google.com/notebooks/data_table.ipynb>data table notebook</a>'\n",
              "            + ' to learn more about interactive tables.';\n",
              "          element.innerHTML = '';\n",
              "          dataTable['output_type'] = 'display_data';\n",
              "          await google.colab.output.renderOutput(dataTable, element);\n",
              "          const docLink = document.createElement('div');\n",
              "          docLink.innerHTML = docLinkHtml;\n",
              "          element.appendChild(docLink);\n",
              "        }\n",
              "      </script>\n",
              "    </div>\n",
              "  </div>\n",
              "  "
            ]
          },
          "metadata": {},
          "execution_count": 24
        }
      ],
      "source": [
        "m"
      ]
    },
    {
      "cell_type": "code",
      "execution_count": 25,
      "metadata": {
        "colab": {
          "base_uri": "https://localhost:8080/",
          "height": 0
        },
        "id": "QyVE6gPoAxPi",
        "outputId": "c1449aba-a2a4-49c4-edff-a1f22bfd1b00"
      },
      "outputs": [
        {
          "output_type": "stream",
          "name": "stderr",
          "text": [
            "/usr/local/lib/python3.8/dist-packages/seaborn/distributions.py:2619: FutureWarning: `distplot` is a deprecated function and will be removed in a future version. Please adapt your code to use either `displot` (a figure-level function with similar flexibility) or `histplot` (an axes-level function for histograms).\n",
            "  warnings.warn(msg, FutureWarning)\n"
          ]
        },
        {
          "output_type": "execute_result",
          "data": {
            "text/plain": [
              "<matplotlib.axes._subplots.AxesSubplot at 0x7efd094b5370>"
            ]
          },
          "metadata": {},
          "execution_count": 25
        },
        {
          "output_type": "display_data",
          "data": {
            "text/plain": [
              "<Figure size 432x288 with 1 Axes>"
            ],
            "image/png": "[encoded data removed]"
          },
          "metadata": {
            "needs_background": "light"
          }
        }
      ],
      "source": [
        "sns.distplot(df1['competition_distance'])"
      ]
    },
    {
      "cell_type": "code",
      "execution_count": 25,
      "metadata": {
        "id": "QSAndfLyIoH6"
      },
      "outputs": [],
      "source": []
    },
    {
      "cell_type": "markdown",
      "metadata": {
        "id": "sjKoGVe_AdGL"
      },
      "source": [
        "#### 1.7.2 Categorical Attributes - Descriptive Statistical "
      ]
    },
    {
      "cell_type": "code",
      "execution_count": 26,
      "metadata": {
        "colab": {
          "base_uri": "https://localhost:8080/"
        },
        "id": "bMABFZ-VmOpQ",
        "outputId": "8e1d5898-e480-474e-bd05-924197651b41"
      },
      "outputs": [
        {
          "output_type": "execute_result",
          "data": {
            "text/plain": [
              "date              942\n",
              "state_holiday       4\n",
              "store_type          4\n",
              "assortment          3\n",
              "promo_interval      4\n",
              "month_map          12\n",
              "dtype: int64"
            ]
          },
          "metadata": {},
          "execution_count": 26
        }
      ],
      "source": [
        "#visualizar quantas variaçoes de cada elemento categorico existem\n",
        "cat_atributes.apply(lambda x: x.unique().shape[0])\n"
      ]
    },
    {
      "cell_type": "code",
      "execution_count": 27,
      "metadata": {
        "colab": {
          "base_uri": "https://localhost:8080/",
          "height": 0
        },
        "id": "yiabLUrNKL1c",
        "outputId": "85ce3fe1-ce4f-4967-d2cf-930ff72ba324"
      },
      "outputs": [
        {
          "output_type": "execute_result",
          "data": {
            "text/plain": [
              "<matplotlib.axes._subplots.AxesSubplot at 0x7efd3445ffa0>"
            ]
          },
          "metadata": {},
          "execution_count": 27
        },
        {
          "output_type": "display_data",
          "data": {
            "text/plain": [
              "<Figure size 432x288 with 3 Axes>"
            ],
            "image/png": "[encoded data removed]"
          },
          "metadata": {
            "needs_background": "light"
          }
        }
      ],
      "source": [
        "aux1 = df1[(df1['state_holiday'] != '0') & (df1['sales'] > 0)]\n",
        "\n",
        "plt.subplot(1, 3, 1)\n",
        "sns.boxplot( x='state_holiday', y='sales', data=aux1)\n",
        "\n",
        "plt.subplot(1, 3, 2)\n",
        "sns.boxplot( x='store_type', y='sales', data=aux1)\n",
        "plt.subplot(1, 3, 3)\n",
        "sns.boxplot( x='assortment', y='sales', data=aux1)"
      ]
    },
    {
      "cell_type": "markdown",
      "metadata": {
        "id": "bRwMBmAkKrjX"
      },
      "source": [
        "## 2.0 Feature Engineering\n"
      ]
    },
    {
      "cell_type": "code",
      "source": [
        "df2 = df1.copy()"
      ],
      "metadata": {
        "id": "ELVMP_KWoH3w"
      },
      "execution_count": 28,
      "outputs": []
    },
    {
      "cell_type": "markdown",
      "source": [
        "### 2.1 Mapa mental de Hipoteses"
      ],
      "metadata": {
        "id": "wB1Qn1-1ew9M"
      }
    },
    {
      "cell_type": "code",
      "execution_count": 29,
      "metadata": {
        "id": "o6qLdg-E_Cbm",
        "colab": {
          "base_uri": "https://localhost:8080/",
          "height": 704
        },
        "outputId": "08b82c76-186c-4a33-c60a-e95ebe252d6b"
      },
      "outputs": [
        {
          "output_type": "execute_result",
          "data": {
            "image/png": "[encoded data removed]",
            "text/plain": [
              "<IPython.core.display.Image object>"
            ]
          },
          "metadata": {},
          "execution_count": 29
        }
      ],
      "source": [
        "Image('/content/drive/MyDrive/Colab Notebooks/Data Science Em Produção/Projeto Rossman Store/img/Mapa Mental de Hipoteses - Rossman Store.png')"
      ]
    },
    {
      "cell_type": "markdown",
      "source": [
        "### 2.2 Criação de Hipoteses"
      ],
      "metadata": {
        "id": "AW8e_D2je46A"
      }
    },
    {
      "cell_type": "markdown",
      "source": [
        "#### 2.2.1 Hipoteses da Loja"
      ],
      "metadata": {
        "id": "6m1NjFkxfPUB"
      }
    },
    {
      "cell_type": "markdown",
      "source": [
        "1. Lojas com maior quadro de funcionarios vendes mais  \n",
        "2. Lojas com maior estoque vendem mais\n",
        "3. Lojas com maior porte deveriam vender mais\n",
        "4. Lojas com menor porte deveriam vender menos\n",
        "5. Lojas com Maior Sortimento deverias vender mais"
      ],
      "metadata": {
        "id": "ZzgwC-79gB0M"
      }
    },
    {
      "cell_type": "markdown",
      "source": [
        "#### 2.2.2 Hipoteses do Produto"
      ],
      "metadata": {
        "id": "yYRtWuu1fV9w"
      }
    },
    {
      "cell_type": "markdown",
      "source": [
        "1. Lojas que investes em marketing deveriam vender mais\n",
        "2. Lojas que investes expoe mais produtos nas vitrines deveriam vender mais\n",
        "3. Lojas que tem menores preços deveriam vender mais\n",
        "4. Lojas que tem preços menores por mais tempo nos produtos deveriam vender mais"
      ],
      "metadata": {
        "id": "1IEaDmLVgnjw"
      }
    },
    {
      "cell_type": "markdown",
      "source": [
        "#### 2.2.3 Hipoteses do Tempo"
      ],
      "metadata": {
        "id": "p7pIm1_ufaaV"
      }
    },
    {
      "cell_type": "markdown",
      "source": [
        "1. Lojas que tem mais feriados deveriam vender menos\n",
        "2. Lojas que abrem nos primeiro 6 meses deveriam vender mais\n",
        "3. Lojas que abrem nos finais de semana deveriam vender mais\n",
        "4. Lojas Deveriam vender mais no segundo semestre do ano"
      ],
      "metadata": {
        "id": "fZyNgJqEgoN0"
      }
    },
    {
      "cell_type": "markdown",
      "source": [
        "### 2.3 Lista de Hipoteses"
      ],
      "metadata": {
        "id": "BZPRmR4xj8Uy"
      }
    },
    {
      "cell_type": "markdown",
      "source": [
        "1. Lojas com Maior Sortimento deverias vender mais\n",
        "2. Lojas com competidores mais proximos deveriam vender menos\n",
        "3. Lojas com competidores à mais tempo deveriam vender mais\n"
      ],
      "metadata": {
        "id": "2-5OJysOkUuN"
      }
    },
    {
      "cell_type": "markdown",
      "source": [
        "1. Lojas com promoções ativas a mais tempo deveriam vender mais\n",
        "2. Lojas com mais dias de promoção deveriam vender mais\n",
        "3. Lojas com mais promoçoes consecutivas deveram vender mais."
      ],
      "metadata": {
        "id": "BhSYNWnKk7Nq"
      }
    },
    {
      "cell_type": "markdown",
      "source": [
        "1. Lojas Abertas durante o feriado de natal deveriam vender mais\n",
        "1. Lojas deveriam vender mais ao longo do anos\n",
        "4. Lojas Deveriam vender mais no segundo semestre do ano\n",
        "1. Lojas deveriam vender mais depois do 10 dia util do mes\n",
        "1. Lojas deveriam vender menos aos finais de semana\n",
        "1. Lojas que tem mais feriados deveriam vender menos\n",
        "1. lojas deveriam vender menos durante os feriados escolares\n",
        "2. Lojas que abrem nos primeiro 6 meses deveriam vender mais\n",
        "3. Lojas que abrem nos finais de semana deveriam vender mais.\n"
      ],
      "metadata": {
        "id": "oCbt1k6ulM3I"
      }
    },
    {
      "cell_type": "markdown",
      "source": [
        "### 2.4 Derivar Features (Feature Engineering)"
      ],
      "metadata": {
        "id": "C6rED5b2oVTz"
      }
    },
    {
      "cell_type": "markdown",
      "source": [],
      "metadata": {
        "id": "sNnGY2_Oopvf"
      }
    },
    {
      "cell_type": "code",
      "execution_count": 30,
      "metadata": {
        "id": "nJlInnFb_CLm"
      },
      "outputs": [],
      "source": [
        "# Variaveis a Derivar:\n",
        "\n",
        "# year\n",
        "df2['year'] = df2['date'].dt.year\n",
        "\n",
        "# month\n",
        "df2['month'] = df2['date'].dt.month\n",
        "\n",
        "# week of year\n",
        "df2['week_of_year'] = df2['date'].dt.isocalendar().week\n",
        "\n",
        "# day\n",
        "df2['day'] = df2['date'].dt.day\n",
        "\n",
        "\n",
        "# year week\n",
        "df2['year_week'] = df2['date'].dt.strftime('%Y-%W')\n",
        "\n",
        "\n",
        "# competition sice\n",
        "df2['competition_since'] = df2.apply( lambda x: datetime.datetime( year=x['competition_open_since_year'], month=x['competition_open_since_month'], day=1 ), axis=1) #quando o tiver mais de uma colunas envolvida, o Axis precisa ser igual a 1, pra passar por todas as colunas\n",
        "df2['competition_time_month'] = ((df2['date'] - df2['competition_since'])/30).apply(lambda x: x.days).astype(int)\n",
        "\n",
        "\n",
        "# promo since\n",
        "df2['promo_since'] = df2['promo2_since_year'].astype(str) + '-' + df2['promo2_since_week'].astype(str)\n",
        "df2['promo_since'] = df2['promo_since'].apply(lambda x: datetime.datetime.strptime(x + '-1', '%Y-%W-%w') - datetime.timedelta(days=7))\n",
        "df2['promo_time_week'] = ((df2['date'] - df2['promo_since']) /7 ).apply(lambda x: x.days).astype(int)\n",
        "\n",
        "# assortment\n",
        "df2['assortment'] = df2['assortment'].apply(lambda x: 'basic' if x == \"a\" else 'extra' if x == \"b\" else 'extended')\n",
        "\n",
        "# state holiday\n",
        "\n",
        "df2['state_holiday'] = df2['state_holiday'].apply(lambda x: 'public_holiday' if x == 'a' else 'easter_holiday' if x == 'b' else 'christmas' if x == 'c' else 'regular_day')\n",
        "\n"
      ]
    },
    {
      "cell_type": "code",
      "execution_count": 31,
      "metadata": {
        "id": "7S_2TRt-_CHW",
        "colab": {
          "base_uri": "https://localhost:8080/",
          "height": 958
        },
        "outputId": "c452bae3-b3f5-420e-8435-a74f839007d5"
      },
      "outputs": [
        {
          "output_type": "execute_result",
          "data": {
            "text/plain": [
              "                                                0                    1  \\\n",
              "store                                           1                    2   \n",
              "day_of_week                                     5                    5   \n",
              "date                          2015-07-31 00:00:00  2015-07-31 00:00:00   \n",
              "sales                                        5263                 6064   \n",
              "customers                                     555                  625   \n",
              "open                                            1                    1   \n",
              "promo                                           1                    1   \n",
              "state_holiday                         regular_day          regular_day   \n",
              "school_holiday                                  1                    1   \n",
              "store_type                                      c                    a   \n",
              "assortment                                  basic                basic   \n",
              "competition_distance                       1270.0                570.0   \n",
              "competition_open_since_month                    9                   11   \n",
              "competition_open_since_year                  2008                 2007   \n",
              "promo2                                          0                    1   \n",
              "promo2_since_week                              31                   13   \n",
              "promo2_since_year                            2015                 2010   \n",
              "promo_interval                                  0      Jan,Apr,Jul,Oct   \n",
              "month_map                                     Jul                  Jul   \n",
              "is_promo                                        0                    1   \n",
              "year                                         2015                 2015   \n",
              "month                                           7                    7   \n",
              "week_of_year                                   31                   31   \n",
              "day                                            31                   31   \n",
              "year_week                                 2015-30              2015-30   \n",
              "competition_since             2008-09-01 00:00:00  2007-11-01 00:00:00   \n",
              "competition_time_month                         84                   94   \n",
              "promo_since                   2015-07-27 00:00:00  2010-03-22 00:00:00   \n",
              "promo_time_week                                 0                  279   \n",
              "\n",
              "                                                2                    3  \\\n",
              "store                                           3                    4   \n",
              "day_of_week                                     5                    5   \n",
              "date                          2015-07-31 00:00:00  2015-07-31 00:00:00   \n",
              "sales                                        8314                13995   \n",
              "customers                                     821                 1498   \n",
              "open                                            1                    1   \n",
              "promo                                           1                    1   \n",
              "state_holiday                         regular_day          regular_day   \n",
              "school_holiday                                  1                    1   \n",
              "store_type                                      a                    c   \n",
              "assortment                                  basic             extended   \n",
              "competition_distance                      14130.0                620.0   \n",
              "competition_open_since_month                   12                    9   \n",
              "competition_open_since_year                  2006                 2009   \n",
              "promo2                                          1                    0   \n",
              "promo2_since_week                              14                   31   \n",
              "promo2_since_year                            2011                 2015   \n",
              "promo_interval                    Jan,Apr,Jul,Oct                    0   \n",
              "month_map                                     Jul                  Jul   \n",
              "is_promo                                        1                    0   \n",
              "year                                         2015                 2015   \n",
              "month                                           7                    7   \n",
              "week_of_year                                   31                   31   \n",
              "day                                            31                   31   \n",
              "year_week                                 2015-30              2015-30   \n",
              "competition_since             2006-12-01 00:00:00  2009-09-01 00:00:00   \n",
              "competition_time_month                        105                   71   \n",
              "promo_since                   2011-03-28 00:00:00  2015-07-27 00:00:00   \n",
              "promo_time_week                               226                    0   \n",
              "\n",
              "                                                4  \n",
              "store                                           5  \n",
              "day_of_week                                     5  \n",
              "date                          2015-07-31 00:00:00  \n",
              "sales                                        4822  \n",
              "customers                                     559  \n",
              "open                                            1  \n",
              "promo                                           1  \n",
              "state_holiday                         regular_day  \n",
              "school_holiday                                  1  \n",
              "store_type                                      a  \n",
              "assortment                                  basic  \n",
              "competition_distance                      29910.0  \n",
              "competition_open_since_month                    4  \n",
              "competition_open_since_year                  2015  \n",
              "promo2                                          0  \n",
              "promo2_since_week                              31  \n",
              "promo2_since_year                            2015  \n",
              "promo_interval                                  0  \n",
              "month_map                                     Jul  \n",
              "is_promo                                        0  \n",
              "year                                         2015  \n",
              "month                                           7  \n",
              "week_of_year                                   31  \n",
              "day                                            31  \n",
              "year_week                                 2015-30  \n",
              "competition_since             2015-04-01 00:00:00  \n",
              "competition_time_month                          4  \n",
              "promo_since                   2015-07-27 00:00:00  \n",
              "promo_time_week                                 0  "
            ],
            "text/html": [
              "\n",
              "  <div id=\"df-7aad3adf-86ff-4e13-b00a-d78a9e428c32\">\n",
              "    <div class=\"colab-df-container\">\n",
              "      <div>\n",
              "<style scoped>\n",
              "    .dataframe tbody tr th:only-of-type {\n",
              "        vertical-align: middle;\n",
              "    }\n",
              "\n",
              "    .dataframe tbody tr th {\n",
              "        vertical-align: top;\n",
              "    }\n",
              "\n",
              "    .dataframe thead th {\n",
              "        text-align: right;\n",
              "    }\n",
              "</style>\n",
              "<table border=\"1\" class=\"dataframe\">\n",
              "  <thead>\n",
              "    <tr style=\"text-align: right;\">\n",
              "      <th></th>\n",
              "      <th>0</th>\n",
              "      <th>1</th>\n",
              "      <th>2</th>\n",
              "      <th>3</th>\n",
              "      <th>4</th>\n",
              "    </tr>\n",
              "  </thead>\n",
              "  <tbody>\n",
              "    <tr>\n",
              "      <th>store</th>\n",
              "      <td>1</td>\n",
              "      <td>2</td>\n",
              "      <td>3</td>\n",
              "      <td>4</td>\n",
              "      <td>5</td>\n",
              "    </tr>\n",
              "    <tr>\n",
              "      <th>day_of_week</th>\n",
              "      <td>5</td>\n",
              "      <td>5</td>\n",
              "      <td>5</td>\n",
              "      <td>5</td>\n",
              "      <td>5</td>\n",
              "    </tr>\n",
              "    <tr>\n",
              "      <th>date</th>\n",
              "      <td>2015-07-31 00:00:00</td>\n",
              "      <td>2015-07-31 00:00:00</td>\n",
              "      <td>2015-07-31 00:00:00</td>\n",
              "      <td>2015-07-31 00:00:00</td>\n",
              "      <td>2015-07-31 00:00:00</td>\n",
              "    </tr>\n",
              "    <tr>\n",
              "      <th>sales</th>\n",
              "      <td>5263</td>\n",
              "      <td>6064</td>\n",
              "      <td>8314</td>\n",
              "      <td>13995</td>\n",
              "      <td>4822</td>\n",
              "    </tr>\n",
              "    <tr>\n",
              "      <th>customers</th>\n",
              "      <td>555</td>\n",
              "      <td>625</td>\n",
              "      <td>821</td>\n",
              "      <td>1498</td>\n",
              "      <td>559</td>\n",
              "    </tr>\n",
              "    <tr>\n",
              "      <th>open</th>\n",
              "      <td>1</td>\n",
              "      <td>1</td>\n",
              "      <td>1</td>\n",
              "      <td>1</td>\n",
              "      <td>1</td>\n",
              "    </tr>\n",
              "    <tr>\n",
              "      <th>promo</th>\n",
              "      <td>1</td>\n",
              "      <td>1</td>\n",
              "      <td>1</td>\n",
              "      <td>1</td>\n",
              "      <td>1</td>\n",
              "    </tr>\n",
              "    <tr>\n",
              "      <th>state_holiday</th>\n",
              "      <td>regular_day</td>\n",
              "      <td>regular_day</td>\n",
              "      <td>regular_day</td>\n",
              "      <td>regular_day</td>\n",
              "      <td>regular_day</td>\n",
              "    </tr>\n",
              "    <tr>\n",
              "      <th>school_holiday</th>\n",
              "      <td>1</td>\n",
              "      <td>1</td>\n",
              "      <td>1</td>\n",
              "      <td>1</td>\n",
              "      <td>1</td>\n",
              "    </tr>\n",
              "    <tr>\n",
              "      <th>store_type</th>\n",
              "      <td>c</td>\n",
              "      <td>a</td>\n",
              "      <td>a</td>\n",
              "      <td>c</td>\n",
              "      <td>a</td>\n",
              "    </tr>\n",
              "    <tr>\n",
              "      <th>assortment</th>\n",
              "      <td>basic</td>\n",
              "      <td>basic</td>\n",
              "      <td>basic</td>\n",
              "      <td>extended</td>\n",
              "      <td>basic</td>\n",
              "    </tr>\n",
              "    <tr>\n",
              "      <th>competition_distance</th>\n",
              "      <td>1270.0</td>\n",
              "      <td>570.0</td>\n",
              "      <td>14130.0</td>\n",
              "      <td>620.0</td>\n",
              "      <td>29910.0</td>\n",
              "    </tr>\n",
              "    <tr>\n",
              "      <th>competition_open_since_month</th>\n",
              "      <td>9</td>\n",
              "      <td>11</td>\n",
              "      <td>12</td>\n",
              "      <td>9</td>\n",
              "      <td>4</td>\n",
              "    </tr>\n",
              "    <tr>\n",
              "      <th>competition_open_since_year</th>\n",
              "      <td>2008</td>\n",
              "      <td>2007</td>\n",
              "      <td>2006</td>\n",
              "      <td>2009</td>\n",
              "      <td>2015</td>\n",
              "    </tr>\n",
              "    <tr>\n",
              "      <th>promo2</th>\n",
              "      <td>0</td>\n",
              "      <td>1</td>\n",
              "      <td>1</td>\n",
              "      <td>0</td>\n",
              "      <td>0</td>\n",
              "    </tr>\n",
              "    <tr>\n",
              "      <th>promo2_since_week</th>\n",
              "      <td>31</td>\n",
              "      <td>13</td>\n",
              "      <td>14</td>\n",
              "      <td>31</td>\n",
              "      <td>31</td>\n",
              "    </tr>\n",
              "    <tr>\n",
              "      <th>promo2_since_year</th>\n",
              "      <td>2015</td>\n",
              "      <td>2010</td>\n",
              "      <td>2011</td>\n",
              "      <td>2015</td>\n",
              "      <td>2015</td>\n",
              "    </tr>\n",
              "    <tr>\n",
              "      <th>promo_interval</th>\n",
              "      <td>0</td>\n",
              "      <td>Jan,Apr,Jul,Oct</td>\n",
              "      <td>Jan,Apr,Jul,Oct</td>\n",
              "      <td>0</td>\n",
              "      <td>0</td>\n",
              "    </tr>\n",
              "    <tr>\n",
              "      <th>month_map</th>\n",
              "      <td>Jul</td>\n",
              "      <td>Jul</td>\n",
              "      <td>Jul</td>\n",
              "      <td>Jul</td>\n",
              "      <td>Jul</td>\n",
              "    </tr>\n",
              "    <tr>\n",
              "      <th>is_promo</th>\n",
              "      <td>0</td>\n",
              "      <td>1</td>\n",
              "      <td>1</td>\n",
              "      <td>0</td>\n",
              "      <td>0</td>\n",
              "    </tr>\n",
              "    <tr>\n",
              "      <th>year</th>\n",
              "      <td>2015</td>\n",
              "      <td>2015</td>\n",
              "      <td>2015</td>\n",
              "      <td>2015</td>\n",
              "      <td>2015</td>\n",
              "    </tr>\n",
              "    <tr>\n",
              "      <th>month</th>\n",
              "      <td>7</td>\n",
              "      <td>7</td>\n",
              "      <td>7</td>\n",
              "      <td>7</td>\n",
              "      <td>7</td>\n",
              "    </tr>\n",
              "    <tr>\n",
              "      <th>week_of_year</th>\n",
              "      <td>31</td>\n",
              "      <td>31</td>\n",
              "      <td>31</td>\n",
              "      <td>31</td>\n",
              "      <td>31</td>\n",
              "    </tr>\n",
              "    <tr>\n",
              "      <th>day</th>\n",
              "      <td>31</td>\n",
              "      <td>31</td>\n",
              "      <td>31</td>\n",
              "      <td>31</td>\n",
              "      <td>31</td>\n",
              "    </tr>\n",
              "    <tr>\n",
              "      <th>year_week</th>\n",
              "      <td>2015-30</td>\n",
              "      <td>2015-30</td>\n",
              "      <td>2015-30</td>\n",
              "      <td>2015-30</td>\n",
              "      <td>2015-30</td>\n",
              "    </tr>\n",
              "    <tr>\n",
              "      <th>competition_since</th>\n",
              "      <td>2008-09-01 00:00:00</td>\n",
              "      <td>2007-11-01 00:00:00</td>\n",
              "      <td>2006-12-01 00:00:00</td>\n",
              "      <td>2009-09-01 00:00:00</td>\n",
              "      <td>2015-04-01 00:00:00</td>\n",
              "    </tr>\n",
              "    <tr>\n",
              "      <th>competition_time_month</th>\n",
              "      <td>84</td>\n",
              "      <td>94</td>\n",
              "      <td>105</td>\n",
              "      <td>71</td>\n",
              "      <td>4</td>\n",
              "    </tr>\n",
              "    <tr>\n",
              "      <th>promo_since</th>\n",
              "      <td>2015-07-27 00:00:00</td>\n",
              "      <td>2010-03-22 00:00:00</td>\n",
              "      <td>2011-03-28 00:00:00</td>\n",
              "      <td>2015-07-27 00:00:00</td>\n",
              "      <td>2015-07-27 00:00:00</td>\n",
              "    </tr>\n",
              "    <tr>\n",
              "      <th>promo_time_week</th>\n",
              "      <td>0</td>\n",
              "      <td>279</td>\n",
              "      <td>226</td>\n",
              "      <td>0</td>\n",
              "      <td>0</td>\n",
              "    </tr>\n",
              "  </tbody>\n",
              "</table>\n",
              "</div>\n",
              "      <button class=\"colab-df-convert\" onclick=\"convertToInteractive('df-7aad3adf-86ff-4e13-b00a-d78a9e428c32')\"\n",
              "              title=\"Convert this dataframe to an interactive table.\"\n",
              "              style=\"display:none;\">\n",
              "        \n",
              "  <svg xmlns=\"http://www.w3.org/2000/svg\" height=\"24px\"viewBox=\"0 0 24 24\"\n",
              "       width=\"24px\">\n",
              "    <path d=\"M0 0h24v24H0V0z\" fill=\"none\"/>\n",
              "    <path d=\"M18.56 5.44l.94 2.06.94-2.06 2.06-.94-2.06-.94-.94-2.06-.94 2.06-2.06.94zm-11 1L8.5 8.5l.94-2.06 2.06-.94-2.06-.94L8.5 2.5l-.94 2.06-2.06.94zm10 10l.94 2.06.94-2.06 2.06-.94-2.06-.94-.94-2.06-.94 2.06-2.06.94z\"/><path d=\"M17.41 7.96l-1.37-1.37c-.4-.4-.92-.59-1.43-.59-.52 0-1.04.2-1.43.59L10.3 9.45l-7.72 7.72c-.78.78-.78 2.05 0 2.83L4 21.41c.39.39.9.59 1.41.59.51 0 1.02-.2 1.41-.59l7.78-7.78 2.81-2.81c.8-.78.8-2.07 0-2.86zM5.41 20L4 18.59l7.72-7.72 1.47 1.35L5.41 20z\"/>\n",
              "  </svg>\n",
              "      </button>\n",
              "      \n",
              "  <style>\n",
              "    .colab-df-container {\n",
              "      display:flex;\n",
              "      flex-wrap:wrap;\n",
              "      gap: 12px;\n",
              "    }\n",
              "\n",
              "    .colab-df-convert {\n",
              "      background-color: #E8F0FE;\n",
              "      border: none;\n",
              "      border-radius: 50%;\n",
              "      cursor: pointer;\n",
              "      display: none;\n",
              "      fill: #1967D2;\n",
              "      height: 32px;\n",
              "      padding: 0 0 0 0;\n",
              "      width: 32px;\n",
              "    }\n",
              "\n",
              "    .colab-df-convert:hover {\n",
              "      background-color: #E2EBFA;\n",
              "      box-shadow: 0px 1px 2px rgba(60, 64, 67, 0.3), 0px 1px 3px 1px rgba(60, 64, 67, 0.15);\n",
              "      fill: #174EA6;\n",
              "    }\n",
              "\n",
              "    [theme=dark] .colab-df-convert {\n",
              "      background-color: #3B4455;\n",
              "      fill: #D2E3FC;\n",
              "    }\n",
              "\n",
              "    [theme=dark] .colab-df-convert:hover {\n",
              "      background-color: #434B5C;\n",
              "      box-shadow: 0px 1px 3px 1px rgba(0, 0, 0, 0.15);\n",
              "      filter: drop-shadow(0px 1px 2px rgba(0, 0, 0, 0.3));\n",
              "      fill: #FFFFFF;\n",
              "    }\n",
              "  </style>\n",
              "\n",
              "      <script>\n",
              "        const buttonEl =\n",
              "          document.querySelector('#df-7aad3adf-86ff-4e13-b00a-d78a9e428c32 button.colab-df-convert');\n",
              "        buttonEl.style.display =\n",
              "          google.colab.kernel.accessAllowed ? 'block' : 'none';\n",
              "\n",
              "        async function convertToInteractive(key) {\n",
              "          const element = document.querySelector('#df-7aad3adf-86ff-4e13-b00a-d78a9e428c32');\n",
              "          const dataTable =\n",
              "            await google.colab.kernel.invokeFunction('convertToInteractive',\n",
              "                                                     [key], {});\n",
              "          if (!dataTable) return;\n",
              "\n",
              "          const docLinkHtml = 'Like what you see? Visit the ' +\n",
              "            '<a target=\"_blank\" href=https://colab.research.google.com/notebooks/data_table.ipynb>data table notebook</a>'\n",
              "            + ' to learn more about interactive tables.';\n",
              "          element.innerHTML = '';\n",
              "          dataTable['output_type'] = 'display_data';\n",
              "          await google.colab.output.renderOutput(dataTable, element);\n",
              "          const docLink = document.createElement('div');\n",
              "          docLink.innerHTML = docLinkHtml;\n",
              "          element.appendChild(docLink);\n",
              "        }\n",
              "      </script>\n",
              "    </div>\n",
              "  </div>\n",
              "  "
            ]
          },
          "metadata": {},
          "execution_count": 31
        }
      ],
      "source": [
        "df2.head().T"
      ]
    },
    {
      "cell_type": "code",
      "execution_count": 32,
      "metadata": {
        "id": "ZomEZ7xw_B0s",
        "colab": {
          "base_uri": "https://localhost:8080/"
        },
        "outputId": "51cceb0f-567c-42bc-b1f1-fdb8ad44179a"
      },
      "outputs": [
        {
          "output_type": "execute_result",
          "data": {
            "text/plain": [
              "store                                    int64\n",
              "day_of_week                              int64\n",
              "date                            datetime64[ns]\n",
              "sales                                    int64\n",
              "customers                                int64\n",
              "open                                     int64\n",
              "promo                                    int64\n",
              "state_holiday                           object\n",
              "school_holiday                           int64\n",
              "store_type                              object\n",
              "assortment                              object\n",
              "competition_distance                   float64\n",
              "competition_open_since_month             int64\n",
              "competition_open_since_year              int64\n",
              "promo2                                   int64\n",
              "promo2_since_week                        int64\n",
              "promo2_since_year                        int64\n",
              "promo_interval                          object\n",
              "month_map                               object\n",
              "is_promo                                 int64\n",
              "year                                     int64\n",
              "month                                    int64\n",
              "week_of_year                            UInt32\n",
              "day                                      int64\n",
              "year_week                               object\n",
              "competition_since               datetime64[ns]\n",
              "competition_time_month                   int64\n",
              "promo_since                     datetime64[ns]\n",
              "promo_time_week                          int64\n",
              "dtype: object"
            ]
          },
          "metadata": {},
          "execution_count": 32
        }
      ],
      "source": [
        "df2.dtypes"
      ]
    },
    {
      "cell_type": "code",
      "execution_count": 32,
      "metadata": {
        "id": "XDNW3OgC_Bwh"
      },
      "outputs": [],
      "source": []
    },
    {
      "cell_type": "code",
      "execution_count": 32,
      "metadata": {
        "id": "PFuZW2f7_BV-"
      },
      "outputs": [],
      "source": []
    },
    {
      "cell_type": "markdown",
      "source": [],
      "metadata": {
        "id": "lcTyCCdNojx8"
      }
    },
    {
      "cell_type": "markdown",
      "source": [
        "## 3.0 Filtragem de Variaveis"
      ],
      "metadata": {
        "id": "NOnBQlChomPJ"
      }
    },
    {
      "cell_type": "code",
      "source": [
        "df3 = df2.copy()"
      ],
      "metadata": {
        "id": "CZ24er1cosBA"
      },
      "execution_count": 33,
      "outputs": []
    },
    {
      "cell_type": "code",
      "source": [
        "df3.head()"
      ],
      "metadata": {
        "colab": {
          "base_uri": "https://localhost:8080/",
          "height": 0
        },
        "id": "3zYsW0Skp5S3",
        "outputId": "8881db01-5ba5-4a95-fce9-66f573d10aab"
      },
      "execution_count": 34,
      "outputs": [
        {
          "output_type": "execute_result",
          "data": {
            "text/plain": [
              "   store  day_of_week       date  sales  customers  open  promo state_holiday  \\\n",
              "0      1            5 2015-07-31   5263        555     1      1   regular_day   \n",
              "1      2            5 2015-07-31   6064        625     1      1   regular_day   \n",
              "2      3            5 2015-07-31   8314        821     1      1   regular_day   \n",
              "3      4            5 2015-07-31  13995       1498     1      1   regular_day   \n",
              "4      5            5 2015-07-31   4822        559     1      1   regular_day   \n",
              "\n",
              "   school_holiday store_type  ... is_promo  year  month  week_of_year  day  \\\n",
              "0               1          c  ...        0  2015      7            31   31   \n",
              "1               1          a  ...        1  2015      7            31   31   \n",
              "2               1          a  ...        1  2015      7            31   31   \n",
              "3               1          c  ...        0  2015      7            31   31   \n",
              "4               1          a  ...        0  2015      7            31   31   \n",
              "\n",
              "   year_week  competition_since competition_time_month promo_since  \\\n",
              "0    2015-30         2008-09-01                     84  2015-07-27   \n",
              "1    2015-30         2007-11-01                     94  2010-03-22   \n",
              "2    2015-30         2006-12-01                    105  2011-03-28   \n",
              "3    2015-30         2009-09-01                     71  2015-07-27   \n",
              "4    2015-30         2015-04-01                      4  2015-07-27   \n",
              "\n",
              "   promo_time_week  \n",
              "0                0  \n",
              "1              279  \n",
              "2              226  \n",
              "3                0  \n",
              "4                0  \n",
              "\n",
              "[5 rows x 29 columns]"
            ],
            "text/html": [
              "\n",
              "  <div id=\"df-08473019-f24f-4f0e-8b6d-8de72252fffd\">\n",
              "    <div class=\"colab-df-container\">\n",
              "      <div>\n",
              "<style scoped>\n",
              "    .dataframe tbody tr th:only-of-type {\n",
              "        vertical-align: middle;\n",
              "    }\n",
              "\n",
              "    .dataframe tbody tr th {\n",
              "        vertical-align: top;\n",
              "    }\n",
              "\n",
              "    .dataframe thead th {\n",
              "        text-align: right;\n",
              "    }\n",
              "</style>\n",
              "<table border=\"1\" class=\"dataframe\">\n",
              "  <thead>\n",
              "    <tr style=\"text-align: right;\">\n",
              "      <th></th>\n",
              "      <th>store</th>\n",
              "      <th>day_of_week</th>\n",
              "      <th>date</th>\n",
              "      <th>sales</th>\n",
              "      <th>customers</th>\n",
              "      <th>open</th>\n",
              "      <th>promo</th>\n",
              "      <th>state_holiday</th>\n",
              "      <th>school_holiday</th>\n",
              "      <th>store_type</th>\n",
              "      <th>...</th>\n",
              "      <th>is_promo</th>\n",
              "      <th>year</th>\n",
              "      <th>month</th>\n",
              "      <th>week_of_year</th>\n",
              "      <th>day</th>\n",
              "      <th>year_week</th>\n",
              "      <th>competition_since</th>\n",
              "      <th>competition_time_month</th>\n",
              "      <th>promo_since</th>\n",
              "      <th>promo_time_week</th>\n",
              "    </tr>\n",
              "  </thead>\n",
              "  <tbody>\n",
              "    <tr>\n",
              "      <th>0</th>\n",
              "      <td>1</td>\n",
              "      <td>5</td>\n",
              "      <td>2015-07-31</td>\n",
              "      <td>5263</td>\n",
              "      <td>555</td>\n",
              "      <td>1</td>\n",
              "      <td>1</td>\n",
              "      <td>regular_day</td>\n",
              "      <td>1</td>\n",
              "      <td>c</td>\n",
              "      <td>...</td>\n",
              "      <td>0</td>\n",
              "      <td>2015</td>\n",
              "      <td>7</td>\n",
              "      <td>31</td>\n",
              "      <td>31</td>\n",
              "      <td>2015-30</td>\n",
              "      <td>2008-09-01</td>\n",
              "      <td>84</td>\n",
              "      <td>2015-07-27</td>\n",
              "      <td>0</td>\n",
              "    </tr>\n",
              "    <tr>\n",
              "      <th>1</th>\n",
              "      <td>2</td>\n",
              "      <td>5</td>\n",
              "      <td>2015-07-31</td>\n",
              "      <td>6064</td>\n",
              "      <td>625</td>\n",
              "      <td>1</td>\n",
              "      <td>1</td>\n",
              "      <td>regular_day</td>\n",
              "      <td>1</td>\n",
              "      <td>a</td>\n",
              "      <td>...</td>\n",
              "      <td>1</td>\n",
              "      <td>2015</td>\n",
              "      <td>7</td>\n",
              "      <td>31</td>\n",
              "      <td>31</td>\n",
              "      <td>2015-30</td>\n",
              "      <td>2007-11-01</td>\n",
              "      <td>94</td>\n",
              "      <td>2010-03-22</td>\n",
              "      <td>279</td>\n",
              "    </tr>\n",
              "    <tr>\n",
              "      <th>2</th>\n",
              "      <td>3</td>\n",
              "      <td>5</td>\n",
              "      <td>2015-07-31</td>\n",
              "      <td>8314</td>\n",
              "      <td>821</td>\n",
              "      <td>1</td>\n",
              "      <td>1</td>\n",
              "      <td>regular_day</td>\n",
              "      <td>1</td>\n",
              "      <td>a</td>\n",
              "      <td>...</td>\n",
              "      <td>1</td>\n",
              "      <td>2015</td>\n",
              "      <td>7</td>\n",
              "      <td>31</td>\n",
              "      <td>31</td>\n",
              "      <td>2015-30</td>\n",
              "      <td>2006-12-01</td>\n",
              "      <td>105</td>\n",
              "      <td>2011-03-28</td>\n",
              "      <td>226</td>\n",
              "    </tr>\n",
              "    <tr>\n",
              "      <th>3</th>\n",
              "      <td>4</td>\n",
              "      <td>5</td>\n",
              "      <td>2015-07-31</td>\n",
              "      <td>13995</td>\n",
              "      <td>1498</td>\n",
              "      <td>1</td>\n",
              "      <td>1</td>\n",
              "      <td>regular_day</td>\n",
              "      <td>1</td>\n",
              "      <td>c</td>\n",
              "      <td>...</td>\n",
              "      <td>0</td>\n",
              "      <td>2015</td>\n",
              "      <td>7</td>\n",
              "      <td>31</td>\n",
              "      <td>31</td>\n",
              "      <td>2015-30</td>\n",
              "      <td>2009-09-01</td>\n",
              "      <td>71</td>\n",
              "      <td>2015-07-27</td>\n",
              "      <td>0</td>\n",
              "    </tr>\n",
              "    <tr>\n",
              "      <th>4</th>\n",
              "      <td>5</td>\n",
              "      <td>5</td>\n",
              "      <td>2015-07-31</td>\n",
              "      <td>4822</td>\n",
              "      <td>559</td>\n",
              "      <td>1</td>\n",
              "      <td>1</td>\n",
              "      <td>regular_day</td>\n",
              "      <td>1</td>\n",
              "      <td>a</td>\n",
              "      <td>...</td>\n",
              "      <td>0</td>\n",
              "      <td>2015</td>\n",
              "      <td>7</td>\n",
              "      <td>31</td>\n",
              "      <td>31</td>\n",
              "      <td>2015-30</td>\n",
              "      <td>2015-04-01</td>\n",
              "      <td>4</td>\n",
              "      <td>2015-07-27</td>\n",
              "      <td>0</td>\n",
              "    </tr>\n",
              "  </tbody>\n",
              "</table>\n",
              "<p>5 rows × 29 columns</p>\n",
              "</div>\n",
              "      <button class=\"colab-df-convert\" onclick=\"convertToInteractive('df-08473019-f24f-4f0e-8b6d-8de72252fffd')\"\n",
              "              title=\"Convert this dataframe to an interactive table.\"\n",
              "              style=\"display:none;\">\n",
              "        \n",
              "  <svg xmlns=\"http://www.w3.org/2000/svg\" height=\"24px\"viewBox=\"0 0 24 24\"\n",
              "       width=\"24px\">\n",
              "    <path d=\"M0 0h24v24H0V0z\" fill=\"none\"/>\n",
              "    <path d=\"M18.56 5.44l.94 2.06.94-2.06 2.06-.94-2.06-.94-.94-2.06-.94 2.06-2.06.94zm-11 1L8.5 8.5l.94-2.06 2.06-.94-2.06-.94L8.5 2.5l-.94 2.06-2.06.94zm10 10l.94 2.06.94-2.06 2.06-.94-2.06-.94-.94-2.06-.94 2.06-2.06.94z\"/><path d=\"M17.41 7.96l-1.37-1.37c-.4-.4-.92-.59-1.43-.59-.52 0-1.04.2-1.43.59L10.3 9.45l-7.72 7.72c-.78.78-.78 2.05 0 2.83L4 21.41c.39.39.9.59 1.41.59.51 0 1.02-.2 1.41-.59l7.78-7.78 2.81-2.81c.8-.78.8-2.07 0-2.86zM5.41 20L4 18.59l7.72-7.72 1.47 1.35L5.41 20z\"/>\n",
              "  </svg>\n",
              "      </button>\n",
              "      \n",
              "  <style>\n",
              "    .colab-df-container {\n",
              "      display:flex;\n",
              "      flex-wrap:wrap;\n",
              "      gap: 12px;\n",
              "    }\n",
              "\n",
              "    .colab-df-convert {\n",
              "      background-color: #E8F0FE;\n",
              "      border: none;\n",
              "      border-radius: 50%;\n",
              "      cursor: pointer;\n",
              "      display: none;\n",
              "      fill: #1967D2;\n",
              "      height: 32px;\n",
              "      padding: 0 0 0 0;\n",
              "      width: 32px;\n",
              "    }\n",
              "\n",
              "    .colab-df-convert:hover {\n",
              "      background-color: #E2EBFA;\n",
              "      box-shadow: 0px 1px 2px rgba(60, 64, 67, 0.3), 0px 1px 3px 1px rgba(60, 64, 67, 0.15);\n",
              "      fill: #174EA6;\n",
              "    }\n",
              "\n",
              "    [theme=dark] .colab-df-convert {\n",
              "      background-color: #3B4455;\n",
              "      fill: #D2E3FC;\n",
              "    }\n",
              "\n",
              "    [theme=dark] .colab-df-convert:hover {\n",
              "      background-color: #434B5C;\n",
              "      box-shadow: 0px 1px 3px 1px rgba(0, 0, 0, 0.15);\n",
              "      filter: drop-shadow(0px 1px 2px rgba(0, 0, 0, 0.3));\n",
              "      fill: #FFFFFF;\n",
              "    }\n",
              "  </style>\n",
              "\n",
              "      <script>\n",
              "        const buttonEl =\n",
              "          document.querySelector('#df-08473019-f24f-4f0e-8b6d-8de72252fffd button.colab-df-convert');\n",
              "        buttonEl.style.display =\n",
              "          google.colab.kernel.accessAllowed ? 'block' : 'none';\n",
              "\n",
              "        async function convertToInteractive(key) {\n",
              "          const element = document.querySelector('#df-08473019-f24f-4f0e-8b6d-8de72252fffd');\n",
              "          const dataTable =\n",
              "            await google.colab.kernel.invokeFunction('convertToInteractive',\n",
              "                                                     [key], {});\n",
              "          if (!dataTable) return;\n",
              "\n",
              "          const docLinkHtml = 'Like what you see? Visit the ' +\n",
              "            '<a target=\"_blank\" href=https://colab.research.google.com/notebooks/data_table.ipynb>data table notebook</a>'\n",
              "            + ' to learn more about interactive tables.';\n",
              "          element.innerHTML = '';\n",
              "          dataTable['output_type'] = 'display_data';\n",
              "          await google.colab.output.renderOutput(dataTable, element);\n",
              "          const docLink = document.createElement('div');\n",
              "          docLink.innerHTML = docLinkHtml;\n",
              "          element.appendChild(docLink);\n",
              "        }\n",
              "      </script>\n",
              "    </div>\n",
              "  </div>\n",
              "  "
            ]
          },
          "metadata": {},
          "execution_count": 34
        }
      ]
    },
    {
      "cell_type": "markdown",
      "source": [
        "### 3.1 Filtragem das linhas"
      ],
      "metadata": {
        "id": "3Huicvcmpt2j"
      }
    },
    {
      "cell_type": "code",
      "source": [
        "df3 = df3[(df3['open'] != 0) & (df3['sales'] > 0)] \n"
      ],
      "metadata": {
        "id": "Z31ZpQp2or9w"
      },
      "execution_count": 35,
      "outputs": []
    },
    {
      "cell_type": "markdown",
      "source": [
        "### 3.2 Seleção das Colunas"
      ],
      "metadata": {
        "id": "gPgnKm-OpxxB"
      }
    },
    {
      "cell_type": "code",
      "source": [
        "cols_drop = ['customers', 'open', 'month_map', 'promo_interval']\n",
        "df3 = df3.drop(cols_drop, axis=1)\n"
      ],
      "metadata": {
        "id": "AuyUYauWorrg"
      },
      "execution_count": 36,
      "outputs": []
    },
    {
      "cell_type": "markdown",
      "source": [
        "# 4.0 Analise Exploratoria dos Dados (EDA)"
      ],
      "metadata": {
        "id": "ukY58um4RAYb"
      }
    },
    {
      "cell_type": "code",
      "source": [
        "df4 = df3.copy()"
      ],
      "metadata": {
        "id": "NzCvlrC_RILg"
      },
      "execution_count": 37,
      "outputs": []
    },
    {
      "cell_type": "markdown",
      "source": [
        "## 4.1 Analise Univaridada\n"
      ],
      "metadata": {
        "id": "MSx9eY0zSAOo"
      }
    },
    {
      "cell_type": "markdown",
      "source": [
        "### 4.1.1 Response Variable"
      ],
      "metadata": {
        "id": "2eKFLjRVSgdZ"
      }
    },
    {
      "cell_type": "code",
      "source": [
        "sns.distplot(df4['sales'])\n",
        "\n",
        "# Analise do Grafico Resultante:\n",
        "## Tem formato de sino\n",
        "## Tem [Curtose]\n",
        "## Tem [Skew] pra esquerda, Logo é positiva\n",
        "## Pode Nao estar centrada, mas é um problema problemas\n",
        "## Está bem proxima à [Normal], mas nao é [Normal]"
      ],
      "metadata": {
        "colab": {
          "base_uri": "https://localhost:8080/",
          "height": 354
        },
        "id": "tt7rJXj5S0zm",
        "outputId": "656f36be-1157-4842-f35d-8b2f9764cf1d"
      },
      "execution_count": 38,
      "outputs": [
        {
          "output_type": "stream",
          "name": "stderr",
          "text": [
            "/usr/local/lib/python3.8/dist-packages/seaborn/distributions.py:2619: FutureWarning: `distplot` is a deprecated function and will be removed in a future version. Please adapt your code to use either `displot` (a figure-level function with similar flexibility) or `histplot` (an axes-level function for histograms).\n",
            "  warnings.warn(msg, FutureWarning)\n"
          ]
        },
        {
          "output_type": "execute_result",
          "data": {
            "text/plain": [
              "<matplotlib.axes._subplots.AxesSubplot at 0x7efd04e90550>"
            ]
          },
          "metadata": {},
          "execution_count": 38
        },
        {
          "output_type": "display_data",
          "data": {
            "text/plain": [
              "<Figure size 432x288 with 1 Axes>"
            ],
            "image/png": "[encoded data removed]"
          },
          "metadata": {
            "needs_background": "light"
          }
        }
      ]
    },
    {
      "cell_type": "markdown",
      "source": [
        "### 4.1.2 Numerical Variable"
      ],
      "metadata": {
        "id": "fYABeU6QSghQ"
      }
    },
    {
      "cell_type": "code",
      "source": [
        "num_atributes.hist( bins=25)\n",
        "\n",
        "\n",
        "# Analise dos graficos das variaveis\n",
        "# o promo2_since_week te fica bem maior depois prox as semenas 0, 10, 20, 30 e 40\n",
        "# o competition distance fica muito maior perto do do zero, o que quer dizer que temos muitas lojas com competidores perto\n",
        "# o comptetitin open since month dica maior nos meses 4 e 9 e o primeiro quarter é totalmente crescente, enquanto o segundo é crescente ate o ultimo mes do quarter, ja o 3 quarter tem seu pico no primeiro mes\n",
        "# a lista is_promo fica maior no 0, por que a maioria das lojas nao fez a venda em promoçao\n",
        "# no atributo open loja tem mais dias abertos que fechados\n",
        "# no grafico de promo, o numero de lojas com promo é quase metade das que nao tem promo\n",
        "# "
      ],
      "metadata": {
        "colab": {
          "base_uri": "https://localhost:8080/",
          "height": 595
        },
        "id": "CvUATmj2aCT6",
        "outputId": "bae1596a-81e2-4d87-8a84-f0c4fb803a8e"
      },
      "execution_count": 39,
      "outputs": [
        {
          "output_type": "execute_result",
          "data": {
            "text/plain": [
              "array([[<matplotlib.axes._subplots.AxesSubplot object at 0x7efd19c4fca0>,\n",
              "        <matplotlib.axes._subplots.AxesSubplot object at 0x7efd10bfeaf0>,\n",
              "        <matplotlib.axes._subplots.AxesSubplot object at 0x7efcebb5af40>,\n",
              "        <matplotlib.axes._subplots.AxesSubplot object at 0x7efce1d1b370>],\n",
              "       [<matplotlib.axes._subplots.AxesSubplot object at 0x7efce1d0a760>,\n",
              "        <matplotlib.axes._subplots.AxesSubplot object at 0x7efce10edac0>,\n",
              "        <matplotlib.axes._subplots.AxesSubplot object at 0x7efce10edbb0>,\n",
              "        <matplotlib.axes._subplots.AxesSubplot object at 0x7efce106a040>],\n",
              "       [<matplotlib.axes._subplots.AxesSubplot object at 0x7efcddcc2790>,\n",
              "        <matplotlib.axes._subplots.AxesSubplot object at 0x7efcddc6fbb0>,\n",
              "        <matplotlib.axes._subplots.AxesSubplot object at 0x7efcdd6dd070>,\n",
              "        <matplotlib.axes._subplots.AxesSubplot object at 0x7efcdca18430>],\n",
              "       [<matplotlib.axes._subplots.AxesSubplot object at 0x7efcdd609820>,\n",
              "        <matplotlib.axes._subplots.AxesSubplot object at 0x7efcdd63cc10>,\n",
              "        <matplotlib.axes._subplots.AxesSubplot object at 0x7efd212ea070>,\n",
              "        <matplotlib.axes._subplots.AxesSubplot object at 0x7efd19ca7520>]],\n",
              "      dtype=object)"
            ]
          },
          "metadata": {},
          "execution_count": 39
        },
        {
          "output_type": "display_data",
          "data": {
            "text/plain": [
              "<Figure size 432x288 with 16 Axes>"
            ],
            "image/png": "[encoded data removed]"
          },
          "metadata": {
            "needs_background": "light"
          }
        }
      ]
    },
    {
      "cell_type": "markdown",
      "source": [
        "### 4.1.3 Categorical Variable"
      ],
      "metadata": {
        "id": "vOFuY5xXSgZ4"
      }
    },
    {
      "cell_type": "code",
      "source": [
        "cat_atributes.head()"
      ],
      "metadata": {
        "id": "xZv7MWXeaIUZ",
        "colab": {
          "base_uri": "https://localhost:8080/",
          "height": 206
        },
        "outputId": "018479f3-6bbb-45d1-bc40-f9af1f12158e"
      },
      "execution_count": 40,
      "outputs": [
        {
          "output_type": "execute_result",
          "data": {
            "text/plain": [
              "        date state_holiday store_type assortment   promo_interval month_map\n",
              "0 2015-07-31             0          c          a                0       Jul\n",
              "1 2015-07-31             0          a          a  Jan,Apr,Jul,Oct       Jul\n",
              "2 2015-07-31             0          a          a  Jan,Apr,Jul,Oct       Jul\n",
              "3 2015-07-31             0          c          c                0       Jul\n",
              "4 2015-07-31             0          a          a                0       Jul"
            ],
            "text/html": [
              "\n",
              "  <div id=\"df-84d23136-6b3c-46ad-9990-6b3a6e754113\">\n",
              "    <div class=\"colab-df-container\">\n",
              "      <div>\n",
              "<style scoped>\n",
              "    .dataframe tbody tr th:only-of-type {\n",
              "        vertical-align: middle;\n",
              "    }\n",
              "\n",
              "    .dataframe tbody tr th {\n",
              "        vertical-align: top;\n",
              "    }\n",
              "\n",
              "    .dataframe thead th {\n",
              "        text-align: right;\n",
              "    }\n",
              "</style>\n",
              "<table border=\"1\" class=\"dataframe\">\n",
              "  <thead>\n",
              "    <tr style=\"text-align: right;\">\n",
              "      <th></th>\n",
              "      <th>date</th>\n",
              "      <th>state_holiday</th>\n",
              "      <th>store_type</th>\n",
              "      <th>assortment</th>\n",
              "      <th>promo_interval</th>\n",
              "      <th>month_map</th>\n",
              "    </tr>\n",
              "  </thead>\n",
              "  <tbody>\n",
              "    <tr>\n",
              "      <th>0</th>\n",
              "      <td>2015-07-31</td>\n",
              "      <td>0</td>\n",
              "      <td>c</td>\n",
              "      <td>a</td>\n",
              "      <td>0</td>\n",
              "      <td>Jul</td>\n",
              "    </tr>\n",
              "    <tr>\n",
              "      <th>1</th>\n",
              "      <td>2015-07-31</td>\n",
              "      <td>0</td>\n",
              "      <td>a</td>\n",
              "      <td>a</td>\n",
              "      <td>Jan,Apr,Jul,Oct</td>\n",
              "      <td>Jul</td>\n",
              "    </tr>\n",
              "    <tr>\n",
              "      <th>2</th>\n",
              "      <td>2015-07-31</td>\n",
              "      <td>0</td>\n",
              "      <td>a</td>\n",
              "      <td>a</td>\n",
              "      <td>Jan,Apr,Jul,Oct</td>\n",
              "      <td>Jul</td>\n",
              "    </tr>\n",
              "    <tr>\n",
              "      <th>3</th>\n",
              "      <td>2015-07-31</td>\n",
              "      <td>0</td>\n",
              "      <td>c</td>\n",
              "      <td>c</td>\n",
              "      <td>0</td>\n",
              "      <td>Jul</td>\n",
              "    </tr>\n",
              "    <tr>\n",
              "      <th>4</th>\n",
              "      <td>2015-07-31</td>\n",
              "      <td>0</td>\n",
              "      <td>a</td>\n",
              "      <td>a</td>\n",
              "      <td>0</td>\n",
              "      <td>Jul</td>\n",
              "    </tr>\n",
              "  </tbody>\n",
              "</table>\n",
              "</div>\n",
              "      <button class=\"colab-df-convert\" onclick=\"convertToInteractive('df-84d23136-6b3c-46ad-9990-6b3a6e754113')\"\n",
              "              title=\"Convert this dataframe to an interactive table.\"\n",
              "              style=\"display:none;\">\n",
              "        \n",
              "  <svg xmlns=\"http://www.w3.org/2000/svg\" height=\"24px\"viewBox=\"0 0 24 24\"\n",
              "       width=\"24px\">\n",
              "    <path d=\"M0 0h24v24H0V0z\" fill=\"none\"/>\n",
              "    <path d=\"M18.56 5.44l.94 2.06.94-2.06 2.06-.94-2.06-.94-.94-2.06-.94 2.06-2.06.94zm-11 1L8.5 8.5l.94-2.06 2.06-.94-2.06-.94L8.5 2.5l-.94 2.06-2.06.94zm10 10l.94 2.06.94-2.06 2.06-.94-2.06-.94-.94-2.06-.94 2.06-2.06.94z\"/><path d=\"M17.41 7.96l-1.37-1.37c-.4-.4-.92-.59-1.43-.59-.52 0-1.04.2-1.43.59L10.3 9.45l-7.72 7.72c-.78.78-.78 2.05 0 2.83L4 21.41c.39.39.9.59 1.41.59.51 0 1.02-.2 1.41-.59l7.78-7.78 2.81-2.81c.8-.78.8-2.07 0-2.86zM5.41 20L4 18.59l7.72-7.72 1.47 1.35L5.41 20z\"/>\n",
              "  </svg>\n",
              "      </button>\n",
              "      \n",
              "  <style>\n",
              "    .colab-df-container {\n",
              "      display:flex;\n",
              "      flex-wrap:wrap;\n",
              "      gap: 12px;\n",
              "    }\n",
              "\n",
              "    .colab-df-convert {\n",
              "      background-color: #E8F0FE;\n",
              "      border: none;\n",
              "      border-radius: 50%;\n",
              "      cursor: pointer;\n",
              "      display: none;\n",
              "      fill: #1967D2;\n",
              "      height: 32px;\n",
              "      padding: 0 0 0 0;\n",
              "      width: 32px;\n",
              "    }\n",
              "\n",
              "    .colab-df-convert:hover {\n",
              "      background-color: #E2EBFA;\n",
              "      box-shadow: 0px 1px 2px rgba(60, 64, 67, 0.3), 0px 1px 3px 1px rgba(60, 64, 67, 0.15);\n",
              "      fill: #174EA6;\n",
              "    }\n",
              "\n",
              "    [theme=dark] .colab-df-convert {\n",
              "      background-color: #3B4455;\n",
              "      fill: #D2E3FC;\n",
              "    }\n",
              "\n",
              "    [theme=dark] .colab-df-convert:hover {\n",
              "      background-color: #434B5C;\n",
              "      box-shadow: 0px 1px 3px 1px rgba(0, 0, 0, 0.15);\n",
              "      filter: drop-shadow(0px 1px 2px rgba(0, 0, 0, 0.3));\n",
              "      fill: #FFFFFF;\n",
              "    }\n",
              "  </style>\n",
              "\n",
              "      <script>\n",
              "        const buttonEl =\n",
              "          document.querySelector('#df-84d23136-6b3c-46ad-9990-6b3a6e754113 button.colab-df-convert');\n",
              "        buttonEl.style.display =\n",
              "          google.colab.kernel.accessAllowed ? 'block' : 'none';\n",
              "\n",
              "        async function convertToInteractive(key) {\n",
              "          const element = document.querySelector('#df-84d23136-6b3c-46ad-9990-6b3a6e754113');\n",
              "          const dataTable =\n",
              "            await google.colab.kernel.invokeFunction('convertToInteractive',\n",
              "                                                     [key], {});\n",
              "          if (!dataTable) return;\n",
              "\n",
              "          const docLinkHtml = 'Like what you see? Visit the ' +\n",
              "            '<a target=\"_blank\" href=https://colab.research.google.com/notebooks/data_table.ipynb>data table notebook</a>'\n",
              "            + ' to learn more about interactive tables.';\n",
              "          element.innerHTML = '';\n",
              "          dataTable['output_type'] = 'display_data';\n",
              "          await google.colab.output.renderOutput(dataTable, element);\n",
              "          const docLink = document.createElement('div');\n",
              "          docLink.innerHTML = docLinkHtml;\n",
              "          element.appendChild(docLink);\n",
              "        }\n",
              "      </script>\n",
              "    </div>\n",
              "  </div>\n",
              "  "
            ]
          },
          "metadata": {},
          "execution_count": 40
        }
      ]
    },
    {
      "cell_type": "code",
      "source": [
        "df4['assortment'].drop_duplicates()"
      ],
      "metadata": {
        "colab": {
          "base_uri": "https://localhost:8080/"
        },
        "id": "5voLYk6J6jw8",
        "outputId": "423fdbad-ab56-4a60-a04f-f27ac2ef9ecc"
      },
      "execution_count": 41,
      "outputs": [
        {
          "output_type": "execute_result",
          "data": {
            "text/plain": [
              "0         basic\n",
              "3      extended\n",
              "258       extra\n",
              "Name: assortment, dtype: object"
            ]
          },
          "metadata": {},
          "execution_count": 41
        }
      ]
    },
    {
      "cell_type": "code",
      "source": [
        "sns.countplot(df4['assortment'])"
      ],
      "metadata": {
        "colab": {
          "base_uri": "https://localhost:8080/",
          "height": 354
        },
        "id": "Et4A1D-FRHez",
        "outputId": "17b5768d-6ba8-4805-9bfb-00b7d02d2b25"
      },
      "execution_count": 42,
      "outputs": [
        {
          "output_type": "stream",
          "name": "stderr",
          "text": [
            "/usr/local/lib/python3.8/dist-packages/seaborn/_decorators.py:36: FutureWarning: Pass the following variable as a keyword arg: x. From version 0.12, the only valid positional argument will be `data`, and passing other arguments without an explicit keyword will result in an error or misinterpretation.\n",
            "  warnings.warn(\n"
          ]
        },
        {
          "output_type": "execute_result",
          "data": {
            "text/plain": [
              "<matplotlib.axes._subplots.AxesSubplot at 0x7efd2a33aaf0>"
            ]
          },
          "metadata": {},
          "execution_count": 42
        },
        {
          "output_type": "display_data",
          "data": {
            "text/plain": [
              "<Figure size 432x288 with 1 Axes>"
            ],
            "image/png": "[encoded data removed]"
          },
          "metadata": {
            "needs_background": "light"
          }
        }
      ]
    },
    {
      "cell_type": "code",
      "source": [],
      "metadata": {
        "id": "y1ERI01zQ-5J"
      },
      "execution_count": 42,
      "outputs": []
    },
    {
      "cell_type": "code",
      "source": [
        "# 'state_holiday'\n",
        "\n",
        "# criar um grid com subplot pra mostar os dois graficos sobrepostos\n",
        "# configurando a matriz com 1 linhas, duas colunas e plotando na primeira posição o primeiro grafico\n",
        "plt.subplot(3 ,2, 1)\n",
        "\n",
        "## aplicar um count para entender de volume de cada variavel \n",
        "a = df4[df4['state_holiday'] != 'regular_day'] # filtrando a variavel state+holiday por que ela se destaca mito em relação as outas, isso atrapalha a comparação das demais\n",
        "sns.countplot(a['state_holiday']) # aplicando um countplot pra mostrar um grafico da contagem de elementos\n",
        "# aplos essa analise, vemos que os feirados vem em ordem decrescente como: Feriados publicos, feriados estaduais e natal\n",
        "\n",
        "\n",
        "# aqui plotar o segundo grafico na segunda posição\n",
        "plt.subplot(3 ,2, 2)\n",
        "# usando o kdeplot pra filtrar o numero de vendas dos #feriados publicos, estaduais e natal respectivamente\n",
        "sns.kdeplot( df4[df4['state_holiday'] == 'public_holiday']['sales'], label = 'public_holiday', shade = True)\n",
        "plt.subplot(3 ,2, 2)\n",
        "sns.kdeplot( df4[df4['state_holiday'] == 'easter_holiday']['sales'], label = 'easter_holiday', shade = True)\n",
        "plt.subplot(3 ,2, 2)\n",
        "sns.kdeplot( df4[df4['state_holiday'] == 'christmas']['sales'], label = 'christmas', shade = True)\n",
        "\n",
        "\n",
        "\n",
        "# 'store_type'\n",
        "# vamos aplicar a mesma logica descrita na variavel state_holiday, contar quanto de cada um tem e mostrar a relaçao com vendas de cada 1\n",
        "plt.subplot(3 ,2, 3)\n",
        "sns.countplot(df4['store_type']) # aplicando um countplot pra mostrar um grafico da contagem de elementos\n",
        "\n",
        "\n",
        "# aqui plotar o segundo grafico na segunda posição\n",
        "plt.subplot(3 ,2, 4)\n",
        "# usando o kdeplot pra filtrar o numero de vendas dos tipos de loja: publicos, estaduais e natal respectivamente\n",
        "sns.kdeplot( df4[df4['store_type'] == 'a']['sales'], label = 'a', shade = True)\n",
        "plt.subplot(3 ,2, 4)\n",
        "sns.kdeplot( df4[df4['store_type'] == 'b']['sales'], label = 'b', shade = True)\n",
        "plt.subplot(3 ,2, 4)\n",
        "sns.kdeplot( df4[df4['store_type'] == 'c']['sales'], label = 'c', shade = True)\n",
        "plt.subplot(3 ,2, 4)\n",
        "sns.kdeplot( df4[df4['store_type'] == 'd']['sales'], label = 'd', shade = True)\n",
        "\n",
        "\n",
        "# 'assortment'\n",
        "# vamos aplicar a mesma logica descrita na variavel state_holiday, contar quanto de cada um tem e mostrar a relaçao com vendas de cada 1\n",
        "plt.subplot(3 ,2, 5)\n",
        "#a = df4[df4['store_type'] != 'regular_day'] # filtrando a variavel state+holiday por que ela se destaca mito em relação as outas, isso atrapalha a comparação das demais\n",
        "sns.countplot(df4['assortment']) # aplicando um countplot pra mostrar um grafico da contagem de elementos\n",
        "\n",
        "\n",
        "# aqui plotar o segundo grafico na segunda posição\n",
        "plt.subplot(3 ,2, 6)\n",
        "# usando o kdeplot pra filtrar o numero de vendas dos tipos de loja: publicos, estaduais e natal respectivamente\n",
        "sns.kdeplot( df4[df4['assortment'] == 'basic']['sales'], label = 'basic', shade = True)\n",
        "plt.subplot(3 ,2, 6)\n",
        "sns.kdeplot( df4[df4['assortment'] == 'extended']['sales'], label = 'extended', shade = True)\n",
        "plt.subplot(3 ,2, 6)\n",
        "sns.kdeplot( df4[df4['assortment'] == 'extra']['sales'], label = 'extra', shade = True)\n"
      ],
      "metadata": {
        "colab": {
          "base_uri": "https://localhost:8080/",
          "height": 698
        },
        "id": "WYiwORpt8ch3",
        "outputId": "72c8ec26-12bc-4f67-c5d8-35f1620c6f56"
      },
      "execution_count": 43,
      "outputs": [
        {
          "output_type": "stream",
          "name": "stderr",
          "text": [
            "/usr/local/lib/python3.8/dist-packages/seaborn/_decorators.py:36: FutureWarning: Pass the following variable as a keyword arg: x. From version 0.12, the only valid positional argument will be `data`, and passing other arguments without an explicit keyword will result in an error or misinterpretation.\n",
            "  warnings.warn(\n",
            "<ipython-input-43-92a3b0a4a640>:17: MatplotlibDeprecationWarning: Adding an axes using the same arguments as a previous axes currently reuses the earlier instance.  In a future version, a new instance will always be created and returned.  Meanwhile, this warning can be suppressed, and the future behavior ensured, by passing a unique label to each axes instance.\n",
            "  plt.subplot(3 ,2, 2)\n",
            "<ipython-input-43-92a3b0a4a640>:19: MatplotlibDeprecationWarning: Adding an axes using the same arguments as a previous axes currently reuses the earlier instance.  In a future version, a new instance will always be created and returned.  Meanwhile, this warning can be suppressed, and the future behavior ensured, by passing a unique label to each axes instance.\n",
            "  plt.subplot(3 ,2, 2)\n",
            "/usr/local/lib/python3.8/dist-packages/seaborn/_decorators.py:36: FutureWarning: Pass the following variable as a keyword arg: x. From version 0.12, the only valid positional argument will be `data`, and passing other arguments without an explicit keyword will result in an error or misinterpretation.\n",
            "  warnings.warn(\n",
            "<ipython-input-43-92a3b0a4a640>:34: MatplotlibDeprecationWarning: Adding an axes using the same arguments as a previous axes currently reuses the earlier instance.  In a future version, a new instance will always be created and returned.  Meanwhile, this warning can be suppressed, and the future behavior ensured, by passing a unique label to each axes instance.\n",
            "  plt.subplot(3 ,2, 4)\n",
            "<ipython-input-43-92a3b0a4a640>:36: MatplotlibDeprecationWarning: Adding an axes using the same arguments as a previous axes currently reuses the earlier instance.  In a future version, a new instance will always be created and returned.  Meanwhile, this warning can be suppressed, and the future behavior ensured, by passing a unique label to each axes instance.\n",
            "  plt.subplot(3 ,2, 4)\n",
            "<ipython-input-43-92a3b0a4a640>:38: MatplotlibDeprecationWarning: Adding an axes using the same arguments as a previous axes currently reuses the earlier instance.  In a future version, a new instance will always be created and returned.  Meanwhile, this warning can be suppressed, and the future behavior ensured, by passing a unique label to each axes instance.\n",
            "  plt.subplot(3 ,2, 4)\n",
            "/usr/local/lib/python3.8/dist-packages/seaborn/_decorators.py:36: FutureWarning: Pass the following variable as a keyword arg: x. From version 0.12, the only valid positional argument will be `data`, and passing other arguments without an explicit keyword will result in an error or misinterpretation.\n",
            "  warnings.warn(\n",
            "<ipython-input-43-92a3b0a4a640>:53: MatplotlibDeprecationWarning: Adding an axes using the same arguments as a previous axes currently reuses the earlier instance.  In a future version, a new instance will always be created and returned.  Meanwhile, this warning can be suppressed, and the future behavior ensured, by passing a unique label to each axes instance.\n",
            "  plt.subplot(3 ,2, 6)\n",
            "<ipython-input-43-92a3b0a4a640>:55: MatplotlibDeprecationWarning: Adding an axes using the same arguments as a previous axes currently reuses the earlier instance.  In a future version, a new instance will always be created and returned.  Meanwhile, this warning can be suppressed, and the future behavior ensured, by passing a unique label to each axes instance.\n",
            "  plt.subplot(3 ,2, 6)\n"
          ]
        },
        {
          "output_type": "execute_result",
          "data": {
            "text/plain": [
              "<matplotlib.axes._subplots.AxesSubplot at 0x7efd2a1281f0>"
            ]
          },
          "metadata": {},
          "execution_count": 43
        },
        {
          "output_type": "display_data",
          "data": {
            "text/plain": [
              "<Figure size 432x288 with 6 Axes>"
            ],
            "image/png": "[encoded data removed]"
          },
          "metadata": {
            "needs_background": "light"
          }
        }
      ]
    },
    {
      "cell_type": "markdown",
      "source": [
        "## 4.2 Analise Bivariada"
      ],
      "metadata": {
        "id": "2dp8h-zKSS2j"
      }
    },
    {
      "cell_type": "markdown",
      "source": [
        "####H1. Lojas com Maior Sortimento deverias vender mais\n",
        "\n",
        "RESULTADO DA HIPOTESE: **DESVALIDADO** \n",
        "\n",
        "    Lojas com Sortimento maior, vendem menos \n"
      ],
      "metadata": {
        "id": "LB-a5oLUER8W"
      }
    },
    {
      "cell_type": "code",
      "source": [
        "aux1 = df4[['assortment', 'sales']].groupby('assortment').sum().reset_index()\n",
        "sns.barplot(x='assortment', y='sales', data=aux1);\n",
        "\n",
        "# Resultados:\n",
        "## os assortments basic e extended tem praticamente o mesmo volume de vendas\n",
        "## o assortment extra na verdade tem menos vendas do que os outras duas categorias\n",
        "\n",
        "# nova hipotese: vamos analisar se a baixa venda do assortment seja na verdade uma variação pelo tempo\n",
        "aux2 = df4[['year_week','assortment', 'sales']].groupby(['year_week', 'assortment']).sum().reset_index()\n",
        "aux2.pivot(index='year_week', columns='assortment', values='sales').plot();\n",
        "\n",
        "aux3 = aux2[aux2['assortment'] == 'extra']\n",
        "aux3.pivot(index='year_week', columns='assortment', values='sales').plot();\n",
        "\n",
        "# RESULTADO DA HIPOTESE: Lojas com Sortimento maior, vendem menos (DESVALIDADO)"
      ],
      "metadata": {
        "id": "LuI1afssaI-y",
        "colab": {
          "base_uri": "https://localhost:8080/",
          "height": 827
        },
        "outputId": "d86fd097-57ae-47fa-ab82-4b9853b164f0"
      },
      "execution_count": 44,
      "outputs": [
        {
          "output_type": "display_data",
          "data": {
            "text/plain": [
              "<Figure size 432x288 with 1 Axes>"
            ],
            "image/png": "[encoded data removed]"
          },
          "metadata": {
            "needs_background": "light"
          }
        },
        {
          "output_type": "display_data",
          "data": {
            "text/plain": [
              "<Figure size 432x288 with 1 Axes>"
            ],
            "image/png": "[encoded data removed]"
          },
          "metadata": {
            "needs_background": "light"
          }
        },
        {
          "output_type": "display_data",
          "data": {
            "text/plain": [
              "<Figure size 432x288 with 1 Axes>"
            ],
            "image/png": "[encoded data removed]"
          },
          "metadata": {
            "needs_background": "light"
          }
        }
      ]
    },
    {
      "cell_type": "markdown",
      "source": [
        "####H2. Lojas com competidores mais proximos deveriam vender menos\n",
        "RESULTADO DA HIPOTESE: **DESVALIDADO**\n",
        "\n",
        "    Lojas com competidores mais proximos vendem muito MAIS"
      ],
      "metadata": {
        "id": "jo84KxwFEYB2"
      }
    },
    {
      "cell_type": "code",
      "source": [
        "# df auxiliar onde vamos agrupar as vendas pela distancia do competidor de cada loja\n",
        "aux1 = df4[['competition_distance', 'sales']].groupby('competition_distance').sum().reset_index()\n",
        "\n",
        "# Grafico de pontos: pra ter uma visao melhor dos dados muitos granulares\n",
        "plt.subplot(1, 3, 1)\n",
        "sns.scatterplot(x='competition_distance', y='sales', data=aux1)\n",
        "\n",
        "\n",
        "# Grafico de Barras para entender a distribuição das vendas em grupos de distancias\n",
        "plt.subplot(1, 3, 2)\n",
        "bins = list(np.arange(0, 20000, 1000)) # criando grupos de arrays que vao de 0 ate 20000 e agrupa os elementos de 1000 em 1000\n",
        "aux1['competition_distance_binned'] = pd.cut(aux1['competition_distance'], bins=bins )\n",
        "aux2 = aux1[['competition_distance_binned', 'sales']].groupby('competition_distance_binned').sum().reset_index()\n",
        "sns.barplot(x='competition_distance_binned', y='sales', data=aux2);\n",
        "plt.xticks( rotation = 90)\n",
        "\n",
        "# Calcular a força da correlação:\n",
        "plt.subplot(1, 3, 3)\n",
        "sns.heatmap( aux1.corr( method='pearson'), annot=True);\n",
        "\n",
        "\n",
        "\n",
        "# Resultado da analise:\n",
        "## lojas com competidores proximos vendem, em disparado, mais que lojas sem competidores muito proximo\n",
        "## isso gera uma insigth contra intuitivo onde achavamos que vendiamos mais quando nao tinha concorrente proximo\n",
        "## Talvez por que o comercio local sendo forte, estimula a compra, quando uma pessoa compra, independente de onda, outra tambem vao querer comprar\n",
        "### isso explicar por que sempre temos farmacias perto uma das outras, tambem se aplicar pra supermercados e fastfood\n"
      ],
      "metadata": {
        "colab": {
          "base_uri": "https://localhost:8080/",
          "height": 373
        },
        "id": "Gnv8KXo0Mvj_",
        "outputId": "821340b8-80f8-4c80-e83b-48fc9f0caaeb"
      },
      "execution_count": 45,
      "outputs": [
        {
          "output_type": "display_data",
          "data": {
            "text/plain": [
              "<Figure size 432x288 with 4 Axes>"
            ],
            "image/png": "[encoded data removed]"
          },
          "metadata": {
            "needs_background": "light"
          }
        }
      ]
    },
    {
      "cell_type": "code",
      "source": [],
      "metadata": {
        "id": "iakcT_V7EjCO"
      },
      "execution_count": 45,
      "outputs": []
    },
    {
      "cell_type": "markdown",
      "source": [
        "#### H3. Lojas com competidores à mais tempo deveriam vender mais\n",
        " RESULTADO DA HIPOTESE: **DESVALIDADO**\n",
        "\n",
        "    Lojas com competidores recem abertos vendem muito mais que lojas com competidores a mais tempo\n"
      ],
      "metadata": {
        "id": "o6ll_6hxEclm"
      }
    },
    {
      "cell_type": "code",
      "source": [
        "plt.subplot(1,3,1)\n",
        "aux1 = df4[['competition_time_month', 'sales']].groupby('competition_time_month').sum().reset_index()\n",
        "aux2 = aux1[(aux1['competition_time_month'] < 120) & (aux1['competition_time_month'] != 0)]\n",
        "sns.barplot(x='competition_time_month', y='sales', data=aux2);\n",
        "plt.xticks(rotation =90);\n",
        "\n",
        "# aplicar uma segunda visualização pra reafirmar o desvio\n",
        "plt.subplot(1,3,2)\n",
        "sns.regplot(x='competition_time_month', y='sales', data=aux2);\n",
        "\n",
        "#medir a força da correlação\n",
        "plt.subplot(1,3,3)\n",
        "sns.heatmap(aux2.corr(method='pearson'), annot=True);\n",
        "# RESULTADO DA HIPOTESE: DESVALIDADO\n",
        "## Lojas com competidores recem abertos vendem muito mais que lojas com competidores a mais tempo\n"
      ],
      "metadata": {
        "colab": {
          "base_uri": "https://localhost:8080/",
          "height": 390
        },
        "id": "RndssqNKEjcn",
        "outputId": "ee5346b9-7568-405c-cd16-ea5d6f7f9b68"
      },
      "execution_count": 46,
      "outputs": [
        {
          "output_type": "display_data",
          "data": {
            "text/plain": [
              "<Figure size 432x288 with 4 Axes>"
            ],
            "image/png": "[encoded data removed]"
          },
          "metadata": {
            "needs_background": "light"
          }
        }
      ]
    },
    {
      "cell_type": "markdown",
      "source": [
        "####H4. Lojas com Promoções ativas por mais tempo deveriam vender mais\n",
        "Resultado da validaçãpo: Falsa\n",
        "Lojas com promoção extendida por muito tempo vendem menos:"
      ],
      "metadata": {
        "id": "NG5ib4I946id"
      }
    },
    {
      "cell_type": "code",
      "source": [
        "aux1 = df4[['promo_time_week', 'sales']].groupby('promo_time_week').sum().reset_index()\n",
        "\n",
        "grid = GridSpec( 2, 3 )\n",
        "\n",
        "plt.subplot(grid[0, 0])\n",
        "aux2 = aux1[aux1['promo_time_week'] > 0 ] # promoção extendida\n",
        "sns.barplot(x ='promo_time_week', y='sales', data=aux2);\n",
        "plt.xticks(rotation=90);\n",
        "\n",
        "plt.subplot(grid[0, 1])\n",
        "sns.regplot(x ='promo_time_week', y='sales', data=aux2);\n",
        "\n",
        "plt.subplot(grid[1, 0])\n",
        "aux3 = aux1[aux1['promo_time_week'] < 0 ] # promoção Regular\n",
        "sns.barplot(x ='promo_time_week', y='sales', data=aux3);\n",
        "\n",
        "plt.subplot(grid[1, 1])\n",
        "sns.regplot(x ='promo_time_week', y='sales', data=aux3);\n",
        "\n",
        "plt.subplot(grid[:, 2])\n",
        "sns.heatmap(aux1.corr(method='pearson'), annot=True);\n",
        "\n",
        "# Usamos o regplot pra tentar confirmar se a tendencia da promoção era crescente de fato \n",
        "\n",
        "### ANALISE DO RESUTALDO\n",
        "# Lojas que tem promoção extendida, ao passar do tempo tem um decaimento nas vendas\n",
        "## isso pode significar que as depois de uma tempo o efeito \"promoção\" perder a eficacia\n",
        "\n",
        "# por outro lado, durante a promoção regular, as lojas vao tendo um aumento nas vendas ate chegar em um pico\n",
        "## isso deve ser resultado de um conjunto de fatores, atrelados ao marketing e ao evento \n"
      ],
      "metadata": {
        "colab": {
          "base_uri": "https://localhost:8080/",
          "height": 357
        },
        "id": "DdC3P0i65kRB",
        "outputId": "ec4be583-e92c-41e0-d531-8a46536bedec"
      },
      "execution_count": 55,
      "outputs": [
        {
          "output_type": "display_data",
          "data": {
            "text/plain": [
              "<Figure size 432x288 with 6 Axes>"
            ],
            "image/png": "[encoded data removed]"
          },
          "metadata": {
            "needs_background": "light"
          }
        }
      ]
    },
    {
      "cell_type": "markdown",
      "source": [
        "<s>####H5. Lojas com mais dias de promoção deveriam vender mais</s>\n"
      ],
      "metadata": {
        "id": "iiWVpUcu46cS"
      }
    },
    {
      "cell_type": "code",
      "source": [],
      "metadata": {
        "id": "6qrmdYH85kmA"
      },
      "execution_count": null,
      "outputs": []
    },
    {
      "cell_type": "markdown",
      "source": [
        "####H6. Lojas com Mais promoções consecutivas deveriam vender mais\n",
        "Resultado: Falso\n",
        "As lojas com Mais promoções consecutivas vendem menos"
      ],
      "metadata": {
        "id": "UxRDx7JB46Ud"
      }
    },
    {
      "cell_type": "code",
      "source": [
        "df4[['promo', 'promo2', 'sales']].groupby(['promo', 'promo2']).sum().reset_index()\n",
        "\n",
        "# aqui temos que as lojas que se sairam melhor foram que as entrarem apenas na promo regula\n",
        "# em compensação as que entraram qpenas na promo2 foram as que menos venderam"
      ],
      "metadata": {
        "colab": {
          "base_uri": "https://localhost:8080/",
          "height": 175
        },
        "id": "SuLmghn85k-Y",
        "outputId": "157e8687-bf37-453b-da58-6a93be48c487"
      },
      "execution_count": 60,
      "outputs": [
        {
          "output_type": "execute_result",
          "data": {
            "text/plain": [
              "   promo  promo2       sales\n",
              "0      0       0  1482612096\n",
              "1      0       1  1289362241\n",
              "2      1       0  1628930532\n",
              "3      1       1  1472275754"
            ],
            "text/html": [
              "\n",
              "  <div id=\"df-7063c08f-d224-417a-b021-e85758576d01\">\n",
              "    <div class=\"colab-df-container\">\n",
              "      <div>\n",
              "<style scoped>\n",
              "    .dataframe tbody tr th:only-of-type {\n",
              "        vertical-align: middle;\n",
              "    }\n",
              "\n",
              "    .dataframe tbody tr th {\n",
              "        vertical-align: top;\n",
              "    }\n",
              "\n",
              "    .dataframe thead th {\n",
              "        text-align: right;\n",
              "    }\n",
              "</style>\n",
              "<table border=\"1\" class=\"dataframe\">\n",
              "  <thead>\n",
              "    <tr style=\"text-align: right;\">\n",
              "      <th></th>\n",
              "      <th>promo</th>\n",
              "      <th>promo2</th>\n",
              "      <th>sales</th>\n",
              "    </tr>\n",
              "  </thead>\n",
              "  <tbody>\n",
              "    <tr>\n",
              "      <th>0</th>\n",
              "      <td>0</td>\n",
              "      <td>0</td>\n",
              "      <td>1482612096</td>\n",
              "    </tr>\n",
              "    <tr>\n",
              "      <th>1</th>\n",
              "      <td>0</td>\n",
              "      <td>1</td>\n",
              "      <td>1289362241</td>\n",
              "    </tr>\n",
              "    <tr>\n",
              "      <th>2</th>\n",
              "      <td>1</td>\n",
              "      <td>0</td>\n",
              "      <td>1628930532</td>\n",
              "    </tr>\n",
              "    <tr>\n",
              "      <th>3</th>\n",
              "      <td>1</td>\n",
              "      <td>1</td>\n",
              "      <td>1472275754</td>\n",
              "    </tr>\n",
              "  </tbody>\n",
              "</table>\n",
              "</div>\n",
              "      <button class=\"colab-df-convert\" onclick=\"convertToInteractive('df-7063c08f-d224-417a-b021-e85758576d01')\"\n",
              "              title=\"Convert this dataframe to an interactive table.\"\n",
              "              style=\"display:none;\">\n",
              "        \n",
              "  <svg xmlns=\"http://www.w3.org/2000/svg\" height=\"24px\"viewBox=\"0 0 24 24\"\n",
              "       width=\"24px\">\n",
              "    <path d=\"M0 0h24v24H0V0z\" fill=\"none\"/>\n",
              "    <path d=\"M18.56 5.44l.94 2.06.94-2.06 2.06-.94-2.06-.94-.94-2.06-.94 2.06-2.06.94zm-11 1L8.5 8.5l.94-2.06 2.06-.94-2.06-.94L8.5 2.5l-.94 2.06-2.06.94zm10 10l.94 2.06.94-2.06 2.06-.94-2.06-.94-.94-2.06-.94 2.06-2.06.94z\"/><path d=\"M17.41 7.96l-1.37-1.37c-.4-.4-.92-.59-1.43-.59-.52 0-1.04.2-1.43.59L10.3 9.45l-7.72 7.72c-.78.78-.78 2.05 0 2.83L4 21.41c.39.39.9.59 1.41.59.51 0 1.02-.2 1.41-.59l7.78-7.78 2.81-2.81c.8-.78.8-2.07 0-2.86zM5.41 20L4 18.59l7.72-7.72 1.47 1.35L5.41 20z\"/>\n",
              "  </svg>\n",
              "      </button>\n",
              "      \n",
              "  <style>\n",
              "    .colab-df-container {\n",
              "      display:flex;\n",
              "      flex-wrap:wrap;\n",
              "      gap: 12px;\n",
              "    }\n",
              "\n",
              "    .colab-df-convert {\n",
              "      background-color: #E8F0FE;\n",
              "      border: none;\n",
              "      border-radius: 50%;\n",
              "      cursor: pointer;\n",
              "      display: none;\n",
              "      fill: #1967D2;\n",
              "      height: 32px;\n",
              "      padding: 0 0 0 0;\n",
              "      width: 32px;\n",
              "    }\n",
              "\n",
              "    .colab-df-convert:hover {\n",
              "      background-color: #E2EBFA;\n",
              "      box-shadow: 0px 1px 2px rgba(60, 64, 67, 0.3), 0px 1px 3px 1px rgba(60, 64, 67, 0.15);\n",
              "      fill: #174EA6;\n",
              "    }\n",
              "\n",
              "    [theme=dark] .colab-df-convert {\n",
              "      background-color: #3B4455;\n",
              "      fill: #D2E3FC;\n",
              "    }\n",
              "\n",
              "    [theme=dark] .colab-df-convert:hover {\n",
              "      background-color: #434B5C;\n",
              "      box-shadow: 0px 1px 3px 1px rgba(0, 0, 0, 0.15);\n",
              "      filter: drop-shadow(0px 1px 2px rgba(0, 0, 0, 0.3));\n",
              "      fill: #FFFFFF;\n",
              "    }\n",
              "  </style>\n",
              "\n",
              "      <script>\n",
              "        const buttonEl =\n",
              "          document.querySelector('#df-7063c08f-d224-417a-b021-e85758576d01 button.colab-df-convert');\n",
              "        buttonEl.style.display =\n",
              "          google.colab.kernel.accessAllowed ? 'block' : 'none';\n",
              "\n",
              "        async function convertToInteractive(key) {\n",
              "          const element = document.querySelector('#df-7063c08f-d224-417a-b021-e85758576d01');\n",
              "          const dataTable =\n",
              "            await google.colab.kernel.invokeFunction('convertToInteractive',\n",
              "                                                     [key], {});\n",
              "          if (!dataTable) return;\n",
              "\n",
              "          const docLinkHtml = 'Like what you see? Visit the ' +\n",
              "            '<a target=\"_blank\" href=https://colab.research.google.com/notebooks/data_table.ipynb>data table notebook</a>'\n",
              "            + ' to learn more about interactive tables.';\n",
              "          element.innerHTML = '';\n",
              "          dataTable['output_type'] = 'display_data';\n",
              "          await google.colab.output.renderOutput(dataTable, element);\n",
              "          const docLink = document.createElement('div');\n",
              "          docLink.innerHTML = docLinkHtml;\n",
              "          element.appendChild(docLink);\n",
              "        }\n",
              "      </script>\n",
              "    </div>\n",
              "  </div>\n",
              "  "
            ]
          },
          "metadata": {},
          "execution_count": 60
        }
      ]
    },
    {
      "cell_type": "code",
      "source": [
        "aux1 = df4[(df4['promo'] == 1) & (df4['promo2'] == 1)][['year_week', 'sales']].groupby('year_week').sum().reset_index()\n",
        "ax = aux1.plot();\n",
        "\n",
        "\n",
        "aux2 = df4[(df4['promo'] == 1) & (df4['promo2'] == 0)][['year_week', 'sales']].groupby('year_week').sum().reset_index()\n",
        "aux2.plot( ax=ax );\n",
        "\n",
        "ax.legend(labels=['Tradicional e Extendida', 'Extendida']);\n",
        "\n",
        "\n",
        "# Resultado da validação: Desvalidado\n",
        "## Lojas com mais promoçõe consecutivas nao vendem mais, o volume é similar na maior parte do tempo, e ate menor em um intervalo especifico"
      ],
      "metadata": {
        "colab": {
          "base_uri": "https://localhost:8080/",
          "height": 276
        },
        "id": "b5ToiO2sB4ky",
        "outputId": "e43c985e-0c6b-4815-ede2-78b8d0795273"
      },
      "execution_count": 69,
      "outputs": [
        {
          "output_type": "display_data",
          "data": {
            "text/plain": [
              "<Figure size 432x288 with 1 Axes>"
            ],
            "image/png": "[encoded data removed]"
          },
          "metadata": {
            "needs_background": "light"
          }
        }
      ]
    },
    {
      "cell_type": "markdown",
      "source": [
        "####H7. Lojas Abertas durante o feriado de natal deveriam vender mais\n"
      ],
      "metadata": {
        "id": "mddHMsTcGC7W"
      }
    },
    {
      "cell_type": "code",
      "source": [
        "aux = df4[df4['state_holiday'] != 'regular_day']\n",
        "aux1 = aux[['state_holiday','sales']].groupby('state_holiday').sum().reset_index()\n",
        "plt.subplot(1,2,1)\n",
        "sns.barplot(x='state_holiday', y='sales', data=aux1);\n",
        "# essa seção ja desvalida a hipotese, os feriados publicos tem muitos mais vendas que o natal\n",
        "\n",
        "\n",
        "plt.subplot(1,2,2)\n",
        "aux2 = aux[['year', 'state_holiday', 'sales']].groupby(['year', 'state_holiday']).sum().reset_index()\n",
        "sns.barplot(x='year', y='sales', hue='state_holiday',data=aux2);\n",
        "# mesmo com o passar dos anos, as lojas vendem bem mais nos feriados publicos"
      ],
      "metadata": {
        "colab": {
          "base_uri": "https://localhost:8080/",
          "height": 292
        },
        "id": "tFvfLcL5Gna-",
        "outputId": "c7a513c3-5bed-442c-dc88-f85792b74477"
      },
      "execution_count": 75,
      "outputs": [
        {
          "output_type": "display_data",
          "data": {
            "text/plain": [
              "<Figure size 432x288 with 2 Axes>"
            ],
            "image/png": "[encoded data removed]"
          },
          "metadata": {
            "needs_background": "light"
          }
        }
      ]
    },
    {
      "cell_type": "markdown",
      "source": [
        "####H8. Lojas deveriam vender mais ao longo do anos\n",
        "Validação: Falsa\n",
        "- as lojas estao vendendo menos com o passar dos anos"
      ],
      "metadata": {
        "id": "BBJPVc3oGFl3"
      }
    },
    {
      "cell_type": "code",
      "source": [
        "aux1 = df4[['year','sales']].groupby('year').sum().reset_index()\n",
        "plt.subplot(1,3,1)\n",
        "sns.barplot(x='year', y='sales', data=aux1);\n",
        "\n",
        "# analisar a tendencia\n",
        "plt.subplot(1,3,2)\n",
        "sns.regplot(x='year', y='sales', data=aux1); # tendencia decrescente\n",
        "\n",
        "# Calcular a força da correlação\n",
        "plt.subplot(1,3,3)\n",
        "sns.heatmap(aux1.corr(method='pearson'), annot=True); # correlação muito forte de decrescimento, decorrente do ano ainda nao ter terminado "
      ],
      "metadata": {
        "colab": {
          "base_uri": "https://localhost:8080/",
          "height": 290
        },
        "id": "OtTHJAp2GnwO",
        "outputId": "183ac882-4161-4776-defb-0054e73915fc"
      },
      "execution_count": 79,
      "outputs": [
        {
          "output_type": "display_data",
          "data": {
            "text/plain": [
              "<Figure size 432x288 with 4 Axes>"
            ],
            "image/png": "[encoded data removed]"
          },
          "metadata": {
            "needs_background": "light"
          }
        }
      ]
    },
    {
      "cell_type": "markdown",
      "source": [
        "####H9. Lojas Deveriam vender mais no segundo semestre do ano\n",
        "Validação: Falsa\n",
        "- as lojas estao vendendo menos no segundo semestre do ano"
      ],
      "metadata": {
        "id": "Fea1W_ASGFhj"
      }
    },
    {
      "cell_type": "code",
      "source": [
        "aux1 = df4[['month','sales']].groupby('month').sum().reset_index()\n",
        "plt.subplot(1,3,1)\n",
        "sns.barplot(x='month', y='sales', data=aux1);\n",
        "\n",
        "# analisar a tendencia\n",
        "plt.subplot(1,3,2)\n",
        "sns.regplot(x='month', y='sales', data=aux1); # tendencia decrescente, vendem menos durante primeiro semestre\n",
        "\n",
        "# Calcular a força da correlação\n",
        "plt.subplot(1,3,3)\n",
        "sns.heatmap(aux1.corr(method='pearson'), annot=True); # correlação muito forte de decrescimento, decorrente do ano ainda nao ter terminado "
      ],
      "metadata": {
        "colab": {
          "base_uri": "https://localhost:8080/",
          "height": 290
        },
        "id": "Z4G2uSQBGoc_",
        "outputId": "e548ee04-024a-49d3-bf41-f8bade242408"
      },
      "execution_count": 80,
      "outputs": [
        {
          "output_type": "display_data",
          "data": {
            "text/plain": [
              "<Figure size 432x288 with 4 Axes>"
            ],
            "image/png": "[encoded data removed]"
          },
          "metadata": {
            "needs_background": "light"
          }
        }
      ]
    },
    {
      "cell_type": "markdown",
      "source": [
        "####H10. Lojas deveriam vender mais depois do 10 dia util do mes\n",
        "Validação: Verdadeira\n",
        "- as lojas estao vendem mais depois do dia 10"
      ],
      "metadata": {
        "id": "KyFvMmx7GFGG"
      }
    },
    {
      "cell_type": "code",
      "source": [
        "aux1 = df4[['day','sales']].groupby('day').sum().reset_index()\n",
        "plt.subplot(2,2,1)\n",
        "sns.barplot(x='day', y='sales', data=aux1);\n",
        "\n",
        "# analisar a tendencia\n",
        "plt.subplot(2,2,2)\n",
        "sns.regplot(x='day', y='sales', data=aux1); \n",
        "# Calcular a força da correlação\n",
        "plt.subplot(2,2,3)\n",
        "sns.heatmap(aux1.corr(method='pearson'), annot=True); # correlação media\n",
        "\n",
        "plt.subplot(2,2,4)\n",
        "aux1['before_after'] = aux1['day'].apply(lambda x: \"before_10_days\" if x <= 10 else 'after_10_day')\n",
        "aux2 = aux1[['before_after', 'sales']].groupby('before_after').sum().reset_index()\n",
        "sns.barplot(x='before_after', y='sales', data=aux2)"
      ],
      "metadata": {
        "colab": {
          "base_uri": "https://localhost:8080/",
          "height": 310
        },
        "id": "PRXIYxfHKfWs",
        "outputId": "7a5a4e26-8269-4a9f-84f4-3cf62e2a74d8"
      },
      "execution_count": 84,
      "outputs": [
        {
          "output_type": "execute_result",
          "data": {
            "text/plain": [
              "<matplotlib.axes._subplots.AxesSubplot at 0x7efd20ca5e20>"
            ]
          },
          "metadata": {},
          "execution_count": 84
        },
        {
          "output_type": "display_data",
          "data": {
            "text/plain": [
              "<Figure size 432x288 with 5 Axes>"
            ],
            "image/png": "[encoded data removed]"
          },
          "metadata": {
            "needs_background": "light"
          }
        }
      ]
    },
    {
      "cell_type": "markdown",
      "source": [
        "####H11. Lojas deveriam vender menos aos finais de semana\n",
        "Validação: Verdadeira\n",
        "- as lojas estao vendendo menos durane o fim de semana"
      ],
      "metadata": {
        "id": "HC9cPJtHGKAu"
      }
    },
    {
      "cell_type": "code",
      "source": [
        "aux1 = df4[['day_of_week','sales']].groupby('day_of_week').sum().reset_index()\n",
        "plt.subplot(2,2,1)\n",
        "sns.barplot(x='day_of_week', y='sales', data=aux1);\n",
        "\n",
        "# analisar a tendencia\n",
        "plt.subplot(2,2,2)\n",
        "sns.regplot(x='day_of_week', y='sales', data=aux1); \n",
        "# Calcular a força da correlação\n",
        "plt.subplot(2,2,3)\n",
        "sns.heatmap(aux1.corr(method='pearson'), annot=True);"
      ],
      "metadata": {
        "colab": {
          "base_uri": "https://localhost:8080/",
          "height": 277
        },
        "id": "IqfMWUqxKfni",
        "outputId": "32a74e2c-2b3c-4417-e5c0-a2e54e254d5b"
      },
      "execution_count": 86,
      "outputs": [
        {
          "output_type": "display_data",
          "data": {
            "text/plain": [
              "<Figure size 432x288 with 4 Axes>"
            ],
            "image/png": "[encoded data removed]"
          },
          "metadata": {
            "needs_background": "light"
          }
        }
      ]
    },
    {
      "cell_type": "markdown",
      "source": [
        "####H12. Lojas deveriam vender menos durante feriados escolares\n",
        "Resultado: Verdadeiro\n",
        "- Lojas vendem menos durante os feriados, com a resalva do julho, onde elas se equiparam"
      ],
      "metadata": {
        "id": "UpQ6vntvGL7W"
      }
    },
    {
      "cell_type": "code",
      "source": [
        "aux1 = df4[['school_holiday','sales']].groupby('school_holiday').sum().reset_index()\n",
        "plt.subplot(2,1,1)\n",
        "sns.barplot(x='school_holiday', y='sales', data=aux1);\n",
        "# as vendas durante o feriado escolar sao bem menores\n",
        "\n",
        "\n",
        "aux2 = df4[['month','school_holiday', 'sales']].groupby(['month', 'school_holiday']).sum().reset_index()\n",
        "plt.subplot(2,1,2)\n",
        "sns.barplot(x='month', y='sales', hue='school_holiday', data=aux2);\n",
        "# durante o periodo de ferias de julho, as vendas se equipara, como os alunos estao de ferias, os feiados nao se aplicam\n",
        "\n",
        "\n"
      ],
      "metadata": {
        "colab": {
          "base_uri": "https://localhost:8080/",
          "height": 290
        },
        "id": "kTHdReI_NvyI",
        "outputId": "00be65eb-4205-406f-bf5c-cbf53d6e76bd"
      },
      "execution_count": 93,
      "outputs": [
        {
          "output_type": "display_data",
          "data": {
            "text/plain": [
              "<Figure size 432x288 with 2 Axes>"
            ],
            "image/png": "[encoded data removed]"
          },
          "metadata": {
            "needs_background": "light"
          }
        }
      ]
    },
    {
      "cell_type": "markdown",
      "source": [
        "## 4.3 Analise Multivariada"
      ],
      "metadata": {
        "id": "6hFRz57lSUWj"
      }
    },
    {
      "cell_type": "markdown",
      "source": [],
      "metadata": {
        "id": "GxKf6bnb7i6Y"
      }
    }
  ],
  "metadata": {
    "colab": {
      "provenance": [],
      "authorship_tag": "ABX9TyOcTo56oXoBD7iOXsonrhiv",
      "include_colab_link": true
    },
    "kernelspec": {
      "display_name": "Python 3",
      "name": "python3"
    },
    "language_info": {
      "name": "python"
    }
  },
  "nbformat": 4,
  "nbformat_minor": 0
}